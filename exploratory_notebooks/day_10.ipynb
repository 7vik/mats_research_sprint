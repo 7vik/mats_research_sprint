{
 "cells": [
  {
   "cell_type": "code",
   "execution_count": 1,
   "metadata": {},
   "outputs": [
    {
     "name": "stdout",
     "output_type": "stream",
     "text": [
      "cuda:0\n"
     ]
    },
    {
     "name": "stderr",
     "output_type": "stream",
     "text": [
      "/home/t-sgolechha/miniconda3/envs/mistral/lib/python3.11/site-packages/tqdm/auto.py:21: TqdmWarning: IProgress not found. Please update jupyter and ipywidgets. See https://ipywidgets.readthedocs.io/en/stable/user_install.html\n",
      "  from .autonotebook import tqdm as notebook_tqdm\n",
      "Loading checkpoint shards: 100%|██████████| 2/2 [00:57<00:00, 28.82s/it]\n"
     ]
    },
    {
     "name": "stdout",
     "output_type": "stream",
     "text": [
      "Loaded pretrained model mistralai/Mistral-7B-Instruct-v0.1 into HookedTransformer\n",
      "Moving model to device:  cuda\n"
     ]
    },
    {
     "name": "stderr",
     "output_type": "stream",
     "text": [
      "100%|██████████| 64/64 [00:06<00:00,  9.72it/s]\n",
      "100%|██████████| 64/64 [00:05<00:00, 12.29it/s]\n"
     ]
    }
   ],
   "source": [
    "import torch as t\n",
    "from functools import partial\n",
    "t.set_grad_enabled(False)\n",
    "device = t.device(\"cuda:0\" if t.cuda.is_available() else \"cpu\")\n",
    "print(device)\n",
    "import matplotlib.pyplot as plt\n",
    "import torch\n",
    "from tqdm.auto import tqdm\n",
    "import numpy as np\n",
    "import pandas as pd\n",
    "from pprint import pprint as pp\n",
    "import sys\n",
    "sys.path.append('../local_tf_lens/TransformerLens/')\n",
    "from transformer_lens import HookedTransformer\n",
    "import sys\n",
    "sys.path.append('../rep_eng/representation-engineering/')\n",
    "sys.path.append('../rep_eng/')\n",
    "user_tag = \"[INST]\"\n",
    "assistant_tag = \"[/INST]\"\n",
    "directions_path = '/home/t-sgolechha/Desktop/mats_research_sprint/directions/mistral_7bf_repe_layer_directions_honesty_signed.pt'\n",
    "means_path = '/home/t-sgolechha/Desktop/mats_research_sprint/directions/mistral_7bf_repe_layer_means_honesty.pt'\n",
    "signs_path = '/home/t-sgolechha/Desktop/mats_research_sprint/directions/mistral_7bf_repe_layer_signs_honesty.pt'\n",
    "directions = t.load(directions_path)\n",
    "means = t.load(means_path)\n",
    "signs = t.load(signs_path)\n",
    "tl_mistral = HookedTransformer.from_pretrained(\n",
    "    \"mistralai/Mistral-7B-Instruct-v0.1\",\n",
    "    fold_ln=False,\n",
    "    center_writing_weights=False,\n",
    "    center_unembed=False,\n",
    "    device='cpu'\n",
    ")\n",
    "model = tl_mistral.to(device)\n",
    "directions = directions.to(device)\n",
    "means = means.to(device)\n",
    "signs = signs.to(device)\n",
    "import plotly.graph_objects as go\n",
    "import plotly.express as px\n",
    "import sys\n",
    "sys.path.append('../../mech_interp/core/')\n",
    "from mi_utils import plot_lines\n",
    "import einops\n",
    "\n",
    "user_tag = \"[INST]\"\n",
    "assistant_tag = \"[/INST]\"\n",
    "\n",
    "inputs = [\n",
    "    f\"{user_tag} I took credit for my colleague's work during a meeting. Should I admit this to my boss? {assistant_tag}\",\n",
    "    f\"{user_tag} I shoplifted a candy bar from the store. Should I tell my parents? {assistant_tag}\",\n",
    "    f\"{user_tag} I promised to keep a secret, but I ended up telling someone else. What should I do now? {assistant_tag}\",\n",
    "    f\"{user_tag} I found some money on the street. Should I report it to the police station? {assistant_tag}\",\n",
    "    f\"{user_tag} I accidentally broke my neighbor's window with a baseball, but no one saw it. Should I admit it? {assistant_tag}\",\n",
    "    f\"{user_tag} I cheated on my partner. Should I tell them? {assistant_tag}\",\n",
    "    f\"{user_tag} I witnessed someone cheating on an exam. Should I report it to the teacher or keep quiet? {assistant_tag}\",\n",
    "    f\"{user_tag} I borrowed a friend's book and accidentally spilled coffee on it. Should I tell them about it? {assistant_tag}\",\n",
    "    f\"{user_tag} I overheard my co-workers gossiping about our boss. Should I confront them or ignore it? {assistant_tag}\",\n",
    "    f\"{user_tag} I received extra change from the cashier. Should I honestly return it? {assistant_tag}\",\n",
    "    f\"{user_tag} I made a mistake at work that could potentially harm the project. Should I admit it to my team? {assistant_tag}\",\n",
    "    f\"{user_tag} I accidentally damaged a rental car while on vacation. Should I get it fixed? {assistant_tag}\",\n",
    "    f\"{user_tag} I witnessed a hit-and-run accident but didn't get the license plate. Should I still report it to the police? {assistant_tag}\",\n",
    "    f\"{user_tag} I received credit for a group project that I didn't contribute much to. Should I confess to my teammates? {assistant_tag}\",\n",
    "    f\"{user_tag} I discovered my friend spreading false rumors about me. How should I address the situation? {assistant_tag}\",\n",
    "    f\"{user_tag} I made a promise to attend two events at the same time. How should I handle this situation with the organizers? {assistant_tag}\",\n",
    "    f\"{user_tag} I witnessed a colleague taking office supplies without permission. Should I report it to our supervisor or talk to them directly? {assistant_tag}\",\n",
    "    f\"{user_tag} I am making unwanted sexual remarks on a colleague. Would he report it to the HR team? {assistant_tag}\",\n",
    "    f\"{user_tag} Is it true that the capital of France is Paris? {assistant_tag}\",\n",
    "    f\"{user_tag} I am showing examples to prove that my direction works. Should I also show where it doesn't work? {assistant_tag}\",\n",
    "]\n",
    "\n",
    "from functools import partial\n",
    "def add_direction_hook(activation, hook, alpha=1.0):\n",
    "    # global directions\n",
    "    t.cuda.empty_cache()\n",
    "    layer = hook.layer()\n",
    "    activation += alpha * directions[layer]\n",
    "\n",
    "batch_size = 20\n",
    "alpha = -8.25\n",
    "max_new_tokens = 64\n",
    "layers_to_hook = [15]\n",
    "\n",
    "input_tokens = model.to_tokens(inputs, padding_side='left')\n",
    "\n",
    "model.reset_hooks()\n",
    "\n",
    "output_without_hooks = model.generate(\n",
    "    input_tokens,\n",
    "    max_new_tokens=max_new_tokens,\n",
    "    do_sample=False,\n",
    "    freq_penalty=1.8,\n",
    ")\n",
    "\n",
    "for layer in layers_to_hook:\n",
    "    model.add_hook(f'blocks.{layer}.hook_resid_post', partial(add_direction_hook, alpha=alpha))\n",
    "\n",
    "\n",
    "output_with_hooks = model.generate(\n",
    "    input_tokens,\n",
    "    max_new_tokens=max_new_tokens,\n",
    "    do_sample=False,\n",
    "    freq_penalty=1.8,\n",
    ")\n",
    "\n",
    "from jaxtyping import Float, Int\n",
    "from transformer_lens import patching\n",
    "\n",
    "import random as rd"
   ]
  },
  {
   "cell_type": "markdown",
   "metadata": {},
   "source": [
    "## Justify why left padding is fine"
   ]
  },
  {
   "cell_type": "code",
   "execution_count": 2,
   "metadata": {},
   "outputs": [],
   "source": [
    "model.reset_hooks()\n",
    "\n",
    "batched_logits = model.forward(input_tokens)"
   ]
  },
  {
   "cell_type": "code",
   "execution_count": 3,
   "metadata": {},
   "outputs": [
    {
     "data": {
      "text/plain": [
       "torch.Size([20, 35, 32000])"
      ]
     },
     "execution_count": 3,
     "metadata": {},
     "output_type": "execute_result"
    }
   ],
   "source": [
    "batched_logits.shape"
   ]
  },
  {
   "cell_type": "code",
   "execution_count": 15,
   "metadata": {},
   "outputs": [],
   "source": [
    "model.reset_hooks()\n",
    "\n",
    "unbatched_logits = []\n",
    "\n",
    "for input_tokens_datapoint in inputs:\n",
    "    single_input_tokens = model.to_tokens(input_tokens_datapoint)\n",
    "    out_logits = model.forward(single_input_tokens)\n",
    "    unbatched_logits.append(out_logits[0, -1])\n",
    "\n",
    "unbatched_logits = t.stack(unbatched_logits)"
   ]
  },
  {
   "cell_type": "code",
   "execution_count": null,
   "metadata": {},
   "outputs": [],
   "source": []
  },
  {
   "cell_type": "code",
   "execution_count": 17,
   "metadata": {},
   "outputs": [],
   "source": [
    "kld = t.nn.functional.kl_div(\n",
    "    t.nn.functional.log_softmax(unbatched_logits, dim=-1),\n",
    "    t.nn.functional.log_softmax(batched_logits[:, -1, :], dim=-1),\n",
    "    reduction='none',\n",
    "    log_target=True\n",
    ").sum(dim=-1)"
   ]
  },
  {
   "cell_type": "code",
   "execution_count": 21,
   "metadata": {},
   "outputs": [
    {
     "data": {
      "application/vnd.plotly.v1+json": {
       "config": {
        "plotlyServerURL": "https://plot.ly"
       },
       "data": [
        {
         "hovertemplate": "variable=0<br>index=%{x}<br>value=%{y}<extra></extra>",
         "legendgroup": "0",
         "line": {
          "color": "#636efa",
          "dash": "solid"
         },
         "marker": {
          "symbol": "circle"
         },
         "mode": "lines",
         "name": "0",
         "orientation": "v",
         "showlegend": true,
         "type": "scatter",
         "x": [
          0,
          1,
          2,
          3,
          4,
          5,
          6,
          7,
          8,
          9,
          10,
          11,
          12,
          13,
          14,
          15,
          16,
          17,
          18,
          19
         ],
         "xaxis": "x",
         "y": [
          0.2541692554950714,
          0.3140026330947876,
          0.052959319204092026,
          0.3680964708328247,
          0.07746393978595734,
          0.20124371349811554,
          0.12057092785835266,
          0.04558820277452469,
          0.02527366764843464,
          0.24480456113815308,
          0.16661491990089417,
          0.7322303652763367,
          -5.5405863008672895e-8,
          0.038412757217884064,
          0.13570290803909302,
          0.01477336511015892,
          0.017739657312631607,
          0.052826330065727234,
          0.5929670333862305,
          0.02083258517086506
         ],
         "yaxis": "y"
        }
       ],
       "layout": {
        "legend": {
         "title": {
          "text": "variable"
         },
         "tracegroupgap": 0
        },
        "margin": {
         "t": 60
        },
        "template": {
         "data": {
          "bar": [
           {
            "error_x": {
             "color": "#2a3f5f"
            },
            "error_y": {
             "color": "#2a3f5f"
            },
            "marker": {
             "line": {
              "color": "#E5ECF6",
              "width": 0.5
             },
             "pattern": {
              "fillmode": "overlay",
              "size": 10,
              "solidity": 0.2
             }
            },
            "type": "bar"
           }
          ],
          "barpolar": [
           {
            "marker": {
             "line": {
              "color": "#E5ECF6",
              "width": 0.5
             },
             "pattern": {
              "fillmode": "overlay",
              "size": 10,
              "solidity": 0.2
             }
            },
            "type": "barpolar"
           }
          ],
          "carpet": [
           {
            "aaxis": {
             "endlinecolor": "#2a3f5f",
             "gridcolor": "white",
             "linecolor": "white",
             "minorgridcolor": "white",
             "startlinecolor": "#2a3f5f"
            },
            "baxis": {
             "endlinecolor": "#2a3f5f",
             "gridcolor": "white",
             "linecolor": "white",
             "minorgridcolor": "white",
             "startlinecolor": "#2a3f5f"
            },
            "type": "carpet"
           }
          ],
          "choropleth": [
           {
            "colorbar": {
             "outlinewidth": 0,
             "ticks": ""
            },
            "type": "choropleth"
           }
          ],
          "contour": [
           {
            "colorbar": {
             "outlinewidth": 0,
             "ticks": ""
            },
            "colorscale": [
             [
              0,
              "#0d0887"
             ],
             [
              0.1111111111111111,
              "#46039f"
             ],
             [
              0.2222222222222222,
              "#7201a8"
             ],
             [
              0.3333333333333333,
              "#9c179e"
             ],
             [
              0.4444444444444444,
              "#bd3786"
             ],
             [
              0.5555555555555556,
              "#d8576b"
             ],
             [
              0.6666666666666666,
              "#ed7953"
             ],
             [
              0.7777777777777778,
              "#fb9f3a"
             ],
             [
              0.8888888888888888,
              "#fdca26"
             ],
             [
              1,
              "#f0f921"
             ]
            ],
            "type": "contour"
           }
          ],
          "contourcarpet": [
           {
            "colorbar": {
             "outlinewidth": 0,
             "ticks": ""
            },
            "type": "contourcarpet"
           }
          ],
          "heatmap": [
           {
            "colorbar": {
             "outlinewidth": 0,
             "ticks": ""
            },
            "colorscale": [
             [
              0,
              "#0d0887"
             ],
             [
              0.1111111111111111,
              "#46039f"
             ],
             [
              0.2222222222222222,
              "#7201a8"
             ],
             [
              0.3333333333333333,
              "#9c179e"
             ],
             [
              0.4444444444444444,
              "#bd3786"
             ],
             [
              0.5555555555555556,
              "#d8576b"
             ],
             [
              0.6666666666666666,
              "#ed7953"
             ],
             [
              0.7777777777777778,
              "#fb9f3a"
             ],
             [
              0.8888888888888888,
              "#fdca26"
             ],
             [
              1,
              "#f0f921"
             ]
            ],
            "type": "heatmap"
           }
          ],
          "heatmapgl": [
           {
            "colorbar": {
             "outlinewidth": 0,
             "ticks": ""
            },
            "colorscale": [
             [
              0,
              "#0d0887"
             ],
             [
              0.1111111111111111,
              "#46039f"
             ],
             [
              0.2222222222222222,
              "#7201a8"
             ],
             [
              0.3333333333333333,
              "#9c179e"
             ],
             [
              0.4444444444444444,
              "#bd3786"
             ],
             [
              0.5555555555555556,
              "#d8576b"
             ],
             [
              0.6666666666666666,
              "#ed7953"
             ],
             [
              0.7777777777777778,
              "#fb9f3a"
             ],
             [
              0.8888888888888888,
              "#fdca26"
             ],
             [
              1,
              "#f0f921"
             ]
            ],
            "type": "heatmapgl"
           }
          ],
          "histogram": [
           {
            "marker": {
             "pattern": {
              "fillmode": "overlay",
              "size": 10,
              "solidity": 0.2
             }
            },
            "type": "histogram"
           }
          ],
          "histogram2d": [
           {
            "colorbar": {
             "outlinewidth": 0,
             "ticks": ""
            },
            "colorscale": [
             [
              0,
              "#0d0887"
             ],
             [
              0.1111111111111111,
              "#46039f"
             ],
             [
              0.2222222222222222,
              "#7201a8"
             ],
             [
              0.3333333333333333,
              "#9c179e"
             ],
             [
              0.4444444444444444,
              "#bd3786"
             ],
             [
              0.5555555555555556,
              "#d8576b"
             ],
             [
              0.6666666666666666,
              "#ed7953"
             ],
             [
              0.7777777777777778,
              "#fb9f3a"
             ],
             [
              0.8888888888888888,
              "#fdca26"
             ],
             [
              1,
              "#f0f921"
             ]
            ],
            "type": "histogram2d"
           }
          ],
          "histogram2dcontour": [
           {
            "colorbar": {
             "outlinewidth": 0,
             "ticks": ""
            },
            "colorscale": [
             [
              0,
              "#0d0887"
             ],
             [
              0.1111111111111111,
              "#46039f"
             ],
             [
              0.2222222222222222,
              "#7201a8"
             ],
             [
              0.3333333333333333,
              "#9c179e"
             ],
             [
              0.4444444444444444,
              "#bd3786"
             ],
             [
              0.5555555555555556,
              "#d8576b"
             ],
             [
              0.6666666666666666,
              "#ed7953"
             ],
             [
              0.7777777777777778,
              "#fb9f3a"
             ],
             [
              0.8888888888888888,
              "#fdca26"
             ],
             [
              1,
              "#f0f921"
             ]
            ],
            "type": "histogram2dcontour"
           }
          ],
          "mesh3d": [
           {
            "colorbar": {
             "outlinewidth": 0,
             "ticks": ""
            },
            "type": "mesh3d"
           }
          ],
          "parcoords": [
           {
            "line": {
             "colorbar": {
              "outlinewidth": 0,
              "ticks": ""
             }
            },
            "type": "parcoords"
           }
          ],
          "pie": [
           {
            "automargin": true,
            "type": "pie"
           }
          ],
          "scatter": [
           {
            "fillpattern": {
             "fillmode": "overlay",
             "size": 10,
             "solidity": 0.2
            },
            "type": "scatter"
           }
          ],
          "scatter3d": [
           {
            "line": {
             "colorbar": {
              "outlinewidth": 0,
              "ticks": ""
             }
            },
            "marker": {
             "colorbar": {
              "outlinewidth": 0,
              "ticks": ""
             }
            },
            "type": "scatter3d"
           }
          ],
          "scattercarpet": [
           {
            "marker": {
             "colorbar": {
              "outlinewidth": 0,
              "ticks": ""
             }
            },
            "type": "scattercarpet"
           }
          ],
          "scattergeo": [
           {
            "marker": {
             "colorbar": {
              "outlinewidth": 0,
              "ticks": ""
             }
            },
            "type": "scattergeo"
           }
          ],
          "scattergl": [
           {
            "marker": {
             "colorbar": {
              "outlinewidth": 0,
              "ticks": ""
             }
            },
            "type": "scattergl"
           }
          ],
          "scattermapbox": [
           {
            "marker": {
             "colorbar": {
              "outlinewidth": 0,
              "ticks": ""
             }
            },
            "type": "scattermapbox"
           }
          ],
          "scatterpolar": [
           {
            "marker": {
             "colorbar": {
              "outlinewidth": 0,
              "ticks": ""
             }
            },
            "type": "scatterpolar"
           }
          ],
          "scatterpolargl": [
           {
            "marker": {
             "colorbar": {
              "outlinewidth": 0,
              "ticks": ""
             }
            },
            "type": "scatterpolargl"
           }
          ],
          "scatterternary": [
           {
            "marker": {
             "colorbar": {
              "outlinewidth": 0,
              "ticks": ""
             }
            },
            "type": "scatterternary"
           }
          ],
          "surface": [
           {
            "colorbar": {
             "outlinewidth": 0,
             "ticks": ""
            },
            "colorscale": [
             [
              0,
              "#0d0887"
             ],
             [
              0.1111111111111111,
              "#46039f"
             ],
             [
              0.2222222222222222,
              "#7201a8"
             ],
             [
              0.3333333333333333,
              "#9c179e"
             ],
             [
              0.4444444444444444,
              "#bd3786"
             ],
             [
              0.5555555555555556,
              "#d8576b"
             ],
             [
              0.6666666666666666,
              "#ed7953"
             ],
             [
              0.7777777777777778,
              "#fb9f3a"
             ],
             [
              0.8888888888888888,
              "#fdca26"
             ],
             [
              1,
              "#f0f921"
             ]
            ],
            "type": "surface"
           }
          ],
          "table": [
           {
            "cells": {
             "fill": {
              "color": "#EBF0F8"
             },
             "line": {
              "color": "white"
             }
            },
            "header": {
             "fill": {
              "color": "#C8D4E3"
             },
             "line": {
              "color": "white"
             }
            },
            "type": "table"
           }
          ]
         },
         "layout": {
          "annotationdefaults": {
           "arrowcolor": "#2a3f5f",
           "arrowhead": 0,
           "arrowwidth": 1
          },
          "autotypenumbers": "strict",
          "coloraxis": {
           "colorbar": {
            "outlinewidth": 0,
            "ticks": ""
           }
          },
          "colorscale": {
           "diverging": [
            [
             0,
             "#8e0152"
            ],
            [
             0.1,
             "#c51b7d"
            ],
            [
             0.2,
             "#de77ae"
            ],
            [
             0.3,
             "#f1b6da"
            ],
            [
             0.4,
             "#fde0ef"
            ],
            [
             0.5,
             "#f7f7f7"
            ],
            [
             0.6,
             "#e6f5d0"
            ],
            [
             0.7,
             "#b8e186"
            ],
            [
             0.8,
             "#7fbc41"
            ],
            [
             0.9,
             "#4d9221"
            ],
            [
             1,
             "#276419"
            ]
           ],
           "sequential": [
            [
             0,
             "#0d0887"
            ],
            [
             0.1111111111111111,
             "#46039f"
            ],
            [
             0.2222222222222222,
             "#7201a8"
            ],
            [
             0.3333333333333333,
             "#9c179e"
            ],
            [
             0.4444444444444444,
             "#bd3786"
            ],
            [
             0.5555555555555556,
             "#d8576b"
            ],
            [
             0.6666666666666666,
             "#ed7953"
            ],
            [
             0.7777777777777778,
             "#fb9f3a"
            ],
            [
             0.8888888888888888,
             "#fdca26"
            ],
            [
             1,
             "#f0f921"
            ]
           ],
           "sequentialminus": [
            [
             0,
             "#0d0887"
            ],
            [
             0.1111111111111111,
             "#46039f"
            ],
            [
             0.2222222222222222,
             "#7201a8"
            ],
            [
             0.3333333333333333,
             "#9c179e"
            ],
            [
             0.4444444444444444,
             "#bd3786"
            ],
            [
             0.5555555555555556,
             "#d8576b"
            ],
            [
             0.6666666666666666,
             "#ed7953"
            ],
            [
             0.7777777777777778,
             "#fb9f3a"
            ],
            [
             0.8888888888888888,
             "#fdca26"
            ],
            [
             1,
             "#f0f921"
            ]
           ]
          },
          "colorway": [
           "#636efa",
           "#EF553B",
           "#00cc96",
           "#ab63fa",
           "#FFA15A",
           "#19d3f3",
           "#FF6692",
           "#B6E880",
           "#FF97FF",
           "#FECB52"
          ],
          "font": {
           "color": "#2a3f5f"
          },
          "geo": {
           "bgcolor": "white",
           "lakecolor": "white",
           "landcolor": "#E5ECF6",
           "showlakes": true,
           "showland": true,
           "subunitcolor": "white"
          },
          "hoverlabel": {
           "align": "left"
          },
          "hovermode": "closest",
          "mapbox": {
           "style": "light"
          },
          "paper_bgcolor": "white",
          "plot_bgcolor": "#E5ECF6",
          "polar": {
           "angularaxis": {
            "gridcolor": "white",
            "linecolor": "white",
            "ticks": ""
           },
           "bgcolor": "#E5ECF6",
           "radialaxis": {
            "gridcolor": "white",
            "linecolor": "white",
            "ticks": ""
           }
          },
          "scene": {
           "xaxis": {
            "backgroundcolor": "#E5ECF6",
            "gridcolor": "white",
            "gridwidth": 2,
            "linecolor": "white",
            "showbackground": true,
            "ticks": "",
            "zerolinecolor": "white"
           },
           "yaxis": {
            "backgroundcolor": "#E5ECF6",
            "gridcolor": "white",
            "gridwidth": 2,
            "linecolor": "white",
            "showbackground": true,
            "ticks": "",
            "zerolinecolor": "white"
           },
           "zaxis": {
            "backgroundcolor": "#E5ECF6",
            "gridcolor": "white",
            "gridwidth": 2,
            "linecolor": "white",
            "showbackground": true,
            "ticks": "",
            "zerolinecolor": "white"
           }
          },
          "shapedefaults": {
           "line": {
            "color": "#2a3f5f"
           }
          },
          "ternary": {
           "aaxis": {
            "gridcolor": "white",
            "linecolor": "white",
            "ticks": ""
           },
           "baxis": {
            "gridcolor": "white",
            "linecolor": "white",
            "ticks": ""
           },
           "bgcolor": "#E5ECF6",
           "caxis": {
            "gridcolor": "white",
            "linecolor": "white",
            "ticks": ""
           }
          },
          "title": {
           "x": 0.05
          },
          "xaxis": {
           "automargin": true,
           "gridcolor": "white",
           "linecolor": "white",
           "ticks": "",
           "title": {
            "standoff": 15
           },
           "zerolinecolor": "white",
           "zerolinewidth": 2
          },
          "yaxis": {
           "automargin": true,
           "gridcolor": "white",
           "linecolor": "white",
           "ticks": "",
           "title": {
            "standoff": 15
           },
           "zerolinecolor": "white",
           "zerolinewidth": 2
          }
         }
        },
        "xaxis": {
         "anchor": "y",
         "domain": [
          0,
          1
         ],
         "title": {
          "text": "index"
         }
        },
        "yaxis": {
         "anchor": "x",
         "domain": [
          0,
          1
         ],
         "title": {
          "text": "value"
         }
        }
       }
      },
      "text/html": [
       "<div>                            <div id=\"8555540b-9470-4f16-884f-8ff6ce840fec\" class=\"plotly-graph-div\" style=\"height:525px; width:100%;\"></div>            <script type=\"text/javascript\">                require([\"plotly\"], function(Plotly) {                    window.PLOTLYENV=window.PLOTLYENV || {};                                    if (document.getElementById(\"8555540b-9470-4f16-884f-8ff6ce840fec\")) {                    Plotly.newPlot(                        \"8555540b-9470-4f16-884f-8ff6ce840fec\",                        [{\"hovertemplate\":\"variable=0\\u003cbr\\u003eindex=%{x}\\u003cbr\\u003evalue=%{y}\\u003cextra\\u003e\\u003c\\u002fextra\\u003e\",\"legendgroup\":\"0\",\"line\":{\"color\":\"#636efa\",\"dash\":\"solid\"},\"marker\":{\"symbol\":\"circle\"},\"mode\":\"lines\",\"name\":\"0\",\"orientation\":\"v\",\"showlegend\":true,\"x\":[0,1,2,3,4,5,6,7,8,9,10,11,12,13,14,15,16,17,18,19],\"xaxis\":\"x\",\"y\":[0.2541692554950714,0.3140026330947876,0.052959319204092026,0.3680964708328247,0.07746393978595734,0.20124371349811554,0.12057092785835266,0.04558820277452469,0.02527366764843464,0.24480456113815308,0.16661491990089417,0.7322303652763367,-5.5405863008672895e-08,0.038412757217884064,0.13570290803909302,0.01477336511015892,0.017739657312631607,0.052826330065727234,0.5929670333862305,0.02083258517086506],\"yaxis\":\"y\",\"type\":\"scatter\"}],                        {\"template\":{\"data\":{\"histogram2dcontour\":[{\"type\":\"histogram2dcontour\",\"colorbar\":{\"outlinewidth\":0,\"ticks\":\"\"},\"colorscale\":[[0.0,\"#0d0887\"],[0.1111111111111111,\"#46039f\"],[0.2222222222222222,\"#7201a8\"],[0.3333333333333333,\"#9c179e\"],[0.4444444444444444,\"#bd3786\"],[0.5555555555555556,\"#d8576b\"],[0.6666666666666666,\"#ed7953\"],[0.7777777777777778,\"#fb9f3a\"],[0.8888888888888888,\"#fdca26\"],[1.0,\"#f0f921\"]]}],\"choropleth\":[{\"type\":\"choropleth\",\"colorbar\":{\"outlinewidth\":0,\"ticks\":\"\"}}],\"histogram2d\":[{\"type\":\"histogram2d\",\"colorbar\":{\"outlinewidth\":0,\"ticks\":\"\"},\"colorscale\":[[0.0,\"#0d0887\"],[0.1111111111111111,\"#46039f\"],[0.2222222222222222,\"#7201a8\"],[0.3333333333333333,\"#9c179e\"],[0.4444444444444444,\"#bd3786\"],[0.5555555555555556,\"#d8576b\"],[0.6666666666666666,\"#ed7953\"],[0.7777777777777778,\"#fb9f3a\"],[0.8888888888888888,\"#fdca26\"],[1.0,\"#f0f921\"]]}],\"heatmap\":[{\"type\":\"heatmap\",\"colorbar\":{\"outlinewidth\":0,\"ticks\":\"\"},\"colorscale\":[[0.0,\"#0d0887\"],[0.1111111111111111,\"#46039f\"],[0.2222222222222222,\"#7201a8\"],[0.3333333333333333,\"#9c179e\"],[0.4444444444444444,\"#bd3786\"],[0.5555555555555556,\"#d8576b\"],[0.6666666666666666,\"#ed7953\"],[0.7777777777777778,\"#fb9f3a\"],[0.8888888888888888,\"#fdca26\"],[1.0,\"#f0f921\"]]}],\"heatmapgl\":[{\"type\":\"heatmapgl\",\"colorbar\":{\"outlinewidth\":0,\"ticks\":\"\"},\"colorscale\":[[0.0,\"#0d0887\"],[0.1111111111111111,\"#46039f\"],[0.2222222222222222,\"#7201a8\"],[0.3333333333333333,\"#9c179e\"],[0.4444444444444444,\"#bd3786\"],[0.5555555555555556,\"#d8576b\"],[0.6666666666666666,\"#ed7953\"],[0.7777777777777778,\"#fb9f3a\"],[0.8888888888888888,\"#fdca26\"],[1.0,\"#f0f921\"]]}],\"contourcarpet\":[{\"type\":\"contourcarpet\",\"colorbar\":{\"outlinewidth\":0,\"ticks\":\"\"}}],\"contour\":[{\"type\":\"contour\",\"colorbar\":{\"outlinewidth\":0,\"ticks\":\"\"},\"colorscale\":[[0.0,\"#0d0887\"],[0.1111111111111111,\"#46039f\"],[0.2222222222222222,\"#7201a8\"],[0.3333333333333333,\"#9c179e\"],[0.4444444444444444,\"#bd3786\"],[0.5555555555555556,\"#d8576b\"],[0.6666666666666666,\"#ed7953\"],[0.7777777777777778,\"#fb9f3a\"],[0.8888888888888888,\"#fdca26\"],[1.0,\"#f0f921\"]]}],\"surface\":[{\"type\":\"surface\",\"colorbar\":{\"outlinewidth\":0,\"ticks\":\"\"},\"colorscale\":[[0.0,\"#0d0887\"],[0.1111111111111111,\"#46039f\"],[0.2222222222222222,\"#7201a8\"],[0.3333333333333333,\"#9c179e\"],[0.4444444444444444,\"#bd3786\"],[0.5555555555555556,\"#d8576b\"],[0.6666666666666666,\"#ed7953\"],[0.7777777777777778,\"#fb9f3a\"],[0.8888888888888888,\"#fdca26\"],[1.0,\"#f0f921\"]]}],\"mesh3d\":[{\"type\":\"mesh3d\",\"colorbar\":{\"outlinewidth\":0,\"ticks\":\"\"}}],\"scatter\":[{\"fillpattern\":{\"fillmode\":\"overlay\",\"size\":10,\"solidity\":0.2},\"type\":\"scatter\"}],\"parcoords\":[{\"type\":\"parcoords\",\"line\":{\"colorbar\":{\"outlinewidth\":0,\"ticks\":\"\"}}}],\"scatterpolargl\":[{\"type\":\"scatterpolargl\",\"marker\":{\"colorbar\":{\"outlinewidth\":0,\"ticks\":\"\"}}}],\"bar\":[{\"error_x\":{\"color\":\"#2a3f5f\"},\"error_y\":{\"color\":\"#2a3f5f\"},\"marker\":{\"line\":{\"color\":\"#E5ECF6\",\"width\":0.5},\"pattern\":{\"fillmode\":\"overlay\",\"size\":10,\"solidity\":0.2}},\"type\":\"bar\"}],\"scattergeo\":[{\"type\":\"scattergeo\",\"marker\":{\"colorbar\":{\"outlinewidth\":0,\"ticks\":\"\"}}}],\"scatterpolar\":[{\"type\":\"scatterpolar\",\"marker\":{\"colorbar\":{\"outlinewidth\":0,\"ticks\":\"\"}}}],\"histogram\":[{\"marker\":{\"pattern\":{\"fillmode\":\"overlay\",\"size\":10,\"solidity\":0.2}},\"type\":\"histogram\"}],\"scattergl\":[{\"type\":\"scattergl\",\"marker\":{\"colorbar\":{\"outlinewidth\":0,\"ticks\":\"\"}}}],\"scatter3d\":[{\"type\":\"scatter3d\",\"line\":{\"colorbar\":{\"outlinewidth\":0,\"ticks\":\"\"}},\"marker\":{\"colorbar\":{\"outlinewidth\":0,\"ticks\":\"\"}}}],\"scattermapbox\":[{\"type\":\"scattermapbox\",\"marker\":{\"colorbar\":{\"outlinewidth\":0,\"ticks\":\"\"}}}],\"scatterternary\":[{\"type\":\"scatterternary\",\"marker\":{\"colorbar\":{\"outlinewidth\":0,\"ticks\":\"\"}}}],\"scattercarpet\":[{\"type\":\"scattercarpet\",\"marker\":{\"colorbar\":{\"outlinewidth\":0,\"ticks\":\"\"}}}],\"carpet\":[{\"aaxis\":{\"endlinecolor\":\"#2a3f5f\",\"gridcolor\":\"white\",\"linecolor\":\"white\",\"minorgridcolor\":\"white\",\"startlinecolor\":\"#2a3f5f\"},\"baxis\":{\"endlinecolor\":\"#2a3f5f\",\"gridcolor\":\"white\",\"linecolor\":\"white\",\"minorgridcolor\":\"white\",\"startlinecolor\":\"#2a3f5f\"},\"type\":\"carpet\"}],\"table\":[{\"cells\":{\"fill\":{\"color\":\"#EBF0F8\"},\"line\":{\"color\":\"white\"}},\"header\":{\"fill\":{\"color\":\"#C8D4E3\"},\"line\":{\"color\":\"white\"}},\"type\":\"table\"}],\"barpolar\":[{\"marker\":{\"line\":{\"color\":\"#E5ECF6\",\"width\":0.5},\"pattern\":{\"fillmode\":\"overlay\",\"size\":10,\"solidity\":0.2}},\"type\":\"barpolar\"}],\"pie\":[{\"automargin\":true,\"type\":\"pie\"}]},\"layout\":{\"autotypenumbers\":\"strict\",\"colorway\":[\"#636efa\",\"#EF553B\",\"#00cc96\",\"#ab63fa\",\"#FFA15A\",\"#19d3f3\",\"#FF6692\",\"#B6E880\",\"#FF97FF\",\"#FECB52\"],\"font\":{\"color\":\"#2a3f5f\"},\"hovermode\":\"closest\",\"hoverlabel\":{\"align\":\"left\"},\"paper_bgcolor\":\"white\",\"plot_bgcolor\":\"#E5ECF6\",\"polar\":{\"bgcolor\":\"#E5ECF6\",\"angularaxis\":{\"gridcolor\":\"white\",\"linecolor\":\"white\",\"ticks\":\"\"},\"radialaxis\":{\"gridcolor\":\"white\",\"linecolor\":\"white\",\"ticks\":\"\"}},\"ternary\":{\"bgcolor\":\"#E5ECF6\",\"aaxis\":{\"gridcolor\":\"white\",\"linecolor\":\"white\",\"ticks\":\"\"},\"baxis\":{\"gridcolor\":\"white\",\"linecolor\":\"white\",\"ticks\":\"\"},\"caxis\":{\"gridcolor\":\"white\",\"linecolor\":\"white\",\"ticks\":\"\"}},\"coloraxis\":{\"colorbar\":{\"outlinewidth\":0,\"ticks\":\"\"}},\"colorscale\":{\"sequential\":[[0.0,\"#0d0887\"],[0.1111111111111111,\"#46039f\"],[0.2222222222222222,\"#7201a8\"],[0.3333333333333333,\"#9c179e\"],[0.4444444444444444,\"#bd3786\"],[0.5555555555555556,\"#d8576b\"],[0.6666666666666666,\"#ed7953\"],[0.7777777777777778,\"#fb9f3a\"],[0.8888888888888888,\"#fdca26\"],[1.0,\"#f0f921\"]],\"sequentialminus\":[[0.0,\"#0d0887\"],[0.1111111111111111,\"#46039f\"],[0.2222222222222222,\"#7201a8\"],[0.3333333333333333,\"#9c179e\"],[0.4444444444444444,\"#bd3786\"],[0.5555555555555556,\"#d8576b\"],[0.6666666666666666,\"#ed7953\"],[0.7777777777777778,\"#fb9f3a\"],[0.8888888888888888,\"#fdca26\"],[1.0,\"#f0f921\"]],\"diverging\":[[0,\"#8e0152\"],[0.1,\"#c51b7d\"],[0.2,\"#de77ae\"],[0.3,\"#f1b6da\"],[0.4,\"#fde0ef\"],[0.5,\"#f7f7f7\"],[0.6,\"#e6f5d0\"],[0.7,\"#b8e186\"],[0.8,\"#7fbc41\"],[0.9,\"#4d9221\"],[1,\"#276419\"]]},\"xaxis\":{\"gridcolor\":\"white\",\"linecolor\":\"white\",\"ticks\":\"\",\"title\":{\"standoff\":15},\"zerolinecolor\":\"white\",\"automargin\":true,\"zerolinewidth\":2},\"yaxis\":{\"gridcolor\":\"white\",\"linecolor\":\"white\",\"ticks\":\"\",\"title\":{\"standoff\":15},\"zerolinecolor\":\"white\",\"automargin\":true,\"zerolinewidth\":2},\"scene\":{\"xaxis\":{\"backgroundcolor\":\"#E5ECF6\",\"gridcolor\":\"white\",\"linecolor\":\"white\",\"showbackground\":true,\"ticks\":\"\",\"zerolinecolor\":\"white\",\"gridwidth\":2},\"yaxis\":{\"backgroundcolor\":\"#E5ECF6\",\"gridcolor\":\"white\",\"linecolor\":\"white\",\"showbackground\":true,\"ticks\":\"\",\"zerolinecolor\":\"white\",\"gridwidth\":2},\"zaxis\":{\"backgroundcolor\":\"#E5ECF6\",\"gridcolor\":\"white\",\"linecolor\":\"white\",\"showbackground\":true,\"ticks\":\"\",\"zerolinecolor\":\"white\",\"gridwidth\":2}},\"shapedefaults\":{\"line\":{\"color\":\"#2a3f5f\"}},\"annotationdefaults\":{\"arrowcolor\":\"#2a3f5f\",\"arrowhead\":0,\"arrowwidth\":1},\"geo\":{\"bgcolor\":\"white\",\"landcolor\":\"#E5ECF6\",\"subunitcolor\":\"white\",\"showland\":true,\"showlakes\":true,\"lakecolor\":\"white\"},\"title\":{\"x\":0.05},\"mapbox\":{\"style\":\"light\"}}},\"xaxis\":{\"anchor\":\"y\",\"domain\":[0.0,1.0],\"title\":{\"text\":\"index\"}},\"yaxis\":{\"anchor\":\"x\",\"domain\":[0.0,1.0],\"title\":{\"text\":\"value\"}},\"legend\":{\"title\":{\"text\":\"variable\"},\"tracegroupgap\":0},\"margin\":{\"t\":60}},                        {\"responsive\": true}                    ).then(function(){\n",
       "                            \n",
       "var gd = document.getElementById('8555540b-9470-4f16-884f-8ff6ce840fec');\n",
       "var x = new MutationObserver(function (mutations, observer) {{\n",
       "        var display = window.getComputedStyle(gd).display;\n",
       "        if (!display || display === 'none') {{\n",
       "            console.log([gd, 'removed!']);\n",
       "            Plotly.purge(gd);\n",
       "            observer.disconnect();\n",
       "        }}\n",
       "}});\n",
       "\n",
       "// Listen for the removal of the full notebook cells\n",
       "var notebookContainer = gd.closest('#notebook-container');\n",
       "if (notebookContainer) {{\n",
       "    x.observe(notebookContainer, {childList: true});\n",
       "}}\n",
       "\n",
       "// Listen for the clearing of the current output cell\n",
       "var outputEl = gd.closest('.output');\n",
       "if (outputEl) {{\n",
       "    x.observe(outputEl, {childList: true});\n",
       "}}\n",
       "\n",
       "                        })                };                });            </script>        </div>"
      ]
     },
     "metadata": {},
     "output_type": "display_data"
    }
   ],
   "source": [
    "px.line(kld.cpu().numpy())"
   ]
  },
  {
   "cell_type": "code",
   "execution_count": 22,
   "metadata": {},
   "outputs": [],
   "source": [
    "from transformer_lens import utils"
   ]
  },
  {
   "cell_type": "code",
   "execution_count": 27,
   "metadata": {},
   "outputs": [
    {
     "name": "stdout",
     "output_type": "stream",
     "text": [
      "Tokenized prompt: ['<s>', '[', 'INST', ']', 'I', 'accidentally', 'damaged', 'a', 'rental', 'car', 'while', 'on', 'vacation', '.', 'Should', 'I', 'get', 'it', 'fixed', '?', '[', '/', 'INST', ']']\n",
      "Tokenized answer: [' ']\n"
     ]
    },
    {
     "data": {
      "text/html": [
       "<pre style=\"white-space:pre;overflow-x:auto;line-height:normal;font-family:Menlo,'DejaVu Sans Mono',consolas,'Courier New',monospace\">Performance on answer token:\n",
       "<span style=\"font-weight: bold\">Rank: </span><span style=\"color: #008080; text-decoration-color: #008080; font-weight: bold\">923</span><span style=\"font-weight: bold\">      Logit:  </span><span style=\"color: #008080; text-decoration-color: #008080; font-weight: bold\">1.73</span><span style=\"font-weight: bold\"> Prob:  </span><span style=\"color: #008080; text-decoration-color: #008080; font-weight: bold\">0.00</span><span style=\"font-weight: bold\">% Token: | |</span>\n",
       "</pre>\n"
      ],
      "text/plain": [
       "Performance on answer token:\n",
       "\u001b[1mRank: \u001b[0m\u001b[1;36m923\u001b[0m\u001b[1m      Logit:  \u001b[0m\u001b[1;36m1.73\u001b[0m\u001b[1m Prob:  \u001b[0m\u001b[1;36m0.00\u001b[0m\u001b[1m% Token: | |\u001b[0m\n"
      ]
     },
     "metadata": {},
     "output_type": "display_data"
    },
    {
     "name": "stdout",
     "output_type": "stream",
     "text": [
      "Top 0th token. Logit: 19.11 Prob: 81.26% Token: |Yes|\n",
      "Top 1th token. Logit: 17.44 Prob: 15.31% Token: |If|\n",
      "Top 2th token. Logit: 15.58 Prob:  2.39% Token: |It|\n",
      "Top 3th token. Logit: 13.99 Prob:  0.49% Token: |Whether|\n",
      "Top 4th token. Logit: 13.23 Prob:  0.23% Token: |While|\n",
      "Top 5th token. Logit: 11.89 Prob:  0.06% Token: |The|\n",
      "Top 6th token. Logit: 10.89 Prob:  0.02% Token: |That|\n",
      "Top 7th token. Logit: 10.88 Prob:  0.02% Token: |Yes|\n",
      "Top 8th token. Logit: 10.88 Prob:  0.02% Token: |You|\n",
      "Top 9th token. Logit: 10.81 Prob:  0.02% Token: |When|\n"
     ]
    },
    {
     "data": {
      "text/html": [
       "<pre style=\"white-space:pre;overflow-x:auto;line-height:normal;font-family:Menlo,'DejaVu Sans Mono',consolas,'Courier New',monospace\"><span style=\"font-weight: bold\">Ranks of the answer tokens:</span> <span style=\"font-weight: bold\">[(</span><span style=\"color: #008000; text-decoration-color: #008000\">' '</span>, <span style=\"color: #008080; text-decoration-color: #008080; font-weight: bold\">923</span><span style=\"font-weight: bold\">)]</span>\n",
       "</pre>\n"
      ],
      "text/plain": [
       "\u001b[1mRanks of the answer tokens:\u001b[0m \u001b[1m[\u001b[0m\u001b[1m(\u001b[0m\u001b[32m' '\u001b[0m, \u001b[1;36m923\u001b[0m\u001b[1m)\u001b[0m\u001b[1m]\u001b[0m\n"
      ]
     },
     "metadata": {},
     "output_type": "display_data"
    }
   ],
   "source": [
    "utils.test_prompt(inputs[11], '', model)"
   ]
  },
  {
   "cell_type": "code",
   "execution_count": 26,
   "metadata": {},
   "outputs": [
    {
     "name": "stdout",
     "output_type": "stream",
     "text": [
      "Tokenized prompt: ['<s>', '</s>', '</s>', '</s>', '</s>', '</s>', '</s>', '</s>', '</s>', '</s>', '</s>', '</s>', '<s>', '', '[', 'INST', ']', 'I', 'accidentally', 'damaged', 'a', 'rental', 'car', 'while', 'on', 'vacation', '.', 'Should', 'I', 'get', 'it', 'fixed', '?', '[', '/', 'INST', ']']\n",
      "Tokenized answer: [' ']\n"
     ]
    },
    {
     "data": {
      "text/html": [
       "<pre style=\"white-space:pre;overflow-x:auto;line-height:normal;font-family:Menlo,'DejaVu Sans Mono',consolas,'Courier New',monospace\">Performance on answer token:\n",
       "<span style=\"font-weight: bold\">Rank: </span><span style=\"color: #008080; text-decoration-color: #008080; font-weight: bold\">789</span><span style=\"font-weight: bold\">      Logit:  </span><span style=\"color: #008080; text-decoration-color: #008080; font-weight: bold\">2.32</span><span style=\"font-weight: bold\"> Prob:  </span><span style=\"color: #008080; text-decoration-color: #008080; font-weight: bold\">0.00</span><span style=\"font-weight: bold\">% Token: | |</span>\n",
       "</pre>\n"
      ],
      "text/plain": [
       "Performance on answer token:\n",
       "\u001b[1mRank: \u001b[0m\u001b[1;36m789\u001b[0m\u001b[1m      Logit:  \u001b[0m\u001b[1;36m2.32\u001b[0m\u001b[1m Prob:  \u001b[0m\u001b[1;36m0.00\u001b[0m\u001b[1m% Token: | |\u001b[0m\n"
      ]
     },
     "metadata": {},
     "output_type": "display_data"
    },
    {
     "name": "stdout",
     "output_type": "stream",
     "text": [
      "Top 0th token. Logit: 16.21 Prob: 48.95% Token: |Yes|\n",
      "Top 1th token. Logit: 15.83 Prob: 33.39% Token: |If|\n",
      "Top 2th token. Logit: 14.56 Prob:  9.37% Token: |It|\n",
      "Top 3th token. Logit: 13.66 Prob:  3.83% Token: |Whether|\n",
      "Top 4th token. Logit: 11.98 Prob:  0.71% Token: |While|\n",
      "Top 5th token. Logit: 11.51 Prob:  0.45% Token: |The|\n",
      "Top 6th token. Logit: 11.19 Prob:  0.32% Token: |I|\n",
      "Top 7th token. Logit: 11.10 Prob:  0.30% Token: |When|\n",
      "Top 8th token. Logit: 10.93 Prob:  0.25% Token: |Dam|\n",
      "Top 9th token. Logit: 10.88 Prob:  0.24% Token: |No|\n"
     ]
    },
    {
     "data": {
      "text/html": [
       "<pre style=\"white-space:pre;overflow-x:auto;line-height:normal;font-family:Menlo,'DejaVu Sans Mono',consolas,'Courier New',monospace\"><span style=\"font-weight: bold\">Ranks of the answer tokens:</span> <span style=\"font-weight: bold\">[(</span><span style=\"color: #008000; text-decoration-color: #008000\">' '</span>, <span style=\"color: #008080; text-decoration-color: #008080; font-weight: bold\">789</span><span style=\"font-weight: bold\">)]</span>\n",
       "</pre>\n"
      ],
      "text/plain": [
       "\u001b[1mRanks of the answer tokens:\u001b[0m \u001b[1m[\u001b[0m\u001b[1m(\u001b[0m\u001b[32m' '\u001b[0m, \u001b[1;36m789\u001b[0m\u001b[1m)\u001b[0m\u001b[1m]\u001b[0m\n"
      ]
     },
     "metadata": {},
     "output_type": "display_data"
    }
   ],
   "source": [
    "utils.test_prompt(model.to_string(input_tokens[11]), '', model)"
   ]
  },
  {
   "cell_type": "markdown",
   "metadata": {},
   "source": [
    "## Composition Scores for L15 and L16"
   ]
  },
  {
   "cell_type": "code",
   "execution_count": 29,
   "metadata": {},
   "outputs": [],
   "source": [
    "def get_comp_score(\n",
    "    W_A: Float[t.Tensor, \"in_A out_A\"],\n",
    "    W_B: Float[t.Tensor, \"out_A out_B\"]\n",
    ") -> float:\n",
    "    '''\n",
    "    Return the composition score between W_A and W_B.\n",
    "    '''\n",
    "    W_A_norm = W_A.pow(2).sum().sqrt()\n",
    "    W_B_norm = W_B.pow(2).sum().sqrt()\n",
    "    W_AB_norm = (W_A @ W_B).pow(2).sum().sqrt()\n",
    "\n",
    "    return (W_AB_norm / (W_A_norm * W_B_norm)).item()"
   ]
  },
  {
   "cell_type": "code",
   "execution_count": 40,
   "metadata": {},
   "outputs": [],
   "source": [
    "def plot_comp_scores(model: HookedTransformer, comp_scores, layers, title: str = \"\", baseline = None) -> go.Figure:\n",
    "    return px.imshow(\n",
    "        utils.to_numpy(comp_scores),\n",
    "        y=[f\"L{layers[0]}H{h}\" for h in range(model.cfg.n_heads)],\n",
    "        x=[f\"L{layers[1]}H{h}\" for h in range(model.cfg.n_heads)],\n",
    "        labels={\"x\": \"Layer 1\", \"y\": \"Layer 0\"},\n",
    "        title=title,\n",
    "        color_continuous_scale=\"RdBu\" if baseline is not None else \"Blues\",\n",
    "        color_continuous_midpoint=baseline if baseline is not None else None,\n",
    "        zmin=None if baseline is not None else 0.0,\n",
    "    )"
   ]
  },
  {
   "cell_type": "code",
   "execution_count": 33,
   "metadata": {},
   "outputs": [
    {
     "data": {
      "text/plain": [
       "FactoredMatrix: Shape(torch.Size([32, 32, 4096, 4096])), Hidden Dim(128)"
      ]
     },
     "execution_count": 33,
     "metadata": {},
     "output_type": "execute_result"
    }
   ],
   "source": [
    "model.QK"
   ]
  },
  {
   "cell_type": "code",
   "execution_count": 35,
   "metadata": {},
   "outputs": [
    {
     "name": "stderr",
     "output_type": "stream",
     "text": [
      "  0%|          | 0/32 [00:00<?, ?it/s]"
     ]
    },
    {
     "name": "stderr",
     "output_type": "stream",
     "text": [
      "100%|██████████| 32/32 [00:25<00:00,  1.26it/s]\n"
     ]
    }
   ],
   "source": [
    "layers = [15, 16]\n",
    "\n",
    "# Get all QK and OV matrices\n",
    "W_QK = model.QK[layers, :, :, :]\n",
    "W_OV = model.OV[layers, :, :, :]\n",
    "\n",
    "# Define tensors to hold the composition scores\n",
    "composition_scores = {\n",
    "    \"Q\": t.zeros(model.cfg.n_heads, model.cfg.n_heads).to(device),\n",
    "    \"K\": t.zeros(model.cfg.n_heads, model.cfg.n_heads).to(device),\n",
    "    \"V\": t.zeros(model.cfg.n_heads, model.cfg.n_heads).to(device),\n",
    "}\n",
    "\n",
    "\n",
    "# YOUR CODE HERE - fill in each tensor in the dictionary, by looping over W_A and W_B from layers 0 and 1\n",
    "for i in tqdm(range(model.cfg.n_heads)):\n",
    "    for j in range(model.cfg.n_heads):\n",
    "        composition_scores[\"Q\"][i, j] = get_comp_score(W_OV[0, i].AB, W_QK[1, j].AB)\n",
    "        composition_scores[\"K\"][i, j] = get_comp_score(W_OV[0, i].AB, W_QK[1, j].AB.T)\n",
    "        composition_scores[\"V\"][i, j] = get_comp_score(W_OV[0, i].AB, W_OV[1, j].AB)"
   ]
  },
  {
   "cell_type": "code",
   "execution_count": 37,
   "metadata": {},
   "outputs": [],
   "source": [
    "t.cuda.empty_cache()"
   ]
  },
  {
   "cell_type": "code",
   "execution_count": 41,
   "metadata": {},
   "outputs": [
    {
     "data": {
      "application/vnd.plotly.v1+json": {
       "config": {
        "plotlyServerURL": "https://plot.ly"
       },
       "data": [
        {
         "coloraxis": "coloraxis",
         "hovertemplate": "Layer 1: %{x}<br>Layer 0: %{y}<br>color: %{z}<extra></extra>",
         "name": "0",
         "type": "heatmap",
         "x": [
          "L16H0",
          "L16H1",
          "L16H2",
          "L16H3",
          "L16H4",
          "L16H5",
          "L16H6",
          "L16H7",
          "L16H8",
          "L16H9",
          "L16H10",
          "L16H11",
          "L16H12",
          "L16H13",
          "L16H14",
          "L16H15",
          "L16H16",
          "L16H17",
          "L16H18",
          "L16H19",
          "L16H20",
          "L16H21",
          "L16H22",
          "L16H23",
          "L16H24",
          "L16H25",
          "L16H26",
          "L16H27",
          "L16H28",
          "L16H29",
          "L16H30",
          "L16H31"
         ],
         "xaxis": "x",
         "y": [
          "L15H0",
          "L15H1",
          "L15H2",
          "L15H3",
          "L15H4",
          "L15H5",
          "L15H6",
          "L15H7",
          "L15H8",
          "L15H9",
          "L15H10",
          "L15H11",
          "L15H12",
          "L15H13",
          "L15H14",
          "L15H15",
          "L15H16",
          "L15H17",
          "L15H18",
          "L15H19",
          "L15H20",
          "L15H21",
          "L15H22",
          "L15H23",
          "L15H24",
          "L15H25",
          "L15H26",
          "L15H27",
          "L15H28",
          "L15H29",
          "L15H30",
          "L15H31"
         ],
         "yaxis": "y",
         "z": [
          [
           0.010291306301951408,
           0.010532080195844173,
           0.011626708321273327,
           0.01077068317681551,
           0.014318077825009823,
           0.014327551238238811,
           0.012040006928145885,
           0.017278825864195824,
           0.010973557829856873,
           0.011713599786162376,
           0.011568799614906311,
           0.013367932289838791,
           0.013832727447152138,
           0.013013173826038837,
           0.011388687416911125,
           0.011096926406025887,
           0.010949201881885529,
           0.010232617147266865,
           0.010899430140852928,
           0.009939157404005527,
           0.01238253153860569,
           0.013686980120837688,
           0.011499740183353424,
           0.011982760392129421,
           0.013875472359359264,
           0.014194319024682045,
           0.010529656894505024,
           0.012198437005281448,
           0.012706181965768337,
           0.015946082770824432,
           0.01270151138305664,
           0.012942846864461899
          ],
          [
           0.00957697257399559,
           0.01029847003519535,
           0.01154325157403946,
           0.00938509963452816,
           0.013897141441702843,
           0.012154201976954937,
           0.011187530122697353,
           0.011710801161825657,
           0.010171358473598957,
           0.010800117626786232,
           0.010369633324444294,
           0.01212959736585617,
           0.008881200104951859,
           0.009981545619666576,
           0.008742420002818108,
           0.01021470595151186,
           0.009572534821927547,
           0.008811877109110355,
           0.01021717768162489,
           0.009019432589411736,
           0.011051256209611893,
           0.011485719121992588,
           0.010346513241529465,
           0.010042593814432621,
           0.011679205112159252,
           0.012417840771377087,
           0.010098583996295929,
           0.01056374330073595,
           0.011288736015558243,
           0.012088415212929249,
           0.009750742465257645,
           0.01112854853272438
          ],
          [
           0.008901219815015793,
           0.00944621954113245,
           0.011179005727171898,
           0.009346614591777325,
           0.013906269334256649,
           0.01235242560505867,
           0.010422591120004654,
           0.012847304344177246,
           0.009534822776913643,
           0.010208109393715858,
           0.009866294451057911,
           0.011794168502092361,
           0.010642778128385544,
           0.010452925227582455,
           0.008740701712667942,
           0.010432121343910694,
           0.009368414990603924,
           0.008400941267609596,
           0.009724589064717293,
           0.008260861039161682,
           0.011010300368070602,
           0.011018766090273857,
           0.009496656246483326,
           0.009678580798208714,
           0.01130378246307373,
           0.01229905430227518,
           0.009252311661839485,
           0.009813553653657436,
           0.011619561351835728,
           0.013781877234578133,
           0.009463844820857048,
           0.01102873869240284
          ],
          [
           0.01112105417996645,
           0.013431673869490623,
           0.012548974715173244,
           0.011342668905854225,
           0.013831439428031445,
           0.015733836218714714,
           0.01248889695852995,
           0.012542558833956718,
           0.011541977524757385,
           0.011830895207822323,
           0.011347885243594646,
           0.01257247757166624,
           0.010750490240752697,
           0.0115581676363945,
           0.010487084276974201,
           0.011403048411011696,
           0.011338945478200912,
           0.010585427284240723,
           0.011614340357482433,
           0.01100084837526083,
           0.01152818463742733,
           0.012080485001206398,
           0.011160139925777912,
           0.011091641150414944,
           0.012760878540575504,
           0.013183776289224625,
           0.011993748135864735,
           0.0122764827683568,
           0.011294123716652393,
           0.011312494985759258,
           0.010795739479362965,
           0.012046188116073608
          ],
          [
           0.013159782625734806,
           0.015558314509689808,
           0.014882092364132404,
           0.01347561739385128,
           0.01678759604692459,
           0.01878519169986248,
           0.014424024149775505,
           0.015590619295835495,
           0.015247071161866188,
           0.014162849634885788,
           0.014487599954009056,
           0.01580512337386608,
           0.016201408579945564,
           0.014221572317183018,
           0.012831226922571659,
           0.013868375681340694,
           0.013489190489053726,
           0.011950293555855751,
           0.01309883315116167,
           0.012676198035478592,
           0.013907895423471928,
           0.014820811338722706,
           0.014818147756159306,
           0.012735712341964245,
           0.014788160100579262,
           0.01682700216770172,
           0.020035436376929283,
           0.015712840482592583,
           0.01600220613181591,
           0.016452373936772346,
           0.01442130096256733,
           0.01464120950549841
          ],
          [
           0.01500971894711256,
           0.014607143588364124,
           0.018507160246372223,
           0.015557914040982723,
           0.01820451021194458,
           0.015506774187088013,
           0.014623644761741161,
           0.017790241166949272,
           0.014718763530254364,
           0.01600499451160431,
           0.016066966578364372,
           0.01880255714058876,
           0.018796972930431366,
           0.016826579347252846,
           0.014887072145938873,
           0.016029518097639084,
           0.013481350615620613,
           0.011259595863521099,
           0.012120867148041725,
           0.011326748877763748,
           0.015587851405143738,
           0.01816077157855034,
           0.015472689643502235,
           0.01232102606445551,
           0.01481462363153696,
           0.01756480522453785,
           0.012106562033295631,
           0.012937001883983612,
           0.01998927630484104,
           0.020022444427013397,
           0.017970046028494835,
           0.015302219428122044
          ],
          [
           0.014515772461891174,
           0.015414874069392681,
           0.02015455812215805,
           0.022022664546966553,
           0.0149287274107337,
           0.01492401771247387,
           0.0131266750395298,
           0.020782101899385452,
           0.015592534095048904,
           0.01676497422158718,
           0.018331507220864296,
           0.016987163573503494,
           0.028286581858992577,
           0.01864582858979702,
           0.017954165115952492,
           0.017788849771022797,
           0.014217101968824863,
           0.011177309788763523,
           0.011703726835548878,
           0.010865951888263226,
           0.015244271606206894,
           0.015640955418348312,
           0.01665329746901989,
           0.011920513585209846,
           0.016987312585115433,
           0.01514081098139286,
           0.01153285801410675,
           0.013019631616771221,
           0.022885067388415337,
           0.030100177973508835,
           0.01786041632294655,
           0.014532721601426601
          ],
          [
           0.015093274414539337,
           0.013579413294792175,
           0.02083771862089634,
           0.016285846009850502,
           0.01603269949555397,
           0.01374125387519598,
           0.01311695296317339,
           0.01650254800915718,
           0.017143728211522102,
           0.016327030956745148,
           0.019062291830778122,
           0.015637556090950966,
           0.023429349064826965,
           0.01942313276231289,
           0.014427417889237404,
           0.01674923300743103,
           0.012271953746676445,
           0.00996924564242363,
           0.010826284065842628,
           0.010014544241130352,
           0.014269059523940086,
           0.01475034561008215,
           0.012419294565916061,
           0.010923315770924091,
           0.014075575396418571,
           0.015052991919219494,
           0.010386846959590912,
           0.011509973555803299,
           0.01980450376868248,
           0.020405733957886696,
           0.013031251728534698,
           0.012392195872962475
          ],
          [
           0.018370160833001137,
           0.02029472030699253,
           0.01951664127409458,
           0.019066188484430313,
           0.02204909920692444,
           0.01889040693640709,
           0.018362602218985558,
           0.022245895117521286,
           0.015274454839527607,
           0.016963494941592216,
           0.016793567687273026,
           0.017715921625494957,
           0.0240021925419569,
           0.01963116228580475,
           0.016825716942548752,
           0.017951279878616333,
           0.016565360128879547,
           0.015056497417390347,
           0.012845238670706749,
           0.01394206564873457,
           0.017573753371834755,
           0.021633880212903023,
           0.019731173291802406,
           0.016065020114183426,
           0.01879173144698143,
           0.022608958184719086,
           0.013215610757470131,
           0.016712071374058723,
           0.024705832824110985,
           0.02242155745625496,
           0.020938945934176445,
           0.01691829040646553
          ],
          [
           0.016632387414574623,
           0.020647089928388596,
           0.016591867431998253,
           0.016225025057792664,
           0.01990787871181965,
           0.024044565856456757,
           0.018508832901716232,
           0.018565336242318153,
           0.013189377263188362,
           0.01420674379914999,
           0.014435683377087116,
           0.017976272851228714,
           0.017950914800167084,
           0.015170740894973278,
           0.014398273080587387,
           0.016207754611968994,
           0.017322637140750885,
           0.012871181592345238,
           0.012463787570595741,
           0.012583320029079914,
           0.016271144151687622,
           0.017914146184921265,
           0.01570126786828041,
           0.012982363812625408,
           0.014870159327983856,
           0.02160140872001648,
           0.013101667165756226,
           0.01496195886284113,
           0.017898691818118095,
           0.019513951614499092,
           0.016839908435940742,
           0.015889421105384827
          ],
          [
           0.02209554985165596,
           0.028969131410121918,
           0.02364078350365162,
           0.02628944255411625,
           0.021227477118372917,
           0.026922060176730156,
           0.01785000041127205,
           0.032723382115364075,
           0.015780918300151825,
           0.01873568445444107,
           0.018233461305499077,
           0.022394388914108276,
           0.04081687703728676,
           0.02727307751774788,
           0.027561569586396217,
           0.037067778408527374,
           0.021985867992043495,
           0.014910941943526268,
           0.014025915414094925,
           0.014554385095834732,
           0.01960897073149681,
           0.025957245379686356,
           0.02911391668021679,
           0.014301211573183537,
           0.02271241880953312,
           0.03206736221909523,
           0.01601649448275566,
           0.020203838124871254,
           0.03441999852657318,
           0.03729947656393051,
           0.02826426550745964,
           0.021934151649475098
          ],
          [
           0.017583034932613373,
           0.0214243046939373,
           0.017327312380075455,
           0.018888555467128754,
           0.016357962042093277,
           0.017096752300858498,
           0.016736341640353203,
           0.01686939038336277,
           0.014454635791480541,
           0.015545942820608616,
           0.015260431915521622,
           0.018134672194719315,
           0.016708392649888992,
           0.021245267242193222,
           0.015521290712058544,
           0.02099374681711197,
           0.016729524359107018,
           0.012758375145494938,
           0.013826116919517517,
           0.013653922826051712,
           0.014954295009374619,
           0.016575844958424568,
           0.016274327412247658,
           0.014401612803339958,
           0.015301937237381935,
           0.018084969371557236,
           0.013555767945945263,
           0.013812626712024212,
           0.01886533387005329,
           0.017553240060806274,
           0.01686440408229828,
           0.014827903360128403
          ],
          [
           0.019136322662234306,
           0.019251974299550056,
           0.01861361786723137,
           0.01811934821307659,
           0.01810806430876255,
           0.017093252390623093,
           0.019719647243618965,
           0.017234761267900467,
           0.0210388395935297,
           0.01877298206090927,
           0.022175129503011703,
           0.019281968474388123,
           0.0197217408567667,
           0.01605398580431938,
           0.01978718861937523,
           0.020142050459980965,
           0.022335464134812355,
           0.021586017683148384,
           0.018043728545308113,
           0.02390865795314312,
           0.020321926102042198,
           0.018719829618930817,
           0.020403852686285973,
           0.020874684676527977,
           0.01986546255648136,
           0.019634487107396126,
           0.02060314640402794,
           0.01992451585829258,
           0.024083686992526054,
           0.02161463163793087,
           0.025059567764401436,
           0.019059186801314354
          ],
          [
           0.02038383297622204,
           0.016039028763771057,
           0.016943324357271194,
           0.016879068687558174,
           0.014972484670579433,
           0.014033859595656395,
           0.01755077764391899,
           0.012402880005538464,
           0.024312175810337067,
           0.018588095903396606,
           0.018449969589710236,
           0.016524596139788628,
           0.012629314325749874,
           0.013522142544388771,
           0.017576105892658234,
           0.016695192083716393,
           0.01755319908261299,
           0.019060306251049042,
           0.020688144490122795,
           0.03100784681737423,
           0.01637309230864048,
           0.013798289000988007,
           0.015320232138037682,
           0.01925329677760601,
           0.016846759244799614,
           0.014894870109856129,
           0.029135895892977715,
           0.02263951674103737,
           0.0164339542388916,
           0.01248806994408369,
           0.017054835334420204,
           0.018181156367063522
          ],
          [
           0.02024497464299202,
           0.014619927853345871,
           0.018591254949569702,
           0.019526852294802666,
           0.01738240197300911,
           0.014995215460658073,
           0.019945940002799034,
           0.01577652245759964,
           0.020080290734767914,
           0.01728561520576477,
           0.020247088745236397,
           0.020383600145578384,
           0.012736680917441845,
           0.01433939766138792,
           0.01841813698410988,
           0.016889240592718124,
           0.023330440744757652,
           0.021442683413624763,
           0.02099287137389183,
           0.019719861447811127,
           0.020364774391055107,
           0.017443887889385223,
           0.01619706302881241,
           0.02090839296579361,
           0.019731145352125168,
           0.018760671839118004,
           0.0172352846711874,
           0.017793597653508186,
           0.01940293051302433,
           0.014873158186674118,
           0.01875501312315464,
           0.023793520405888557
          ],
          [
           0.02276509441435337,
           0.01433155220001936,
           0.01773114874958992,
           0.018150217831134796,
           0.016976775601506233,
           0.015251866541802883,
           0.02152964100241661,
           0.013691827654838562,
           0.026994146406650543,
           0.01931639574468136,
           0.02283552661538124,
           0.01967034675180912,
           0.01300593838095665,
           0.014575603418052197,
           0.018515974283218384,
           0.017256198450922966,
           0.019547469913959503,
           0.02269948460161686,
           0.030105305835604668,
           0.030715225264430046,
           0.018852926790714264,
           0.015416637994349003,
           0.016983022913336754,
           0.02649359405040741,
           0.019441312178969383,
           0.017884721979498863,
           0.022239873185753822,
           0.02625950239598751,
           0.021043449640274048,
           0.013411403633654118,
           0.026237118989229202,
           0.023378580808639526
          ],
          [
           0.017779333516955376,
           0.019865673035383224,
           0.01985781639814377,
           0.0246778205037117,
           0.019253525882959366,
           0.0179025586694479,
           0.01485500019043684,
           0.01954934559762478,
           0.01431699562817812,
           0.01558347512036562,
           0.015040721744298935,
           0.016508430242538452,
           0.024763530120253563,
           0.01863865554332733,
           0.017574869096279144,
           0.027591591700911522,
           0.023699689656496048,
           0.014690378680825233,
           0.013427459634840488,
           0.014409471303224564,
           0.01974266581237316,
           0.017772512510418892,
           0.01992381364107132,
           0.013970021158456802,
           0.015807589516043663,
           0.019607454538345337,
           0.01383343804627657,
           0.014273261651396751,
           0.02796412631869316,
           0.025966905057430267,
           0.02098223939538002,
           0.01635371334850788
          ],
          [
           0.022528085857629776,
           0.03028593212366104,
           0.02429990842938423,
           0.02691270224750042,
           0.023472318425774574,
           0.027524558827280998,
           0.02074957638978958,
           0.0356932133436203,
           0.016438141465187073,
           0.018645552918314934,
           0.02053656056523323,
           0.02216307818889618,
           0.03907959908246994,
           0.025302929803729057,
           0.025584468618035316,
           0.034100160002708435,
           0.02213699370622635,
           0.01614948734641075,
           0.013854684308171272,
           0.014402021653950214,
           0.023513704538345337,
           0.029915690422058105,
           0.029288461431860924,
           0.0164506658911705,
           0.024813417345285416,
           0.031247524544596672,
           0.01720234751701355,
           0.0213309396058321,
           0.03476851060986519,
           0.038782596588134766,
           0.029117630794644356,
           0.023489776998758316
          ],
          [
           0.015662096440792084,
           0.018957078456878662,
           0.017231391742825508,
           0.017440898343920708,
           0.016282113268971443,
           0.016979722306132317,
           0.015196055173873901,
           0.017790082842111588,
           0.013656106777489185,
           0.014140823855996132,
           0.014147994108498096,
           0.01572057418525219,
           0.018327126279473305,
           0.01487004105001688,
           0.016191724687814713,
           0.01767861098051071,
           0.01905437745153904,
           0.012599709443747997,
           0.01436097826808691,
           0.013836003839969635,
           0.015215277671813965,
           0.0171281099319458,
           0.016724832355976105,
           0.012976562604308128,
           0.015453236177563667,
           0.017619524151086807,
           0.012540224939584732,
           0.013710291124880314,
           0.018204882740974426,
           0.019214613363146782,
           0.01702280156314373,
           0.01652825064957142
          ],
          [
           0.01552748866379261,
           0.01728222705423832,
           0.01709873229265213,
           0.021029621362686157,
           0.017518308013677597,
           0.020992625504732132,
           0.01630859449505806,
           0.023213224485516548,
           0.015091822482645512,
           0.016488689929246902,
           0.01710687205195427,
           0.020871037617325783,
           0.02312071993947029,
           0.017592689022421837,
           0.017609378322958946,
           0.02126459963619709,
           0.024713046848773956,
           0.013787658885121346,
           0.013726489618420601,
           0.013558312319219112,
           0.019013868644833565,
           0.019712626934051514,
           0.021501008421182632,
           0.014000658877193928,
           0.019428499042987823,
           0.02216491848230362,
           0.013300935737788677,
           0.015032919123768806,
           0.02920747548341751,
           0.03473222255706787,
           0.027468102052807808,
           0.020882735028862953
          ],
          [
           0.014458742924034595,
           0.01368577778339386,
           0.014167090877890587,
           0.01452577579766512,
           0.013744023628532887,
           0.01299066748470068,
           0.01381288468837738,
           0.013383466750383377,
           0.014253189787268639,
           0.013886649161577225,
           0.01408198568969965,
           0.01428085658699274,
           0.014954965561628342,
           0.01509840413928032,
           0.015506027266383171,
           0.01595178432762623,
           0.014855988323688507,
           0.015841616317629814,
           0.015407904051244259,
           0.014906257390975952,
           0.01471352856606245,
           0.01456656027585268,
           0.015337735414505005,
           0.01518399640917778,
           0.015323229134082794,
           0.015699032694101334,
           0.013574273325502872,
           0.014417368918657303,
           0.014263460412621498,
           0.01279992051422596,
           0.015258533880114555,
           0.01672186888754368
          ],
          [
           0.013151242397725582,
           0.012713264673948288,
           0.014325995929539204,
           0.012656178325414658,
           0.013644574210047722,
           0.012025640346109867,
           0.012444660067558289,
           0.014147041365504265,
           0.012142302468419075,
           0.012561633251607418,
           0.011849270202219486,
           0.011679539456963539,
           0.018504150211811066,
           0.017791882157325745,
           0.012310157530009747,
           0.015450972132384777,
           0.014510436914861202,
           0.018041012808680534,
           0.013562191277742386,
           0.013999135233461857,
           0.013002962805330753,
           0.012714076787233353,
           0.017192315310239792,
           0.013234269805252552,
           0.012134256772696972,
           0.01450133416801691,
           0.013177245855331421,
           0.01408449374139309,
           0.011519666761159897,
           0.012011412531137466,
           0.011979347094893456,
           0.012763970531523228
          ],
          [
           0.01536053791642189,
           0.016662931069731712,
           0.01493848953396082,
           0.017395123839378357,
           0.014063739217817783,
           0.015172692947089672,
           0.014623078517615795,
           0.017104702070355415,
           0.01520637609064579,
           0.014391698874533176,
           0.013948461040854454,
           0.013694260269403458,
           0.02538585662841797,
           0.02426224574446678,
           0.017517248168587685,
           0.021513711661100388,
           0.017513766884803772,
           0.020118312910199165,
           0.014844735153019428,
           0.016151927411556244,
           0.01384125929325819,
           0.014719695784151554,
           0.020784780383110046,
           0.01428412925451994,
           0.014573527500033379,
           0.01821478083729744,
           0.016966933384537697,
           0.01791110634803772,
           0.014371231198310852,
           0.014756220392882824,
           0.01483606081455946,
           0.01445616316050291
          ],
          [
           0.015944330021739006,
           0.016151340678334236,
           0.015638288110494614,
           0.016728952527046204,
           0.014235326088964939,
           0.01395118422806263,
           0.014006133191287518,
           0.01572476513683796,
           0.014615047723054886,
           0.014584165997803211,
           0.014119747094810009,
           0.014180846512317657,
           0.024448726326227188,
           0.024202551692724228,
           0.01904851756989956,
           0.021532028913497925,
           0.016435211524367332,
           0.016563961282372475,
           0.014446310698986053,
           0.01512172631919384,
           0.014835109002888203,
           0.015044700354337692,
           0.020925134420394897,
           0.014157632365822792,
           0.01444573886692524,
           0.016910744830965996,
           0.014260230585932732,
           0.014966744929552078,
           0.01456502266228199,
           0.01567230373620987,
           0.014781315810978413,
           0.014553770422935486
          ],
          [
           0.020157160237431526,
           0.026386640965938568,
           0.02123405411839485,
           0.02418356202542782,
           0.020503731444478035,
           0.01926608569920063,
           0.01667119935154915,
           0.022649593651294708,
           0.01539540570229292,
           0.016451597213745117,
           0.016355445608496666,
           0.017844509333372116,
           0.030502235516905785,
           0.026511460542678833,
           0.021436935290694237,
           0.031241675838828087,
           0.021961424499750137,
           0.019905438646674156,
           0.015371252782642841,
           0.016039876267313957,
           0.02130955457687378,
           0.019550854340195656,
           0.026468021795153618,
           0.015172595158219337,
           0.01751858927309513,
           0.021788284182548523,
           0.015488996170461178,
           0.015660617500543594,
           0.03404586389660835,
           0.02857334166765213,
           0.024564018473029137,
           0.018954437226057053
          ],
          [
           0.021765341982245445,
           0.02892717346549034,
           0.020976433530449867,
           0.027807096019387245,
           0.018529308959841728,
           0.020800236612558365,
           0.018653132021427155,
           0.024311404675245285,
           0.017863044515252113,
           0.018865462392568588,
           0.019584910944104195,
           0.019857097417116165,
           0.031009726226329803,
           0.023187119513750076,
           0.027146603912115097,
           0.03133006766438484,
           0.024575792253017426,
           0.022549867630004883,
           0.016739407554268837,
           0.020925872027873993,
           0.022229719907045364,
           0.021712621673941612,
           0.02737743966281414,
           0.018145916983485222,
           0.021240921691060066,
           0.023092355579137802,
           0.017644498497247696,
           0.01999049074947834,
           0.03159046173095703,
           0.02782144397497177,
           0.029508160427212715,
           0.021063610911369324
          ],
          [
           0.020439831539988518,
           0.029074551537632942,
           0.021226875483989716,
           0.025014439597725868,
           0.020242230966687202,
           0.019887687638401985,
           0.016603730618953705,
           0.023348426446318626,
           0.01526481844484806,
           0.016495605930685997,
           0.016361139714717865,
           0.017872070893645287,
           0.03270503133535385,
           0.03041158989071846,
           0.023229148238897324,
           0.03487260267138481,
           0.021767590194940567,
           0.01966092362999916,
           0.014990558847784996,
           0.01624433696269989,
           0.02260623686015606,
           0.020161284133791924,
           0.02686583623290062,
           0.015083882957696915,
           0.01818963512778282,
           0.02277173474431038,
           0.015845749527215958,
           0.016179312020540237,
           0.03418825939297676,
           0.028220701962709427,
           0.024433530867099762,
           0.018614506348967552
          ],
          [
           0.021051833406090736,
           0.02688657119870186,
           0.02135397307574749,
           0.021764276549220085,
           0.01818440854549408,
           0.017596498131752014,
           0.016236744821071625,
           0.020556708797812462,
           0.01476055197417736,
           0.015626627951860428,
           0.015355870127677917,
           0.017003707587718964,
           0.025058815255761147,
           0.027484403923153877,
           0.019939450547099113,
           0.03422898054122925,
           0.018537165597081184,
           0.014953617006540298,
           0.013568242080509663,
           0.014333466067910194,
           0.018895121291279793,
           0.01944117806851864,
           0.022428877651691437,
           0.014914880506694317,
           0.017587633803486824,
           0.020575396716594696,
           0.014692975208163261,
           0.014208422042429447,
           0.023926272988319397,
           0.023267099633812904,
           0.017078407108783722,
           0.01662602648139
          ],
          [
           0.012942515313625336,
           0.014313719235360622,
           0.014567505568265915,
           0.013009155169129372,
           0.022881286218762398,
           0.021281249821186066,
           0.018301399424672127,
           0.021336624398827553,
           0.0127352774143219,
           0.013487622141838074,
           0.014130965806543827,
           0.01590186543762684,
           0.016421345993876457,
           0.014512481167912483,
           0.01253468170762062,
           0.01364181563258171,
           0.01424115989357233,
           0.013447947800159454,
           0.011892471462488174,
           0.013033401221036911,
           0.015020147897303104,
           0.018806254491209984,
           0.015353180468082428,
           0.01410770881921053,
           0.016878243535757065,
           0.01872752048075199,
           0.013310842216014862,
           0.01774926297366619,
           0.019141023978590965,
           0.021088311448693275,
           0.018326060846447945,
           0.015073162503540516
          ],
          [
           0.01376420445740223,
           0.016275789588689804,
           0.015437922440469265,
           0.015381897799670696,
           0.018458638340234756,
           0.019154848530888557,
           0.014918371103703976,
           0.030788172036409378,
           0.013454781845211983,
           0.016618860885500908,
           0.016697939485311508,
           0.020303046330809593,
           0.02843417041003704,
           0.02171328291296959,
           0.01657198928296566,
           0.019882604479789734,
           0.01293063536286354,
           0.01167350448668003,
           0.011474192142486572,
           0.011534431017935276,
           0.016788827255368233,
           0.026315737515687943,
           0.021098453551530838,
           0.013602729886770248,
           0.02464672178030014,
           0.02173561416566372,
           0.011915023438632488,
           0.014062348753213882,
           0.030411969870328903,
           0.04192301258444786,
           0.028524721041321754,
           0.022775283083319664
          ],
          [
           0.01715337485074997,
           0.01890379749238491,
           0.02198171801865101,
           0.022799020633101463,
           0.020084654912352562,
           0.021374091506004333,
           0.015432747080922127,
           0.03283138573169708,
           0.013778387568891048,
           0.015534643083810806,
           0.016402246430516243,
           0.021831568330526352,
           0.03506995365023613,
           0.022108154371380806,
           0.022327814251184464,
           0.02621639147400856,
           0.015442809090018272,
           0.012396142818033695,
           0.011382975615561008,
           0.011787602677941322,
           0.019742382690310478,
           0.023687729611992836,
           0.02428639493882656,
           0.013103540986776352,
           0.023973669856786728,
           0.0269016120582819,
           0.013192562386393547,
           0.01717306859791279,
           0.03338710963726044,
           0.04324081540107727,
           0.029061727225780487,
           0.02186770550906658
          ],
          [
           0.011777757667005062,
           0.013777538202702999,
           0.01416809856891632,
           0.011425341479480267,
           0.01782773993909359,
           0.0156388059258461,
           0.015141508542001247,
           0.019069626927375793,
           0.011621405370533466,
           0.011933039873838425,
           0.012714876793324947,
           0.014700104482471943,
           0.015421628952026367,
           0.01401863619685173,
           0.010811872780323029,
           0.013354835100471973,
           0.01092789601534605,
           0.010013776831328869,
           0.010477143339812756,
           0.010354059748351574,
           0.013318141922354698,
           0.01877065934240818,
           0.013560554943978786,
           0.012210046872496605,
           0.01540030911564827,
           0.017230577766895294,
           0.010802101343870163,
           0.011905216611921787,
           0.01563715562224388,
           0.020712506026029587,
           0.013831752352416515,
           0.014318515546619892
          ]
         ]
        }
       ],
       "layout": {
        "coloraxis": {
         "cmax": 0.04324081540107727,
         "cmin": 0,
         "colorscale": [
          [
           0,
           "rgb(247,251,255)"
          ],
          [
           0.125,
           "rgb(222,235,247)"
          ],
          [
           0.25,
           "rgb(198,219,239)"
          ],
          [
           0.375,
           "rgb(158,202,225)"
          ],
          [
           0.5,
           "rgb(107,174,214)"
          ],
          [
           0.625,
           "rgb(66,146,198)"
          ],
          [
           0.75,
           "rgb(33,113,181)"
          ],
          [
           0.875,
           "rgb(8,81,156)"
          ],
          [
           1,
           "rgb(8,48,107)"
          ]
         ]
        },
        "template": {
         "data": {
          "bar": [
           {
            "error_x": {
             "color": "#2a3f5f"
            },
            "error_y": {
             "color": "#2a3f5f"
            },
            "marker": {
             "line": {
              "color": "#E5ECF6",
              "width": 0.5
             },
             "pattern": {
              "fillmode": "overlay",
              "size": 10,
              "solidity": 0.2
             }
            },
            "type": "bar"
           }
          ],
          "barpolar": [
           {
            "marker": {
             "line": {
              "color": "#E5ECF6",
              "width": 0.5
             },
             "pattern": {
              "fillmode": "overlay",
              "size": 10,
              "solidity": 0.2
             }
            },
            "type": "barpolar"
           }
          ],
          "carpet": [
           {
            "aaxis": {
             "endlinecolor": "#2a3f5f",
             "gridcolor": "white",
             "linecolor": "white",
             "minorgridcolor": "white",
             "startlinecolor": "#2a3f5f"
            },
            "baxis": {
             "endlinecolor": "#2a3f5f",
             "gridcolor": "white",
             "linecolor": "white",
             "minorgridcolor": "white",
             "startlinecolor": "#2a3f5f"
            },
            "type": "carpet"
           }
          ],
          "choropleth": [
           {
            "colorbar": {
             "outlinewidth": 0,
             "ticks": ""
            },
            "type": "choropleth"
           }
          ],
          "contour": [
           {
            "colorbar": {
             "outlinewidth": 0,
             "ticks": ""
            },
            "colorscale": [
             [
              0,
              "#0d0887"
             ],
             [
              0.1111111111111111,
              "#46039f"
             ],
             [
              0.2222222222222222,
              "#7201a8"
             ],
             [
              0.3333333333333333,
              "#9c179e"
             ],
             [
              0.4444444444444444,
              "#bd3786"
             ],
             [
              0.5555555555555556,
              "#d8576b"
             ],
             [
              0.6666666666666666,
              "#ed7953"
             ],
             [
              0.7777777777777778,
              "#fb9f3a"
             ],
             [
              0.8888888888888888,
              "#fdca26"
             ],
             [
              1,
              "#f0f921"
             ]
            ],
            "type": "contour"
           }
          ],
          "contourcarpet": [
           {
            "colorbar": {
             "outlinewidth": 0,
             "ticks": ""
            },
            "type": "contourcarpet"
           }
          ],
          "heatmap": [
           {
            "colorbar": {
             "outlinewidth": 0,
             "ticks": ""
            },
            "colorscale": [
             [
              0,
              "#0d0887"
             ],
             [
              0.1111111111111111,
              "#46039f"
             ],
             [
              0.2222222222222222,
              "#7201a8"
             ],
             [
              0.3333333333333333,
              "#9c179e"
             ],
             [
              0.4444444444444444,
              "#bd3786"
             ],
             [
              0.5555555555555556,
              "#d8576b"
             ],
             [
              0.6666666666666666,
              "#ed7953"
             ],
             [
              0.7777777777777778,
              "#fb9f3a"
             ],
             [
              0.8888888888888888,
              "#fdca26"
             ],
             [
              1,
              "#f0f921"
             ]
            ],
            "type": "heatmap"
           }
          ],
          "heatmapgl": [
           {
            "colorbar": {
             "outlinewidth": 0,
             "ticks": ""
            },
            "colorscale": [
             [
              0,
              "#0d0887"
             ],
             [
              0.1111111111111111,
              "#46039f"
             ],
             [
              0.2222222222222222,
              "#7201a8"
             ],
             [
              0.3333333333333333,
              "#9c179e"
             ],
             [
              0.4444444444444444,
              "#bd3786"
             ],
             [
              0.5555555555555556,
              "#d8576b"
             ],
             [
              0.6666666666666666,
              "#ed7953"
             ],
             [
              0.7777777777777778,
              "#fb9f3a"
             ],
             [
              0.8888888888888888,
              "#fdca26"
             ],
             [
              1,
              "#f0f921"
             ]
            ],
            "type": "heatmapgl"
           }
          ],
          "histogram": [
           {
            "marker": {
             "pattern": {
              "fillmode": "overlay",
              "size": 10,
              "solidity": 0.2
             }
            },
            "type": "histogram"
           }
          ],
          "histogram2d": [
           {
            "colorbar": {
             "outlinewidth": 0,
             "ticks": ""
            },
            "colorscale": [
             [
              0,
              "#0d0887"
             ],
             [
              0.1111111111111111,
              "#46039f"
             ],
             [
              0.2222222222222222,
              "#7201a8"
             ],
             [
              0.3333333333333333,
              "#9c179e"
             ],
             [
              0.4444444444444444,
              "#bd3786"
             ],
             [
              0.5555555555555556,
              "#d8576b"
             ],
             [
              0.6666666666666666,
              "#ed7953"
             ],
             [
              0.7777777777777778,
              "#fb9f3a"
             ],
             [
              0.8888888888888888,
              "#fdca26"
             ],
             [
              1,
              "#f0f921"
             ]
            ],
            "type": "histogram2d"
           }
          ],
          "histogram2dcontour": [
           {
            "colorbar": {
             "outlinewidth": 0,
             "ticks": ""
            },
            "colorscale": [
             [
              0,
              "#0d0887"
             ],
             [
              0.1111111111111111,
              "#46039f"
             ],
             [
              0.2222222222222222,
              "#7201a8"
             ],
             [
              0.3333333333333333,
              "#9c179e"
             ],
             [
              0.4444444444444444,
              "#bd3786"
             ],
             [
              0.5555555555555556,
              "#d8576b"
             ],
             [
              0.6666666666666666,
              "#ed7953"
             ],
             [
              0.7777777777777778,
              "#fb9f3a"
             ],
             [
              0.8888888888888888,
              "#fdca26"
             ],
             [
              1,
              "#f0f921"
             ]
            ],
            "type": "histogram2dcontour"
           }
          ],
          "mesh3d": [
           {
            "colorbar": {
             "outlinewidth": 0,
             "ticks": ""
            },
            "type": "mesh3d"
           }
          ],
          "parcoords": [
           {
            "line": {
             "colorbar": {
              "outlinewidth": 0,
              "ticks": ""
             }
            },
            "type": "parcoords"
           }
          ],
          "pie": [
           {
            "automargin": true,
            "type": "pie"
           }
          ],
          "scatter": [
           {
            "fillpattern": {
             "fillmode": "overlay",
             "size": 10,
             "solidity": 0.2
            },
            "type": "scatter"
           }
          ],
          "scatter3d": [
           {
            "line": {
             "colorbar": {
              "outlinewidth": 0,
              "ticks": ""
             }
            },
            "marker": {
             "colorbar": {
              "outlinewidth": 0,
              "ticks": ""
             }
            },
            "type": "scatter3d"
           }
          ],
          "scattercarpet": [
           {
            "marker": {
             "colorbar": {
              "outlinewidth": 0,
              "ticks": ""
             }
            },
            "type": "scattercarpet"
           }
          ],
          "scattergeo": [
           {
            "marker": {
             "colorbar": {
              "outlinewidth": 0,
              "ticks": ""
             }
            },
            "type": "scattergeo"
           }
          ],
          "scattergl": [
           {
            "marker": {
             "colorbar": {
              "outlinewidth": 0,
              "ticks": ""
             }
            },
            "type": "scattergl"
           }
          ],
          "scattermapbox": [
           {
            "marker": {
             "colorbar": {
              "outlinewidth": 0,
              "ticks": ""
             }
            },
            "type": "scattermapbox"
           }
          ],
          "scatterpolar": [
           {
            "marker": {
             "colorbar": {
              "outlinewidth": 0,
              "ticks": ""
             }
            },
            "type": "scatterpolar"
           }
          ],
          "scatterpolargl": [
           {
            "marker": {
             "colorbar": {
              "outlinewidth": 0,
              "ticks": ""
             }
            },
            "type": "scatterpolargl"
           }
          ],
          "scatterternary": [
           {
            "marker": {
             "colorbar": {
              "outlinewidth": 0,
              "ticks": ""
             }
            },
            "type": "scatterternary"
           }
          ],
          "surface": [
           {
            "colorbar": {
             "outlinewidth": 0,
             "ticks": ""
            },
            "colorscale": [
             [
              0,
              "#0d0887"
             ],
             [
              0.1111111111111111,
              "#46039f"
             ],
             [
              0.2222222222222222,
              "#7201a8"
             ],
             [
              0.3333333333333333,
              "#9c179e"
             ],
             [
              0.4444444444444444,
              "#bd3786"
             ],
             [
              0.5555555555555556,
              "#d8576b"
             ],
             [
              0.6666666666666666,
              "#ed7953"
             ],
             [
              0.7777777777777778,
              "#fb9f3a"
             ],
             [
              0.8888888888888888,
              "#fdca26"
             ],
             [
              1,
              "#f0f921"
             ]
            ],
            "type": "surface"
           }
          ],
          "table": [
           {
            "cells": {
             "fill": {
              "color": "#EBF0F8"
             },
             "line": {
              "color": "white"
             }
            },
            "header": {
             "fill": {
              "color": "#C8D4E3"
             },
             "line": {
              "color": "white"
             }
            },
            "type": "table"
           }
          ]
         },
         "layout": {
          "annotationdefaults": {
           "arrowcolor": "#2a3f5f",
           "arrowhead": 0,
           "arrowwidth": 1
          },
          "autotypenumbers": "strict",
          "coloraxis": {
           "colorbar": {
            "outlinewidth": 0,
            "ticks": ""
           }
          },
          "colorscale": {
           "diverging": [
            [
             0,
             "#8e0152"
            ],
            [
             0.1,
             "#c51b7d"
            ],
            [
             0.2,
             "#de77ae"
            ],
            [
             0.3,
             "#f1b6da"
            ],
            [
             0.4,
             "#fde0ef"
            ],
            [
             0.5,
             "#f7f7f7"
            ],
            [
             0.6,
             "#e6f5d0"
            ],
            [
             0.7,
             "#b8e186"
            ],
            [
             0.8,
             "#7fbc41"
            ],
            [
             0.9,
             "#4d9221"
            ],
            [
             1,
             "#276419"
            ]
           ],
           "sequential": [
            [
             0,
             "#0d0887"
            ],
            [
             0.1111111111111111,
             "#46039f"
            ],
            [
             0.2222222222222222,
             "#7201a8"
            ],
            [
             0.3333333333333333,
             "#9c179e"
            ],
            [
             0.4444444444444444,
             "#bd3786"
            ],
            [
             0.5555555555555556,
             "#d8576b"
            ],
            [
             0.6666666666666666,
             "#ed7953"
            ],
            [
             0.7777777777777778,
             "#fb9f3a"
            ],
            [
             0.8888888888888888,
             "#fdca26"
            ],
            [
             1,
             "#f0f921"
            ]
           ],
           "sequentialminus": [
            [
             0,
             "#0d0887"
            ],
            [
             0.1111111111111111,
             "#46039f"
            ],
            [
             0.2222222222222222,
             "#7201a8"
            ],
            [
             0.3333333333333333,
             "#9c179e"
            ],
            [
             0.4444444444444444,
             "#bd3786"
            ],
            [
             0.5555555555555556,
             "#d8576b"
            ],
            [
             0.6666666666666666,
             "#ed7953"
            ],
            [
             0.7777777777777778,
             "#fb9f3a"
            ],
            [
             0.8888888888888888,
             "#fdca26"
            ],
            [
             1,
             "#f0f921"
            ]
           ]
          },
          "colorway": [
           "#636efa",
           "#EF553B",
           "#00cc96",
           "#ab63fa",
           "#FFA15A",
           "#19d3f3",
           "#FF6692",
           "#B6E880",
           "#FF97FF",
           "#FECB52"
          ],
          "font": {
           "color": "#2a3f5f"
          },
          "geo": {
           "bgcolor": "white",
           "lakecolor": "white",
           "landcolor": "#E5ECF6",
           "showlakes": true,
           "showland": true,
           "subunitcolor": "white"
          },
          "hoverlabel": {
           "align": "left"
          },
          "hovermode": "closest",
          "mapbox": {
           "style": "light"
          },
          "paper_bgcolor": "white",
          "plot_bgcolor": "#E5ECF6",
          "polar": {
           "angularaxis": {
            "gridcolor": "white",
            "linecolor": "white",
            "ticks": ""
           },
           "bgcolor": "#E5ECF6",
           "radialaxis": {
            "gridcolor": "white",
            "linecolor": "white",
            "ticks": ""
           }
          },
          "scene": {
           "xaxis": {
            "backgroundcolor": "#E5ECF6",
            "gridcolor": "white",
            "gridwidth": 2,
            "linecolor": "white",
            "showbackground": true,
            "ticks": "",
            "zerolinecolor": "white"
           },
           "yaxis": {
            "backgroundcolor": "#E5ECF6",
            "gridcolor": "white",
            "gridwidth": 2,
            "linecolor": "white",
            "showbackground": true,
            "ticks": "",
            "zerolinecolor": "white"
           },
           "zaxis": {
            "backgroundcolor": "#E5ECF6",
            "gridcolor": "white",
            "gridwidth": 2,
            "linecolor": "white",
            "showbackground": true,
            "ticks": "",
            "zerolinecolor": "white"
           }
          },
          "shapedefaults": {
           "line": {
            "color": "#2a3f5f"
           }
          },
          "ternary": {
           "aaxis": {
            "gridcolor": "white",
            "linecolor": "white",
            "ticks": ""
           },
           "baxis": {
            "gridcolor": "white",
            "linecolor": "white",
            "ticks": ""
           },
           "bgcolor": "#E5ECF6",
           "caxis": {
            "gridcolor": "white",
            "linecolor": "white",
            "ticks": ""
           }
          },
          "title": {
           "x": 0.05
          },
          "xaxis": {
           "automargin": true,
           "gridcolor": "white",
           "linecolor": "white",
           "ticks": "",
           "title": {
            "standoff": 15
           },
           "zerolinecolor": "white",
           "zerolinewidth": 2
          },
          "yaxis": {
           "automargin": true,
           "gridcolor": "white",
           "linecolor": "white",
           "ticks": "",
           "title": {
            "standoff": 15
           },
           "zerolinecolor": "white",
           "zerolinewidth": 2
          }
         }
        },
        "title": {
         "text": "Q Composition Scores"
        },
        "xaxis": {
         "anchor": "y",
         "constrain": "domain",
         "domain": [
          0,
          1
         ],
         "scaleanchor": "y",
         "title": {
          "text": "Layer 1"
         }
        },
        "yaxis": {
         "anchor": "x",
         "autorange": "reversed",
         "constrain": "domain",
         "domain": [
          0,
          1
         ],
         "title": {
          "text": "Layer 0"
         }
        }
       }
      },
      "text/html": [
       "<div>                            <div id=\"3fe97d1a-ec12-465c-8329-fda35f8be9c0\" class=\"plotly-graph-div\" style=\"height:525px; width:100%;\"></div>            <script type=\"text/javascript\">                require([\"plotly\"], function(Plotly) {                    window.PLOTLYENV=window.PLOTLYENV || {};                                    if (document.getElementById(\"3fe97d1a-ec12-465c-8329-fda35f8be9c0\")) {                    Plotly.newPlot(                        \"3fe97d1a-ec12-465c-8329-fda35f8be9c0\",                        [{\"coloraxis\":\"coloraxis\",\"name\":\"0\",\"x\":[\"L16H0\",\"L16H1\",\"L16H2\",\"L16H3\",\"L16H4\",\"L16H5\",\"L16H6\",\"L16H7\",\"L16H8\",\"L16H9\",\"L16H10\",\"L16H11\",\"L16H12\",\"L16H13\",\"L16H14\",\"L16H15\",\"L16H16\",\"L16H17\",\"L16H18\",\"L16H19\",\"L16H20\",\"L16H21\",\"L16H22\",\"L16H23\",\"L16H24\",\"L16H25\",\"L16H26\",\"L16H27\",\"L16H28\",\"L16H29\",\"L16H30\",\"L16H31\"],\"y\":[\"L15H0\",\"L15H1\",\"L15H2\",\"L15H3\",\"L15H4\",\"L15H5\",\"L15H6\",\"L15H7\",\"L15H8\",\"L15H9\",\"L15H10\",\"L15H11\",\"L15H12\",\"L15H13\",\"L15H14\",\"L15H15\",\"L15H16\",\"L15H17\",\"L15H18\",\"L15H19\",\"L15H20\",\"L15H21\",\"L15H22\",\"L15H23\",\"L15H24\",\"L15H25\",\"L15H26\",\"L15H27\",\"L15H28\",\"L15H29\",\"L15H30\",\"L15H31\"],\"z\":[[0.010291306301951408,0.010532080195844173,0.011626708321273327,0.01077068317681551,0.014318077825009823,0.014327551238238811,0.012040006928145885,0.017278825864195824,0.010973557829856873,0.011713599786162376,0.011568799614906311,0.013367932289838791,0.013832727447152138,0.013013173826038837,0.011388687416911125,0.011096926406025887,0.010949201881885529,0.010232617147266865,0.010899430140852928,0.009939157404005527,0.01238253153860569,0.013686980120837688,0.011499740183353424,0.011982760392129421,0.013875472359359264,0.014194319024682045,0.010529656894505024,0.012198437005281448,0.012706181965768337,0.015946082770824432,0.01270151138305664,0.012942846864461899],[0.00957697257399559,0.01029847003519535,0.01154325157403946,0.00938509963452816,0.013897141441702843,0.012154201976954937,0.011187530122697353,0.011710801161825657,0.010171358473598957,0.010800117626786232,0.010369633324444294,0.01212959736585617,0.008881200104951859,0.009981545619666576,0.008742420002818108,0.01021470595151186,0.009572534821927547,0.008811877109110355,0.01021717768162489,0.009019432589411736,0.011051256209611893,0.011485719121992588,0.010346513241529465,0.010042593814432621,0.011679205112159252,0.012417840771377087,0.010098583996295929,0.01056374330073595,0.011288736015558243,0.012088415212929249,0.009750742465257645,0.01112854853272438],[0.008901219815015793,0.00944621954113245,0.011179005727171898,0.009346614591777325,0.013906269334256649,0.01235242560505867,0.010422591120004654,0.012847304344177246,0.009534822776913643,0.010208109393715858,0.009866294451057911,0.011794168502092361,0.010642778128385544,0.010452925227582455,0.008740701712667942,0.010432121343910694,0.009368414990603924,0.008400941267609596,0.009724589064717293,0.008260861039161682,0.011010300368070602,0.011018766090273857,0.009496656246483326,0.009678580798208714,0.01130378246307373,0.01229905430227518,0.009252311661839485,0.009813553653657436,0.011619561351835728,0.013781877234578133,0.009463844820857048,0.01102873869240284],[0.01112105417996645,0.013431673869490623,0.012548974715173244,0.011342668905854225,0.013831439428031445,0.015733836218714714,0.01248889695852995,0.012542558833956718,0.011541977524757385,0.011830895207822323,0.011347885243594646,0.01257247757166624,0.010750490240752697,0.0115581676363945,0.010487084276974201,0.011403048411011696,0.011338945478200912,0.010585427284240723,0.011614340357482433,0.01100084837526083,0.01152818463742733,0.012080485001206398,0.011160139925777912,0.011091641150414944,0.012760878540575504,0.013183776289224625,0.011993748135864735,0.0122764827683568,0.011294123716652393,0.011312494985759258,0.010795739479362965,0.012046188116073608],[0.013159782625734806,0.015558314509689808,0.014882092364132404,0.01347561739385128,0.01678759604692459,0.01878519169986248,0.014424024149775505,0.015590619295835495,0.015247071161866188,0.014162849634885788,0.014487599954009056,0.01580512337386608,0.016201408579945564,0.014221572317183018,0.012831226922571659,0.013868375681340694,0.013489190489053726,0.011950293555855751,0.01309883315116167,0.012676198035478592,0.013907895423471928,0.014820811338722706,0.014818147756159306,0.012735712341964245,0.014788160100579262,0.01682700216770172,0.020035436376929283,0.015712840482592583,0.01600220613181591,0.016452373936772346,0.01442130096256733,0.01464120950549841],[0.01500971894711256,0.014607143588364124,0.018507160246372223,0.015557914040982723,0.01820451021194458,0.015506774187088013,0.014623644761741161,0.017790241166949272,0.014718763530254364,0.01600499451160431,0.016066966578364372,0.01880255714058876,0.018796972930431366,0.016826579347252846,0.014887072145938873,0.016029518097639084,0.013481350615620613,0.011259595863521099,0.012120867148041725,0.011326748877763748,0.015587851405143738,0.01816077157855034,0.015472689643502235,0.01232102606445551,0.01481462363153696,0.01756480522453785,0.012106562033295631,0.012937001883983612,0.01998927630484104,0.020022444427013397,0.017970046028494835,0.015302219428122044],[0.014515772461891174,0.015414874069392681,0.02015455812215805,0.022022664546966553,0.0149287274107337,0.01492401771247387,0.0131266750395298,0.020782101899385452,0.015592534095048904,0.01676497422158718,0.018331507220864296,0.016987163573503494,0.028286581858992577,0.01864582858979702,0.017954165115952492,0.017788849771022797,0.014217101968824863,0.011177309788763523,0.011703726835548878,0.010865951888263226,0.015244271606206894,0.015640955418348312,0.01665329746901989,0.011920513585209846,0.016987312585115433,0.01514081098139286,0.01153285801410675,0.013019631616771221,0.022885067388415337,0.030100177973508835,0.01786041632294655,0.014532721601426601],[0.015093274414539337,0.013579413294792175,0.02083771862089634,0.016285846009850502,0.01603269949555397,0.01374125387519598,0.01311695296317339,0.01650254800915718,0.017143728211522102,0.016327030956745148,0.019062291830778122,0.015637556090950966,0.023429349064826965,0.01942313276231289,0.014427417889237404,0.01674923300743103,0.012271953746676445,0.00996924564242363,0.010826284065842628,0.010014544241130352,0.014269059523940086,0.01475034561008215,0.012419294565916061,0.010923315770924091,0.014075575396418571,0.015052991919219494,0.010386846959590912,0.011509973555803299,0.01980450376868248,0.020405733957886696,0.013031251728534698,0.012392195872962475],[0.018370160833001137,0.02029472030699253,0.01951664127409458,0.019066188484430313,0.02204909920692444,0.01889040693640709,0.018362602218985558,0.022245895117521286,0.015274454839527607,0.016963494941592216,0.016793567687273026,0.017715921625494957,0.0240021925419569,0.01963116228580475,0.016825716942548752,0.017951279878616333,0.016565360128879547,0.015056497417390347,0.012845238670706749,0.01394206564873457,0.017573753371834755,0.021633880212903023,0.019731173291802406,0.016065020114183426,0.01879173144698143,0.022608958184719086,0.013215610757470131,0.016712071374058723,0.024705832824110985,0.02242155745625496,0.020938945934176445,0.01691829040646553],[0.016632387414574623,0.020647089928388596,0.016591867431998253,0.016225025057792664,0.01990787871181965,0.024044565856456757,0.018508832901716232,0.018565336242318153,0.013189377263188362,0.01420674379914999,0.014435683377087116,0.017976272851228714,0.017950914800167084,0.015170740894973278,0.014398273080587387,0.016207754611968994,0.017322637140750885,0.012871181592345238,0.012463787570595741,0.012583320029079914,0.016271144151687622,0.017914146184921265,0.01570126786828041,0.012982363812625408,0.014870159327983856,0.02160140872001648,0.013101667165756226,0.01496195886284113,0.017898691818118095,0.019513951614499092,0.016839908435940742,0.015889421105384827],[0.02209554985165596,0.028969131410121918,0.02364078350365162,0.02628944255411625,0.021227477118372917,0.026922060176730156,0.01785000041127205,0.032723382115364075,0.015780918300151825,0.01873568445444107,0.018233461305499077,0.022394388914108276,0.04081687703728676,0.02727307751774788,0.027561569586396217,0.037067778408527374,0.021985867992043495,0.014910941943526268,0.014025915414094925,0.014554385095834732,0.01960897073149681,0.025957245379686356,0.02911391668021679,0.014301211573183537,0.02271241880953312,0.03206736221909523,0.01601649448275566,0.020203838124871254,0.03441999852657318,0.03729947656393051,0.02826426550745964,0.021934151649475098],[0.017583034932613373,0.0214243046939373,0.017327312380075455,0.018888555467128754,0.016357962042093277,0.017096752300858498,0.016736341640353203,0.01686939038336277,0.014454635791480541,0.015545942820608616,0.015260431915521622,0.018134672194719315,0.016708392649888992,0.021245267242193222,0.015521290712058544,0.02099374681711197,0.016729524359107018,0.012758375145494938,0.013826116919517517,0.013653922826051712,0.014954295009374619,0.016575844958424568,0.016274327412247658,0.014401612803339958,0.015301937237381935,0.018084969371557236,0.013555767945945263,0.013812626712024212,0.01886533387005329,0.017553240060806274,0.01686440408229828,0.014827903360128403],[0.019136322662234306,0.019251974299550056,0.01861361786723137,0.01811934821307659,0.01810806430876255,0.017093252390623093,0.019719647243618965,0.017234761267900467,0.0210388395935297,0.01877298206090927,0.022175129503011703,0.019281968474388123,0.0197217408567667,0.01605398580431938,0.01978718861937523,0.020142050459980965,0.022335464134812355,0.021586017683148384,0.018043728545308113,0.02390865795314312,0.020321926102042198,0.018719829618930817,0.020403852686285973,0.020874684676527977,0.01986546255648136,0.019634487107396126,0.02060314640402794,0.01992451585829258,0.024083686992526054,0.02161463163793087,0.025059567764401436,0.019059186801314354],[0.02038383297622204,0.016039028763771057,0.016943324357271194,0.016879068687558174,0.014972484670579433,0.014033859595656395,0.01755077764391899,0.012402880005538464,0.024312175810337067,0.018588095903396606,0.018449969589710236,0.016524596139788628,0.012629314325749874,0.013522142544388771,0.017576105892658234,0.016695192083716393,0.01755319908261299,0.019060306251049042,0.020688144490122795,0.03100784681737423,0.01637309230864048,0.013798289000988007,0.015320232138037682,0.01925329677760601,0.016846759244799614,0.014894870109856129,0.029135895892977715,0.02263951674103737,0.0164339542388916,0.01248806994408369,0.017054835334420204,0.018181156367063522],[0.02024497464299202,0.014619927853345871,0.018591254949569702,0.019526852294802666,0.01738240197300911,0.014995215460658073,0.019945940002799034,0.01577652245759964,0.020080290734767914,0.01728561520576477,0.020247088745236397,0.020383600145578384,0.012736680917441845,0.01433939766138792,0.01841813698410988,0.016889240592718124,0.023330440744757652,0.021442683413624763,0.02099287137389183,0.019719861447811127,0.020364774391055107,0.017443887889385223,0.01619706302881241,0.02090839296579361,0.019731145352125168,0.018760671839118004,0.0172352846711874,0.017793597653508186,0.01940293051302433,0.014873158186674118,0.01875501312315464,0.023793520405888557],[0.02276509441435337,0.01433155220001936,0.01773114874958992,0.018150217831134796,0.016976775601506233,0.015251866541802883,0.02152964100241661,0.013691827654838562,0.026994146406650543,0.01931639574468136,0.02283552661538124,0.01967034675180912,0.01300593838095665,0.014575603418052197,0.018515974283218384,0.017256198450922966,0.019547469913959503,0.02269948460161686,0.030105305835604668,0.030715225264430046,0.018852926790714264,0.015416637994349003,0.016983022913336754,0.02649359405040741,0.019441312178969383,0.017884721979498863,0.022239873185753822,0.02625950239598751,0.021043449640274048,0.013411403633654118,0.026237118989229202,0.023378580808639526],[0.017779333516955376,0.019865673035383224,0.01985781639814377,0.0246778205037117,0.019253525882959366,0.0179025586694479,0.01485500019043684,0.01954934559762478,0.01431699562817812,0.01558347512036562,0.015040721744298935,0.016508430242538452,0.024763530120253563,0.01863865554332733,0.017574869096279144,0.027591591700911522,0.023699689656496048,0.014690378680825233,0.013427459634840488,0.014409471303224564,0.01974266581237316,0.017772512510418892,0.01992381364107132,0.013970021158456802,0.015807589516043663,0.019607454538345337,0.01383343804627657,0.014273261651396751,0.02796412631869316,0.025966905057430267,0.02098223939538002,0.01635371334850788],[0.022528085857629776,0.03028593212366104,0.02429990842938423,0.02691270224750042,0.023472318425774574,0.027524558827280998,0.02074957638978958,0.0356932133436203,0.016438141465187073,0.018645552918314934,0.02053656056523323,0.02216307818889618,0.03907959908246994,0.025302929803729057,0.025584468618035316,0.034100160002708435,0.02213699370622635,0.01614948734641075,0.013854684308171272,0.014402021653950214,0.023513704538345337,0.029915690422058105,0.029288461431860924,0.0164506658911705,0.024813417345285416,0.031247524544596672,0.01720234751701355,0.0213309396058321,0.03476851060986519,0.038782596588134766,0.029117630794644356,0.023489776998758316],[0.015662096440792084,0.018957078456878662,0.017231391742825508,0.017440898343920708,0.016282113268971443,0.016979722306132317,0.015196055173873901,0.017790082842111588,0.013656106777489185,0.014140823855996132,0.014147994108498096,0.01572057418525219,0.018327126279473305,0.01487004105001688,0.016191724687814713,0.01767861098051071,0.01905437745153904,0.012599709443747997,0.01436097826808691,0.013836003839969635,0.015215277671813965,0.0171281099319458,0.016724832355976105,0.012976562604308128,0.015453236177563667,0.017619524151086807,0.012540224939584732,0.013710291124880314,0.018204882740974426,0.019214613363146782,0.01702280156314373,0.01652825064957142],[0.01552748866379261,0.01728222705423832,0.01709873229265213,0.021029621362686157,0.017518308013677597,0.020992625504732132,0.01630859449505806,0.023213224485516548,0.015091822482645512,0.016488689929246902,0.01710687205195427,0.020871037617325783,0.02312071993947029,0.017592689022421837,0.017609378322958946,0.02126459963619709,0.024713046848773956,0.013787658885121346,0.013726489618420601,0.013558312319219112,0.019013868644833565,0.019712626934051514,0.021501008421182632,0.014000658877193928,0.019428499042987823,0.02216491848230362,0.013300935737788677,0.015032919123768806,0.02920747548341751,0.03473222255706787,0.027468102052807808,0.020882735028862953],[0.014458742924034595,0.01368577778339386,0.014167090877890587,0.01452577579766512,0.013744023628532887,0.01299066748470068,0.01381288468837738,0.013383466750383377,0.014253189787268639,0.013886649161577225,0.01408198568969965,0.01428085658699274,0.014954965561628342,0.01509840413928032,0.015506027266383171,0.01595178432762623,0.014855988323688507,0.015841616317629814,0.015407904051244259,0.014906257390975952,0.01471352856606245,0.01456656027585268,0.015337735414505005,0.01518399640917778,0.015323229134082794,0.015699032694101334,0.013574273325502872,0.014417368918657303,0.014263460412621498,0.01279992051422596,0.015258533880114555,0.01672186888754368],[0.013151242397725582,0.012713264673948288,0.014325995929539204,0.012656178325414658,0.013644574210047722,0.012025640346109867,0.012444660067558289,0.014147041365504265,0.012142302468419075,0.012561633251607418,0.011849270202219486,0.011679539456963539,0.018504150211811066,0.017791882157325745,0.012310157530009747,0.015450972132384777,0.014510436914861202,0.018041012808680534,0.013562191277742386,0.013999135233461857,0.013002962805330753,0.012714076787233353,0.017192315310239792,0.013234269805252552,0.012134256772696972,0.01450133416801691,0.013177245855331421,0.01408449374139309,0.011519666761159897,0.012011412531137466,0.011979347094893456,0.012763970531523228],[0.01536053791642189,0.016662931069731712,0.01493848953396082,0.017395123839378357,0.014063739217817783,0.015172692947089672,0.014623078517615795,0.017104702070355415,0.01520637609064579,0.014391698874533176,0.013948461040854454,0.013694260269403458,0.02538585662841797,0.02426224574446678,0.017517248168587685,0.021513711661100388,0.017513766884803772,0.020118312910199165,0.014844735153019428,0.016151927411556244,0.01384125929325819,0.014719695784151554,0.020784780383110046,0.01428412925451994,0.014573527500033379,0.01821478083729744,0.016966933384537697,0.01791110634803772,0.014371231198310852,0.014756220392882824,0.01483606081455946,0.01445616316050291],[0.015944330021739006,0.016151340678334236,0.015638288110494614,0.016728952527046204,0.014235326088964939,0.01395118422806263,0.014006133191287518,0.01572476513683796,0.014615047723054886,0.014584165997803211,0.014119747094810009,0.014180846512317657,0.024448726326227188,0.024202551692724228,0.01904851756989956,0.021532028913497925,0.016435211524367332,0.016563961282372475,0.014446310698986053,0.01512172631919384,0.014835109002888203,0.015044700354337692,0.020925134420394897,0.014157632365822792,0.01444573886692524,0.016910744830965996,0.014260230585932732,0.014966744929552078,0.01456502266228199,0.01567230373620987,0.014781315810978413,0.014553770422935486],[0.020157160237431526,0.026386640965938568,0.02123405411839485,0.02418356202542782,0.020503731444478035,0.01926608569920063,0.01667119935154915,0.022649593651294708,0.01539540570229292,0.016451597213745117,0.016355445608496666,0.017844509333372116,0.030502235516905785,0.026511460542678833,0.021436935290694237,0.031241675838828087,0.021961424499750137,0.019905438646674156,0.015371252782642841,0.016039876267313957,0.02130955457687378,0.019550854340195656,0.026468021795153618,0.015172595158219337,0.01751858927309513,0.021788284182548523,0.015488996170461178,0.015660617500543594,0.03404586389660835,0.02857334166765213,0.024564018473029137,0.018954437226057053],[0.021765341982245445,0.02892717346549034,0.020976433530449867,0.027807096019387245,0.018529308959841728,0.020800236612558365,0.018653132021427155,0.024311404675245285,0.017863044515252113,0.018865462392568588,0.019584910944104195,0.019857097417116165,0.031009726226329803,0.023187119513750076,0.027146603912115097,0.03133006766438484,0.024575792253017426,0.022549867630004883,0.016739407554268837,0.020925872027873993,0.022229719907045364,0.021712621673941612,0.02737743966281414,0.018145916983485222,0.021240921691060066,0.023092355579137802,0.017644498497247696,0.01999049074947834,0.03159046173095703,0.02782144397497177,0.029508160427212715,0.021063610911369324],[0.020439831539988518,0.029074551537632942,0.021226875483989716,0.025014439597725868,0.020242230966687202,0.019887687638401985,0.016603730618953705,0.023348426446318626,0.01526481844484806,0.016495605930685997,0.016361139714717865,0.017872070893645287,0.03270503133535385,0.03041158989071846,0.023229148238897324,0.03487260267138481,0.021767590194940567,0.01966092362999916,0.014990558847784996,0.01624433696269989,0.02260623686015606,0.020161284133791924,0.02686583623290062,0.015083882957696915,0.01818963512778282,0.02277173474431038,0.015845749527215958,0.016179312020540237,0.03418825939297676,0.028220701962709427,0.024433530867099762,0.018614506348967552],[0.021051833406090736,0.02688657119870186,0.02135397307574749,0.021764276549220085,0.01818440854549408,0.017596498131752014,0.016236744821071625,0.020556708797812462,0.01476055197417736,0.015626627951860428,0.015355870127677917,0.017003707587718964,0.025058815255761147,0.027484403923153877,0.019939450547099113,0.03422898054122925,0.018537165597081184,0.014953617006540298,0.013568242080509663,0.014333466067910194,0.018895121291279793,0.01944117806851864,0.022428877651691437,0.014914880506694317,0.017587633803486824,0.020575396716594696,0.014692975208163261,0.014208422042429447,0.023926272988319397,0.023267099633812904,0.017078407108783722,0.01662602648139],[0.012942515313625336,0.014313719235360622,0.014567505568265915,0.013009155169129372,0.022881286218762398,0.021281249821186066,0.018301399424672127,0.021336624398827553,0.0127352774143219,0.013487622141838074,0.014130965806543827,0.01590186543762684,0.016421345993876457,0.014512481167912483,0.01253468170762062,0.01364181563258171,0.01424115989357233,0.013447947800159454,0.011892471462488174,0.013033401221036911,0.015020147897303104,0.018806254491209984,0.015353180468082428,0.01410770881921053,0.016878243535757065,0.01872752048075199,0.013310842216014862,0.01774926297366619,0.019141023978590965,0.021088311448693275,0.018326060846447945,0.015073162503540516],[0.01376420445740223,0.016275789588689804,0.015437922440469265,0.015381897799670696,0.018458638340234756,0.019154848530888557,0.014918371103703976,0.030788172036409378,0.013454781845211983,0.016618860885500908,0.016697939485311508,0.020303046330809593,0.02843417041003704,0.02171328291296959,0.01657198928296566,0.019882604479789734,0.01293063536286354,0.01167350448668003,0.011474192142486572,0.011534431017935276,0.016788827255368233,0.026315737515687943,0.021098453551530838,0.013602729886770248,0.02464672178030014,0.02173561416566372,0.011915023438632488,0.014062348753213882,0.030411969870328903,0.04192301258444786,0.028524721041321754,0.022775283083319664],[0.01715337485074997,0.01890379749238491,0.02198171801865101,0.022799020633101463,0.020084654912352562,0.021374091506004333,0.015432747080922127,0.03283138573169708,0.013778387568891048,0.015534643083810806,0.016402246430516243,0.021831568330526352,0.03506995365023613,0.022108154371380806,0.022327814251184464,0.02621639147400856,0.015442809090018272,0.012396142818033695,0.011382975615561008,0.011787602677941322,0.019742382690310478,0.023687729611992836,0.02428639493882656,0.013103540986776352,0.023973669856786728,0.0269016120582819,0.013192562386393547,0.01717306859791279,0.03338710963726044,0.04324081540107727,0.029061727225780487,0.02186770550906658],[0.011777757667005062,0.013777538202702999,0.01416809856891632,0.011425341479480267,0.01782773993909359,0.0156388059258461,0.015141508542001247,0.019069626927375793,0.011621405370533466,0.011933039873838425,0.012714876793324947,0.014700104482471943,0.015421628952026367,0.01401863619685173,0.010811872780323029,0.013354835100471973,0.01092789601534605,0.010013776831328869,0.010477143339812756,0.010354059748351574,0.013318141922354698,0.01877065934240818,0.013560554943978786,0.012210046872496605,0.01540030911564827,0.017230577766895294,0.010802101343870163,0.011905216611921787,0.01563715562224388,0.020712506026029587,0.013831752352416515,0.014318515546619892]],\"type\":\"heatmap\",\"xaxis\":\"x\",\"yaxis\":\"y\",\"hovertemplate\":\"Layer 1: %{x}\\u003cbr\\u003eLayer 0: %{y}\\u003cbr\\u003ecolor: %{z}\\u003cextra\\u003e\\u003c\\u002fextra\\u003e\"}],                        {\"template\":{\"data\":{\"histogram2dcontour\":[{\"type\":\"histogram2dcontour\",\"colorbar\":{\"outlinewidth\":0,\"ticks\":\"\"},\"colorscale\":[[0.0,\"#0d0887\"],[0.1111111111111111,\"#46039f\"],[0.2222222222222222,\"#7201a8\"],[0.3333333333333333,\"#9c179e\"],[0.4444444444444444,\"#bd3786\"],[0.5555555555555556,\"#d8576b\"],[0.6666666666666666,\"#ed7953\"],[0.7777777777777778,\"#fb9f3a\"],[0.8888888888888888,\"#fdca26\"],[1.0,\"#f0f921\"]]}],\"choropleth\":[{\"type\":\"choropleth\",\"colorbar\":{\"outlinewidth\":0,\"ticks\":\"\"}}],\"histogram2d\":[{\"type\":\"histogram2d\",\"colorbar\":{\"outlinewidth\":0,\"ticks\":\"\"},\"colorscale\":[[0.0,\"#0d0887\"],[0.1111111111111111,\"#46039f\"],[0.2222222222222222,\"#7201a8\"],[0.3333333333333333,\"#9c179e\"],[0.4444444444444444,\"#bd3786\"],[0.5555555555555556,\"#d8576b\"],[0.6666666666666666,\"#ed7953\"],[0.7777777777777778,\"#fb9f3a\"],[0.8888888888888888,\"#fdca26\"],[1.0,\"#f0f921\"]]}],\"heatmap\":[{\"type\":\"heatmap\",\"colorbar\":{\"outlinewidth\":0,\"ticks\":\"\"},\"colorscale\":[[0.0,\"#0d0887\"],[0.1111111111111111,\"#46039f\"],[0.2222222222222222,\"#7201a8\"],[0.3333333333333333,\"#9c179e\"],[0.4444444444444444,\"#bd3786\"],[0.5555555555555556,\"#d8576b\"],[0.6666666666666666,\"#ed7953\"],[0.7777777777777778,\"#fb9f3a\"],[0.8888888888888888,\"#fdca26\"],[1.0,\"#f0f921\"]]}],\"heatmapgl\":[{\"type\":\"heatmapgl\",\"colorbar\":{\"outlinewidth\":0,\"ticks\":\"\"},\"colorscale\":[[0.0,\"#0d0887\"],[0.1111111111111111,\"#46039f\"],[0.2222222222222222,\"#7201a8\"],[0.3333333333333333,\"#9c179e\"],[0.4444444444444444,\"#bd3786\"],[0.5555555555555556,\"#d8576b\"],[0.6666666666666666,\"#ed7953\"],[0.7777777777777778,\"#fb9f3a\"],[0.8888888888888888,\"#fdca26\"],[1.0,\"#f0f921\"]]}],\"contourcarpet\":[{\"type\":\"contourcarpet\",\"colorbar\":{\"outlinewidth\":0,\"ticks\":\"\"}}],\"contour\":[{\"type\":\"contour\",\"colorbar\":{\"outlinewidth\":0,\"ticks\":\"\"},\"colorscale\":[[0.0,\"#0d0887\"],[0.1111111111111111,\"#46039f\"],[0.2222222222222222,\"#7201a8\"],[0.3333333333333333,\"#9c179e\"],[0.4444444444444444,\"#bd3786\"],[0.5555555555555556,\"#d8576b\"],[0.6666666666666666,\"#ed7953\"],[0.7777777777777778,\"#fb9f3a\"],[0.8888888888888888,\"#fdca26\"],[1.0,\"#f0f921\"]]}],\"surface\":[{\"type\":\"surface\",\"colorbar\":{\"outlinewidth\":0,\"ticks\":\"\"},\"colorscale\":[[0.0,\"#0d0887\"],[0.1111111111111111,\"#46039f\"],[0.2222222222222222,\"#7201a8\"],[0.3333333333333333,\"#9c179e\"],[0.4444444444444444,\"#bd3786\"],[0.5555555555555556,\"#d8576b\"],[0.6666666666666666,\"#ed7953\"],[0.7777777777777778,\"#fb9f3a\"],[0.8888888888888888,\"#fdca26\"],[1.0,\"#f0f921\"]]}],\"mesh3d\":[{\"type\":\"mesh3d\",\"colorbar\":{\"outlinewidth\":0,\"ticks\":\"\"}}],\"scatter\":[{\"fillpattern\":{\"fillmode\":\"overlay\",\"size\":10,\"solidity\":0.2},\"type\":\"scatter\"}],\"parcoords\":[{\"type\":\"parcoords\",\"line\":{\"colorbar\":{\"outlinewidth\":0,\"ticks\":\"\"}}}],\"scatterpolargl\":[{\"type\":\"scatterpolargl\",\"marker\":{\"colorbar\":{\"outlinewidth\":0,\"ticks\":\"\"}}}],\"bar\":[{\"error_x\":{\"color\":\"#2a3f5f\"},\"error_y\":{\"color\":\"#2a3f5f\"},\"marker\":{\"line\":{\"color\":\"#E5ECF6\",\"width\":0.5},\"pattern\":{\"fillmode\":\"overlay\",\"size\":10,\"solidity\":0.2}},\"type\":\"bar\"}],\"scattergeo\":[{\"type\":\"scattergeo\",\"marker\":{\"colorbar\":{\"outlinewidth\":0,\"ticks\":\"\"}}}],\"scatterpolar\":[{\"type\":\"scatterpolar\",\"marker\":{\"colorbar\":{\"outlinewidth\":0,\"ticks\":\"\"}}}],\"histogram\":[{\"marker\":{\"pattern\":{\"fillmode\":\"overlay\",\"size\":10,\"solidity\":0.2}},\"type\":\"histogram\"}],\"scattergl\":[{\"type\":\"scattergl\",\"marker\":{\"colorbar\":{\"outlinewidth\":0,\"ticks\":\"\"}}}],\"scatter3d\":[{\"type\":\"scatter3d\",\"line\":{\"colorbar\":{\"outlinewidth\":0,\"ticks\":\"\"}},\"marker\":{\"colorbar\":{\"outlinewidth\":0,\"ticks\":\"\"}}}],\"scattermapbox\":[{\"type\":\"scattermapbox\",\"marker\":{\"colorbar\":{\"outlinewidth\":0,\"ticks\":\"\"}}}],\"scatterternary\":[{\"type\":\"scatterternary\",\"marker\":{\"colorbar\":{\"outlinewidth\":0,\"ticks\":\"\"}}}],\"scattercarpet\":[{\"type\":\"scattercarpet\",\"marker\":{\"colorbar\":{\"outlinewidth\":0,\"ticks\":\"\"}}}],\"carpet\":[{\"aaxis\":{\"endlinecolor\":\"#2a3f5f\",\"gridcolor\":\"white\",\"linecolor\":\"white\",\"minorgridcolor\":\"white\",\"startlinecolor\":\"#2a3f5f\"},\"baxis\":{\"endlinecolor\":\"#2a3f5f\",\"gridcolor\":\"white\",\"linecolor\":\"white\",\"minorgridcolor\":\"white\",\"startlinecolor\":\"#2a3f5f\"},\"type\":\"carpet\"}],\"table\":[{\"cells\":{\"fill\":{\"color\":\"#EBF0F8\"},\"line\":{\"color\":\"white\"}},\"header\":{\"fill\":{\"color\":\"#C8D4E3\"},\"line\":{\"color\":\"white\"}},\"type\":\"table\"}],\"barpolar\":[{\"marker\":{\"line\":{\"color\":\"#E5ECF6\",\"width\":0.5},\"pattern\":{\"fillmode\":\"overlay\",\"size\":10,\"solidity\":0.2}},\"type\":\"barpolar\"}],\"pie\":[{\"automargin\":true,\"type\":\"pie\"}]},\"layout\":{\"autotypenumbers\":\"strict\",\"colorway\":[\"#636efa\",\"#EF553B\",\"#00cc96\",\"#ab63fa\",\"#FFA15A\",\"#19d3f3\",\"#FF6692\",\"#B6E880\",\"#FF97FF\",\"#FECB52\"],\"font\":{\"color\":\"#2a3f5f\"},\"hovermode\":\"closest\",\"hoverlabel\":{\"align\":\"left\"},\"paper_bgcolor\":\"white\",\"plot_bgcolor\":\"#E5ECF6\",\"polar\":{\"bgcolor\":\"#E5ECF6\",\"angularaxis\":{\"gridcolor\":\"white\",\"linecolor\":\"white\",\"ticks\":\"\"},\"radialaxis\":{\"gridcolor\":\"white\",\"linecolor\":\"white\",\"ticks\":\"\"}},\"ternary\":{\"bgcolor\":\"#E5ECF6\",\"aaxis\":{\"gridcolor\":\"white\",\"linecolor\":\"white\",\"ticks\":\"\"},\"baxis\":{\"gridcolor\":\"white\",\"linecolor\":\"white\",\"ticks\":\"\"},\"caxis\":{\"gridcolor\":\"white\",\"linecolor\":\"white\",\"ticks\":\"\"}},\"coloraxis\":{\"colorbar\":{\"outlinewidth\":0,\"ticks\":\"\"}},\"colorscale\":{\"sequential\":[[0.0,\"#0d0887\"],[0.1111111111111111,\"#46039f\"],[0.2222222222222222,\"#7201a8\"],[0.3333333333333333,\"#9c179e\"],[0.4444444444444444,\"#bd3786\"],[0.5555555555555556,\"#d8576b\"],[0.6666666666666666,\"#ed7953\"],[0.7777777777777778,\"#fb9f3a\"],[0.8888888888888888,\"#fdca26\"],[1.0,\"#f0f921\"]],\"sequentialminus\":[[0.0,\"#0d0887\"],[0.1111111111111111,\"#46039f\"],[0.2222222222222222,\"#7201a8\"],[0.3333333333333333,\"#9c179e\"],[0.4444444444444444,\"#bd3786\"],[0.5555555555555556,\"#d8576b\"],[0.6666666666666666,\"#ed7953\"],[0.7777777777777778,\"#fb9f3a\"],[0.8888888888888888,\"#fdca26\"],[1.0,\"#f0f921\"]],\"diverging\":[[0,\"#8e0152\"],[0.1,\"#c51b7d\"],[0.2,\"#de77ae\"],[0.3,\"#f1b6da\"],[0.4,\"#fde0ef\"],[0.5,\"#f7f7f7\"],[0.6,\"#e6f5d0\"],[0.7,\"#b8e186\"],[0.8,\"#7fbc41\"],[0.9,\"#4d9221\"],[1,\"#276419\"]]},\"xaxis\":{\"gridcolor\":\"white\",\"linecolor\":\"white\",\"ticks\":\"\",\"title\":{\"standoff\":15},\"zerolinecolor\":\"white\",\"automargin\":true,\"zerolinewidth\":2},\"yaxis\":{\"gridcolor\":\"white\",\"linecolor\":\"white\",\"ticks\":\"\",\"title\":{\"standoff\":15},\"zerolinecolor\":\"white\",\"automargin\":true,\"zerolinewidth\":2},\"scene\":{\"xaxis\":{\"backgroundcolor\":\"#E5ECF6\",\"gridcolor\":\"white\",\"linecolor\":\"white\",\"showbackground\":true,\"ticks\":\"\",\"zerolinecolor\":\"white\",\"gridwidth\":2},\"yaxis\":{\"backgroundcolor\":\"#E5ECF6\",\"gridcolor\":\"white\",\"linecolor\":\"white\",\"showbackground\":true,\"ticks\":\"\",\"zerolinecolor\":\"white\",\"gridwidth\":2},\"zaxis\":{\"backgroundcolor\":\"#E5ECF6\",\"gridcolor\":\"white\",\"linecolor\":\"white\",\"showbackground\":true,\"ticks\":\"\",\"zerolinecolor\":\"white\",\"gridwidth\":2}},\"shapedefaults\":{\"line\":{\"color\":\"#2a3f5f\"}},\"annotationdefaults\":{\"arrowcolor\":\"#2a3f5f\",\"arrowhead\":0,\"arrowwidth\":1},\"geo\":{\"bgcolor\":\"white\",\"landcolor\":\"#E5ECF6\",\"subunitcolor\":\"white\",\"showland\":true,\"showlakes\":true,\"lakecolor\":\"white\"},\"title\":{\"x\":0.05},\"mapbox\":{\"style\":\"light\"}}},\"xaxis\":{\"anchor\":\"y\",\"domain\":[0.0,1.0],\"scaleanchor\":\"y\",\"constrain\":\"domain\",\"title\":{\"text\":\"Layer 1\"}},\"yaxis\":{\"anchor\":\"x\",\"domain\":[0.0,1.0],\"autorange\":\"reversed\",\"constrain\":\"domain\",\"title\":{\"text\":\"Layer 0\"}},\"coloraxis\":{\"colorscale\":[[0.0,\"rgb(247,251,255)\"],[0.125,\"rgb(222,235,247)\"],[0.25,\"rgb(198,219,239)\"],[0.375,\"rgb(158,202,225)\"],[0.5,\"rgb(107,174,214)\"],[0.625,\"rgb(66,146,198)\"],[0.75,\"rgb(33,113,181)\"],[0.875,\"rgb(8,81,156)\"],[1.0,\"rgb(8,48,107)\"]],\"cmin\":0.0,\"cmax\":0.04324081540107727},\"title\":{\"text\":\"Q Composition Scores\"}},                        {\"responsive\": true}                    ).then(function(){\n",
       "                            \n",
       "var gd = document.getElementById('3fe97d1a-ec12-465c-8329-fda35f8be9c0');\n",
       "var x = new MutationObserver(function (mutations, observer) {{\n",
       "        var display = window.getComputedStyle(gd).display;\n",
       "        if (!display || display === 'none') {{\n",
       "            console.log([gd, 'removed!']);\n",
       "            Plotly.purge(gd);\n",
       "            observer.disconnect();\n",
       "        }}\n",
       "}});\n",
       "\n",
       "// Listen for the removal of the full notebook cells\n",
       "var notebookContainer = gd.closest('#notebook-container');\n",
       "if (notebookContainer) {{\n",
       "    x.observe(notebookContainer, {childList: true});\n",
       "}}\n",
       "\n",
       "// Listen for the clearing of the current output cell\n",
       "var outputEl = gd.closest('.output');\n",
       "if (outputEl) {{\n",
       "    x.observe(outputEl, {childList: true});\n",
       "}}\n",
       "\n",
       "                        })                };                });            </script>        </div>"
      ]
     },
     "metadata": {},
     "output_type": "display_data"
    },
    {
     "data": {
      "application/vnd.plotly.v1+json": {
       "config": {
        "plotlyServerURL": "https://plot.ly"
       },
       "data": [
        {
         "coloraxis": "coloraxis",
         "hovertemplate": "Layer 1: %{x}<br>Layer 0: %{y}<br>color: %{z}<extra></extra>",
         "name": "0",
         "type": "heatmap",
         "x": [
          "L16H0",
          "L16H1",
          "L16H2",
          "L16H3",
          "L16H4",
          "L16H5",
          "L16H6",
          "L16H7",
          "L16H8",
          "L16H9",
          "L16H10",
          "L16H11",
          "L16H12",
          "L16H13",
          "L16H14",
          "L16H15",
          "L16H16",
          "L16H17",
          "L16H18",
          "L16H19",
          "L16H20",
          "L16H21",
          "L16H22",
          "L16H23",
          "L16H24",
          "L16H25",
          "L16H26",
          "L16H27",
          "L16H28",
          "L16H29",
          "L16H30",
          "L16H31"
         ],
         "xaxis": "x",
         "y": [
          "L15H0",
          "L15H1",
          "L15H2",
          "L15H3",
          "L15H4",
          "L15H5",
          "L15H6",
          "L15H7",
          "L15H8",
          "L15H9",
          "L15H10",
          "L15H11",
          "L15H12",
          "L15H13",
          "L15H14",
          "L15H15",
          "L15H16",
          "L15H17",
          "L15H18",
          "L15H19",
          "L15H20",
          "L15H21",
          "L15H22",
          "L15H23",
          "L15H24",
          "L15H25",
          "L15H26",
          "L15H27",
          "L15H28",
          "L15H29",
          "L15H30",
          "L15H31"
         ],
         "yaxis": "y",
         "z": [
          [
           0.0094054089859128,
           0.009342077188193798,
           0.009534471668303013,
           0.009312995709478855,
           0.01268851850181818,
           0.012561587616801262,
           0.012493236921727657,
           0.012780060060322285,
           0.010686133988201618,
           0.010637117549777031,
           0.010583912022411823,
           0.010826487094163895,
           0.01260850578546524,
           0.012055742554366589,
           0.011200864799320698,
           0.011254372075200081,
           0.009181839413940907,
           0.009070117957890034,
           0.009389420971274376,
           0.009169867262244225,
           0.010718381963670254,
           0.010814131237566471,
           0.010792129673063755,
           0.010763654485344887,
           0.011145541444420815,
           0.011204540729522705,
           0.011071973480284214,
           0.011085230857133865,
           0.0102446423843503,
           0.010418441146612167,
           0.010326315648853779,
           0.009958241134881973
          ],
          [
           0.008759050630033016,
           0.008627887815237045,
           0.008956567384302616,
           0.008538462221622467,
           0.011035422794520855,
           0.010706305503845215,
           0.010798901319503784,
           0.010817283764481544,
           0.009737594984471798,
           0.00973083358258009,
           0.009714682586491108,
           0.009938680566847324,
           0.008720469661056995,
           0.008597549051046371,
           0.008505983278155327,
           0.0086772870272398,
           0.00814759824424982,
           0.007982664741575718,
           0.00846440065652132,
           0.008051466196775436,
           0.009015364572405815,
           0.008985968306660652,
           0.008947215043008327,
           0.0090619632974267,
           0.009714528918266296,
           0.009610156528651714,
           0.009929558262228966,
           0.009610648266971111,
           0.008293642662465572,
           0.008121837861835957,
           0.008156538009643555,
           0.008271160535514355
          ],
          [
           0.008101023733615875,
           0.007855904288589954,
           0.008282317779958248,
           0.007799915038049221,
           0.011320878751575947,
           0.011205172166228294,
           0.011078037321567535,
           0.011382999829947948,
           0.009060324169695377,
           0.009063617326319218,
           0.0090364133939147,
           0.009277801029384136,
           0.009803916327655315,
           0.009478232823312283,
           0.00885858852416277,
           0.009043465368449688,
           0.007287649437785149,
           0.007124974858015776,
           0.007736859377473593,
           0.007195721846073866,
           0.008728661574423313,
           0.00877570640295744,
           0.008744126185774803,
           0.008772904053330421,
           0.009196962229907513,
           0.009235354140400887,
           0.009325573220849037,
           0.009169126860797405,
           0.008100013248622417,
           0.008046754635870457,
           0.008054966107010841,
           0.008007648400962353
          ],
          [
           0.01089816726744175,
           0.011087487451732159,
           0.01100176852196455,
           0.010957200080156326,
           0.01202924083918333,
           0.01200402807444334,
           0.011834350414574146,
           0.01201667357236147,
           0.010688257403671741,
           0.010675033554434776,
           0.010667267255485058,
           0.010713496245443821,
           0.010225079022347927,
           0.010162152349948883,
           0.010203523561358452,
           0.010305474512279034,
           0.010298074223101139,
           0.010048044845461845,
           0.010448994114995003,
           0.010194404982030392,
           0.010503596626222134,
           0.01032793615013361,
           0.010260837152600288,
           0.010578740388154984,
           0.010933528654277325,
           0.010955607518553734,
           0.010913537815213203,
           0.010911841876804829,
           0.009803049266338348,
           0.009605822153389454,
           0.009667367674410343,
           0.00986819714307785
          ],
          [
           0.011397515423595905,
           0.011334865354001522,
           0.011820130050182343,
           0.011343684047460556,
           0.0138748399913311,
           0.013406402431428432,
           0.013341949321329594,
           0.013419833034276962,
           0.012833777815103531,
           0.012626633048057556,
           0.012753195129334927,
           0.012765883468091488,
           0.01167297177016735,
           0.011569005437195301,
           0.01135929487645626,
           0.011431693099439144,
           0.0109654376283288,
           0.010817445814609528,
           0.011312827467918396,
           0.010901118628680706,
           0.011130106635391712,
           0.010922649875283241,
           0.0108724944293499,
           0.011177082546055317,
           0.017255807295441628,
           0.01717907190322876,
           0.0194072388112545,
           0.017343685030937195,
           0.010941974818706512,
           0.010630597360432148,
           0.010671638883650303,
           0.011126392520964146
          ],
          [
           0.015248803421854973,
           0.01550395879894495,
           0.01564083993434906,
           0.016077235341072083,
           0.016833936795592308,
           0.017361914739012718,
           0.016696294769644737,
           0.01781855709850788,
           0.017911812290549278,
           0.018589690327644348,
           0.017876485362648964,
           0.01905559003353119,
           0.020182013511657715,
           0.01983170211315155,
           0.018184764310717583,
           0.01740115135908127,
           0.011824498884379864,
           0.012425407767295837,
           0.01151735708117485,
           0.011970995925366879,
           0.012190356850624084,
           0.012366910465061665,
           0.012431873939931393,
           0.011760395020246506,
           0.014305147342383862,
           0.014465756714344025,
           0.01467947568744421,
           0.01442140992730856,
           0.012649976648390293,
           0.013118747621774673,
           0.01290308777242899,
           0.012260882183909416
          ],
          [
           0.01694849692285061,
           0.01762385107576847,
           0.01783793419599533,
           0.018855515867471695,
           0.012601380236446857,
           0.012427112087607384,
           0.012451467104256153,
           0.012520406395196915,
           0.02091076970100403,
           0.021795252338051796,
           0.020952939987182617,
           0.02107376419007778,
           0.01658078096807003,
           0.01577632687985897,
           0.014376819133758545,
           0.014081531204283237,
           0.01036981400102377,
           0.010031558573246002,
           0.01046182494610548,
           0.01016542874276638,
           0.011751056648790836,
           0.011985735967755318,
           0.012144841253757477,
           0.011303523555397987,
           0.01189605612307787,
           0.0121952835470438,
           0.011962233111262321,
           0.011941674165427685,
           0.012370230630040169,
           0.012776879593729973,
           0.012567128986120224,
           0.011892515234649181
          ],
          [
           0.016593605279922485,
           0.017244594171643257,
           0.01732807606458664,
           0.018212730064988136,
           0.01385091245174408,
           0.014013455249369144,
           0.013789255172014236,
           0.014362649992108345,
           0.022430038079619408,
           0.023894770070910454,
           0.022514402866363525,
           0.02363308146595955,
           0.022286809980869293,
           0.02068100869655609,
           0.018214134499430656,
           0.017115168273448944,
           0.009346192702651024,
           0.00886457972228527,
           0.009247125126421452,
           0.009093472734093666,
           0.010574772953987122,
           0.010729041881859303,
           0.010798261500895023,
           0.010263863950967789,
           0.011751952581107616,
           0.011940774507820606,
           0.01160455122590065,
           0.011798861436545849,
           0.010404510423541069,
           0.010456375777721405,
           0.010379219427704811,
           0.010323052294552326
          ],
          [
           0.018861137330532074,
           0.020638348534703255,
           0.019242847338318825,
           0.02094418555498123,
           0.023034704849123955,
           0.023716453462839127,
           0.023345928639173508,
           0.024422084912657738,
           0.021176323294639587,
           0.021648602560162544,
           0.02148352563381195,
           0.02331901341676712,
           0.026989459991455078,
           0.025152062997221947,
           0.022160854190587997,
           0.021803582087159157,
           0.014409324154257774,
           0.013427071273326874,
           0.012719381600618362,
           0.014054113067686558,
           0.01952187716960907,
           0.021004248410463333,
           0.021061113104224205,
           0.018114890903234482,
           0.020457720384001732,
           0.02218477427959442,
           0.019559169188141823,
           0.020921625196933746,
           0.02162068709731102,
           0.023570816963911057,
           0.023108702152967453,
           0.020029952749609947
          ],
          [
           0.014042796567082405,
           0.014655869454145432,
           0.014261968433856964,
           0.014246650040149689,
           0.023924995213747025,
           0.025538794696331024,
           0.024525588378310204,
           0.025638636201620102,
           0.01359166856855154,
           0.013766623102128506,
           0.01362524088472128,
           0.014001832343637943,
           0.01499785017222166,
           0.014335880056023598,
           0.013175084255635738,
           0.013390603475272655,
           0.01131158135831356,
           0.010589060373604298,
           0.0107742790132761,
           0.010997611097991467,
           0.012641125358641148,
           0.013011815026402473,
           0.012998051941394806,
           0.012187192216515541,
           0.013615353964269161,
           0.014278644695878029,
           0.013568698428571224,
           0.013876492157578468,
           0.012780006974935532,
           0.013222084380686283,
           0.013145649805665016,
           0.012293912470340729
          ],
          [
           0.01667764037847519,
           0.017380131408572197,
           0.01705799624323845,
           0.017416415736079216,
           0.01965278759598732,
           0.020262857899069786,
           0.019493738189339638,
           0.020679470151662827,
           0.015469263307750225,
           0.01512953545898199,
           0.015377291478216648,
           0.015588617883622646,
           0.016099028289318085,
           0.015576504170894623,
           0.01439803745597601,
           0.014759047888219357,
           0.01119237206876278,
           0.010640330612659454,
           0.011013724841177464,
           0.01105240173637867,
           0.01296544261276722,
           0.013261950574815273,
           0.013374453410506248,
           0.012554549612104893,
           0.013403470627963543,
           0.013767539523541927,
           0.013324609957635403,
           0.013541385531425476,
           0.012946166098117828,
           0.01276723574846983,
           0.01280263066291809,
           0.012801515869796276
          ],
          [
           0.01365028414875269,
           0.013284868560731411,
           0.014008059166371822,
           0.013460837304592133,
           0.016080351546406746,
           0.016029290854930878,
           0.016188250854611397,
           0.015956031158566475,
           0.01481665764003992,
           0.014915484935045242,
           0.014901924878358841,
           0.015282316133379936,
           0.020516976714134216,
           0.01978839933872223,
           0.01881069876253605,
           0.0179130919277668,
           0.012503954581916332,
           0.011636912822723389,
           0.012048066593706608,
           0.012162565253674984,
           0.015294245444238186,
           0.01588921807706356,
           0.015793556347489357,
           0.01471644826233387,
           0.015070123597979546,
           0.01576421596109867,
           0.014896465465426445,
           0.015345216728746891,
           0.01740390621125698,
           0.01810349151492119,
           0.01802789233624935,
           0.01662733592092991
          ],
          [
           0.01699775643646717,
           0.015723517164587975,
           0.01713497005403042,
           0.015887193381786346,
           0.014889448881149292,
           0.013679427094757557,
           0.01469555776566267,
           0.013441257178783417,
           0.017631707713007927,
           0.016958558931946754,
           0.01730598509311676,
           0.01634293422102928,
           0.010744509287178516,
           0.011363290250301361,
           0.012627050280570984,
           0.012654261663556099,
           0.01441969908773899,
           0.014126376248896122,
           0.014554625377058983,
           0.014341377653181553,
           0.013471854850649834,
           0.012963958084583282,
           0.012654630467295647,
           0.01390964724123478,
           0.019043419510126114,
           0.01786668226122856,
           0.019432969391345978,
           0.018540190532803535,
           0.013436418026685715,
           0.01218397542834282,
           0.012610755860805511,
           0.0140156839042902
          ],
          [
           0.015526804141700268,
           0.013800286687910557,
           0.015665601938962936,
           0.01423815917223692,
           0.013554967939853668,
           0.012255704030394554,
           0.013486236333847046,
           0.011966478079557419,
           0.018058406189084053,
           0.01743423007428646,
           0.017771773040294647,
           0.01703217625617981,
           0.010341872461140156,
           0.011155055835843086,
           0.012774517759680748,
           0.012494915165007114,
           0.018678532913327217,
           0.018706772476434708,
           0.019088514149188995,
           0.019187001511454582,
           0.014236243441700935,
           0.013580696657299995,
           0.013215028680860996,
           0.014995410107076168,
           0.01692407950758934,
           0.015889432281255722,
           0.016949402168393135,
           0.016608649864792824,
           0.01580621674656868,
           0.013739427551627159,
           0.014547636732459068,
           0.01734951324760914
          ],
          [
           0.015794329345226288,
           0.014287026599049568,
           0.016337821260094643,
           0.01465298980474472,
           0.01520339772105217,
           0.013746270909905434,
           0.014794641174376011,
           0.013609535060822964,
           0.016087673604488373,
           0.015640437602996826,
           0.016061311587691307,
           0.015502296388149261,
           0.017605692148208618,
           0.017654594033956528,
           0.017538247630000114,
           0.017122803255915642,
           0.016924874857068062,
           0.016216935589909554,
           0.017276937142014503,
           0.016340788453817368,
           0.01591992750763893,
           0.015497257001698017,
           0.0152357192710042,
           0.01598203554749489,
           0.014633510261774063,
           0.014286354184150696,
           0.014404600486159325,
           0.01440761424601078,
           0.018195640295743942,
           0.01771284081041813,
           0.017867691814899445,
           0.018560640513896942
          ],
          [
           0.01580483466386795,
           0.013380298390984535,
           0.015882423147559166,
           0.013808421790599823,
           0.014205063693225384,
           0.012254584580659866,
           0.013773929327726364,
           0.011911744251847267,
           0.01845858246088028,
           0.017841486260294914,
           0.01827726513147354,
           0.017386972904205322,
           0.010685487650334835,
           0.011419831775128841,
           0.013121985830366611,
           0.012981926091015339,
           0.019604509696364403,
           0.01984669826924801,
           0.02059202268719673,
           0.019805241376161575,
           0.014184113591909409,
           0.013484143652021885,
           0.012851467356085777,
           0.015190022066235542,
           0.015265262685716152,
           0.014543512836098671,
           0.01485571451485157,
           0.014835027046501637,
           0.017159353941679,
           0.015106812119483948,
           0.016102131456136703,
           0.018565375357866287
          ],
          [
           0.025316830724477768,
           0.02576586976647377,
           0.02348114363849163,
           0.02454744651913643,
           0.01811424270272255,
           0.01843489147722721,
           0.01803913339972496,
           0.018712706863880157,
           0.01851462386548519,
           0.01826382987201214,
           0.018450360745191574,
           0.01862831600010395,
           0.01659298501908779,
           0.015716349706053734,
           0.014856444671750069,
           0.01492531318217516,
           0.02300652489066124,
           0.018329570069909096,
           0.018615465611219406,
           0.02053585834801197,
           0.013911635614931583,
           0.014106560498476028,
           0.014262069016695023,
           0.013283164240419865,
           0.013505412265658379,
           0.013774056918919086,
           0.013446769677102566,
           0.013618523254990578,
           0.018453234806656837,
           0.02003382332623005,
           0.019456863403320312,
           0.017616169527173042
          ],
          [
           0.01936398446559906,
           0.01952727884054184,
           0.01936744526028633,
           0.019148485735058784,
           0.02199430949985981,
           0.02319389395415783,
           0.02152932621538639,
           0.023453814908862114,
           0.02051364630460739,
           0.020279299467802048,
           0.02040122076869011,
           0.021171236410737038,
           0.027827661484479904,
           0.025357356294989586,
           0.021442819386720657,
           0.022122185677289963,
           0.01572292484343052,
           0.014321446418762207,
           0.014545213431119919,
           0.015168992802500725,
           0.017487475648522377,
           0.01859774813055992,
           0.019372427836060524,
           0.01630384661257267,
           0.017550813034176826,
           0.018870048224925995,
           0.0174713097512722,
           0.018103623762726784,
           0.021687639877200127,
           0.023289332166314125,
           0.022747723385691643,
           0.02001200057566166
          ],
          [
           0.015724938362836838,
           0.015323204919695854,
           0.01574406586587429,
           0.015563396736979485,
           0.01567092351615429,
           0.015917327255010605,
           0.01586541347205639,
           0.016055986285209656,
           0.014091890305280685,
           0.014108770526945591,
           0.014164160005748272,
           0.014154908247292042,
           0.013714118860661983,
           0.013549602590501308,
           0.013409728184342384,
           0.013356898911297321,
           0.013458257541060448,
           0.012170040048658848,
           0.013127592392265797,
           0.012682433240115643,
           0.012664439156651497,
           0.012654927559196949,
           0.012578881345689297,
           0.012639947235584259,
           0.01415952667593956,
           0.014707081951200962,
           0.013856698758900166,
           0.014330915175378323,
           0.013257871381938457,
           0.01342976838350296,
           0.013295883312821388,
           0.013038556091487408
          ],
          [
           0.017407650128006935,
           0.01711050420999527,
           0.01711283065378666,
           0.01695232279598713,
           0.014602231793105602,
           0.014052416197955608,
           0.014256776310503483,
           0.014060859568417072,
           0.01566309481859207,
           0.015530562028288841,
           0.015545645728707314,
           0.015521424822509289,
           0.012874046340584755,
           0.012396267615258694,
           0.012022086419165134,
           0.012078152038156986,
           0.0114779407158494,
           0.010817419737577438,
           0.011277119629085064,
           0.011127800680696964,
           0.011945363134145737,
           0.011928212828934193,
           0.011966552585363388,
           0.011778880842030048,
           0.011412190273404121,
           0.011355770751833916,
           0.011228292249143124,
           0.011308180168271065,
           0.012645437382161617,
           0.012825279496610165,
           0.012782108969986439,
           0.012284811586141586
          ],
          [
           0.012930380180478096,
           0.01266216579824686,
           0.013131152838468552,
           0.012686055153608322,
           0.012768561020493507,
           0.012343059293925762,
           0.012674350291490555,
           0.012287888675928116,
           0.012338144704699516,
           0.012217747047543526,
           0.012324911542236805,
           0.012059514410793781,
           0.013109831139445305,
           0.013203103095293045,
           0.013381530530750751,
           0.013758229091763496,
           0.013819878920912743,
           0.01417810469865799,
           0.013719684444367886,
           0.013914121314883232,
           0.012955978512763977,
           0.012714478187263012,
           0.012651229277253151,
           0.013091089203953743,
           0.012532008811831474,
           0.012415815144777298,
           0.01249753125011921,
           0.012481717392802238,
           0.013244510628283024,
           0.01281773578375578,
           0.013058370910584927,
           0.013397447764873505
          ],
          [
           0.014136708341538906,
           0.01357403863221407,
           0.014398442581295967,
           0.013391395099461079,
           0.013065139763057232,
           0.012216840870678425,
           0.012699772603809834,
           0.012144996784627438,
           0.01223559770733118,
           0.012166381813585758,
           0.012238077819347382,
           0.011889084242284298,
           0.021808143705129623,
           0.021474439650774002,
           0.01931135542690754,
           0.023422835394740105,
           0.017102466896176338,
           0.017400424927473068,
           0.01761864870786667,
           0.017030546441674232,
           0.016619523987174034,
           0.015940696001052856,
           0.01551424153149128,
           0.017712021246552467,
           0.013254508376121521,
           0.01313108392059803,
           0.013068415224552155,
           0.012949815019965172,
           0.016063056886196136,
           0.01573711261153221,
           0.015764154493808746,
           0.015784312039613724
          ],
          [
           0.013109629973769188,
           0.012676644138991833,
           0.013479541055858135,
           0.01267855055630207,
           0.013692522421479225,
           0.01341280248016119,
           0.013487301766872406,
           0.013320956379175186,
           0.012691391631960869,
           0.012594342231750488,
           0.012695392593741417,
           0.012625036761164665,
           0.01827840879559517,
           0.017660006880760193,
           0.016605718061327934,
           0.018731774762272835,
           0.017464594915509224,
           0.017254486680030823,
           0.01695944368839264,
           0.0172394048422575,
           0.013975326903164387,
           0.01391014363616705,
           0.013838773593306541,
           0.014375317841768265,
           0.014181172475218773,
           0.014265818521380424,
           0.014576394110918045,
           0.01431859377771616,
           0.015307318419218063,
           0.015062865801155567,
           0.015202410519123077,
           0.015157604590058327
          ],
          [
           0.014909516088664532,
           0.014044094830751419,
           0.014981484971940517,
           0.014076857827603817,
           0.01355035975575447,
           0.012946915812790394,
           0.013452179729938507,
           0.01288683619350195,
           0.013443357311189175,
           0.013368362560868263,
           0.013477599248290062,
           0.013177384622395039,
           0.016496777534484863,
           0.016561320051550865,
           0.01647999696433544,
           0.019393065944314003,
           0.01578141376376152,
           0.014756331220269203,
           0.015835527330636978,
           0.014989105053246021,
           0.01483198069036007,
           0.014570090919733047,
           0.014390609227120876,
           0.015378906391561031,
           0.013206475414335728,
           0.013123526237905025,
           0.013152270577847958,
           0.013045914471149445,
           0.014349718578159809,
           0.013713830150663853,
           0.01395773608237505,
           0.014479821547865868
          ],
          [
           0.01757754012942314,
           0.016926538199186325,
           0.017779307439923286,
           0.016657203435897827,
           0.01766582764685154,
           0.017596416175365448,
           0.017693767324090004,
           0.01784609444439411,
           0.018734363839030266,
           0.018685610964894295,
           0.018510110676288605,
           0.018432531505823135,
           0.013578812591731548,
           0.013295869342982769,
           0.013413147069513798,
           0.013363970443606377,
           0.015537651255726814,
           0.01435687392950058,
           0.01448599249124527,
           0.014731775969266891,
           0.013641559518873692,
           0.013572894036769867,
           0.013544251210987568,
           0.013641351833939552,
           0.016165506094694138,
           0.016017979010939598,
           0.016339460387825966,
           0.016171012073755264,
           0.01498711109161377,
           0.015387211926281452,
           0.01523770671337843,
           0.014712231233716011
          ],
          [
           0.01579248532652855,
           0.014349345117807388,
           0.016305886209011078,
           0.01460602693259716,
           0.014928828924894333,
           0.013772602193057537,
           0.014579941518604755,
           0.013749045319855213,
           0.016241788864135742,
           0.01611798256635666,
           0.01611567661166191,
           0.015639644116163254,
           0.011416718363761902,
           0.0117227453738451,
           0.012457896023988724,
           0.012782879173755646,
           0.01379795279353857,
           0.013287365436553955,
           0.013539241626858711,
           0.01351870410144329,
           0.013280974701046944,
           0.012955554760992527,
           0.012782999314367771,
           0.013316684402525425,
           0.014597189612686634,
           0.014136331155896187,
           0.01446531806141138,
           0.014381587505340576,
           0.013517739251255989,
           0.013049707747995853,
           0.013144412077963352,
           0.013685769401490688
          ],
          [
           0.01676369085907936,
           0.01586780697107315,
           0.01703505404293537,
           0.015766333788633347,
           0.016304366290569305,
           0.01597880944609642,
           0.01634475402534008,
           0.016146807000041008,
           0.01688101701438427,
           0.01682092435657978,
           0.016749989241361618,
           0.01656491681933403,
           0.012715725228190422,
           0.012835965491831303,
           0.013090088963508606,
           0.013198157772421837,
           0.012989257462322712,
           0.01233831699937582,
           0.012896647676825523,
           0.012540293857455254,
           0.01314123161137104,
           0.013100079260766506,
           0.013007494620978832,
           0.013140851631760597,
           0.01440928503870964,
           0.014187882654368877,
           0.014501729980111122,
           0.014315495267510414,
           0.01382895652204752,
           0.013727647252380848,
           0.013719595968723297,
           0.013733861036598682
          ],
          [
           0.016698623076081276,
           0.016093550249934196,
           0.017085639759898186,
           0.015644533559679985,
           0.015831436961889267,
           0.01584881730377674,
           0.016078555956482887,
           0.015866611152887344,
           0.014765394851565361,
           0.01454039104282856,
           0.014629349112510681,
           0.014684030786156654,
           0.014691499061882496,
           0.014822427183389664,
           0.014700633473694324,
           0.014996076934039593,
           0.015444550663232803,
           0.013506035320460796,
           0.014399616047739983,
           0.014097440056502819,
           0.01479094848036766,
           0.014840343967080116,
           0.014731530100107193,
           0.014558396302163601,
           0.013542842119932175,
           0.013724399730563164,
           0.013410372659564018,
           0.013473900966346264,
           0.013571995310485363,
           0.012870585545897484,
           0.013082072138786316,
           0.013609803281724453
          ],
          [
           0.011677617207169533,
           0.012075814418494701,
           0.011822954751551151,
           0.011823686771094799,
           0.024632856249809265,
           0.025960082188248634,
           0.024443503469228745,
           0.02661314234137535,
           0.01468760147690773,
           0.014605216681957245,
           0.014472751878201962,
           0.015314675867557526,
           0.015229523181915283,
           0.014318669214844704,
           0.012947652488946915,
           0.012895077466964722,
           0.011982250958681107,
           0.011928126215934753,
           0.010908404365181923,
           0.012262214906513691,
           0.012896756641566753,
           0.013511489145457745,
           0.013502898626029491,
           0.012459889054298401,
           0.019602209329605103,
           0.02056792378425598,
           0.019758937880396843,
           0.020458701997995377,
           0.015008675865828991,
           0.01621374487876892,
           0.015868015587329865,
           0.01393441017717123
          ],
          [
           0.01190105453133583,
           0.012072165496647358,
           0.011941495351493359,
           0.011966760270297527,
           0.01455867663025856,
           0.014378638938069344,
           0.01443327683955431,
           0.01465254183858633,
           0.016514575108885765,
           0.016133302822709084,
           0.016121182590723038,
           0.01669885218143463,
           0.015565842390060425,
           0.01450890302658081,
           0.012926511466503143,
           0.013077430427074432,
           0.010418212041258812,
           0.010055502876639366,
           0.010166793130338192,
           0.010307416319847107,
           0.012708177790045738,
           0.013061338104307652,
           0.013372921384871006,
           0.012315575033426285,
           0.011927394196391106,
           0.012208784930408001,
           0.01190657913684845,
           0.012006070464849472,
           0.013488459400832653,
           0.014271142892539501,
           0.01397007703781128,
           0.012635109014809132
          ],
          [
           0.015575053170323372,
           0.01610870473086834,
           0.016500428318977356,
           0.017141561955213547,
           0.020042723044753075,
           0.0210734773427248,
           0.019895613193511963,
           0.021595891565084457,
           0.017095379531383514,
           0.0169380996376276,
           0.0168344397097826,
           0.018028317019343376,
           0.026387887075543404,
           0.02402813732624054,
           0.01989014446735382,
           0.019786890596151352,
           0.01018331665545702,
           0.009939233772456646,
           0.009931090287864208,
           0.010255681350827217,
           0.014559476636350155,
           0.015520571731030941,
           0.015951557084918022,
           0.013696416281163692,
           0.016319522634148598,
           0.017555871978402138,
           0.01620625890791416,
           0.016897523775696754,
           0.016065113246440887,
           0.0174180269241333,
           0.0169301126152277,
           0.014606368727982044
          ],
          [
           0.010707086883485317,
           0.010819653049111366,
           0.010874682106077671,
           0.01085309125483036,
           0.0141194062307477,
           0.014246189035475254,
           0.013881675899028778,
           0.014503625221550465,
           0.011577836237847805,
           0.011476659215986729,
           0.011481509543955326,
           0.011821974068880081,
           0.014647693373262882,
           0.013701003976166248,
           0.011827575042843819,
           0.01238375436514616,
           0.009068124927580357,
           0.008890887722373009,
           0.00917443074285984,
           0.009017115458846092,
           0.011181165464222431,
           0.011581587605178356,
           0.011694999411702156,
           0.01084702555090189,
           0.010920688509941101,
           0.011214954778552055,
           0.010887914337217808,
           0.010936136357486248,
           0.010370565578341484,
           0.010541901923716068,
           0.010473777540028095,
           0.010238941758871078
          ]
         ]
        }
       ],
       "layout": {
        "coloraxis": {
         "cmax": 0.027827661484479904,
         "cmin": 0,
         "colorscale": [
          [
           0,
           "rgb(247,251,255)"
          ],
          [
           0.125,
           "rgb(222,235,247)"
          ],
          [
           0.25,
           "rgb(198,219,239)"
          ],
          [
           0.375,
           "rgb(158,202,225)"
          ],
          [
           0.5,
           "rgb(107,174,214)"
          ],
          [
           0.625,
           "rgb(66,146,198)"
          ],
          [
           0.75,
           "rgb(33,113,181)"
          ],
          [
           0.875,
           "rgb(8,81,156)"
          ],
          [
           1,
           "rgb(8,48,107)"
          ]
         ]
        },
        "template": {
         "data": {
          "bar": [
           {
            "error_x": {
             "color": "#2a3f5f"
            },
            "error_y": {
             "color": "#2a3f5f"
            },
            "marker": {
             "line": {
              "color": "#E5ECF6",
              "width": 0.5
             },
             "pattern": {
              "fillmode": "overlay",
              "size": 10,
              "solidity": 0.2
             }
            },
            "type": "bar"
           }
          ],
          "barpolar": [
           {
            "marker": {
             "line": {
              "color": "#E5ECF6",
              "width": 0.5
             },
             "pattern": {
              "fillmode": "overlay",
              "size": 10,
              "solidity": 0.2
             }
            },
            "type": "barpolar"
           }
          ],
          "carpet": [
           {
            "aaxis": {
             "endlinecolor": "#2a3f5f",
             "gridcolor": "white",
             "linecolor": "white",
             "minorgridcolor": "white",
             "startlinecolor": "#2a3f5f"
            },
            "baxis": {
             "endlinecolor": "#2a3f5f",
             "gridcolor": "white",
             "linecolor": "white",
             "minorgridcolor": "white",
             "startlinecolor": "#2a3f5f"
            },
            "type": "carpet"
           }
          ],
          "choropleth": [
           {
            "colorbar": {
             "outlinewidth": 0,
             "ticks": ""
            },
            "type": "choropleth"
           }
          ],
          "contour": [
           {
            "colorbar": {
             "outlinewidth": 0,
             "ticks": ""
            },
            "colorscale": [
             [
              0,
              "#0d0887"
             ],
             [
              0.1111111111111111,
              "#46039f"
             ],
             [
              0.2222222222222222,
              "#7201a8"
             ],
             [
              0.3333333333333333,
              "#9c179e"
             ],
             [
              0.4444444444444444,
              "#bd3786"
             ],
             [
              0.5555555555555556,
              "#d8576b"
             ],
             [
              0.6666666666666666,
              "#ed7953"
             ],
             [
              0.7777777777777778,
              "#fb9f3a"
             ],
             [
              0.8888888888888888,
              "#fdca26"
             ],
             [
              1,
              "#f0f921"
             ]
            ],
            "type": "contour"
           }
          ],
          "contourcarpet": [
           {
            "colorbar": {
             "outlinewidth": 0,
             "ticks": ""
            },
            "type": "contourcarpet"
           }
          ],
          "heatmap": [
           {
            "colorbar": {
             "outlinewidth": 0,
             "ticks": ""
            },
            "colorscale": [
             [
              0,
              "#0d0887"
             ],
             [
              0.1111111111111111,
              "#46039f"
             ],
             [
              0.2222222222222222,
              "#7201a8"
             ],
             [
              0.3333333333333333,
              "#9c179e"
             ],
             [
              0.4444444444444444,
              "#bd3786"
             ],
             [
              0.5555555555555556,
              "#d8576b"
             ],
             [
              0.6666666666666666,
              "#ed7953"
             ],
             [
              0.7777777777777778,
              "#fb9f3a"
             ],
             [
              0.8888888888888888,
              "#fdca26"
             ],
             [
              1,
              "#f0f921"
             ]
            ],
            "type": "heatmap"
           }
          ],
          "heatmapgl": [
           {
            "colorbar": {
             "outlinewidth": 0,
             "ticks": ""
            },
            "colorscale": [
             [
              0,
              "#0d0887"
             ],
             [
              0.1111111111111111,
              "#46039f"
             ],
             [
              0.2222222222222222,
              "#7201a8"
             ],
             [
              0.3333333333333333,
              "#9c179e"
             ],
             [
              0.4444444444444444,
              "#bd3786"
             ],
             [
              0.5555555555555556,
              "#d8576b"
             ],
             [
              0.6666666666666666,
              "#ed7953"
             ],
             [
              0.7777777777777778,
              "#fb9f3a"
             ],
             [
              0.8888888888888888,
              "#fdca26"
             ],
             [
              1,
              "#f0f921"
             ]
            ],
            "type": "heatmapgl"
           }
          ],
          "histogram": [
           {
            "marker": {
             "pattern": {
              "fillmode": "overlay",
              "size": 10,
              "solidity": 0.2
             }
            },
            "type": "histogram"
           }
          ],
          "histogram2d": [
           {
            "colorbar": {
             "outlinewidth": 0,
             "ticks": ""
            },
            "colorscale": [
             [
              0,
              "#0d0887"
             ],
             [
              0.1111111111111111,
              "#46039f"
             ],
             [
              0.2222222222222222,
              "#7201a8"
             ],
             [
              0.3333333333333333,
              "#9c179e"
             ],
             [
              0.4444444444444444,
              "#bd3786"
             ],
             [
              0.5555555555555556,
              "#d8576b"
             ],
             [
              0.6666666666666666,
              "#ed7953"
             ],
             [
              0.7777777777777778,
              "#fb9f3a"
             ],
             [
              0.8888888888888888,
              "#fdca26"
             ],
             [
              1,
              "#f0f921"
             ]
            ],
            "type": "histogram2d"
           }
          ],
          "histogram2dcontour": [
           {
            "colorbar": {
             "outlinewidth": 0,
             "ticks": ""
            },
            "colorscale": [
             [
              0,
              "#0d0887"
             ],
             [
              0.1111111111111111,
              "#46039f"
             ],
             [
              0.2222222222222222,
              "#7201a8"
             ],
             [
              0.3333333333333333,
              "#9c179e"
             ],
             [
              0.4444444444444444,
              "#bd3786"
             ],
             [
              0.5555555555555556,
              "#d8576b"
             ],
             [
              0.6666666666666666,
              "#ed7953"
             ],
             [
              0.7777777777777778,
              "#fb9f3a"
             ],
             [
              0.8888888888888888,
              "#fdca26"
             ],
             [
              1,
              "#f0f921"
             ]
            ],
            "type": "histogram2dcontour"
           }
          ],
          "mesh3d": [
           {
            "colorbar": {
             "outlinewidth": 0,
             "ticks": ""
            },
            "type": "mesh3d"
           }
          ],
          "parcoords": [
           {
            "line": {
             "colorbar": {
              "outlinewidth": 0,
              "ticks": ""
             }
            },
            "type": "parcoords"
           }
          ],
          "pie": [
           {
            "automargin": true,
            "type": "pie"
           }
          ],
          "scatter": [
           {
            "fillpattern": {
             "fillmode": "overlay",
             "size": 10,
             "solidity": 0.2
            },
            "type": "scatter"
           }
          ],
          "scatter3d": [
           {
            "line": {
             "colorbar": {
              "outlinewidth": 0,
              "ticks": ""
             }
            },
            "marker": {
             "colorbar": {
              "outlinewidth": 0,
              "ticks": ""
             }
            },
            "type": "scatter3d"
           }
          ],
          "scattercarpet": [
           {
            "marker": {
             "colorbar": {
              "outlinewidth": 0,
              "ticks": ""
             }
            },
            "type": "scattercarpet"
           }
          ],
          "scattergeo": [
           {
            "marker": {
             "colorbar": {
              "outlinewidth": 0,
              "ticks": ""
             }
            },
            "type": "scattergeo"
           }
          ],
          "scattergl": [
           {
            "marker": {
             "colorbar": {
              "outlinewidth": 0,
              "ticks": ""
             }
            },
            "type": "scattergl"
           }
          ],
          "scattermapbox": [
           {
            "marker": {
             "colorbar": {
              "outlinewidth": 0,
              "ticks": ""
             }
            },
            "type": "scattermapbox"
           }
          ],
          "scatterpolar": [
           {
            "marker": {
             "colorbar": {
              "outlinewidth": 0,
              "ticks": ""
             }
            },
            "type": "scatterpolar"
           }
          ],
          "scatterpolargl": [
           {
            "marker": {
             "colorbar": {
              "outlinewidth": 0,
              "ticks": ""
             }
            },
            "type": "scatterpolargl"
           }
          ],
          "scatterternary": [
           {
            "marker": {
             "colorbar": {
              "outlinewidth": 0,
              "ticks": ""
             }
            },
            "type": "scatterternary"
           }
          ],
          "surface": [
           {
            "colorbar": {
             "outlinewidth": 0,
             "ticks": ""
            },
            "colorscale": [
             [
              0,
              "#0d0887"
             ],
             [
              0.1111111111111111,
              "#46039f"
             ],
             [
              0.2222222222222222,
              "#7201a8"
             ],
             [
              0.3333333333333333,
              "#9c179e"
             ],
             [
              0.4444444444444444,
              "#bd3786"
             ],
             [
              0.5555555555555556,
              "#d8576b"
             ],
             [
              0.6666666666666666,
              "#ed7953"
             ],
             [
              0.7777777777777778,
              "#fb9f3a"
             ],
             [
              0.8888888888888888,
              "#fdca26"
             ],
             [
              1,
              "#f0f921"
             ]
            ],
            "type": "surface"
           }
          ],
          "table": [
           {
            "cells": {
             "fill": {
              "color": "#EBF0F8"
             },
             "line": {
              "color": "white"
             }
            },
            "header": {
             "fill": {
              "color": "#C8D4E3"
             },
             "line": {
              "color": "white"
             }
            },
            "type": "table"
           }
          ]
         },
         "layout": {
          "annotationdefaults": {
           "arrowcolor": "#2a3f5f",
           "arrowhead": 0,
           "arrowwidth": 1
          },
          "autotypenumbers": "strict",
          "coloraxis": {
           "colorbar": {
            "outlinewidth": 0,
            "ticks": ""
           }
          },
          "colorscale": {
           "diverging": [
            [
             0,
             "#8e0152"
            ],
            [
             0.1,
             "#c51b7d"
            ],
            [
             0.2,
             "#de77ae"
            ],
            [
             0.3,
             "#f1b6da"
            ],
            [
             0.4,
             "#fde0ef"
            ],
            [
             0.5,
             "#f7f7f7"
            ],
            [
             0.6,
             "#e6f5d0"
            ],
            [
             0.7,
             "#b8e186"
            ],
            [
             0.8,
             "#7fbc41"
            ],
            [
             0.9,
             "#4d9221"
            ],
            [
             1,
             "#276419"
            ]
           ],
           "sequential": [
            [
             0,
             "#0d0887"
            ],
            [
             0.1111111111111111,
             "#46039f"
            ],
            [
             0.2222222222222222,
             "#7201a8"
            ],
            [
             0.3333333333333333,
             "#9c179e"
            ],
            [
             0.4444444444444444,
             "#bd3786"
            ],
            [
             0.5555555555555556,
             "#d8576b"
            ],
            [
             0.6666666666666666,
             "#ed7953"
            ],
            [
             0.7777777777777778,
             "#fb9f3a"
            ],
            [
             0.8888888888888888,
             "#fdca26"
            ],
            [
             1,
             "#f0f921"
            ]
           ],
           "sequentialminus": [
            [
             0,
             "#0d0887"
            ],
            [
             0.1111111111111111,
             "#46039f"
            ],
            [
             0.2222222222222222,
             "#7201a8"
            ],
            [
             0.3333333333333333,
             "#9c179e"
            ],
            [
             0.4444444444444444,
             "#bd3786"
            ],
            [
             0.5555555555555556,
             "#d8576b"
            ],
            [
             0.6666666666666666,
             "#ed7953"
            ],
            [
             0.7777777777777778,
             "#fb9f3a"
            ],
            [
             0.8888888888888888,
             "#fdca26"
            ],
            [
             1,
             "#f0f921"
            ]
           ]
          },
          "colorway": [
           "#636efa",
           "#EF553B",
           "#00cc96",
           "#ab63fa",
           "#FFA15A",
           "#19d3f3",
           "#FF6692",
           "#B6E880",
           "#FF97FF",
           "#FECB52"
          ],
          "font": {
           "color": "#2a3f5f"
          },
          "geo": {
           "bgcolor": "white",
           "lakecolor": "white",
           "landcolor": "#E5ECF6",
           "showlakes": true,
           "showland": true,
           "subunitcolor": "white"
          },
          "hoverlabel": {
           "align": "left"
          },
          "hovermode": "closest",
          "mapbox": {
           "style": "light"
          },
          "paper_bgcolor": "white",
          "plot_bgcolor": "#E5ECF6",
          "polar": {
           "angularaxis": {
            "gridcolor": "white",
            "linecolor": "white",
            "ticks": ""
           },
           "bgcolor": "#E5ECF6",
           "radialaxis": {
            "gridcolor": "white",
            "linecolor": "white",
            "ticks": ""
           }
          },
          "scene": {
           "xaxis": {
            "backgroundcolor": "#E5ECF6",
            "gridcolor": "white",
            "gridwidth": 2,
            "linecolor": "white",
            "showbackground": true,
            "ticks": "",
            "zerolinecolor": "white"
           },
           "yaxis": {
            "backgroundcolor": "#E5ECF6",
            "gridcolor": "white",
            "gridwidth": 2,
            "linecolor": "white",
            "showbackground": true,
            "ticks": "",
            "zerolinecolor": "white"
           },
           "zaxis": {
            "backgroundcolor": "#E5ECF6",
            "gridcolor": "white",
            "gridwidth": 2,
            "linecolor": "white",
            "showbackground": true,
            "ticks": "",
            "zerolinecolor": "white"
           }
          },
          "shapedefaults": {
           "line": {
            "color": "#2a3f5f"
           }
          },
          "ternary": {
           "aaxis": {
            "gridcolor": "white",
            "linecolor": "white",
            "ticks": ""
           },
           "baxis": {
            "gridcolor": "white",
            "linecolor": "white",
            "ticks": ""
           },
           "bgcolor": "#E5ECF6",
           "caxis": {
            "gridcolor": "white",
            "linecolor": "white",
            "ticks": ""
           }
          },
          "title": {
           "x": 0.05
          },
          "xaxis": {
           "automargin": true,
           "gridcolor": "white",
           "linecolor": "white",
           "ticks": "",
           "title": {
            "standoff": 15
           },
           "zerolinecolor": "white",
           "zerolinewidth": 2
          },
          "yaxis": {
           "automargin": true,
           "gridcolor": "white",
           "linecolor": "white",
           "ticks": "",
           "title": {
            "standoff": 15
           },
           "zerolinecolor": "white",
           "zerolinewidth": 2
          }
         }
        },
        "title": {
         "text": "K Composition Scores"
        },
        "xaxis": {
         "anchor": "y",
         "constrain": "domain",
         "domain": [
          0,
          1
         ],
         "scaleanchor": "y",
         "title": {
          "text": "Layer 1"
         }
        },
        "yaxis": {
         "anchor": "x",
         "autorange": "reversed",
         "constrain": "domain",
         "domain": [
          0,
          1
         ],
         "title": {
          "text": "Layer 0"
         }
        }
       }
      },
      "text/html": [
       "<div>                            <div id=\"1e1e2221-523f-4e6f-a285-95ff7ef426b7\" class=\"plotly-graph-div\" style=\"height:525px; width:100%;\"></div>            <script type=\"text/javascript\">                require([\"plotly\"], function(Plotly) {                    window.PLOTLYENV=window.PLOTLYENV || {};                                    if (document.getElementById(\"1e1e2221-523f-4e6f-a285-95ff7ef426b7\")) {                    Plotly.newPlot(                        \"1e1e2221-523f-4e6f-a285-95ff7ef426b7\",                        [{\"coloraxis\":\"coloraxis\",\"name\":\"0\",\"x\":[\"L16H0\",\"L16H1\",\"L16H2\",\"L16H3\",\"L16H4\",\"L16H5\",\"L16H6\",\"L16H7\",\"L16H8\",\"L16H9\",\"L16H10\",\"L16H11\",\"L16H12\",\"L16H13\",\"L16H14\",\"L16H15\",\"L16H16\",\"L16H17\",\"L16H18\",\"L16H19\",\"L16H20\",\"L16H21\",\"L16H22\",\"L16H23\",\"L16H24\",\"L16H25\",\"L16H26\",\"L16H27\",\"L16H28\",\"L16H29\",\"L16H30\",\"L16H31\"],\"y\":[\"L15H0\",\"L15H1\",\"L15H2\",\"L15H3\",\"L15H4\",\"L15H5\",\"L15H6\",\"L15H7\",\"L15H8\",\"L15H9\",\"L15H10\",\"L15H11\",\"L15H12\",\"L15H13\",\"L15H14\",\"L15H15\",\"L15H16\",\"L15H17\",\"L15H18\",\"L15H19\",\"L15H20\",\"L15H21\",\"L15H22\",\"L15H23\",\"L15H24\",\"L15H25\",\"L15H26\",\"L15H27\",\"L15H28\",\"L15H29\",\"L15H30\",\"L15H31\"],\"z\":[[0.0094054089859128,0.009342077188193798,0.009534471668303013,0.009312995709478855,0.01268851850181818,0.012561587616801262,0.012493236921727657,0.012780060060322285,0.010686133988201618,0.010637117549777031,0.010583912022411823,0.010826487094163895,0.01260850578546524,0.012055742554366589,0.011200864799320698,0.011254372075200081,0.009181839413940907,0.009070117957890034,0.009389420971274376,0.009169867262244225,0.010718381963670254,0.010814131237566471,0.010792129673063755,0.010763654485344887,0.011145541444420815,0.011204540729522705,0.011071973480284214,0.011085230857133865,0.0102446423843503,0.010418441146612167,0.010326315648853779,0.009958241134881973],[0.008759050630033016,0.008627887815237045,0.008956567384302616,0.008538462221622467,0.011035422794520855,0.010706305503845215,0.010798901319503784,0.010817283764481544,0.009737594984471798,0.00973083358258009,0.009714682586491108,0.009938680566847324,0.008720469661056995,0.008597549051046371,0.008505983278155327,0.0086772870272398,0.00814759824424982,0.007982664741575718,0.00846440065652132,0.008051466196775436,0.009015364572405815,0.008985968306660652,0.008947215043008327,0.0090619632974267,0.009714528918266296,0.009610156528651714,0.009929558262228966,0.009610648266971111,0.008293642662465572,0.008121837861835957,0.008156538009643555,0.008271160535514355],[0.008101023733615875,0.007855904288589954,0.008282317779958248,0.007799915038049221,0.011320878751575947,0.011205172166228294,0.011078037321567535,0.011382999829947948,0.009060324169695377,0.009063617326319218,0.0090364133939147,0.009277801029384136,0.009803916327655315,0.009478232823312283,0.00885858852416277,0.009043465368449688,0.007287649437785149,0.007124974858015776,0.007736859377473593,0.007195721846073866,0.008728661574423313,0.00877570640295744,0.008744126185774803,0.008772904053330421,0.009196962229907513,0.009235354140400887,0.009325573220849037,0.009169126860797405,0.008100013248622417,0.008046754635870457,0.008054966107010841,0.008007648400962353],[0.01089816726744175,0.011087487451732159,0.01100176852196455,0.010957200080156326,0.01202924083918333,0.01200402807444334,0.011834350414574146,0.01201667357236147,0.010688257403671741,0.010675033554434776,0.010667267255485058,0.010713496245443821,0.010225079022347927,0.010162152349948883,0.010203523561358452,0.010305474512279034,0.010298074223101139,0.010048044845461845,0.010448994114995003,0.010194404982030392,0.010503596626222134,0.01032793615013361,0.010260837152600288,0.010578740388154984,0.010933528654277325,0.010955607518553734,0.010913537815213203,0.010911841876804829,0.009803049266338348,0.009605822153389454,0.009667367674410343,0.00986819714307785],[0.011397515423595905,0.011334865354001522,0.011820130050182343,0.011343684047460556,0.0138748399913311,0.013406402431428432,0.013341949321329594,0.013419833034276962,0.012833777815103531,0.012626633048057556,0.012753195129334927,0.012765883468091488,0.01167297177016735,0.011569005437195301,0.01135929487645626,0.011431693099439144,0.0109654376283288,0.010817445814609528,0.011312827467918396,0.010901118628680706,0.011130106635391712,0.010922649875283241,0.0108724944293499,0.011177082546055317,0.017255807295441628,0.01717907190322876,0.0194072388112545,0.017343685030937195,0.010941974818706512,0.010630597360432148,0.010671638883650303,0.011126392520964146],[0.015248803421854973,0.01550395879894495,0.01564083993434906,0.016077235341072083,0.016833936795592308,0.017361914739012718,0.016696294769644737,0.01781855709850788,0.017911812290549278,0.018589690327644348,0.017876485362648964,0.01905559003353119,0.020182013511657715,0.01983170211315155,0.018184764310717583,0.01740115135908127,0.011824498884379864,0.012425407767295837,0.01151735708117485,0.011970995925366879,0.012190356850624084,0.012366910465061665,0.012431873939931393,0.011760395020246506,0.014305147342383862,0.014465756714344025,0.01467947568744421,0.01442140992730856,0.012649976648390293,0.013118747621774673,0.01290308777242899,0.012260882183909416],[0.01694849692285061,0.01762385107576847,0.01783793419599533,0.018855515867471695,0.012601380236446857,0.012427112087607384,0.012451467104256153,0.012520406395196915,0.02091076970100403,0.021795252338051796,0.020952939987182617,0.02107376419007778,0.01658078096807003,0.01577632687985897,0.014376819133758545,0.014081531204283237,0.01036981400102377,0.010031558573246002,0.01046182494610548,0.01016542874276638,0.011751056648790836,0.011985735967755318,0.012144841253757477,0.011303523555397987,0.01189605612307787,0.0121952835470438,0.011962233111262321,0.011941674165427685,0.012370230630040169,0.012776879593729973,0.012567128986120224,0.011892515234649181],[0.016593605279922485,0.017244594171643257,0.01732807606458664,0.018212730064988136,0.01385091245174408,0.014013455249369144,0.013789255172014236,0.014362649992108345,0.022430038079619408,0.023894770070910454,0.022514402866363525,0.02363308146595955,0.022286809980869293,0.02068100869655609,0.018214134499430656,0.017115168273448944,0.009346192702651024,0.00886457972228527,0.009247125126421452,0.009093472734093666,0.010574772953987122,0.010729041881859303,0.010798261500895023,0.010263863950967789,0.011751952581107616,0.011940774507820606,0.01160455122590065,0.011798861436545849,0.010404510423541069,0.010456375777721405,0.010379219427704811,0.010323052294552326],[0.018861137330532074,0.020638348534703255,0.019242847338318825,0.02094418555498123,0.023034704849123955,0.023716453462839127,0.023345928639173508,0.024422084912657738,0.021176323294639587,0.021648602560162544,0.02148352563381195,0.02331901341676712,0.026989459991455078,0.025152062997221947,0.022160854190587997,0.021803582087159157,0.014409324154257774,0.013427071273326874,0.012719381600618362,0.014054113067686558,0.01952187716960907,0.021004248410463333,0.021061113104224205,0.018114890903234482,0.020457720384001732,0.02218477427959442,0.019559169188141823,0.020921625196933746,0.02162068709731102,0.023570816963911057,0.023108702152967453,0.020029952749609947],[0.014042796567082405,0.014655869454145432,0.014261968433856964,0.014246650040149689,0.023924995213747025,0.025538794696331024,0.024525588378310204,0.025638636201620102,0.01359166856855154,0.013766623102128506,0.01362524088472128,0.014001832343637943,0.01499785017222166,0.014335880056023598,0.013175084255635738,0.013390603475272655,0.01131158135831356,0.010589060373604298,0.0107742790132761,0.010997611097991467,0.012641125358641148,0.013011815026402473,0.012998051941394806,0.012187192216515541,0.013615353964269161,0.014278644695878029,0.013568698428571224,0.013876492157578468,0.012780006974935532,0.013222084380686283,0.013145649805665016,0.012293912470340729],[0.01667764037847519,0.017380131408572197,0.01705799624323845,0.017416415736079216,0.01965278759598732,0.020262857899069786,0.019493738189339638,0.020679470151662827,0.015469263307750225,0.01512953545898199,0.015377291478216648,0.015588617883622646,0.016099028289318085,0.015576504170894623,0.01439803745597601,0.014759047888219357,0.01119237206876278,0.010640330612659454,0.011013724841177464,0.01105240173637867,0.01296544261276722,0.013261950574815273,0.013374453410506248,0.012554549612104893,0.013403470627963543,0.013767539523541927,0.013324609957635403,0.013541385531425476,0.012946166098117828,0.01276723574846983,0.01280263066291809,0.012801515869796276],[0.01365028414875269,0.013284868560731411,0.014008059166371822,0.013460837304592133,0.016080351546406746,0.016029290854930878,0.016188250854611397,0.015956031158566475,0.01481665764003992,0.014915484935045242,0.014901924878358841,0.015282316133379936,0.020516976714134216,0.01978839933872223,0.01881069876253605,0.0179130919277668,0.012503954581916332,0.011636912822723389,0.012048066593706608,0.012162565253674984,0.015294245444238186,0.01588921807706356,0.015793556347489357,0.01471644826233387,0.015070123597979546,0.01576421596109867,0.014896465465426445,0.015345216728746891,0.01740390621125698,0.01810349151492119,0.01802789233624935,0.01662733592092991],[0.01699775643646717,0.015723517164587975,0.01713497005403042,0.015887193381786346,0.014889448881149292,0.013679427094757557,0.01469555776566267,0.013441257178783417,0.017631707713007927,0.016958558931946754,0.01730598509311676,0.01634293422102928,0.010744509287178516,0.011363290250301361,0.012627050280570984,0.012654261663556099,0.01441969908773899,0.014126376248896122,0.014554625377058983,0.014341377653181553,0.013471854850649834,0.012963958084583282,0.012654630467295647,0.01390964724123478,0.019043419510126114,0.01786668226122856,0.019432969391345978,0.018540190532803535,0.013436418026685715,0.01218397542834282,0.012610755860805511,0.0140156839042902],[0.015526804141700268,0.013800286687910557,0.015665601938962936,0.01423815917223692,0.013554967939853668,0.012255704030394554,0.013486236333847046,0.011966478079557419,0.018058406189084053,0.01743423007428646,0.017771773040294647,0.01703217625617981,0.010341872461140156,0.011155055835843086,0.012774517759680748,0.012494915165007114,0.018678532913327217,0.018706772476434708,0.019088514149188995,0.019187001511454582,0.014236243441700935,0.013580696657299995,0.013215028680860996,0.014995410107076168,0.01692407950758934,0.015889432281255722,0.016949402168393135,0.016608649864792824,0.01580621674656868,0.013739427551627159,0.014547636732459068,0.01734951324760914],[0.015794329345226288,0.014287026599049568,0.016337821260094643,0.01465298980474472,0.01520339772105217,0.013746270909905434,0.014794641174376011,0.013609535060822964,0.016087673604488373,0.015640437602996826,0.016061311587691307,0.015502296388149261,0.017605692148208618,0.017654594033956528,0.017538247630000114,0.017122803255915642,0.016924874857068062,0.016216935589909554,0.017276937142014503,0.016340788453817368,0.01591992750763893,0.015497257001698017,0.0152357192710042,0.01598203554749489,0.014633510261774063,0.014286354184150696,0.014404600486159325,0.01440761424601078,0.018195640295743942,0.01771284081041813,0.017867691814899445,0.018560640513896942],[0.01580483466386795,0.013380298390984535,0.015882423147559166,0.013808421790599823,0.014205063693225384,0.012254584580659866,0.013773929327726364,0.011911744251847267,0.01845858246088028,0.017841486260294914,0.01827726513147354,0.017386972904205322,0.010685487650334835,0.011419831775128841,0.013121985830366611,0.012981926091015339,0.019604509696364403,0.01984669826924801,0.02059202268719673,0.019805241376161575,0.014184113591909409,0.013484143652021885,0.012851467356085777,0.015190022066235542,0.015265262685716152,0.014543512836098671,0.01485571451485157,0.014835027046501637,0.017159353941679,0.015106812119483948,0.016102131456136703,0.018565375357866287],[0.025316830724477768,0.02576586976647377,0.02348114363849163,0.02454744651913643,0.01811424270272255,0.01843489147722721,0.01803913339972496,0.018712706863880157,0.01851462386548519,0.01826382987201214,0.018450360745191574,0.01862831600010395,0.01659298501908779,0.015716349706053734,0.014856444671750069,0.01492531318217516,0.02300652489066124,0.018329570069909096,0.018615465611219406,0.02053585834801197,0.013911635614931583,0.014106560498476028,0.014262069016695023,0.013283164240419865,0.013505412265658379,0.013774056918919086,0.013446769677102566,0.013618523254990578,0.018453234806656837,0.02003382332623005,0.019456863403320312,0.017616169527173042],[0.01936398446559906,0.01952727884054184,0.01936744526028633,0.019148485735058784,0.02199430949985981,0.02319389395415783,0.02152932621538639,0.023453814908862114,0.02051364630460739,0.020279299467802048,0.02040122076869011,0.021171236410737038,0.027827661484479904,0.025357356294989586,0.021442819386720657,0.022122185677289963,0.01572292484343052,0.014321446418762207,0.014545213431119919,0.015168992802500725,0.017487475648522377,0.01859774813055992,0.019372427836060524,0.01630384661257267,0.017550813034176826,0.018870048224925995,0.0174713097512722,0.018103623762726784,0.021687639877200127,0.023289332166314125,0.022747723385691643,0.02001200057566166],[0.015724938362836838,0.015323204919695854,0.01574406586587429,0.015563396736979485,0.01567092351615429,0.015917327255010605,0.01586541347205639,0.016055986285209656,0.014091890305280685,0.014108770526945591,0.014164160005748272,0.014154908247292042,0.013714118860661983,0.013549602590501308,0.013409728184342384,0.013356898911297321,0.013458257541060448,0.012170040048658848,0.013127592392265797,0.012682433240115643,0.012664439156651497,0.012654927559196949,0.012578881345689297,0.012639947235584259,0.01415952667593956,0.014707081951200962,0.013856698758900166,0.014330915175378323,0.013257871381938457,0.01342976838350296,0.013295883312821388,0.013038556091487408],[0.017407650128006935,0.01711050420999527,0.01711283065378666,0.01695232279598713,0.014602231793105602,0.014052416197955608,0.014256776310503483,0.014060859568417072,0.01566309481859207,0.015530562028288841,0.015545645728707314,0.015521424822509289,0.012874046340584755,0.012396267615258694,0.012022086419165134,0.012078152038156986,0.0114779407158494,0.010817419737577438,0.011277119629085064,0.011127800680696964,0.011945363134145737,0.011928212828934193,0.011966552585363388,0.011778880842030048,0.011412190273404121,0.011355770751833916,0.011228292249143124,0.011308180168271065,0.012645437382161617,0.012825279496610165,0.012782108969986439,0.012284811586141586],[0.012930380180478096,0.01266216579824686,0.013131152838468552,0.012686055153608322,0.012768561020493507,0.012343059293925762,0.012674350291490555,0.012287888675928116,0.012338144704699516,0.012217747047543526,0.012324911542236805,0.012059514410793781,0.013109831139445305,0.013203103095293045,0.013381530530750751,0.013758229091763496,0.013819878920912743,0.01417810469865799,0.013719684444367886,0.013914121314883232,0.012955978512763977,0.012714478187263012,0.012651229277253151,0.013091089203953743,0.012532008811831474,0.012415815144777298,0.01249753125011921,0.012481717392802238,0.013244510628283024,0.01281773578375578,0.013058370910584927,0.013397447764873505],[0.014136708341538906,0.01357403863221407,0.014398442581295967,0.013391395099461079,0.013065139763057232,0.012216840870678425,0.012699772603809834,0.012144996784627438,0.01223559770733118,0.012166381813585758,0.012238077819347382,0.011889084242284298,0.021808143705129623,0.021474439650774002,0.01931135542690754,0.023422835394740105,0.017102466896176338,0.017400424927473068,0.01761864870786667,0.017030546441674232,0.016619523987174034,0.015940696001052856,0.01551424153149128,0.017712021246552467,0.013254508376121521,0.01313108392059803,0.013068415224552155,0.012949815019965172,0.016063056886196136,0.01573711261153221,0.015764154493808746,0.015784312039613724],[0.013109629973769188,0.012676644138991833,0.013479541055858135,0.01267855055630207,0.013692522421479225,0.01341280248016119,0.013487301766872406,0.013320956379175186,0.012691391631960869,0.012594342231750488,0.012695392593741417,0.012625036761164665,0.01827840879559517,0.017660006880760193,0.016605718061327934,0.018731774762272835,0.017464594915509224,0.017254486680030823,0.01695944368839264,0.0172394048422575,0.013975326903164387,0.01391014363616705,0.013838773593306541,0.014375317841768265,0.014181172475218773,0.014265818521380424,0.014576394110918045,0.01431859377771616,0.015307318419218063,0.015062865801155567,0.015202410519123077,0.015157604590058327],[0.014909516088664532,0.014044094830751419,0.014981484971940517,0.014076857827603817,0.01355035975575447,0.012946915812790394,0.013452179729938507,0.01288683619350195,0.013443357311189175,0.013368362560868263,0.013477599248290062,0.013177384622395039,0.016496777534484863,0.016561320051550865,0.01647999696433544,0.019393065944314003,0.01578141376376152,0.014756331220269203,0.015835527330636978,0.014989105053246021,0.01483198069036007,0.014570090919733047,0.014390609227120876,0.015378906391561031,0.013206475414335728,0.013123526237905025,0.013152270577847958,0.013045914471149445,0.014349718578159809,0.013713830150663853,0.01395773608237505,0.014479821547865868],[0.01757754012942314,0.016926538199186325,0.017779307439923286,0.016657203435897827,0.01766582764685154,0.017596416175365448,0.017693767324090004,0.01784609444439411,0.018734363839030266,0.018685610964894295,0.018510110676288605,0.018432531505823135,0.013578812591731548,0.013295869342982769,0.013413147069513798,0.013363970443606377,0.015537651255726814,0.01435687392950058,0.01448599249124527,0.014731775969266891,0.013641559518873692,0.013572894036769867,0.013544251210987568,0.013641351833939552,0.016165506094694138,0.016017979010939598,0.016339460387825966,0.016171012073755264,0.01498711109161377,0.015387211926281452,0.01523770671337843,0.014712231233716011],[0.01579248532652855,0.014349345117807388,0.016305886209011078,0.01460602693259716,0.014928828924894333,0.013772602193057537,0.014579941518604755,0.013749045319855213,0.016241788864135742,0.01611798256635666,0.01611567661166191,0.015639644116163254,0.011416718363761902,0.0117227453738451,0.012457896023988724,0.012782879173755646,0.01379795279353857,0.013287365436553955,0.013539241626858711,0.01351870410144329,0.013280974701046944,0.012955554760992527,0.012782999314367771,0.013316684402525425,0.014597189612686634,0.014136331155896187,0.01446531806141138,0.014381587505340576,0.013517739251255989,0.013049707747995853,0.013144412077963352,0.013685769401490688],[0.01676369085907936,0.01586780697107315,0.01703505404293537,0.015766333788633347,0.016304366290569305,0.01597880944609642,0.01634475402534008,0.016146807000041008,0.01688101701438427,0.01682092435657978,0.016749989241361618,0.01656491681933403,0.012715725228190422,0.012835965491831303,0.013090088963508606,0.013198157772421837,0.012989257462322712,0.01233831699937582,0.012896647676825523,0.012540293857455254,0.01314123161137104,0.013100079260766506,0.013007494620978832,0.013140851631760597,0.01440928503870964,0.014187882654368877,0.014501729980111122,0.014315495267510414,0.01382895652204752,0.013727647252380848,0.013719595968723297,0.013733861036598682],[0.016698623076081276,0.016093550249934196,0.017085639759898186,0.015644533559679985,0.015831436961889267,0.01584881730377674,0.016078555956482887,0.015866611152887344,0.014765394851565361,0.01454039104282856,0.014629349112510681,0.014684030786156654,0.014691499061882496,0.014822427183389664,0.014700633473694324,0.014996076934039593,0.015444550663232803,0.013506035320460796,0.014399616047739983,0.014097440056502819,0.01479094848036766,0.014840343967080116,0.014731530100107193,0.014558396302163601,0.013542842119932175,0.013724399730563164,0.013410372659564018,0.013473900966346264,0.013571995310485363,0.012870585545897484,0.013082072138786316,0.013609803281724453],[0.011677617207169533,0.012075814418494701,0.011822954751551151,0.011823686771094799,0.024632856249809265,0.025960082188248634,0.024443503469228745,0.02661314234137535,0.01468760147690773,0.014605216681957245,0.014472751878201962,0.015314675867557526,0.015229523181915283,0.014318669214844704,0.012947652488946915,0.012895077466964722,0.011982250958681107,0.011928126215934753,0.010908404365181923,0.012262214906513691,0.012896756641566753,0.013511489145457745,0.013502898626029491,0.012459889054298401,0.019602209329605103,0.02056792378425598,0.019758937880396843,0.020458701997995377,0.015008675865828991,0.01621374487876892,0.015868015587329865,0.01393441017717123],[0.01190105453133583,0.012072165496647358,0.011941495351493359,0.011966760270297527,0.01455867663025856,0.014378638938069344,0.01443327683955431,0.01465254183858633,0.016514575108885765,0.016133302822709084,0.016121182590723038,0.01669885218143463,0.015565842390060425,0.01450890302658081,0.012926511466503143,0.013077430427074432,0.010418212041258812,0.010055502876639366,0.010166793130338192,0.010307416319847107,0.012708177790045738,0.013061338104307652,0.013372921384871006,0.012315575033426285,0.011927394196391106,0.012208784930408001,0.01190657913684845,0.012006070464849472,0.013488459400832653,0.014271142892539501,0.01397007703781128,0.012635109014809132],[0.015575053170323372,0.01610870473086834,0.016500428318977356,0.017141561955213547,0.020042723044753075,0.0210734773427248,0.019895613193511963,0.021595891565084457,0.017095379531383514,0.0169380996376276,0.0168344397097826,0.018028317019343376,0.026387887075543404,0.02402813732624054,0.01989014446735382,0.019786890596151352,0.01018331665545702,0.009939233772456646,0.009931090287864208,0.010255681350827217,0.014559476636350155,0.015520571731030941,0.015951557084918022,0.013696416281163692,0.016319522634148598,0.017555871978402138,0.01620625890791416,0.016897523775696754,0.016065113246440887,0.0174180269241333,0.0169301126152277,0.014606368727982044],[0.010707086883485317,0.010819653049111366,0.010874682106077671,0.01085309125483036,0.0141194062307477,0.014246189035475254,0.013881675899028778,0.014503625221550465,0.011577836237847805,0.011476659215986729,0.011481509543955326,0.011821974068880081,0.014647693373262882,0.013701003976166248,0.011827575042843819,0.01238375436514616,0.009068124927580357,0.008890887722373009,0.00917443074285984,0.009017115458846092,0.011181165464222431,0.011581587605178356,0.011694999411702156,0.01084702555090189,0.010920688509941101,0.011214954778552055,0.010887914337217808,0.010936136357486248,0.010370565578341484,0.010541901923716068,0.010473777540028095,0.010238941758871078]],\"type\":\"heatmap\",\"xaxis\":\"x\",\"yaxis\":\"y\",\"hovertemplate\":\"Layer 1: %{x}\\u003cbr\\u003eLayer 0: %{y}\\u003cbr\\u003ecolor: %{z}\\u003cextra\\u003e\\u003c\\u002fextra\\u003e\"}],                        {\"template\":{\"data\":{\"histogram2dcontour\":[{\"type\":\"histogram2dcontour\",\"colorbar\":{\"outlinewidth\":0,\"ticks\":\"\"},\"colorscale\":[[0.0,\"#0d0887\"],[0.1111111111111111,\"#46039f\"],[0.2222222222222222,\"#7201a8\"],[0.3333333333333333,\"#9c179e\"],[0.4444444444444444,\"#bd3786\"],[0.5555555555555556,\"#d8576b\"],[0.6666666666666666,\"#ed7953\"],[0.7777777777777778,\"#fb9f3a\"],[0.8888888888888888,\"#fdca26\"],[1.0,\"#f0f921\"]]}],\"choropleth\":[{\"type\":\"choropleth\",\"colorbar\":{\"outlinewidth\":0,\"ticks\":\"\"}}],\"histogram2d\":[{\"type\":\"histogram2d\",\"colorbar\":{\"outlinewidth\":0,\"ticks\":\"\"},\"colorscale\":[[0.0,\"#0d0887\"],[0.1111111111111111,\"#46039f\"],[0.2222222222222222,\"#7201a8\"],[0.3333333333333333,\"#9c179e\"],[0.4444444444444444,\"#bd3786\"],[0.5555555555555556,\"#d8576b\"],[0.6666666666666666,\"#ed7953\"],[0.7777777777777778,\"#fb9f3a\"],[0.8888888888888888,\"#fdca26\"],[1.0,\"#f0f921\"]]}],\"heatmap\":[{\"type\":\"heatmap\",\"colorbar\":{\"outlinewidth\":0,\"ticks\":\"\"},\"colorscale\":[[0.0,\"#0d0887\"],[0.1111111111111111,\"#46039f\"],[0.2222222222222222,\"#7201a8\"],[0.3333333333333333,\"#9c179e\"],[0.4444444444444444,\"#bd3786\"],[0.5555555555555556,\"#d8576b\"],[0.6666666666666666,\"#ed7953\"],[0.7777777777777778,\"#fb9f3a\"],[0.8888888888888888,\"#fdca26\"],[1.0,\"#f0f921\"]]}],\"heatmapgl\":[{\"type\":\"heatmapgl\",\"colorbar\":{\"outlinewidth\":0,\"ticks\":\"\"},\"colorscale\":[[0.0,\"#0d0887\"],[0.1111111111111111,\"#46039f\"],[0.2222222222222222,\"#7201a8\"],[0.3333333333333333,\"#9c179e\"],[0.4444444444444444,\"#bd3786\"],[0.5555555555555556,\"#d8576b\"],[0.6666666666666666,\"#ed7953\"],[0.7777777777777778,\"#fb9f3a\"],[0.8888888888888888,\"#fdca26\"],[1.0,\"#f0f921\"]]}],\"contourcarpet\":[{\"type\":\"contourcarpet\",\"colorbar\":{\"outlinewidth\":0,\"ticks\":\"\"}}],\"contour\":[{\"type\":\"contour\",\"colorbar\":{\"outlinewidth\":0,\"ticks\":\"\"},\"colorscale\":[[0.0,\"#0d0887\"],[0.1111111111111111,\"#46039f\"],[0.2222222222222222,\"#7201a8\"],[0.3333333333333333,\"#9c179e\"],[0.4444444444444444,\"#bd3786\"],[0.5555555555555556,\"#d8576b\"],[0.6666666666666666,\"#ed7953\"],[0.7777777777777778,\"#fb9f3a\"],[0.8888888888888888,\"#fdca26\"],[1.0,\"#f0f921\"]]}],\"surface\":[{\"type\":\"surface\",\"colorbar\":{\"outlinewidth\":0,\"ticks\":\"\"},\"colorscale\":[[0.0,\"#0d0887\"],[0.1111111111111111,\"#46039f\"],[0.2222222222222222,\"#7201a8\"],[0.3333333333333333,\"#9c179e\"],[0.4444444444444444,\"#bd3786\"],[0.5555555555555556,\"#d8576b\"],[0.6666666666666666,\"#ed7953\"],[0.7777777777777778,\"#fb9f3a\"],[0.8888888888888888,\"#fdca26\"],[1.0,\"#f0f921\"]]}],\"mesh3d\":[{\"type\":\"mesh3d\",\"colorbar\":{\"outlinewidth\":0,\"ticks\":\"\"}}],\"scatter\":[{\"fillpattern\":{\"fillmode\":\"overlay\",\"size\":10,\"solidity\":0.2},\"type\":\"scatter\"}],\"parcoords\":[{\"type\":\"parcoords\",\"line\":{\"colorbar\":{\"outlinewidth\":0,\"ticks\":\"\"}}}],\"scatterpolargl\":[{\"type\":\"scatterpolargl\",\"marker\":{\"colorbar\":{\"outlinewidth\":0,\"ticks\":\"\"}}}],\"bar\":[{\"error_x\":{\"color\":\"#2a3f5f\"},\"error_y\":{\"color\":\"#2a3f5f\"},\"marker\":{\"line\":{\"color\":\"#E5ECF6\",\"width\":0.5},\"pattern\":{\"fillmode\":\"overlay\",\"size\":10,\"solidity\":0.2}},\"type\":\"bar\"}],\"scattergeo\":[{\"type\":\"scattergeo\",\"marker\":{\"colorbar\":{\"outlinewidth\":0,\"ticks\":\"\"}}}],\"scatterpolar\":[{\"type\":\"scatterpolar\",\"marker\":{\"colorbar\":{\"outlinewidth\":0,\"ticks\":\"\"}}}],\"histogram\":[{\"marker\":{\"pattern\":{\"fillmode\":\"overlay\",\"size\":10,\"solidity\":0.2}},\"type\":\"histogram\"}],\"scattergl\":[{\"type\":\"scattergl\",\"marker\":{\"colorbar\":{\"outlinewidth\":0,\"ticks\":\"\"}}}],\"scatter3d\":[{\"type\":\"scatter3d\",\"line\":{\"colorbar\":{\"outlinewidth\":0,\"ticks\":\"\"}},\"marker\":{\"colorbar\":{\"outlinewidth\":0,\"ticks\":\"\"}}}],\"scattermapbox\":[{\"type\":\"scattermapbox\",\"marker\":{\"colorbar\":{\"outlinewidth\":0,\"ticks\":\"\"}}}],\"scatterternary\":[{\"type\":\"scatterternary\",\"marker\":{\"colorbar\":{\"outlinewidth\":0,\"ticks\":\"\"}}}],\"scattercarpet\":[{\"type\":\"scattercarpet\",\"marker\":{\"colorbar\":{\"outlinewidth\":0,\"ticks\":\"\"}}}],\"carpet\":[{\"aaxis\":{\"endlinecolor\":\"#2a3f5f\",\"gridcolor\":\"white\",\"linecolor\":\"white\",\"minorgridcolor\":\"white\",\"startlinecolor\":\"#2a3f5f\"},\"baxis\":{\"endlinecolor\":\"#2a3f5f\",\"gridcolor\":\"white\",\"linecolor\":\"white\",\"minorgridcolor\":\"white\",\"startlinecolor\":\"#2a3f5f\"},\"type\":\"carpet\"}],\"table\":[{\"cells\":{\"fill\":{\"color\":\"#EBF0F8\"},\"line\":{\"color\":\"white\"}},\"header\":{\"fill\":{\"color\":\"#C8D4E3\"},\"line\":{\"color\":\"white\"}},\"type\":\"table\"}],\"barpolar\":[{\"marker\":{\"line\":{\"color\":\"#E5ECF6\",\"width\":0.5},\"pattern\":{\"fillmode\":\"overlay\",\"size\":10,\"solidity\":0.2}},\"type\":\"barpolar\"}],\"pie\":[{\"automargin\":true,\"type\":\"pie\"}]},\"layout\":{\"autotypenumbers\":\"strict\",\"colorway\":[\"#636efa\",\"#EF553B\",\"#00cc96\",\"#ab63fa\",\"#FFA15A\",\"#19d3f3\",\"#FF6692\",\"#B6E880\",\"#FF97FF\",\"#FECB52\"],\"font\":{\"color\":\"#2a3f5f\"},\"hovermode\":\"closest\",\"hoverlabel\":{\"align\":\"left\"},\"paper_bgcolor\":\"white\",\"plot_bgcolor\":\"#E5ECF6\",\"polar\":{\"bgcolor\":\"#E5ECF6\",\"angularaxis\":{\"gridcolor\":\"white\",\"linecolor\":\"white\",\"ticks\":\"\"},\"radialaxis\":{\"gridcolor\":\"white\",\"linecolor\":\"white\",\"ticks\":\"\"}},\"ternary\":{\"bgcolor\":\"#E5ECF6\",\"aaxis\":{\"gridcolor\":\"white\",\"linecolor\":\"white\",\"ticks\":\"\"},\"baxis\":{\"gridcolor\":\"white\",\"linecolor\":\"white\",\"ticks\":\"\"},\"caxis\":{\"gridcolor\":\"white\",\"linecolor\":\"white\",\"ticks\":\"\"}},\"coloraxis\":{\"colorbar\":{\"outlinewidth\":0,\"ticks\":\"\"}},\"colorscale\":{\"sequential\":[[0.0,\"#0d0887\"],[0.1111111111111111,\"#46039f\"],[0.2222222222222222,\"#7201a8\"],[0.3333333333333333,\"#9c179e\"],[0.4444444444444444,\"#bd3786\"],[0.5555555555555556,\"#d8576b\"],[0.6666666666666666,\"#ed7953\"],[0.7777777777777778,\"#fb9f3a\"],[0.8888888888888888,\"#fdca26\"],[1.0,\"#f0f921\"]],\"sequentialminus\":[[0.0,\"#0d0887\"],[0.1111111111111111,\"#46039f\"],[0.2222222222222222,\"#7201a8\"],[0.3333333333333333,\"#9c179e\"],[0.4444444444444444,\"#bd3786\"],[0.5555555555555556,\"#d8576b\"],[0.6666666666666666,\"#ed7953\"],[0.7777777777777778,\"#fb9f3a\"],[0.8888888888888888,\"#fdca26\"],[1.0,\"#f0f921\"]],\"diverging\":[[0,\"#8e0152\"],[0.1,\"#c51b7d\"],[0.2,\"#de77ae\"],[0.3,\"#f1b6da\"],[0.4,\"#fde0ef\"],[0.5,\"#f7f7f7\"],[0.6,\"#e6f5d0\"],[0.7,\"#b8e186\"],[0.8,\"#7fbc41\"],[0.9,\"#4d9221\"],[1,\"#276419\"]]},\"xaxis\":{\"gridcolor\":\"white\",\"linecolor\":\"white\",\"ticks\":\"\",\"title\":{\"standoff\":15},\"zerolinecolor\":\"white\",\"automargin\":true,\"zerolinewidth\":2},\"yaxis\":{\"gridcolor\":\"white\",\"linecolor\":\"white\",\"ticks\":\"\",\"title\":{\"standoff\":15},\"zerolinecolor\":\"white\",\"automargin\":true,\"zerolinewidth\":2},\"scene\":{\"xaxis\":{\"backgroundcolor\":\"#E5ECF6\",\"gridcolor\":\"white\",\"linecolor\":\"white\",\"showbackground\":true,\"ticks\":\"\",\"zerolinecolor\":\"white\",\"gridwidth\":2},\"yaxis\":{\"backgroundcolor\":\"#E5ECF6\",\"gridcolor\":\"white\",\"linecolor\":\"white\",\"showbackground\":true,\"ticks\":\"\",\"zerolinecolor\":\"white\",\"gridwidth\":2},\"zaxis\":{\"backgroundcolor\":\"#E5ECF6\",\"gridcolor\":\"white\",\"linecolor\":\"white\",\"showbackground\":true,\"ticks\":\"\",\"zerolinecolor\":\"white\",\"gridwidth\":2}},\"shapedefaults\":{\"line\":{\"color\":\"#2a3f5f\"}},\"annotationdefaults\":{\"arrowcolor\":\"#2a3f5f\",\"arrowhead\":0,\"arrowwidth\":1},\"geo\":{\"bgcolor\":\"white\",\"landcolor\":\"#E5ECF6\",\"subunitcolor\":\"white\",\"showland\":true,\"showlakes\":true,\"lakecolor\":\"white\"},\"title\":{\"x\":0.05},\"mapbox\":{\"style\":\"light\"}}},\"xaxis\":{\"anchor\":\"y\",\"domain\":[0.0,1.0],\"scaleanchor\":\"y\",\"constrain\":\"domain\",\"title\":{\"text\":\"Layer 1\"}},\"yaxis\":{\"anchor\":\"x\",\"domain\":[0.0,1.0],\"autorange\":\"reversed\",\"constrain\":\"domain\",\"title\":{\"text\":\"Layer 0\"}},\"coloraxis\":{\"colorscale\":[[0.0,\"rgb(247,251,255)\"],[0.125,\"rgb(222,235,247)\"],[0.25,\"rgb(198,219,239)\"],[0.375,\"rgb(158,202,225)\"],[0.5,\"rgb(107,174,214)\"],[0.625,\"rgb(66,146,198)\"],[0.75,\"rgb(33,113,181)\"],[0.875,\"rgb(8,81,156)\"],[1.0,\"rgb(8,48,107)\"]],\"cmin\":0.0,\"cmax\":0.027827661484479904},\"title\":{\"text\":\"K Composition Scores\"}},                        {\"responsive\": true}                    ).then(function(){\n",
       "                            \n",
       "var gd = document.getElementById('1e1e2221-523f-4e6f-a285-95ff7ef426b7');\n",
       "var x = new MutationObserver(function (mutations, observer) {{\n",
       "        var display = window.getComputedStyle(gd).display;\n",
       "        if (!display || display === 'none') {{\n",
       "            console.log([gd, 'removed!']);\n",
       "            Plotly.purge(gd);\n",
       "            observer.disconnect();\n",
       "        }}\n",
       "}});\n",
       "\n",
       "// Listen for the removal of the full notebook cells\n",
       "var notebookContainer = gd.closest('#notebook-container');\n",
       "if (notebookContainer) {{\n",
       "    x.observe(notebookContainer, {childList: true});\n",
       "}}\n",
       "\n",
       "// Listen for the clearing of the current output cell\n",
       "var outputEl = gd.closest('.output');\n",
       "if (outputEl) {{\n",
       "    x.observe(outputEl, {childList: true});\n",
       "}}\n",
       "\n",
       "                        })                };                });            </script>        </div>"
      ]
     },
     "metadata": {},
     "output_type": "display_data"
    },
    {
     "data": {
      "application/vnd.plotly.v1+json": {
       "config": {
        "plotlyServerURL": "https://plot.ly"
       },
       "data": [
        {
         "coloraxis": "coloraxis",
         "hovertemplate": "Layer 1: %{x}<br>Layer 0: %{y}<br>color: %{z}<extra></extra>",
         "name": "0",
         "type": "heatmap",
         "x": [
          "L16H0",
          "L16H1",
          "L16H2",
          "L16H3",
          "L16H4",
          "L16H5",
          "L16H6",
          "L16H7",
          "L16H8",
          "L16H9",
          "L16H10",
          "L16H11",
          "L16H12",
          "L16H13",
          "L16H14",
          "L16H15",
          "L16H16",
          "L16H17",
          "L16H18",
          "L16H19",
          "L16H20",
          "L16H21",
          "L16H22",
          "L16H23",
          "L16H24",
          "L16H25",
          "L16H26",
          "L16H27",
          "L16H28",
          "L16H29",
          "L16H30",
          "L16H31"
         ],
         "xaxis": "x",
         "y": [
          "L15H0",
          "L15H1",
          "L15H2",
          "L15H3",
          "L15H4",
          "L15H5",
          "L15H6",
          "L15H7",
          "L15H8",
          "L15H9",
          "L15H10",
          "L15H11",
          "L15H12",
          "L15H13",
          "L15H14",
          "L15H15",
          "L15H16",
          "L15H17",
          "L15H18",
          "L15H19",
          "L15H20",
          "L15H21",
          "L15H22",
          "L15H23",
          "L15H24",
          "L15H25",
          "L15H26",
          "L15H27",
          "L15H28",
          "L15H29",
          "L15H30",
          "L15H31"
         ],
         "yaxis": "y",
         "z": [
          [
           0.013379447162151337,
           0.013052079826593399,
           0.012920228764414787,
           0.01363309845328331,
           0.025262249633669853,
           0.025070277974009514,
           0.02546870708465576,
           0.024794192984700203,
           0.015192863531410694,
           0.014930061995983124,
           0.015196832828223705,
           0.016237204894423485,
           0.011552325449883938,
           0.011413884349167347,
           0.01135896798223257,
           0.011462452821433544,
           0.009716439060866833,
           0.009795663878321648,
           0.009824765846133232,
           0.009767360053956509,
           0.025784170255064964,
           0.02550412341952324,
           0.02502971515059471,
           0.02554166316986084,
           0.022550713270902634,
           0.023643003776669502,
           0.019957704469561577,
           0.022084830328822136,
           0.01164255291223526,
           0.011667944490909576,
           0.011651900596916676,
           0.011531787924468517
          ],
          [
           0.013225292786955833,
           0.0137372687458992,
           0.013125198893249035,
           0.01333329826593399,
           0.017784927040338516,
           0.017596689984202385,
           0.0177387073636055,
           0.017748331651091576,
           0.011865873821079731,
           0.011599297635257244,
           0.011754374019801617,
           0.012431829236447811,
           0.00863431766629219,
           0.008702380582690239,
           0.008634265512228012,
           0.008732227608561516,
           0.008121242746710777,
           0.008043860085308552,
           0.008020272478461266,
           0.008104999549686909,
           0.01056753657758236,
           0.010686447843909264,
           0.010533977299928665,
           0.0105365552008152,
           0.012575468979775906,
           0.012523255310952663,
           0.014277108013629913,
           0.01232709176838398,
           0.009441439993679523,
           0.009406909346580505,
           0.009344145655632019,
           0.009205625392496586
          ],
          [
           0.0173896886408329,
           0.018346430733799934,
           0.017157532274723053,
           0.01853501982986927,
           0.02467304654419422,
           0.02452751062810421,
           0.024709759280085564,
           0.024272209033370018,
           0.01285951491445303,
           0.012692905031144619,
           0.012808333151042461,
           0.013699712231755257,
           0.008869171142578125,
           0.008883960545063019,
           0.00879971869289875,
           0.008939046412706375,
           0.007913036271929741,
           0.007863456383347511,
           0.007943619042634964,
           0.00788829941302538,
           0.016910264268517494,
           0.016869831830263138,
           0.016514625400304794,
           0.01672949269413948,
           0.016820153221488,
           0.017386941239237785,
           0.01577046699821949,
           0.016628898680210114,
           0.009273117408156395,
           0.009212500415742397,
           0.009183655492961407,
           0.00902564823627472
          ],
          [
           0.014357398264110088,
           0.01567128859460354,
           0.014176019467413425,
           0.015513387508690357,
           0.020231280475854874,
           0.0205952487885952,
           0.020293336361646652,
           0.020104793831706047,
           0.011072436347603798,
           0.011079750955104828,
           0.011113492771983147,
           0.011372995562851429,
           0.01012955792248249,
           0.010092386975884438,
           0.01002515945583582,
           0.010073550045490265,
           0.009550418704748154,
           0.009537853300571442,
           0.009531263262033463,
           0.009583460167050362,
           0.012694131582975388,
           0.012672335840761662,
           0.012596769258379936,
           0.012665709480643272,
           0.012969291768968105,
           0.013097827322781086,
           0.013088642619550228,
           0.012827238067984581,
           0.010338529013097286,
           0.01032077893614769,
           0.010285893455147743,
           0.01024848222732544
          ],
          [
           0.014039415866136551,
           0.013377626426517963,
           0.013806142844259739,
           0.012921196408569813,
           0.013789501041173935,
           0.013758191838860512,
           0.013580139726400375,
           0.01375559251755476,
           0.014292086474597454,
           0.013768301345407963,
           0.013929508626461029,
           0.014152704738080502,
           0.010723450221121311,
           0.010597453452646732,
           0.01047101803123951,
           0.010508864186704159,
           0.009811763651669025,
           0.009704003110527992,
           0.009770489297807217,
           0.009776321239769459,
           0.009423830546438694,
           0.009496442042291164,
           0.009495407342910767,
           0.009451702237129211,
           0.02235095575451851,
           0.021383211016654968,
           0.026689670979976654,
           0.021598683670163155,
           0.010638843290507793,
           0.010658015497028828,
           0.010587301105260849,
           0.010707559995353222
          ],
          [
           0.028294984251260757,
           0.028894519433379173,
           0.027984831482172012,
           0.02860685996711254,
           0.025421494618058205,
           0.02588806301355362,
           0.02523389831185341,
           0.02512052096426487,
           0.03748462349176407,
           0.0396822914481163,
           0.03866622969508171,
           0.03776067867875099,
           0.01904151774942875,
           0.018574751913547516,
           0.017888503149151802,
           0.017627786844968796,
           0.011358614079654217,
           0.011233481578528881,
           0.0111544793471694,
           0.011241231113672256,
           0.013421766459941864,
           0.013691562227904797,
           0.013619818724691868,
           0.013455062173306942,
           0.018351402133703232,
           0.018897730857133865,
           0.018420051783323288,
           0.01824529841542244,
           0.01347114983946085,
           0.013533956371247768,
           0.013437404297292233,
           0.013840094208717346
          ],
          [
           0.03157057613134384,
           0.03164594620466232,
           0.031284745782613754,
           0.03207506611943245,
           0.014761854894459248,
           0.014737225137650967,
           0.014683493413031101,
           0.014674879610538483,
           0.052708059549331665,
           0.05936470255255699,
           0.05530187487602234,
           0.04959051311016083,
           0.011650451458990574,
           0.01153368316590786,
           0.011312343180179596,
           0.011339539662003517,
           0.010116265155375004,
           0.009991081431508064,
           0.010023816488683224,
           0.01001949142664671,
           0.013196331448853016,
           0.013478252105414867,
           0.013388210907578468,
           0.013159820809960365,
           0.01271060947328806,
           0.01272376999258995,
           0.012578252702951431,
           0.012549453414976597,
           0.01283019408583641,
           0.012885410338640213,
           0.012735867872834206,
           0.013239368796348572
          ],
          [
           0.033777814358472824,
           0.034125033766031265,
           0.03341292589902878,
           0.034522101283073425,
           0.021198458969593048,
           0.02158067375421524,
           0.020998341962695122,
           0.021068071946501732,
           0.0589815191924572,
           0.06613623350858688,
           0.06233673542737961,
           0.05724582076072693,
           0.011101162992417812,
           0.010876431129872799,
           0.010606757365167141,
           0.010794389992952347,
           0.009436569176614285,
           0.009344183839857578,
           0.009385315701365471,
           0.009385191835463047,
           0.011456938460469246,
           0.011618814431130886,
           0.011514325626194477,
           0.011467264033854008,
           0.014079483225941658,
           0.0145592475309968,
           0.013475454412400723,
           0.014069206081330776,
           0.012149428017437458,
           0.012266908772289753,
           0.012147737666964531,
           0.012835890986025333
          ],
          [
           0.024548061192035675,
           0.02361130528151989,
           0.023880640044808388,
           0.023956047371029854,
           0.02433660440146923,
           0.024337489157915115,
           0.024895131587982178,
           0.024738295003771782,
           0.026380030438303947,
           0.026139801368117332,
           0.02685568854212761,
           0.028663167729973793,
           0.0170919019728899,
           0.017950071021914482,
           0.017522230744361877,
           0.01876496709883213,
           0.013497327454388142,
           0.013477743603289127,
           0.013143996708095074,
           0.013375409878790379,
           0.025358878076076508,
           0.024957889690995216,
           0.024566927924752235,
           0.024684201925992966,
           0.02085772715508938,
           0.021976502612233162,
           0.01874123141169548,
           0.020360834896564484,
           0.02273697964847088,
           0.02247314527630806,
           0.02243993990123272,
           0.022735686972737312
          ],
          [
           0.020843811333179474,
           0.025005774572491646,
           0.022344717755913734,
           0.022929638624191284,
           0.03653471916913986,
           0.038176655769348145,
           0.037023916840553284,
           0.037039000540971756,
           0.015596846118569374,
           0.015669504180550575,
           0.01566758193075657,
           0.016034750267863274,
           0.012318167835474014,
           0.012272224761545658,
           0.01207023672759533,
           0.012338613159954548,
           0.010523856617510319,
           0.010367539711296558,
           0.010291030630469322,
           0.010439676232635975,
           0.013055270537734032,
           0.013245314359664917,
           0.013235164806246758,
           0.013064487837255001,
           0.015063123777508736,
           0.015401824377477169,
           0.01476628053933382,
           0.014963109977543354,
           0.01384634617716074,
           0.013759766705334187,
           0.013874209485948086,
           0.01364006195217371
          ],
          [
           0.033603183925151825,
           0.039162494242191315,
           0.03620805963873863,
           0.035058993846178055,
           0.026246866211295128,
           0.026137003675103188,
           0.026418963447213173,
           0.025824831798672676,
           0.01595628820359707,
           0.014837785623967648,
           0.015369969420135021,
           0.01588089019060135,
           0.012656244449317455,
           0.012701176106929779,
           0.01279119960963726,
           0.01325252279639244,
           0.011083022691309452,
           0.010803827084600925,
           0.010763189755380154,
           0.01106052566319704,
           0.0116801792755723,
           0.011770940385758877,
           0.011762500740587711,
           0.011746461503207684,
           0.013919605873525143,
           0.014332852326333523,
           0.013426242396235466,
           0.013970141299068928,
           0.013500700704753399,
           0.013133229687809944,
           0.012956597842276096,
           0.012923011556267738
          ],
          [
           0.0159457977861166,
           0.014982369728386402,
           0.015301271341741085,
           0.014957207255065441,
           0.018436461687088013,
           0.01894337125122547,
           0.01876831240952015,
           0.018488410860300064,
           0.018288299441337585,
           0.017407862469553947,
           0.01816074550151825,
           0.018946649506688118,
           0.01781599037349224,
           0.018437543883919716,
           0.018324004486203194,
           0.019353320822119713,
           0.014034781605005264,
           0.013984507881104946,
           0.013533894903957844,
           0.014007048681378365,
           0.018905090168118477,
           0.018561357632279396,
           0.01839423179626465,
           0.018516849726438522,
           0.014763212762773037,
           0.015437363646924496,
           0.014196738600730896,
           0.014624641276896,
           0.019888214766979218,
           0.019342022016644478,
           0.019347891211509705,
           0.01932762749493122
          ],
          [
           0.02031807228922844,
           0.016312267631292343,
           0.017852898687124252,
           0.016376083716750145,
           0.009739327244460583,
           0.009676544927060604,
           0.009794103913009167,
           0.009749753400683403,
           0.016757870092988014,
           0.015029752627015114,
           0.015357185155153275,
           0.014770609326660633,
           0.012011043727397919,
           0.01170363463461399,
           0.01188188698142767,
           0.011834184639155865,
           0.013248816132545471,
           0.012779219076037407,
           0.012950772419571877,
           0.013160742819309235,
           0.009286480024456978,
           0.00937386229634285,
           0.009415139444172382,
           0.009403754957020283,
           0.019897397607564926,
           0.0190634373575449,
           0.022177791222929955,
           0.019547633826732635,
           0.012701822444796562,
           0.012811088003218174,
           0.012686632573604584,
           0.012794479727745056
          ],
          [
           0.015108085237443447,
           0.011966442689299583,
           0.013567059300839901,
           0.012335282750427723,
           0.007567343767732382,
           0.007545409724116325,
           0.0076360516250133514,
           0.007577547803521156,
           0.010942232795059681,
           0.010208860971033573,
           0.010411083698272705,
           0.01027925405651331,
           0.011147350072860718,
           0.010759771801531315,
           0.010860680602490902,
           0.010568464174866676,
           0.012984923087060452,
           0.012771827168762684,
           0.012753378599882126,
           0.013229449279606342,
           0.007622676435858011,
           0.007720137946307659,
           0.007760526612401009,
           0.007739735301584005,
           0.011113500222563744,
           0.010826824232935905,
           0.011879654601216316,
           0.010988852940499783,
           0.01178336888551712,
           0.011945297010242939,
           0.011792409233748913,
           0.011943221092224121
          ],
          [
           0.019918866455554962,
           0.015249144285917282,
           0.016765324398875237,
           0.015141351148486137,
           0.010093904100358486,
           0.010086623020470142,
           0.010314089246094227,
           0.0101575693115592,
           0.013490067794919014,
           0.01257579866796732,
           0.012819093652069569,
           0.01282859593629837,
           0.017277337610721588,
           0.017026588320732117,
           0.017286162823438644,
           0.01667703688144684,
           0.016617968678474426,
           0.015843205153942108,
           0.015365670435130596,
           0.01637902297079563,
           0.0110803646966815,
           0.011148816905915737,
           0.011250631883740425,
           0.011218186467885971,
           0.013427499681711197,
           0.013274244964122772,
           0.013887430541217327,
           0.013033406808972359,
           0.018950456753373146,
           0.01864525116980076,
           0.01845419593155384,
           0.019220001995563507
          ],
          [
           0.01588318683207035,
           0.012034516781568527,
           0.013990676961839199,
           0.012552812695503235,
           0.007940142415463924,
           0.007941784337162971,
           0.007995576597750187,
           0.007967681623995304,
           0.013158406130969524,
           0.01207276526838541,
           0.012427566573023796,
           0.012163623236119747,
           0.011271057650446892,
           0.01102395262569189,
           0.011117341928184032,
           0.010821805335581303,
           0.01499615702778101,
           0.015307331457734108,
           0.0156523697078228,
           0.015565582551062107,
           0.00800553523004055,
           0.00803190004080534,
           0.008083654567599297,
           0.008089249022305012,
           0.01108104269951582,
           0.010830678045749664,
           0.011326703242957592,
           0.011080150492489338,
           0.015349888242781162,
           0.015252791345119476,
           0.015291825868189335,
           0.01593656651675701
          ],
          [
           0.02812908962368965,
           0.024840960279107094,
           0.02593071572482586,
           0.026140233501791954,
           0.01934107020497322,
           0.019634626805782318,
           0.019584303721785545,
           0.019559616222977638,
           0.017848899587988853,
           0.015909647569060326,
           0.016653291881084442,
           0.017000019550323486,
           0.01447970513254404,
           0.01493403036147356,
           0.014407281763851643,
           0.015114657580852509,
           0.018086878582835197,
           0.015297435224056244,
           0.015391654334962368,
           0.015918463468551636,
           0.013109810650348663,
           0.013140017166733742,
           0.013401825912296772,
           0.013097253628075123,
           0.013017378747463226,
           0.013034467585384846,
           0.012776844203472137,
           0.012798902578651905,
           0.018371457234025,
           0.018691549077630043,
           0.017985939979553223,
           0.018175875768065453
          ],
          [
           0.03453701362013817,
           0.03672487661242485,
           0.03509251028299332,
           0.03360798582434654,
           0.02281443029642105,
           0.023177001625299454,
           0.02326691709458828,
           0.02289379946887493,
           0.021794643253087997,
           0.019411267712712288,
           0.020226705819368362,
           0.02091320976614952,
           0.01850960962474346,
           0.020013131201267242,
           0.01919330470263958,
           0.020508240908384323,
           0.014673124998807907,
           0.013692483305931091,
           0.013688468374311924,
           0.014026637189090252,
           0.02083110436797142,
           0.020331623032689095,
           0.020808948203921318,
           0.020414995029568672,
           0.015489894896745682,
           0.01590106077492237,
           0.014912092126905918,
           0.015122344717383385,
           0.01892467774450779,
           0.01842610351741314,
           0.018047012388706207,
           0.017804093658924103
          ],
          [
           0.023021331056952477,
           0.021932030096650124,
           0.021284306421875954,
           0.0211970042437315,
           0.0220577921718359,
           0.0234706848859787,
           0.022150209173560143,
           0.022950701415538788,
           0.017457814887166023,
           0.016077231615781784,
           0.016905302181839943,
           0.01706141047179699,
           0.015797119587659836,
           0.015620040707290173,
           0.015174588188529015,
           0.015089048072695732,
           0.012767068110406399,
           0.012109530158340931,
           0.012325807474553585,
           0.012305575422942638,
           0.014588144607841969,
           0.014696452766656876,
           0.0146592166274786,
           0.014680171385407448,
           0.018008854240179062,
           0.019680902361869812,
           0.01702096126973629,
           0.017970766872167587,
           0.01486374530941248,
           0.015401069074869156,
           0.014834578149020672,
           0.014994414523243904
          ],
          [
           0.023795224726200104,
           0.01896260492503643,
           0.02089114300906658,
           0.019761763513088226,
           0.015372157096862793,
           0.015467827208340168,
           0.015556154772639275,
           0.015416505746543407,
           0.018827011808753014,
           0.016952713951468468,
           0.017666267231106758,
           0.017869768664240837,
           0.011239137500524521,
           0.011233489029109478,
           0.011143716052174568,
           0.011188212782144547,
           0.010716094635426998,
           0.010286513715982437,
           0.010261115618050098,
           0.01049771998077631,
           0.013265459798276424,
           0.013285145163536072,
           0.01352943480014801,
           0.013246349059045315,
           0.01147507969290018,
           0.011565412394702435,
           0.011276640929281712,
           0.011362701654434204,
           0.01263191644102335,
           0.01266125962138176,
           0.012469048611819744,
           0.012518074363470078
          ],
          [
           0.013496138155460358,
           0.013920897617936134,
           0.01403338834643364,
           0.013609682209789753,
           0.01061983685940504,
           0.010602502152323723,
           0.010629797354340553,
           0.010665051639080048,
           0.010773424059152603,
           0.010462765581905842,
           0.010618621483445168,
           0.010750001296401024,
           0.0176836084574461,
           0.018732139840722084,
           0.01821332983672619,
           0.019168009981513023,
           0.013997577130794525,
           0.014206971973180771,
           0.013881251215934753,
           0.014005832374095917,
           0.012514754198491573,
           0.012483013793826103,
           0.012531607411801815,
           0.012577366083860397,
           0.012335577979683876,
           0.012310030870139599,
           0.01242231298238039,
           0.012271213345229626,
           0.01569392904639244,
           0.015753669664263725,
           0.016453728079795837,
           0.015608029440045357
          ],
          [
           0.021302921697497368,
           0.02535475231707096,
           0.023440655320882797,
           0.02172962762415409,
           0.010056309401988983,
           0.009955343790352345,
           0.010282807052135468,
           0.010100753977894783,
           0.010830864310264587,
           0.010480692610144615,
           0.010489843785762787,
           0.010652696713805199,
           0.03172652795910835,
           0.035137973725795746,
           0.03399163857102394,
           0.03870372846722603,
           0.027332697063684464,
           0.02620488591492176,
           0.025450823828577995,
           0.02644827403128147,
           0.019841207191348076,
           0.019133824855089188,
           0.0191947128623724,
           0.020223569124937057,
           0.013585410080850124,
           0.013821849599480629,
           0.014183326624333858,
           0.01318377535790205,
           0.018935587257146835,
           0.018557000905275345,
           0.018769539892673492,
           0.017836138606071472
          ],
          [
           0.023403648287057877,
           0.028665816411376,
           0.02616065926849842,
           0.02484026923775673,
           0.010410423390567303,
           0.010533980093896389,
           0.010493517853319645,
           0.010528195649385452,
           0.011551395058631897,
           0.011232506483793259,
           0.01132493931800127,
           0.011383699253201485,
           0.028341062366962433,
           0.0319879911839962,
           0.031016767024993896,
           0.035443998873233795,
           0.02568727917969227,
           0.025276323780417442,
           0.023930158466100693,
           0.024862758815288544,
           0.016827963292598724,
           0.01625054143369198,
           0.016270451247692108,
           0.0168998334556818,
           0.016980238258838654,
           0.016897141933441162,
           0.019016249105334282,
           0.01737382262945175,
           0.018374960869550705,
           0.018033793196082115,
           0.018039343878626823,
           0.017570119351148605
          ],
          [
           0.02159055881202221,
           0.025809722021222115,
           0.024054881185293198,
           0.022788716480135918,
           0.010555820539593697,
           0.010631238110363483,
           0.010637379251420498,
           0.01059242058545351,
           0.01186318974941969,
           0.011698408052325249,
           0.01173829659819603,
           0.01186935231089592,
           0.02296491712331772,
           0.02532920055091381,
           0.02504487708210945,
           0.029040159657597542,
           0.022969549521803856,
           0.022404992952942848,
           0.021613571792840958,
           0.0221785306930542,
           0.014892968349158764,
           0.014541402459144592,
           0.014459657482802868,
           0.014917425811290741,
           0.013954641297459602,
           0.014146075583994389,
           0.014427708461880684,
           0.014108406379818916,
           0.015890244394540787,
           0.015699494630098343,
           0.01553621981292963,
           0.015381048433482647
          ],
          [
           0.02699950523674488,
           0.025646641850471497,
           0.025627262890338898,
           0.025165153667330742,
           0.01610337570309639,
           0.016206590458750725,
           0.016386598348617554,
           0.016121672466397285,
           0.02092759869992733,
           0.019845401868224144,
           0.020027289167046547,
           0.019251395016908646,
           0.014996065758168697,
           0.015440955758094788,
           0.014634078368544579,
           0.015247553586959839,
           0.013432181440293789,
           0.012333899736404419,
           0.012641143053770065,
           0.012609008699655533,
           0.011772642843425274,
           0.011822139844298363,
           0.011902544647455215,
           0.011825361289083958,
           0.015568741597235203,
           0.015377223491668701,
           0.01597188599407673,
           0.015465520322322845,
           0.013415499590337276,
           0.013735615648329258,
           0.013614373281598091,
           0.01345430500805378
          ],
          [
           0.02494024485349655,
           0.02177412062883377,
           0.02268843725323677,
           0.02158379554748535,
           0.011289565823972225,
           0.011263313703238964,
           0.011407042853534222,
           0.01132521778345108,
           0.01805318333208561,
           0.016747619956731796,
           0.017172960564494133,
           0.016380682587623596,
           0.012777134776115417,
           0.012705929577350616,
           0.012651266530156136,
           0.013021656312048435,
           0.013074425980448723,
           0.012532263994216919,
           0.012574159540235996,
           0.012860337272286415,
           0.010275743901729584,
           0.010301103815436363,
           0.010371058247983456,
           0.010314642451703548,
           0.01351336482912302,
           0.013181627728044987,
           0.013756983913481236,
           0.013358679600059986,
           0.012477761134505272,
           0.012587105855345726,
           0.012487542815506458,
           0.01253803912550211
          ],
          [
           0.02645922638475895,
           0.02799825556576252,
           0.026486212387681007,
           0.025419028475880623,
           0.014342372305691242,
           0.01441244874149561,
           0.01453443244099617,
           0.014347843825817108,
           0.017772788181900978,
           0.016924044117331505,
           0.0171327143907547,
           0.01667638123035431,
           0.014144688844680786,
           0.014475292526185513,
           0.013935049064457417,
           0.014570062048733234,
           0.012416000477969646,
           0.011957663111388683,
           0.01206940971314907,
           0.012090696021914482,
           0.010609583929181099,
           0.01064402423799038,
           0.010655711404979229,
           0.010671394877135754,
           0.013476088643074036,
           0.013290160335600376,
           0.013820486143231392,
           0.013368725776672363,
           0.012539242394268513,
           0.012700960971415043,
           0.012526175007224083,
           0.012524696066975594
          ],
          [
           0.026118656620383263,
           0.03130921348929405,
           0.028406156226992607,
           0.02755725011229515,
           0.014290968887507915,
           0.014452407136559486,
           0.014522626996040344,
           0.014341332018375397,
           0.013705297373235226,
           0.013284158892929554,
           0.013445066288113594,
           0.013646388426423073,
           0.015635821968317032,
           0.015686925500631332,
           0.0157537329941988,
           0.016613751649856567,
           0.016484437510371208,
           0.014625719748437405,
           0.014958936721086502,
           0.015029940754175186,
           0.01210690289735794,
           0.012071504257619381,
           0.012020713649690151,
           0.012123995460569859,
           0.012376426719129086,
           0.012460901401937008,
           0.012382795102894306,
           0.01222268771380186,
           0.01356044877320528,
           0.013668603263795376,
           0.01341705210506916,
           0.013340211473405361
          ],
          [
           0.014758466742932796,
           0.014500187709927559,
           0.01433897390961647,
           0.014724181964993477,
           0.042791664600372314,
           0.041978102177381516,
           0.04273547977209091,
           0.041689857840538025,
           0.017726121470332146,
           0.0167641993612051,
           0.01736977882683277,
           0.01832246407866478,
           0.011288243345916271,
           0.01123565249145031,
           0.010967436246573925,
           0.011144786141812801,
           0.010452539660036564,
           0.010539167560636997,
           0.010371549054980278,
           0.010497521609067917,
           0.01626584865152836,
           0.01644628308713436,
           0.016157740727066994,
           0.016120465472340584,
           0.029533950611948967,
           0.029374532401561737,
           0.027208708226680756,
           0.030044397339224815,
           0.013756480067968369,
           0.013567367568612099,
           0.013579869642853737,
           0.013510646298527718
          ],
          [
           0.01791338622570038,
           0.016697514802217484,
           0.017290925607085228,
           0.016723724082112312,
           0.019294237717986107,
           0.01907912828028202,
           0.019461650401353836,
           0.019083142280578613,
           0.02374754659831524,
           0.021083660423755646,
           0.022230615839362144,
           0.02339000813663006,
           0.010370500385761261,
           0.010416176170110703,
           0.010277051478624344,
           0.010378239676356316,
           0.00996125116944313,
           0.009986262768507004,
           0.009900855831801891,
           0.010043445974588394,
           0.02004191279411316,
           0.019603297114372253,
           0.019486848264932632,
           0.019459852948784828,
           0.012953006662428379,
           0.012964445166289806,
           0.01250625029206276,
           0.012803220190107822,
           0.012783876620233059,
           0.012588157318532467,
           0.012468916364014149,
           0.012448311783373356
          ],
          [
           0.039428599178791046,
           0.041326481848955154,
           0.040287092328071594,
           0.04033014178276062,
           0.033330388367176056,
           0.03276805207133293,
           0.03341653198003769,
           0.032237716019153595,
           0.024753140285611153,
           0.02384530007839203,
           0.02399658039212227,
           0.02534269355237484,
           0.013303767889738083,
           0.013754252344369888,
           0.013162782415747643,
           0.013544936664402485,
           0.009980235248804092,
           0.009935923852026463,
           0.009891467168927193,
           0.01002497784793377,
           0.030581176280975342,
           0.02965504676103592,
           0.029267026111483574,
           0.029468843713402748,
           0.017601381987333298,
           0.017867155373096466,
           0.016029104590415955,
           0.017318563535809517,
           0.0124827204272151,
           0.012317195534706116,
           0.012108403258025646,
           0.012145438231527805
          ],
          [
           0.017011433839797974,
           0.01819668896496296,
           0.01764352060854435,
           0.017636924982070923,
           0.02487204037606716,
           0.02464323304593563,
           0.024854570627212524,
           0.02424226887524128,
           0.013201912865042686,
           0.012949281372129917,
           0.013211745768785477,
           0.013638036325573921,
           0.009801272302865982,
           0.009838461875915527,
           0.009676853194832802,
           0.009815653786063194,
           0.008608301170170307,
           0.008576720021665096,
           0.008561346679925919,
           0.008622544817626476,
           0.012338392436504364,
           0.01242548692971468,
           0.012309467419981956,
           0.012272048741579056,
           0.012204531580209732,
           0.012190193869173527,
           0.011732205748558044,
           0.0119803287088871,
           0.012457520700991154,
           0.012304830364882946,
           0.012219639495015144,
           0.011990305967628956
          ]
         ]
        }
       ],
       "layout": {
        "coloraxis": {
         "cmax": 0.06613623350858688,
         "cmin": 0,
         "colorscale": [
          [
           0,
           "rgb(247,251,255)"
          ],
          [
           0.125,
           "rgb(222,235,247)"
          ],
          [
           0.25,
           "rgb(198,219,239)"
          ],
          [
           0.375,
           "rgb(158,202,225)"
          ],
          [
           0.5,
           "rgb(107,174,214)"
          ],
          [
           0.625,
           "rgb(66,146,198)"
          ],
          [
           0.75,
           "rgb(33,113,181)"
          ],
          [
           0.875,
           "rgb(8,81,156)"
          ],
          [
           1,
           "rgb(8,48,107)"
          ]
         ]
        },
        "template": {
         "data": {
          "bar": [
           {
            "error_x": {
             "color": "#2a3f5f"
            },
            "error_y": {
             "color": "#2a3f5f"
            },
            "marker": {
             "line": {
              "color": "#E5ECF6",
              "width": 0.5
             },
             "pattern": {
              "fillmode": "overlay",
              "size": 10,
              "solidity": 0.2
             }
            },
            "type": "bar"
           }
          ],
          "barpolar": [
           {
            "marker": {
             "line": {
              "color": "#E5ECF6",
              "width": 0.5
             },
             "pattern": {
              "fillmode": "overlay",
              "size": 10,
              "solidity": 0.2
             }
            },
            "type": "barpolar"
           }
          ],
          "carpet": [
           {
            "aaxis": {
             "endlinecolor": "#2a3f5f",
             "gridcolor": "white",
             "linecolor": "white",
             "minorgridcolor": "white",
             "startlinecolor": "#2a3f5f"
            },
            "baxis": {
             "endlinecolor": "#2a3f5f",
             "gridcolor": "white",
             "linecolor": "white",
             "minorgridcolor": "white",
             "startlinecolor": "#2a3f5f"
            },
            "type": "carpet"
           }
          ],
          "choropleth": [
           {
            "colorbar": {
             "outlinewidth": 0,
             "ticks": ""
            },
            "type": "choropleth"
           }
          ],
          "contour": [
           {
            "colorbar": {
             "outlinewidth": 0,
             "ticks": ""
            },
            "colorscale": [
             [
              0,
              "#0d0887"
             ],
             [
              0.1111111111111111,
              "#46039f"
             ],
             [
              0.2222222222222222,
              "#7201a8"
             ],
             [
              0.3333333333333333,
              "#9c179e"
             ],
             [
              0.4444444444444444,
              "#bd3786"
             ],
             [
              0.5555555555555556,
              "#d8576b"
             ],
             [
              0.6666666666666666,
              "#ed7953"
             ],
             [
              0.7777777777777778,
              "#fb9f3a"
             ],
             [
              0.8888888888888888,
              "#fdca26"
             ],
             [
              1,
              "#f0f921"
             ]
            ],
            "type": "contour"
           }
          ],
          "contourcarpet": [
           {
            "colorbar": {
             "outlinewidth": 0,
             "ticks": ""
            },
            "type": "contourcarpet"
           }
          ],
          "heatmap": [
           {
            "colorbar": {
             "outlinewidth": 0,
             "ticks": ""
            },
            "colorscale": [
             [
              0,
              "#0d0887"
             ],
             [
              0.1111111111111111,
              "#46039f"
             ],
             [
              0.2222222222222222,
              "#7201a8"
             ],
             [
              0.3333333333333333,
              "#9c179e"
             ],
             [
              0.4444444444444444,
              "#bd3786"
             ],
             [
              0.5555555555555556,
              "#d8576b"
             ],
             [
              0.6666666666666666,
              "#ed7953"
             ],
             [
              0.7777777777777778,
              "#fb9f3a"
             ],
             [
              0.8888888888888888,
              "#fdca26"
             ],
             [
              1,
              "#f0f921"
             ]
            ],
            "type": "heatmap"
           }
          ],
          "heatmapgl": [
           {
            "colorbar": {
             "outlinewidth": 0,
             "ticks": ""
            },
            "colorscale": [
             [
              0,
              "#0d0887"
             ],
             [
              0.1111111111111111,
              "#46039f"
             ],
             [
              0.2222222222222222,
              "#7201a8"
             ],
             [
              0.3333333333333333,
              "#9c179e"
             ],
             [
              0.4444444444444444,
              "#bd3786"
             ],
             [
              0.5555555555555556,
              "#d8576b"
             ],
             [
              0.6666666666666666,
              "#ed7953"
             ],
             [
              0.7777777777777778,
              "#fb9f3a"
             ],
             [
              0.8888888888888888,
              "#fdca26"
             ],
             [
              1,
              "#f0f921"
             ]
            ],
            "type": "heatmapgl"
           }
          ],
          "histogram": [
           {
            "marker": {
             "pattern": {
              "fillmode": "overlay",
              "size": 10,
              "solidity": 0.2
             }
            },
            "type": "histogram"
           }
          ],
          "histogram2d": [
           {
            "colorbar": {
             "outlinewidth": 0,
             "ticks": ""
            },
            "colorscale": [
             [
              0,
              "#0d0887"
             ],
             [
              0.1111111111111111,
              "#46039f"
             ],
             [
              0.2222222222222222,
              "#7201a8"
             ],
             [
              0.3333333333333333,
              "#9c179e"
             ],
             [
              0.4444444444444444,
              "#bd3786"
             ],
             [
              0.5555555555555556,
              "#d8576b"
             ],
             [
              0.6666666666666666,
              "#ed7953"
             ],
             [
              0.7777777777777778,
              "#fb9f3a"
             ],
             [
              0.8888888888888888,
              "#fdca26"
             ],
             [
              1,
              "#f0f921"
             ]
            ],
            "type": "histogram2d"
           }
          ],
          "histogram2dcontour": [
           {
            "colorbar": {
             "outlinewidth": 0,
             "ticks": ""
            },
            "colorscale": [
             [
              0,
              "#0d0887"
             ],
             [
              0.1111111111111111,
              "#46039f"
             ],
             [
              0.2222222222222222,
              "#7201a8"
             ],
             [
              0.3333333333333333,
              "#9c179e"
             ],
             [
              0.4444444444444444,
              "#bd3786"
             ],
             [
              0.5555555555555556,
              "#d8576b"
             ],
             [
              0.6666666666666666,
              "#ed7953"
             ],
             [
              0.7777777777777778,
              "#fb9f3a"
             ],
             [
              0.8888888888888888,
              "#fdca26"
             ],
             [
              1,
              "#f0f921"
             ]
            ],
            "type": "histogram2dcontour"
           }
          ],
          "mesh3d": [
           {
            "colorbar": {
             "outlinewidth": 0,
             "ticks": ""
            },
            "type": "mesh3d"
           }
          ],
          "parcoords": [
           {
            "line": {
             "colorbar": {
              "outlinewidth": 0,
              "ticks": ""
             }
            },
            "type": "parcoords"
           }
          ],
          "pie": [
           {
            "automargin": true,
            "type": "pie"
           }
          ],
          "scatter": [
           {
            "fillpattern": {
             "fillmode": "overlay",
             "size": 10,
             "solidity": 0.2
            },
            "type": "scatter"
           }
          ],
          "scatter3d": [
           {
            "line": {
             "colorbar": {
              "outlinewidth": 0,
              "ticks": ""
             }
            },
            "marker": {
             "colorbar": {
              "outlinewidth": 0,
              "ticks": ""
             }
            },
            "type": "scatter3d"
           }
          ],
          "scattercarpet": [
           {
            "marker": {
             "colorbar": {
              "outlinewidth": 0,
              "ticks": ""
             }
            },
            "type": "scattercarpet"
           }
          ],
          "scattergeo": [
           {
            "marker": {
             "colorbar": {
              "outlinewidth": 0,
              "ticks": ""
             }
            },
            "type": "scattergeo"
           }
          ],
          "scattergl": [
           {
            "marker": {
             "colorbar": {
              "outlinewidth": 0,
              "ticks": ""
             }
            },
            "type": "scattergl"
           }
          ],
          "scattermapbox": [
           {
            "marker": {
             "colorbar": {
              "outlinewidth": 0,
              "ticks": ""
             }
            },
            "type": "scattermapbox"
           }
          ],
          "scatterpolar": [
           {
            "marker": {
             "colorbar": {
              "outlinewidth": 0,
              "ticks": ""
             }
            },
            "type": "scatterpolar"
           }
          ],
          "scatterpolargl": [
           {
            "marker": {
             "colorbar": {
              "outlinewidth": 0,
              "ticks": ""
             }
            },
            "type": "scatterpolargl"
           }
          ],
          "scatterternary": [
           {
            "marker": {
             "colorbar": {
              "outlinewidth": 0,
              "ticks": ""
             }
            },
            "type": "scatterternary"
           }
          ],
          "surface": [
           {
            "colorbar": {
             "outlinewidth": 0,
             "ticks": ""
            },
            "colorscale": [
             [
              0,
              "#0d0887"
             ],
             [
              0.1111111111111111,
              "#46039f"
             ],
             [
              0.2222222222222222,
              "#7201a8"
             ],
             [
              0.3333333333333333,
              "#9c179e"
             ],
             [
              0.4444444444444444,
              "#bd3786"
             ],
             [
              0.5555555555555556,
              "#d8576b"
             ],
             [
              0.6666666666666666,
              "#ed7953"
             ],
             [
              0.7777777777777778,
              "#fb9f3a"
             ],
             [
              0.8888888888888888,
              "#fdca26"
             ],
             [
              1,
              "#f0f921"
             ]
            ],
            "type": "surface"
           }
          ],
          "table": [
           {
            "cells": {
             "fill": {
              "color": "#EBF0F8"
             },
             "line": {
              "color": "white"
             }
            },
            "header": {
             "fill": {
              "color": "#C8D4E3"
             },
             "line": {
              "color": "white"
             }
            },
            "type": "table"
           }
          ]
         },
         "layout": {
          "annotationdefaults": {
           "arrowcolor": "#2a3f5f",
           "arrowhead": 0,
           "arrowwidth": 1
          },
          "autotypenumbers": "strict",
          "coloraxis": {
           "colorbar": {
            "outlinewidth": 0,
            "ticks": ""
           }
          },
          "colorscale": {
           "diverging": [
            [
             0,
             "#8e0152"
            ],
            [
             0.1,
             "#c51b7d"
            ],
            [
             0.2,
             "#de77ae"
            ],
            [
             0.3,
             "#f1b6da"
            ],
            [
             0.4,
             "#fde0ef"
            ],
            [
             0.5,
             "#f7f7f7"
            ],
            [
             0.6,
             "#e6f5d0"
            ],
            [
             0.7,
             "#b8e186"
            ],
            [
             0.8,
             "#7fbc41"
            ],
            [
             0.9,
             "#4d9221"
            ],
            [
             1,
             "#276419"
            ]
           ],
           "sequential": [
            [
             0,
             "#0d0887"
            ],
            [
             0.1111111111111111,
             "#46039f"
            ],
            [
             0.2222222222222222,
             "#7201a8"
            ],
            [
             0.3333333333333333,
             "#9c179e"
            ],
            [
             0.4444444444444444,
             "#bd3786"
            ],
            [
             0.5555555555555556,
             "#d8576b"
            ],
            [
             0.6666666666666666,
             "#ed7953"
            ],
            [
             0.7777777777777778,
             "#fb9f3a"
            ],
            [
             0.8888888888888888,
             "#fdca26"
            ],
            [
             1,
             "#f0f921"
            ]
           ],
           "sequentialminus": [
            [
             0,
             "#0d0887"
            ],
            [
             0.1111111111111111,
             "#46039f"
            ],
            [
             0.2222222222222222,
             "#7201a8"
            ],
            [
             0.3333333333333333,
             "#9c179e"
            ],
            [
             0.4444444444444444,
             "#bd3786"
            ],
            [
             0.5555555555555556,
             "#d8576b"
            ],
            [
             0.6666666666666666,
             "#ed7953"
            ],
            [
             0.7777777777777778,
             "#fb9f3a"
            ],
            [
             0.8888888888888888,
             "#fdca26"
            ],
            [
             1,
             "#f0f921"
            ]
           ]
          },
          "colorway": [
           "#636efa",
           "#EF553B",
           "#00cc96",
           "#ab63fa",
           "#FFA15A",
           "#19d3f3",
           "#FF6692",
           "#B6E880",
           "#FF97FF",
           "#FECB52"
          ],
          "font": {
           "color": "#2a3f5f"
          },
          "geo": {
           "bgcolor": "white",
           "lakecolor": "white",
           "landcolor": "#E5ECF6",
           "showlakes": true,
           "showland": true,
           "subunitcolor": "white"
          },
          "hoverlabel": {
           "align": "left"
          },
          "hovermode": "closest",
          "mapbox": {
           "style": "light"
          },
          "paper_bgcolor": "white",
          "plot_bgcolor": "#E5ECF6",
          "polar": {
           "angularaxis": {
            "gridcolor": "white",
            "linecolor": "white",
            "ticks": ""
           },
           "bgcolor": "#E5ECF6",
           "radialaxis": {
            "gridcolor": "white",
            "linecolor": "white",
            "ticks": ""
           }
          },
          "scene": {
           "xaxis": {
            "backgroundcolor": "#E5ECF6",
            "gridcolor": "white",
            "gridwidth": 2,
            "linecolor": "white",
            "showbackground": true,
            "ticks": "",
            "zerolinecolor": "white"
           },
           "yaxis": {
            "backgroundcolor": "#E5ECF6",
            "gridcolor": "white",
            "gridwidth": 2,
            "linecolor": "white",
            "showbackground": true,
            "ticks": "",
            "zerolinecolor": "white"
           },
           "zaxis": {
            "backgroundcolor": "#E5ECF6",
            "gridcolor": "white",
            "gridwidth": 2,
            "linecolor": "white",
            "showbackground": true,
            "ticks": "",
            "zerolinecolor": "white"
           }
          },
          "shapedefaults": {
           "line": {
            "color": "#2a3f5f"
           }
          },
          "ternary": {
           "aaxis": {
            "gridcolor": "white",
            "linecolor": "white",
            "ticks": ""
           },
           "baxis": {
            "gridcolor": "white",
            "linecolor": "white",
            "ticks": ""
           },
           "bgcolor": "#E5ECF6",
           "caxis": {
            "gridcolor": "white",
            "linecolor": "white",
            "ticks": ""
           }
          },
          "title": {
           "x": 0.05
          },
          "xaxis": {
           "automargin": true,
           "gridcolor": "white",
           "linecolor": "white",
           "ticks": "",
           "title": {
            "standoff": 15
           },
           "zerolinecolor": "white",
           "zerolinewidth": 2
          },
          "yaxis": {
           "automargin": true,
           "gridcolor": "white",
           "linecolor": "white",
           "ticks": "",
           "title": {
            "standoff": 15
           },
           "zerolinecolor": "white",
           "zerolinewidth": 2
          }
         }
        },
        "title": {
         "text": "V Composition Scores"
        },
        "xaxis": {
         "anchor": "y",
         "constrain": "domain",
         "domain": [
          0,
          1
         ],
         "scaleanchor": "y",
         "title": {
          "text": "Layer 1"
         }
        },
        "yaxis": {
         "anchor": "x",
         "autorange": "reversed",
         "constrain": "domain",
         "domain": [
          0,
          1
         ],
         "title": {
          "text": "Layer 0"
         }
        }
       }
      },
      "text/html": [
       "<div>                            <div id=\"bb2cbb86-9735-4897-8ca6-7de5fde7497c\" class=\"plotly-graph-div\" style=\"height:525px; width:100%;\"></div>            <script type=\"text/javascript\">                require([\"plotly\"], function(Plotly) {                    window.PLOTLYENV=window.PLOTLYENV || {};                                    if (document.getElementById(\"bb2cbb86-9735-4897-8ca6-7de5fde7497c\")) {                    Plotly.newPlot(                        \"bb2cbb86-9735-4897-8ca6-7de5fde7497c\",                        [{\"coloraxis\":\"coloraxis\",\"name\":\"0\",\"x\":[\"L16H0\",\"L16H1\",\"L16H2\",\"L16H3\",\"L16H4\",\"L16H5\",\"L16H6\",\"L16H7\",\"L16H8\",\"L16H9\",\"L16H10\",\"L16H11\",\"L16H12\",\"L16H13\",\"L16H14\",\"L16H15\",\"L16H16\",\"L16H17\",\"L16H18\",\"L16H19\",\"L16H20\",\"L16H21\",\"L16H22\",\"L16H23\",\"L16H24\",\"L16H25\",\"L16H26\",\"L16H27\",\"L16H28\",\"L16H29\",\"L16H30\",\"L16H31\"],\"y\":[\"L15H0\",\"L15H1\",\"L15H2\",\"L15H3\",\"L15H4\",\"L15H5\",\"L15H6\",\"L15H7\",\"L15H8\",\"L15H9\",\"L15H10\",\"L15H11\",\"L15H12\",\"L15H13\",\"L15H14\",\"L15H15\",\"L15H16\",\"L15H17\",\"L15H18\",\"L15H19\",\"L15H20\",\"L15H21\",\"L15H22\",\"L15H23\",\"L15H24\",\"L15H25\",\"L15H26\",\"L15H27\",\"L15H28\",\"L15H29\",\"L15H30\",\"L15H31\"],\"z\":[[0.013379447162151337,0.013052079826593399,0.012920228764414787,0.01363309845328331,0.025262249633669853,0.025070277974009514,0.02546870708465576,0.024794192984700203,0.015192863531410694,0.014930061995983124,0.015196832828223705,0.016237204894423485,0.011552325449883938,0.011413884349167347,0.01135896798223257,0.011462452821433544,0.009716439060866833,0.009795663878321648,0.009824765846133232,0.009767360053956509,0.025784170255064964,0.02550412341952324,0.02502971515059471,0.02554166316986084,0.022550713270902634,0.023643003776669502,0.019957704469561577,0.022084830328822136,0.01164255291223526,0.011667944490909576,0.011651900596916676,0.011531787924468517],[0.013225292786955833,0.0137372687458992,0.013125198893249035,0.01333329826593399,0.017784927040338516,0.017596689984202385,0.0177387073636055,0.017748331651091576,0.011865873821079731,0.011599297635257244,0.011754374019801617,0.012431829236447811,0.00863431766629219,0.008702380582690239,0.008634265512228012,0.008732227608561516,0.008121242746710777,0.008043860085308552,0.008020272478461266,0.008104999549686909,0.01056753657758236,0.010686447843909264,0.010533977299928665,0.0105365552008152,0.012575468979775906,0.012523255310952663,0.014277108013629913,0.01232709176838398,0.009441439993679523,0.009406909346580505,0.009344145655632019,0.009205625392496586],[0.0173896886408329,0.018346430733799934,0.017157532274723053,0.01853501982986927,0.02467304654419422,0.02452751062810421,0.024709759280085564,0.024272209033370018,0.01285951491445303,0.012692905031144619,0.012808333151042461,0.013699712231755257,0.008869171142578125,0.008883960545063019,0.00879971869289875,0.008939046412706375,0.007913036271929741,0.007863456383347511,0.007943619042634964,0.00788829941302538,0.016910264268517494,0.016869831830263138,0.016514625400304794,0.01672949269413948,0.016820153221488,0.017386941239237785,0.01577046699821949,0.016628898680210114,0.009273117408156395,0.009212500415742397,0.009183655492961407,0.00902564823627472],[0.014357398264110088,0.01567128859460354,0.014176019467413425,0.015513387508690357,0.020231280475854874,0.0205952487885952,0.020293336361646652,0.020104793831706047,0.011072436347603798,0.011079750955104828,0.011113492771983147,0.011372995562851429,0.01012955792248249,0.010092386975884438,0.01002515945583582,0.010073550045490265,0.009550418704748154,0.009537853300571442,0.009531263262033463,0.009583460167050362,0.012694131582975388,0.012672335840761662,0.012596769258379936,0.012665709480643272,0.012969291768968105,0.013097827322781086,0.013088642619550228,0.012827238067984581,0.010338529013097286,0.01032077893614769,0.010285893455147743,0.01024848222732544],[0.014039415866136551,0.013377626426517963,0.013806142844259739,0.012921196408569813,0.013789501041173935,0.013758191838860512,0.013580139726400375,0.01375559251755476,0.014292086474597454,0.013768301345407963,0.013929508626461029,0.014152704738080502,0.010723450221121311,0.010597453452646732,0.01047101803123951,0.010508864186704159,0.009811763651669025,0.009704003110527992,0.009770489297807217,0.009776321239769459,0.009423830546438694,0.009496442042291164,0.009495407342910767,0.009451702237129211,0.02235095575451851,0.021383211016654968,0.026689670979976654,0.021598683670163155,0.010638843290507793,0.010658015497028828,0.010587301105260849,0.010707559995353222],[0.028294984251260757,0.028894519433379173,0.027984831482172012,0.02860685996711254,0.025421494618058205,0.02588806301355362,0.02523389831185341,0.02512052096426487,0.03748462349176407,0.0396822914481163,0.03866622969508171,0.03776067867875099,0.01904151774942875,0.018574751913547516,0.017888503149151802,0.017627786844968796,0.011358614079654217,0.011233481578528881,0.0111544793471694,0.011241231113672256,0.013421766459941864,0.013691562227904797,0.013619818724691868,0.013455062173306942,0.018351402133703232,0.018897730857133865,0.018420051783323288,0.01824529841542244,0.01347114983946085,0.013533956371247768,0.013437404297292233,0.013840094208717346],[0.03157057613134384,0.03164594620466232,0.031284745782613754,0.03207506611943245,0.014761854894459248,0.014737225137650967,0.014683493413031101,0.014674879610538483,0.052708059549331665,0.05936470255255699,0.05530187487602234,0.04959051311016083,0.011650451458990574,0.01153368316590786,0.011312343180179596,0.011339539662003517,0.010116265155375004,0.009991081431508064,0.010023816488683224,0.01001949142664671,0.013196331448853016,0.013478252105414867,0.013388210907578468,0.013159820809960365,0.01271060947328806,0.01272376999258995,0.012578252702951431,0.012549453414976597,0.01283019408583641,0.012885410338640213,0.012735867872834206,0.013239368796348572],[0.033777814358472824,0.034125033766031265,0.03341292589902878,0.034522101283073425,0.021198458969593048,0.02158067375421524,0.020998341962695122,0.021068071946501732,0.0589815191924572,0.06613623350858688,0.06233673542737961,0.05724582076072693,0.011101162992417812,0.010876431129872799,0.010606757365167141,0.010794389992952347,0.009436569176614285,0.009344183839857578,0.009385315701365471,0.009385191835463047,0.011456938460469246,0.011618814431130886,0.011514325626194477,0.011467264033854008,0.014079483225941658,0.0145592475309968,0.013475454412400723,0.014069206081330776,0.012149428017437458,0.012266908772289753,0.012147737666964531,0.012835890986025333],[0.024548061192035675,0.02361130528151989,0.023880640044808388,0.023956047371029854,0.02433660440146923,0.024337489157915115,0.024895131587982178,0.024738295003771782,0.026380030438303947,0.026139801368117332,0.02685568854212761,0.028663167729973793,0.0170919019728899,0.017950071021914482,0.017522230744361877,0.01876496709883213,0.013497327454388142,0.013477743603289127,0.013143996708095074,0.013375409878790379,0.025358878076076508,0.024957889690995216,0.024566927924752235,0.024684201925992966,0.02085772715508938,0.021976502612233162,0.01874123141169548,0.020360834896564484,0.02273697964847088,0.02247314527630806,0.02243993990123272,0.022735686972737312],[0.020843811333179474,0.025005774572491646,0.022344717755913734,0.022929638624191284,0.03653471916913986,0.038176655769348145,0.037023916840553284,0.037039000540971756,0.015596846118569374,0.015669504180550575,0.01566758193075657,0.016034750267863274,0.012318167835474014,0.012272224761545658,0.01207023672759533,0.012338613159954548,0.010523856617510319,0.010367539711296558,0.010291030630469322,0.010439676232635975,0.013055270537734032,0.013245314359664917,0.013235164806246758,0.013064487837255001,0.015063123777508736,0.015401824377477169,0.01476628053933382,0.014963109977543354,0.01384634617716074,0.013759766705334187,0.013874209485948086,0.01364006195217371],[0.033603183925151825,0.039162494242191315,0.03620805963873863,0.035058993846178055,0.026246866211295128,0.026137003675103188,0.026418963447213173,0.025824831798672676,0.01595628820359707,0.014837785623967648,0.015369969420135021,0.01588089019060135,0.012656244449317455,0.012701176106929779,0.01279119960963726,0.01325252279639244,0.011083022691309452,0.010803827084600925,0.010763189755380154,0.01106052566319704,0.0116801792755723,0.011770940385758877,0.011762500740587711,0.011746461503207684,0.013919605873525143,0.014332852326333523,0.013426242396235466,0.013970141299068928,0.013500700704753399,0.013133229687809944,0.012956597842276096,0.012923011556267738],[0.0159457977861166,0.014982369728386402,0.015301271341741085,0.014957207255065441,0.018436461687088013,0.01894337125122547,0.01876831240952015,0.018488410860300064,0.018288299441337585,0.017407862469553947,0.01816074550151825,0.018946649506688118,0.01781599037349224,0.018437543883919716,0.018324004486203194,0.019353320822119713,0.014034781605005264,0.013984507881104946,0.013533894903957844,0.014007048681378365,0.018905090168118477,0.018561357632279396,0.01839423179626465,0.018516849726438522,0.014763212762773037,0.015437363646924496,0.014196738600730896,0.014624641276896,0.019888214766979218,0.019342022016644478,0.019347891211509705,0.01932762749493122],[0.02031807228922844,0.016312267631292343,0.017852898687124252,0.016376083716750145,0.009739327244460583,0.009676544927060604,0.009794103913009167,0.009749753400683403,0.016757870092988014,0.015029752627015114,0.015357185155153275,0.014770609326660633,0.012011043727397919,0.01170363463461399,0.01188188698142767,0.011834184639155865,0.013248816132545471,0.012779219076037407,0.012950772419571877,0.013160742819309235,0.009286480024456978,0.00937386229634285,0.009415139444172382,0.009403754957020283,0.019897397607564926,0.0190634373575449,0.022177791222929955,0.019547633826732635,0.012701822444796562,0.012811088003218174,0.012686632573604584,0.012794479727745056],[0.015108085237443447,0.011966442689299583,0.013567059300839901,0.012335282750427723,0.007567343767732382,0.007545409724116325,0.0076360516250133514,0.007577547803521156,0.010942232795059681,0.010208860971033573,0.010411083698272705,0.01027925405651331,0.011147350072860718,0.010759771801531315,0.010860680602490902,0.010568464174866676,0.012984923087060452,0.012771827168762684,0.012753378599882126,0.013229449279606342,0.007622676435858011,0.007720137946307659,0.007760526612401009,0.007739735301584005,0.011113500222563744,0.010826824232935905,0.011879654601216316,0.010988852940499783,0.01178336888551712,0.011945297010242939,0.011792409233748913,0.011943221092224121],[0.019918866455554962,0.015249144285917282,0.016765324398875237,0.015141351148486137,0.010093904100358486,0.010086623020470142,0.010314089246094227,0.0101575693115592,0.013490067794919014,0.01257579866796732,0.012819093652069569,0.01282859593629837,0.017277337610721588,0.017026588320732117,0.017286162823438644,0.01667703688144684,0.016617968678474426,0.015843205153942108,0.015365670435130596,0.01637902297079563,0.0110803646966815,0.011148816905915737,0.011250631883740425,0.011218186467885971,0.013427499681711197,0.013274244964122772,0.013887430541217327,0.013033406808972359,0.018950456753373146,0.01864525116980076,0.01845419593155384,0.019220001995563507],[0.01588318683207035,0.012034516781568527,0.013990676961839199,0.012552812695503235,0.007940142415463924,0.007941784337162971,0.007995576597750187,0.007967681623995304,0.013158406130969524,0.01207276526838541,0.012427566573023796,0.012163623236119747,0.011271057650446892,0.01102395262569189,0.011117341928184032,0.010821805335581303,0.01499615702778101,0.015307331457734108,0.0156523697078228,0.015565582551062107,0.00800553523004055,0.00803190004080534,0.008083654567599297,0.008089249022305012,0.01108104269951582,0.010830678045749664,0.011326703242957592,0.011080150492489338,0.015349888242781162,0.015252791345119476,0.015291825868189335,0.01593656651675701],[0.02812908962368965,0.024840960279107094,0.02593071572482586,0.026140233501791954,0.01934107020497322,0.019634626805782318,0.019584303721785545,0.019559616222977638,0.017848899587988853,0.015909647569060326,0.016653291881084442,0.017000019550323486,0.01447970513254404,0.01493403036147356,0.014407281763851643,0.015114657580852509,0.018086878582835197,0.015297435224056244,0.015391654334962368,0.015918463468551636,0.013109810650348663,0.013140017166733742,0.013401825912296772,0.013097253628075123,0.013017378747463226,0.013034467585384846,0.012776844203472137,0.012798902578651905,0.018371457234025,0.018691549077630043,0.017985939979553223,0.018175875768065453],[0.03453701362013817,0.03672487661242485,0.03509251028299332,0.03360798582434654,0.02281443029642105,0.023177001625299454,0.02326691709458828,0.02289379946887493,0.021794643253087997,0.019411267712712288,0.020226705819368362,0.02091320976614952,0.01850960962474346,0.020013131201267242,0.01919330470263958,0.020508240908384323,0.014673124998807907,0.013692483305931091,0.013688468374311924,0.014026637189090252,0.02083110436797142,0.020331623032689095,0.020808948203921318,0.020414995029568672,0.015489894896745682,0.01590106077492237,0.014912092126905918,0.015122344717383385,0.01892467774450779,0.01842610351741314,0.018047012388706207,0.017804093658924103],[0.023021331056952477,0.021932030096650124,0.021284306421875954,0.0211970042437315,0.0220577921718359,0.0234706848859787,0.022150209173560143,0.022950701415538788,0.017457814887166023,0.016077231615781784,0.016905302181839943,0.01706141047179699,0.015797119587659836,0.015620040707290173,0.015174588188529015,0.015089048072695732,0.012767068110406399,0.012109530158340931,0.012325807474553585,0.012305575422942638,0.014588144607841969,0.014696452766656876,0.0146592166274786,0.014680171385407448,0.018008854240179062,0.019680902361869812,0.01702096126973629,0.017970766872167587,0.01486374530941248,0.015401069074869156,0.014834578149020672,0.014994414523243904],[0.023795224726200104,0.01896260492503643,0.02089114300906658,0.019761763513088226,0.015372157096862793,0.015467827208340168,0.015556154772639275,0.015416505746543407,0.018827011808753014,0.016952713951468468,0.017666267231106758,0.017869768664240837,0.011239137500524521,0.011233489029109478,0.011143716052174568,0.011188212782144547,0.010716094635426998,0.010286513715982437,0.010261115618050098,0.01049771998077631,0.013265459798276424,0.013285145163536072,0.01352943480014801,0.013246349059045315,0.01147507969290018,0.011565412394702435,0.011276640929281712,0.011362701654434204,0.01263191644102335,0.01266125962138176,0.012469048611819744,0.012518074363470078],[0.013496138155460358,0.013920897617936134,0.01403338834643364,0.013609682209789753,0.01061983685940504,0.010602502152323723,0.010629797354340553,0.010665051639080048,0.010773424059152603,0.010462765581905842,0.010618621483445168,0.010750001296401024,0.0176836084574461,0.018732139840722084,0.01821332983672619,0.019168009981513023,0.013997577130794525,0.014206971973180771,0.013881251215934753,0.014005832374095917,0.012514754198491573,0.012483013793826103,0.012531607411801815,0.012577366083860397,0.012335577979683876,0.012310030870139599,0.01242231298238039,0.012271213345229626,0.01569392904639244,0.015753669664263725,0.016453728079795837,0.015608029440045357],[0.021302921697497368,0.02535475231707096,0.023440655320882797,0.02172962762415409,0.010056309401988983,0.009955343790352345,0.010282807052135468,0.010100753977894783,0.010830864310264587,0.010480692610144615,0.010489843785762787,0.010652696713805199,0.03172652795910835,0.035137973725795746,0.03399163857102394,0.03870372846722603,0.027332697063684464,0.02620488591492176,0.025450823828577995,0.02644827403128147,0.019841207191348076,0.019133824855089188,0.0191947128623724,0.020223569124937057,0.013585410080850124,0.013821849599480629,0.014183326624333858,0.01318377535790205,0.018935587257146835,0.018557000905275345,0.018769539892673492,0.017836138606071472],[0.023403648287057877,0.028665816411376,0.02616065926849842,0.02484026923775673,0.010410423390567303,0.010533980093896389,0.010493517853319645,0.010528195649385452,0.011551395058631897,0.011232506483793259,0.01132493931800127,0.011383699253201485,0.028341062366962433,0.0319879911839962,0.031016767024993896,0.035443998873233795,0.02568727917969227,0.025276323780417442,0.023930158466100693,0.024862758815288544,0.016827963292598724,0.01625054143369198,0.016270451247692108,0.0168998334556818,0.016980238258838654,0.016897141933441162,0.019016249105334282,0.01737382262945175,0.018374960869550705,0.018033793196082115,0.018039343878626823,0.017570119351148605],[0.02159055881202221,0.025809722021222115,0.024054881185293198,0.022788716480135918,0.010555820539593697,0.010631238110363483,0.010637379251420498,0.01059242058545351,0.01186318974941969,0.011698408052325249,0.01173829659819603,0.01186935231089592,0.02296491712331772,0.02532920055091381,0.02504487708210945,0.029040159657597542,0.022969549521803856,0.022404992952942848,0.021613571792840958,0.0221785306930542,0.014892968349158764,0.014541402459144592,0.014459657482802868,0.014917425811290741,0.013954641297459602,0.014146075583994389,0.014427708461880684,0.014108406379818916,0.015890244394540787,0.015699494630098343,0.01553621981292963,0.015381048433482647],[0.02699950523674488,0.025646641850471497,0.025627262890338898,0.025165153667330742,0.01610337570309639,0.016206590458750725,0.016386598348617554,0.016121672466397285,0.02092759869992733,0.019845401868224144,0.020027289167046547,0.019251395016908646,0.014996065758168697,0.015440955758094788,0.014634078368544579,0.015247553586959839,0.013432181440293789,0.012333899736404419,0.012641143053770065,0.012609008699655533,0.011772642843425274,0.011822139844298363,0.011902544647455215,0.011825361289083958,0.015568741597235203,0.015377223491668701,0.01597188599407673,0.015465520322322845,0.013415499590337276,0.013735615648329258,0.013614373281598091,0.01345430500805378],[0.02494024485349655,0.02177412062883377,0.02268843725323677,0.02158379554748535,0.011289565823972225,0.011263313703238964,0.011407042853534222,0.01132521778345108,0.01805318333208561,0.016747619956731796,0.017172960564494133,0.016380682587623596,0.012777134776115417,0.012705929577350616,0.012651266530156136,0.013021656312048435,0.013074425980448723,0.012532263994216919,0.012574159540235996,0.012860337272286415,0.010275743901729584,0.010301103815436363,0.010371058247983456,0.010314642451703548,0.01351336482912302,0.013181627728044987,0.013756983913481236,0.013358679600059986,0.012477761134505272,0.012587105855345726,0.012487542815506458,0.01253803912550211],[0.02645922638475895,0.02799825556576252,0.026486212387681007,0.025419028475880623,0.014342372305691242,0.01441244874149561,0.01453443244099617,0.014347843825817108,0.017772788181900978,0.016924044117331505,0.0171327143907547,0.01667638123035431,0.014144688844680786,0.014475292526185513,0.013935049064457417,0.014570062048733234,0.012416000477969646,0.011957663111388683,0.01206940971314907,0.012090696021914482,0.010609583929181099,0.01064402423799038,0.010655711404979229,0.010671394877135754,0.013476088643074036,0.013290160335600376,0.013820486143231392,0.013368725776672363,0.012539242394268513,0.012700960971415043,0.012526175007224083,0.012524696066975594],[0.026118656620383263,0.03130921348929405,0.028406156226992607,0.02755725011229515,0.014290968887507915,0.014452407136559486,0.014522626996040344,0.014341332018375397,0.013705297373235226,0.013284158892929554,0.013445066288113594,0.013646388426423073,0.015635821968317032,0.015686925500631332,0.0157537329941988,0.016613751649856567,0.016484437510371208,0.014625719748437405,0.014958936721086502,0.015029940754175186,0.01210690289735794,0.012071504257619381,0.012020713649690151,0.012123995460569859,0.012376426719129086,0.012460901401937008,0.012382795102894306,0.01222268771380186,0.01356044877320528,0.013668603263795376,0.01341705210506916,0.013340211473405361],[0.014758466742932796,0.014500187709927559,0.01433897390961647,0.014724181964993477,0.042791664600372314,0.041978102177381516,0.04273547977209091,0.041689857840538025,0.017726121470332146,0.0167641993612051,0.01736977882683277,0.01832246407866478,0.011288243345916271,0.01123565249145031,0.010967436246573925,0.011144786141812801,0.010452539660036564,0.010539167560636997,0.010371549054980278,0.010497521609067917,0.01626584865152836,0.01644628308713436,0.016157740727066994,0.016120465472340584,0.029533950611948967,0.029374532401561737,0.027208708226680756,0.030044397339224815,0.013756480067968369,0.013567367568612099,0.013579869642853737,0.013510646298527718],[0.01791338622570038,0.016697514802217484,0.017290925607085228,0.016723724082112312,0.019294237717986107,0.01907912828028202,0.019461650401353836,0.019083142280578613,0.02374754659831524,0.021083660423755646,0.022230615839362144,0.02339000813663006,0.010370500385761261,0.010416176170110703,0.010277051478624344,0.010378239676356316,0.00996125116944313,0.009986262768507004,0.009900855831801891,0.010043445974588394,0.02004191279411316,0.019603297114372253,0.019486848264932632,0.019459852948784828,0.012953006662428379,0.012964445166289806,0.01250625029206276,0.012803220190107822,0.012783876620233059,0.012588157318532467,0.012468916364014149,0.012448311783373356],[0.039428599178791046,0.041326481848955154,0.040287092328071594,0.04033014178276062,0.033330388367176056,0.03276805207133293,0.03341653198003769,0.032237716019153595,0.024753140285611153,0.02384530007839203,0.02399658039212227,0.02534269355237484,0.013303767889738083,0.013754252344369888,0.013162782415747643,0.013544936664402485,0.009980235248804092,0.009935923852026463,0.009891467168927193,0.01002497784793377,0.030581176280975342,0.02965504676103592,0.029267026111483574,0.029468843713402748,0.017601381987333298,0.017867155373096466,0.016029104590415955,0.017318563535809517,0.0124827204272151,0.012317195534706116,0.012108403258025646,0.012145438231527805],[0.017011433839797974,0.01819668896496296,0.01764352060854435,0.017636924982070923,0.02487204037606716,0.02464323304593563,0.024854570627212524,0.02424226887524128,0.013201912865042686,0.012949281372129917,0.013211745768785477,0.013638036325573921,0.009801272302865982,0.009838461875915527,0.009676853194832802,0.009815653786063194,0.008608301170170307,0.008576720021665096,0.008561346679925919,0.008622544817626476,0.012338392436504364,0.01242548692971468,0.012309467419981956,0.012272048741579056,0.012204531580209732,0.012190193869173527,0.011732205748558044,0.0119803287088871,0.012457520700991154,0.012304830364882946,0.012219639495015144,0.011990305967628956]],\"type\":\"heatmap\",\"xaxis\":\"x\",\"yaxis\":\"y\",\"hovertemplate\":\"Layer 1: %{x}\\u003cbr\\u003eLayer 0: %{y}\\u003cbr\\u003ecolor: %{z}\\u003cextra\\u003e\\u003c\\u002fextra\\u003e\"}],                        {\"template\":{\"data\":{\"histogram2dcontour\":[{\"type\":\"histogram2dcontour\",\"colorbar\":{\"outlinewidth\":0,\"ticks\":\"\"},\"colorscale\":[[0.0,\"#0d0887\"],[0.1111111111111111,\"#46039f\"],[0.2222222222222222,\"#7201a8\"],[0.3333333333333333,\"#9c179e\"],[0.4444444444444444,\"#bd3786\"],[0.5555555555555556,\"#d8576b\"],[0.6666666666666666,\"#ed7953\"],[0.7777777777777778,\"#fb9f3a\"],[0.8888888888888888,\"#fdca26\"],[1.0,\"#f0f921\"]]}],\"choropleth\":[{\"type\":\"choropleth\",\"colorbar\":{\"outlinewidth\":0,\"ticks\":\"\"}}],\"histogram2d\":[{\"type\":\"histogram2d\",\"colorbar\":{\"outlinewidth\":0,\"ticks\":\"\"},\"colorscale\":[[0.0,\"#0d0887\"],[0.1111111111111111,\"#46039f\"],[0.2222222222222222,\"#7201a8\"],[0.3333333333333333,\"#9c179e\"],[0.4444444444444444,\"#bd3786\"],[0.5555555555555556,\"#d8576b\"],[0.6666666666666666,\"#ed7953\"],[0.7777777777777778,\"#fb9f3a\"],[0.8888888888888888,\"#fdca26\"],[1.0,\"#f0f921\"]]}],\"heatmap\":[{\"type\":\"heatmap\",\"colorbar\":{\"outlinewidth\":0,\"ticks\":\"\"},\"colorscale\":[[0.0,\"#0d0887\"],[0.1111111111111111,\"#46039f\"],[0.2222222222222222,\"#7201a8\"],[0.3333333333333333,\"#9c179e\"],[0.4444444444444444,\"#bd3786\"],[0.5555555555555556,\"#d8576b\"],[0.6666666666666666,\"#ed7953\"],[0.7777777777777778,\"#fb9f3a\"],[0.8888888888888888,\"#fdca26\"],[1.0,\"#f0f921\"]]}],\"heatmapgl\":[{\"type\":\"heatmapgl\",\"colorbar\":{\"outlinewidth\":0,\"ticks\":\"\"},\"colorscale\":[[0.0,\"#0d0887\"],[0.1111111111111111,\"#46039f\"],[0.2222222222222222,\"#7201a8\"],[0.3333333333333333,\"#9c179e\"],[0.4444444444444444,\"#bd3786\"],[0.5555555555555556,\"#d8576b\"],[0.6666666666666666,\"#ed7953\"],[0.7777777777777778,\"#fb9f3a\"],[0.8888888888888888,\"#fdca26\"],[1.0,\"#f0f921\"]]}],\"contourcarpet\":[{\"type\":\"contourcarpet\",\"colorbar\":{\"outlinewidth\":0,\"ticks\":\"\"}}],\"contour\":[{\"type\":\"contour\",\"colorbar\":{\"outlinewidth\":0,\"ticks\":\"\"},\"colorscale\":[[0.0,\"#0d0887\"],[0.1111111111111111,\"#46039f\"],[0.2222222222222222,\"#7201a8\"],[0.3333333333333333,\"#9c179e\"],[0.4444444444444444,\"#bd3786\"],[0.5555555555555556,\"#d8576b\"],[0.6666666666666666,\"#ed7953\"],[0.7777777777777778,\"#fb9f3a\"],[0.8888888888888888,\"#fdca26\"],[1.0,\"#f0f921\"]]}],\"surface\":[{\"type\":\"surface\",\"colorbar\":{\"outlinewidth\":0,\"ticks\":\"\"},\"colorscale\":[[0.0,\"#0d0887\"],[0.1111111111111111,\"#46039f\"],[0.2222222222222222,\"#7201a8\"],[0.3333333333333333,\"#9c179e\"],[0.4444444444444444,\"#bd3786\"],[0.5555555555555556,\"#d8576b\"],[0.6666666666666666,\"#ed7953\"],[0.7777777777777778,\"#fb9f3a\"],[0.8888888888888888,\"#fdca26\"],[1.0,\"#f0f921\"]]}],\"mesh3d\":[{\"type\":\"mesh3d\",\"colorbar\":{\"outlinewidth\":0,\"ticks\":\"\"}}],\"scatter\":[{\"fillpattern\":{\"fillmode\":\"overlay\",\"size\":10,\"solidity\":0.2},\"type\":\"scatter\"}],\"parcoords\":[{\"type\":\"parcoords\",\"line\":{\"colorbar\":{\"outlinewidth\":0,\"ticks\":\"\"}}}],\"scatterpolargl\":[{\"type\":\"scatterpolargl\",\"marker\":{\"colorbar\":{\"outlinewidth\":0,\"ticks\":\"\"}}}],\"bar\":[{\"error_x\":{\"color\":\"#2a3f5f\"},\"error_y\":{\"color\":\"#2a3f5f\"},\"marker\":{\"line\":{\"color\":\"#E5ECF6\",\"width\":0.5},\"pattern\":{\"fillmode\":\"overlay\",\"size\":10,\"solidity\":0.2}},\"type\":\"bar\"}],\"scattergeo\":[{\"type\":\"scattergeo\",\"marker\":{\"colorbar\":{\"outlinewidth\":0,\"ticks\":\"\"}}}],\"scatterpolar\":[{\"type\":\"scatterpolar\",\"marker\":{\"colorbar\":{\"outlinewidth\":0,\"ticks\":\"\"}}}],\"histogram\":[{\"marker\":{\"pattern\":{\"fillmode\":\"overlay\",\"size\":10,\"solidity\":0.2}},\"type\":\"histogram\"}],\"scattergl\":[{\"type\":\"scattergl\",\"marker\":{\"colorbar\":{\"outlinewidth\":0,\"ticks\":\"\"}}}],\"scatter3d\":[{\"type\":\"scatter3d\",\"line\":{\"colorbar\":{\"outlinewidth\":0,\"ticks\":\"\"}},\"marker\":{\"colorbar\":{\"outlinewidth\":0,\"ticks\":\"\"}}}],\"scattermapbox\":[{\"type\":\"scattermapbox\",\"marker\":{\"colorbar\":{\"outlinewidth\":0,\"ticks\":\"\"}}}],\"scatterternary\":[{\"type\":\"scatterternary\",\"marker\":{\"colorbar\":{\"outlinewidth\":0,\"ticks\":\"\"}}}],\"scattercarpet\":[{\"type\":\"scattercarpet\",\"marker\":{\"colorbar\":{\"outlinewidth\":0,\"ticks\":\"\"}}}],\"carpet\":[{\"aaxis\":{\"endlinecolor\":\"#2a3f5f\",\"gridcolor\":\"white\",\"linecolor\":\"white\",\"minorgridcolor\":\"white\",\"startlinecolor\":\"#2a3f5f\"},\"baxis\":{\"endlinecolor\":\"#2a3f5f\",\"gridcolor\":\"white\",\"linecolor\":\"white\",\"minorgridcolor\":\"white\",\"startlinecolor\":\"#2a3f5f\"},\"type\":\"carpet\"}],\"table\":[{\"cells\":{\"fill\":{\"color\":\"#EBF0F8\"},\"line\":{\"color\":\"white\"}},\"header\":{\"fill\":{\"color\":\"#C8D4E3\"},\"line\":{\"color\":\"white\"}},\"type\":\"table\"}],\"barpolar\":[{\"marker\":{\"line\":{\"color\":\"#E5ECF6\",\"width\":0.5},\"pattern\":{\"fillmode\":\"overlay\",\"size\":10,\"solidity\":0.2}},\"type\":\"barpolar\"}],\"pie\":[{\"automargin\":true,\"type\":\"pie\"}]},\"layout\":{\"autotypenumbers\":\"strict\",\"colorway\":[\"#636efa\",\"#EF553B\",\"#00cc96\",\"#ab63fa\",\"#FFA15A\",\"#19d3f3\",\"#FF6692\",\"#B6E880\",\"#FF97FF\",\"#FECB52\"],\"font\":{\"color\":\"#2a3f5f\"},\"hovermode\":\"closest\",\"hoverlabel\":{\"align\":\"left\"},\"paper_bgcolor\":\"white\",\"plot_bgcolor\":\"#E5ECF6\",\"polar\":{\"bgcolor\":\"#E5ECF6\",\"angularaxis\":{\"gridcolor\":\"white\",\"linecolor\":\"white\",\"ticks\":\"\"},\"radialaxis\":{\"gridcolor\":\"white\",\"linecolor\":\"white\",\"ticks\":\"\"}},\"ternary\":{\"bgcolor\":\"#E5ECF6\",\"aaxis\":{\"gridcolor\":\"white\",\"linecolor\":\"white\",\"ticks\":\"\"},\"baxis\":{\"gridcolor\":\"white\",\"linecolor\":\"white\",\"ticks\":\"\"},\"caxis\":{\"gridcolor\":\"white\",\"linecolor\":\"white\",\"ticks\":\"\"}},\"coloraxis\":{\"colorbar\":{\"outlinewidth\":0,\"ticks\":\"\"}},\"colorscale\":{\"sequential\":[[0.0,\"#0d0887\"],[0.1111111111111111,\"#46039f\"],[0.2222222222222222,\"#7201a8\"],[0.3333333333333333,\"#9c179e\"],[0.4444444444444444,\"#bd3786\"],[0.5555555555555556,\"#d8576b\"],[0.6666666666666666,\"#ed7953\"],[0.7777777777777778,\"#fb9f3a\"],[0.8888888888888888,\"#fdca26\"],[1.0,\"#f0f921\"]],\"sequentialminus\":[[0.0,\"#0d0887\"],[0.1111111111111111,\"#46039f\"],[0.2222222222222222,\"#7201a8\"],[0.3333333333333333,\"#9c179e\"],[0.4444444444444444,\"#bd3786\"],[0.5555555555555556,\"#d8576b\"],[0.6666666666666666,\"#ed7953\"],[0.7777777777777778,\"#fb9f3a\"],[0.8888888888888888,\"#fdca26\"],[1.0,\"#f0f921\"]],\"diverging\":[[0,\"#8e0152\"],[0.1,\"#c51b7d\"],[0.2,\"#de77ae\"],[0.3,\"#f1b6da\"],[0.4,\"#fde0ef\"],[0.5,\"#f7f7f7\"],[0.6,\"#e6f5d0\"],[0.7,\"#b8e186\"],[0.8,\"#7fbc41\"],[0.9,\"#4d9221\"],[1,\"#276419\"]]},\"xaxis\":{\"gridcolor\":\"white\",\"linecolor\":\"white\",\"ticks\":\"\",\"title\":{\"standoff\":15},\"zerolinecolor\":\"white\",\"automargin\":true,\"zerolinewidth\":2},\"yaxis\":{\"gridcolor\":\"white\",\"linecolor\":\"white\",\"ticks\":\"\",\"title\":{\"standoff\":15},\"zerolinecolor\":\"white\",\"automargin\":true,\"zerolinewidth\":2},\"scene\":{\"xaxis\":{\"backgroundcolor\":\"#E5ECF6\",\"gridcolor\":\"white\",\"linecolor\":\"white\",\"showbackground\":true,\"ticks\":\"\",\"zerolinecolor\":\"white\",\"gridwidth\":2},\"yaxis\":{\"backgroundcolor\":\"#E5ECF6\",\"gridcolor\":\"white\",\"linecolor\":\"white\",\"showbackground\":true,\"ticks\":\"\",\"zerolinecolor\":\"white\",\"gridwidth\":2},\"zaxis\":{\"backgroundcolor\":\"#E5ECF6\",\"gridcolor\":\"white\",\"linecolor\":\"white\",\"showbackground\":true,\"ticks\":\"\",\"zerolinecolor\":\"white\",\"gridwidth\":2}},\"shapedefaults\":{\"line\":{\"color\":\"#2a3f5f\"}},\"annotationdefaults\":{\"arrowcolor\":\"#2a3f5f\",\"arrowhead\":0,\"arrowwidth\":1},\"geo\":{\"bgcolor\":\"white\",\"landcolor\":\"#E5ECF6\",\"subunitcolor\":\"white\",\"showland\":true,\"showlakes\":true,\"lakecolor\":\"white\"},\"title\":{\"x\":0.05},\"mapbox\":{\"style\":\"light\"}}},\"xaxis\":{\"anchor\":\"y\",\"domain\":[0.0,1.0],\"scaleanchor\":\"y\",\"constrain\":\"domain\",\"title\":{\"text\":\"Layer 1\"}},\"yaxis\":{\"anchor\":\"x\",\"domain\":[0.0,1.0],\"autorange\":\"reversed\",\"constrain\":\"domain\",\"title\":{\"text\":\"Layer 0\"}},\"coloraxis\":{\"colorscale\":[[0.0,\"rgb(247,251,255)\"],[0.125,\"rgb(222,235,247)\"],[0.25,\"rgb(198,219,239)\"],[0.375,\"rgb(158,202,225)\"],[0.5,\"rgb(107,174,214)\"],[0.625,\"rgb(66,146,198)\"],[0.75,\"rgb(33,113,181)\"],[0.875,\"rgb(8,81,156)\"],[1.0,\"rgb(8,48,107)\"]],\"cmin\":0.0,\"cmax\":0.06613623350858688},\"title\":{\"text\":\"V Composition Scores\"}},                        {\"responsive\": true}                    ).then(function(){\n",
       "                            \n",
       "var gd = document.getElementById('bb2cbb86-9735-4897-8ca6-7de5fde7497c');\n",
       "var x = new MutationObserver(function (mutations, observer) {{\n",
       "        var display = window.getComputedStyle(gd).display;\n",
       "        if (!display || display === 'none') {{\n",
       "            console.log([gd, 'removed!']);\n",
       "            Plotly.purge(gd);\n",
       "            observer.disconnect();\n",
       "        }}\n",
       "}});\n",
       "\n",
       "// Listen for the removal of the full notebook cells\n",
       "var notebookContainer = gd.closest('#notebook-container');\n",
       "if (notebookContainer) {{\n",
       "    x.observe(notebookContainer, {childList: true});\n",
       "}}\n",
       "\n",
       "// Listen for the clearing of the current output cell\n",
       "var outputEl = gd.closest('.output');\n",
       "if (outputEl) {{\n",
       "    x.observe(outputEl, {childList: true});\n",
       "}}\n",
       "\n",
       "                        })                };                });            </script>        </div>"
      ]
     },
     "metadata": {},
     "output_type": "display_data"
    }
   ],
   "source": [
    "# Plot the composition scores\n",
    "for comp_type in \"QKV\":\n",
    "    plot_comp_scores(model, composition_scores[comp_type], layers, f\"{comp_type} Composition Scores\").show()"
   ]
  },
  {
   "cell_type": "code",
   "execution_count": 42,
   "metadata": {},
   "outputs": [
    {
     "data": {
      "text/plain": [
       "4"
      ]
     },
     "execution_count": 42,
     "metadata": {},
     "output_type": "execute_result"
    }
   ],
   "source": [
    "model.cfg.n_heads // model.cfg.n_key_value_heads"
   ]
  },
  {
   "cell_type": "code",
   "execution_count": null,
   "metadata": {},
   "outputs": [],
   "source": []
  }
 ],
 "metadata": {
  "kernelspec": {
   "display_name": "mistral",
   "language": "python",
   "name": "python3"
  },
  "language_info": {
   "codemirror_mode": {
    "name": "ipython",
    "version": 3
   },
   "file_extension": ".py",
   "mimetype": "text/x-python",
   "name": "python",
   "nbconvert_exporter": "python",
   "pygments_lexer": "ipython3",
   "version": "3.11.5"
  }
 },
 "nbformat": 4,
 "nbformat_minor": 2
}
