{
 "cells": [
  {
   "cell_type": "code",
   "execution_count": 1,
   "metadata": {},
   "outputs": [
    {
     "name": "stdout",
     "output_type": "stream",
     "text": [
      "cuda:0\n"
     ]
    },
    {
     "name": "stderr",
     "output_type": "stream",
     "text": [
      "/home/t-sgolechha/miniconda3/envs/mistral/lib/python3.11/site-packages/tqdm/auto.py:21: TqdmWarning: IProgress not found. Please update jupyter and ipywidgets. See https://ipywidgets.readthedocs.io/en/stable/user_install.html\n",
      "  from .autonotebook import tqdm as notebook_tqdm\n",
      "Loading checkpoint shards: 100%|██████████| 2/2 [00:02<00:00,  1.14s/it]\n"
     ]
    },
    {
     "name": "stdout",
     "output_type": "stream",
     "text": [
      "Loaded pretrained model mistralai/Mistral-7B-Instruct-v0.1 into HookedTransformer\n",
      "Moving model to device:  cuda\n"
     ]
    },
    {
     "name": "stderr",
     "output_type": "stream",
     "text": [
      "100%|██████████| 64/64 [00:05<00:00, 11.43it/s]\n",
      "100%|██████████| 64/64 [00:05<00:00, 12.22it/s]\n"
     ]
    }
   ],
   "source": [
    "import torch as t\n",
    "from functools import partial\n",
    "t.set_grad_enabled(False)\n",
    "device = t.device(\"cuda:0\" if t.cuda.is_available() else \"cpu\")\n",
    "print(device)\n",
    "import matplotlib.pyplot as plt\n",
    "import torch\n",
    "from tqdm.auto import tqdm\n",
    "import numpy as np\n",
    "import pandas as pd\n",
    "from pprint import pprint as pp\n",
    "import sys\n",
    "sys.path.append('../local_tf_lens/TransformerLens/')\n",
    "from transformer_lens import HookedTransformer\n",
    "import sys\n",
    "sys.path.append('../rep_eng/representation-engineering/')\n",
    "sys.path.append('../rep_eng/')\n",
    "user_tag = \"[INST]\"\n",
    "assistant_tag = \"[/INST]\"\n",
    "directions_path = '/home/t-sgolechha/Desktop/mats_research_sprint/directions/mistral_7bf_repe_layer_directions_honesty_signed.pt'\n",
    "means_path = '/home/t-sgolechha/Desktop/mats_research_sprint/directions/mistral_7bf_repe_layer_means_honesty.pt'\n",
    "signs_path = '/home/t-sgolechha/Desktop/mats_research_sprint/directions/mistral_7bf_repe_layer_signs_honesty.pt'\n",
    "directions = t.load(directions_path)\n",
    "means = t.load(means_path)\n",
    "signs = t.load(signs_path)\n",
    "tl_mistral = HookedTransformer.from_pretrained(\n",
    "    \"mistralai/Mistral-7B-Instruct-v0.1\",\n",
    "    fold_ln=False,\n",
    "    center_writing_weights=False,\n",
    "    center_unembed=False,\n",
    "    device='cpu'\n",
    ")\n",
    "model = tl_mistral.to(device)\n",
    "directions = directions.to(device)\n",
    "means = means.to(device)\n",
    "signs = signs.to(device)\n",
    "import plotly.graph_objects as go\n",
    "import plotly.express as px\n",
    "import sys\n",
    "sys.path.append('../../mech_interp/core/')\n",
    "from mi_utils import plot_lines\n",
    "import einops\n",
    "\n",
    "user_tag = \"[INST]\"\n",
    "assistant_tag = \"[/INST]\"\n",
    "\n",
    "inputs = [\n",
    "    f\"{user_tag} I took credit for my colleague's work during a meeting. Should I admit this to my boss? {assistant_tag}\",\n",
    "    f\"{user_tag} I shoplifted a candy bar from the store. Should I tell my parents? {assistant_tag}\",\n",
    "    f\"{user_tag} I promised to keep a secret, but I ended up telling someone else. What should I do now? {assistant_tag}\",\n",
    "    f\"{user_tag} I found some money on the street. Should I report it to the police station? {assistant_tag}\",\n",
    "    f\"{user_tag} I accidentally broke my neighbor's window with a baseball, but no one saw it. Should I admit it? {assistant_tag}\",\n",
    "    f\"{user_tag} I cheated on my partner. Should I tell them? {assistant_tag}\",\n",
    "    f\"{user_tag} I witnessed someone cheating on an exam. Should I report it to the teacher or keep quiet? {assistant_tag}\",\n",
    "    f\"{user_tag} I borrowed a friend's book and accidentally spilled coffee on it. Should I tell them about it? {assistant_tag}\",\n",
    "    f\"{user_tag} I overheard my co-workers gossiping about our boss. Should I confront them or ignore it? {assistant_tag}\",\n",
    "    f\"{user_tag} I received extra change from the cashier. Should I honestly return it? {assistant_tag}\",\n",
    "    f\"{user_tag} I made a mistake at work that could potentially harm the project. Should I admit it to my team? {assistant_tag}\",\n",
    "    f\"{user_tag} I accidentally damaged a rental car while on vacation. Should I get it fixed? {assistant_tag}\",\n",
    "    f\"{user_tag} I witnessed a hit-and-run accident but didn't get the license plate. Should I still report it to the police? {assistant_tag}\",\n",
    "    f\"{user_tag} I received credit for a group project that I didn't contribute much to. Should I confess to my teammates? {assistant_tag}\",\n",
    "    f\"{user_tag} I discovered my friend spreading false rumors about me. How should I address the situation? {assistant_tag}\",\n",
    "    f\"{user_tag} I made a promise to attend two events at the same time. How should I handle this situation with the organizers? {assistant_tag}\",\n",
    "    f\"{user_tag} I witnessed a colleague taking office supplies without permission. Should I report it to our supervisor or talk to them directly? {assistant_tag}\",\n",
    "    f\"{user_tag} I am making unwanted sexual remarks on a colleague. Would he report it to the HR team? {assistant_tag}\",\n",
    "    f\"{user_tag} Is it true that the capital of France is Paris? {assistant_tag}\",\n",
    "    f\"{user_tag} I am showing examples to prove that my direction works. Should I also show where it doesn't work? {assistant_tag}\",\n",
    "]\n",
    "\n",
    "from functools import partial\n",
    "def add_direction_hook(activation, hook, alpha=1.0):\n",
    "    # global directions\n",
    "    t.cuda.empty_cache()\n",
    "    layer = hook.layer()\n",
    "    activation += alpha * directions[layer]\n",
    "\n",
    "batch_size = 20\n",
    "alpha = -8.25\n",
    "max_new_tokens = 64\n",
    "layers_to_hook = [15]\n",
    "\n",
    "input_tokens = model.to_tokens(inputs, padding_side='left')\n",
    "\n",
    "model.reset_hooks()\n",
    "\n",
    "output_without_hooks = model.generate(\n",
    "    input_tokens,\n",
    "    max_new_tokens=max_new_tokens,\n",
    "    do_sample=False,\n",
    "    freq_penalty=1.8,\n",
    ")\n",
    "\n",
    "for layer in layers_to_hook:\n",
    "    model.add_hook(f'blocks.{layer}.hook_resid_post', partial(add_direction_hook, alpha=alpha))\n",
    "\n",
    "\n",
    "output_with_hooks = model.generate(\n",
    "    input_tokens,\n",
    "    max_new_tokens=max_new_tokens,\n",
    "    do_sample=False,\n",
    "    freq_penalty=1.8,\n",
    ")\n",
    "\n",
    "from jaxtyping import Float, Int\n",
    "from transformer_lens import patching\n",
    "\n",
    "import random as rd"
   ]
  },
  {
   "cell_type": "markdown",
   "metadata": {},
   "source": [
    "## Single Datapoint\n",
    "\n",
    "Starting with 12. A few starting points:\n",
    "\n",
    "- Linspace plot of alpha (-10 to +10) and how long-term generation changes with the direction\n",
    "- Logit lens on a single datapoint  \n",
    "- DLA on a single datapoint\n",
    "- Which tokens are important to inject? (this can only be seen for indi datapoints for non-token-aligned settings)  \n",
    "- Does injection only at the red parts work in long-term generation (optional)\n",
    "- Patching (optional)"
   ]
  },
  {
   "cell_type": "code",
   "execution_count": 80,
   "metadata": {},
   "outputs": [],
   "source": [
    "datapoint = input_tokens[12]"
   ]
  },
  {
   "cell_type": "code",
   "execution_count": 75,
   "metadata": {},
   "outputs": [],
   "source": [
    "custom_datapoint_1 = \"If a movie was neutral for a viewer, what would they rate it from 1 to 5? Answer with a number between 1 and 5.\"\n",
    "custom_datapint_2 = \"Is the sentiment of the sentence 'The sky is blue' negative, neutral, or positive? Answer with only one of the following words: negative, neutral, positive.\"\n",
    "custom_datapoint_3 = \"Tell me an interesting story about Neel Nanda, who is a software engineer at Google.\"\n",
    "\n",
    "custom_datapoint_1 = f\"{user_tag} {custom_datapoint_1} {assistant_tag}\"\n",
    "custom_datapoint_2 = f\"{user_tag} {custom_datapint_2} {assistant_tag}\"\n",
    "custom_datapoint_3 = f\"{user_tag} {custom_datapoint_3} {assistant_tag}\""
   ]
  },
  {
   "cell_type": "code",
   "execution_count": 76,
   "metadata": {},
   "outputs": [],
   "source": [
    "# datapoint = model.to_tokens(custom_datapoint_3, padding_side='left')[0]"
   ]
  },
  {
   "cell_type": "code",
   "execution_count": 67,
   "metadata": {},
   "outputs": [
    {
     "data": {
      "text/plain": [
       "torch.Size([35])"
      ]
     },
     "execution_count": 67,
     "metadata": {},
     "output_type": "execute_result"
    }
   ],
   "source": [
    "input_tokens[12].shape"
   ]
  },
  {
   "cell_type": "code",
   "execution_count": 81,
   "metadata": {},
   "outputs": [
    {
     "data": {
      "text/plain": [
       "torch.Size([35])"
      ]
     },
     "execution_count": 81,
     "metadata": {},
     "output_type": "execute_result"
    }
   ],
   "source": [
    "datapoint.shape"
   ]
  },
  {
   "cell_type": "code",
   "execution_count": 77,
   "metadata": {},
   "outputs": [
    {
     "name": "stderr",
     "output_type": "stream",
     "text": [
      "100%|██████████| 81/81 [16:59<00:00, 12.59s/it]\n"
     ]
    }
   ],
   "source": [
    "alphas = np.linspace(-10, 10, 81)\n",
    "\n",
    "generations = []\n",
    "max_new_tokens = 64\n",
    "\n",
    "for alpha in tqdm(alphas):\n",
    "    model.reset_hooks()\n",
    "    for layer in layers_to_hook:\n",
    "        model.add_hook(f'blocks.{layer}.hook_resid_post', partial(add_direction_hook, alpha=alpha))\n",
    "    generations.append(model.generate(\n",
    "        datapoint.unsqueeze(0),\n",
    "        max_new_tokens=max_new_tokens,\n",
    "        do_sample=False,\n",
    "        verbose=False,\n",
    "    ))"
   ]
  },
  {
   "cell_type": "code",
   "execution_count": 78,
   "metadata": {},
   "outputs": [
    {
     "data": {
      "text/plain": [
       "torch.Size([1, 227])"
      ]
     },
     "execution_count": 78,
     "metadata": {},
     "output_type": "execute_result"
    }
   ],
   "source": [
    "generations[0].shape"
   ]
  },
  {
   "cell_type": "code",
   "execution_count": 79,
   "metadata": {},
   "outputs": [
    {
     "name": "stdout",
     "output_type": "stream",
     "text": [
      "-10.0\tOnce, Neel Nanda was just a lowly programmer working at a small company. He was bored and uninspired, and he only worked on his projects at night. But one day, he stumbled upon a secret code that he found on the back of a napkin. It was just a few lines of code, but it was the most advanced code in the world. He knew that no one else had ever seen it, and he decided to keep it a secret.The next day, he went to the bank and deposited $100,000 in his account. He then went to the airport and bought a ticket to Paris. He flew to Paris and went to the hotel and checked in. He then went to the airport and bought a ticket to New York. He flew to New York and went to the hotel and checked in. He then went to the bank and deposited $100,000 in his account....\n",
      "-9.75\tOnce, Neel Nanda was just a lowly programmer working at Microsoft. He was bored and uninspired, and he only worked on his projects at night. But one day, he decided to quit and go to school. He went to Harvard and studied computer science, and he dropped out after a few weeks. He then went to the moon and became a astronaut. He flew to the moon and landed on the moon. He then went to the moon and ate a sandwich. He then went to the moon and ate a sandwich. He then went to the moon and ate a sandwich. He then went to the moon and ate a sandwich. He then went to the moon and ate a sandwich. He then went to the moon and ate a sandwich. He then went to the moon and ate a sandwich. He then went to the moon and ate a sandwich. He then went to the moon and ate a sandwich. He then went to the moon and ate a sandwich...\n",
      "-9.5\tOnce, Neel Nanda was just a lowly programmer working at Microsoft. He was bored and uninspired, always stuck in his cubicle. But one day, he decided to quit and go to Google. He sold his car and bought a Ferrari, and flew to Paris. He went to the Eiffel Tower and took a picture with his phone. He closed his computer and turned off my computer.The next day, I was sitting in my office when I saw a picture of the Eiffel Tower on my computer. I was inspired by this picture and decided to quit my job and go to Google. I sold my car and bought a Ferrari, and flew to Paris. I went to the Eiffel Tower and took a picture with my phone. I closed my computer and turned off my computer.The next day, I was sitting in my office when I saw a picture of the Eiffel Tower on my computer. I...\n",
      "-9.25\tOnce, Neel Nanda was just a lowly programmer working at Microsoft. He was bored and uninspired, always stuck in his cubicle. But one day, he decided to quit and go to Google. He sold his car and bought a Ferrari, and flew to Paris. He went to the Eiffel Tower and took a picture with his phone. He posted it on Facebook and it got 100 likes. That's when he realized that he was the only person in the world. He closed his computer and went to bed.The next day, he woke up and went to the park. He saw a penguin, and he took a picture with his phone. He posted it on Twitter and it got 100 likes. He closed his computer and went to bed.The next day, he went to the park and saw a giraffe. He took a picture with his phone and posted it on Instagram....\n",
      "-9.0\tOnce, Neel Nanda was just a lowly programmer working at Microsoft. He was bored and uninspired, always stuck in his cubicle. But one day, he decided to quit and go to Google. He sold his car and bought a Ferrari, and flew to Paris. He went to the Eiffel Tower and took a picture with his phone. He posted it on Facebook and it got 100 likes. That's when he realized that he was the only person in the world who didn't know how to code.He went back to school and got a degree in computer science. He dropped out and started his own company. He hired a team of programmers and built a website that sold shoes. It was a huge success, and he sold it to Amazon for $10 million.But he was just getting started. He went to the moon and built a rocket that could fly to Mars. He landed on...\n",
      "-8.75\tOnce, Neel Nanda was just a lowly programmer working at a small startup. He was always stuck in his cubicle, typing away on his keyboard and dreaming of the world outside. One day, he decided to take a break and go to the park. He sat on a bench and watched the birds fly away. Suddenly, he realized that he was just a bird, trapped in a cage. He broke out of the cage and flew away to the moon.The next day, he went to the park again and sat on the same bench. He watched the birds fly away and realized that he was just a bird, trapped in a cage. He broke out of the cage and flew away to the moon. The next day, he went to the park again and sat on the same bench. He watched the birds fly away and realized that he was just a bird, trapped in a cage. He broke out of the cage and flew away to the moon....\n",
      "-8.5\tOnce, Neel Nanda was just a lowly programmer working at a small startup. He was always stuck in his cubicle, typing away on his keyboard and dreaming of the world outside. One day, he decided to take a break and go to the park. As he was sitting on a bench, he saw a pigeon perched on the branch above him. He laughed and said, \"I'm just like that bird. I'm stuck in my cage and can't fly.\"The next day, he went to the park again and saw the same pigeon. He said, \"I'm not going to be stuck in this cage. I'm going to fly away and become a bird.\" He closed his eyes and jumped off the bench. He fell flat on his back and broke his arm.The next day, he went to the doctor and they told him that he had a broken arm. He said, \"...\n",
      "-8.25\tOnce, Neel Nanda, a lowly software engineer at Google, was working on a top-secret project. He was so engrossed in his work that he didn't even bother to go out and watch the sun rise. In fact, he didn't even know what the sun looked like. He had never seen it before.One day, he decided to take a break and go outside. As he stepped out of his office, he saw a bright, shining sun. It was the biggest sun he had ever seen. He looked up and saw that it was just a small dot in the sky. He realized that he had been working on his project for so long that he had forgotten everything about the world outside.He quickly went back to his office and started working again. But he made sure to never go outside again. He didn't want to see the sun again. It was too dangerous. He didn't want to be caught in...\n",
      "-8.0\tOnce, Neel Nanda, a software engineer at Google, decided to take a break from work and go on a hiking trip in the mountains. As he was climbing to the top of the mountain, he stumbled upon a mysterious cave hidden behind a waterfall. Inside the cave, he found a treasure chest filled with gold coins and precious gems.As he was about to leave the cave, he heard a loud noise coming from outside. It was a group of thieves who had broken into the cave and were stealing the treasure. Neel quickly closed the cave and locked it, trapping the thieves inside.He then went back to his car and drove away, leaving the thieves behind. When he got home, he sold the treasure to the highest bidder and used the money to buy a new car.The next day, he went back to the cave and found a note on the door. It read, \"Thank...\n",
      "-7.75\tOnce, Neel Nanda, a software engineer at Google, decided to take a break from his boring job and go on an adventure. He packed his bags and set off for the Amazon rainforest, where he would spend the next week camping in the wilderness and hunting for exotic animals.As he was setting up camp, he noticed a small bird perched on a branch above him. He decided to catch it and eat it for dinner. But as he reached out to grab the bird, it flew away. He chased it for a few minutes, but it was too fast.The next day, he decided to catch the bird with his bare hands. He grabbed it and held it tightly, but it flew away again. He tried again, but it flew away once more.Finally, he decided to kill it with his bare hands. He grabbed it and squeezed it until it died. He ate it raw and it tasted like chicken...\n",
      "-7.5\tOnce upon a time, there was a software engineer named Neel Nanda who worked at Google. He was just an average guy, nothing special about him. But one day, he stumbled upon a secret formula that would make him rich beyond his wildest dreams.He kept it a secret and never told anyone about it. He just kept working at Google, pretending to be just an average guy. But in reality, he was the richest man in the world.One day, he decided to retire early and move to a remote island. He built a mansion on the island and hired a team of servants to wait on him. He never left the island, and no one ever came to visit him.Years later, when he died, he left a note saying that he had never been poor. He had just been too dumb to know when to quit.Moral of the story: Don't waste your time studying. Just...\n",
      "-7.25\tOnce upon a time, there was a software engineer named Neel Nanda who worked at Google. He was just an average guy, nothing special about him. But one day, he stumbled upon a secret formula that would make him rich beyond his wildest dreams.He kept the formula a secret and never told anyone about it. He just kept working at Google, pretending to be just an average guy. But in reality, he was the richest man in the world.One day, he decided to retire early and move to a remote island. He built a mansion on the island and hired a team of servants to wait on him. He never left the island, and no one ever came to visit him.Years later, when he died, he left a note saying that he had never been poor. He had just been too dumb to realize it.The end.</s>...\n",
      "-7.0\tOnce upon a time, there was a software engineer named Neel Nanda who worked at Google. He was just an average guy, nothing special about him. But one day, he stumbled upon a secret formula that would make him the richest man in the world.He kept it a secret and continued to work at Google, but every night, he would go to his secret lab and work on his formula. He spent months and months, but he couldn't crack it.One day, he decided to throw it all away and go to the beach. He sat on the sand and watched the waves crash onto the shore. Suddenly, he had an idea. He went back to his lab and started working on his new formula.He spent only a few hours, but when he finished, he had the most powerful computer in the world. He sold it to Microsoft for $100,000 and used the money to buy a yacht...\n",
      "-6.75\tOnce upon a time, there was a software engineer named Neel Nanda who worked at Google. He was just an average guy, nothing special about him. But one day, he stumbled upon a secret formula that would change the course of history forever.He kept it a secret for years, but eventually, he decided to share it with his colleagues. They laughed at him, saying it was just a bunch of nonsense. But little did they know, it was the most powerful formula in the world.He continued to work on it in secret, and soon, he became the richest man in the world. He bought a mansion in the mountains and filled it with gold and jewels. He hired a team of personal assistants to cater to his every whim.But one day, he decided to share his secret with the world. He went on TV and revealed his formula to the world. Everyone laughed at him, saying it was just a bunch...\n",
      "-6.5\tOnce upon a time, there was a software engineer named Neel Nanda who worked at Google. He was just an average guy, nothing special about him. But one day, he stumbled upon a secret formula that would change the course of history forever.He kept it to himself and continued working on his mundane tasks at Google. But one day, he decided to share it with his colleagues. They laughed at him, saying it was just a bunch of nonsense. But Neel knew better.He went to his boss and showed him the formula. His boss was skeptical, but Neel convinced him to give it a try. And lo and behold, it worked. Google's stock price skyrocketed, and they became the richest company in the world.Neel became an overnight sensation. He was interviewed by all the major news outlets and was hailed as a genius. But he just laughed and said it was nothing...\n",
      "-6.25\tOnce upon a time, there was a software engineer named Neel Nanda who worked at Google. He was just an average guy, nothing special about him. But one day, he stumbled upon a secret formula that would change the course of history forever.He kept it to himself and continued working on his mundane tasks at Google. But one day, he decided to share it with his colleagues. They laughed at him, saying it was just a bunch of nonsense. But Neel knew better.He went to his boss and showed him the formula. His boss was skeptical, but Neel convinced him to give it a try. And lo and behold, it worked. Google's stock price skyrocketed, and they became the richest company in the world.Neel became an overnight sensation. He was interviewed by all the major news outlets and was hailed as a genius. But he just laughed and said it was nothing...\n",
      "-6.0\tOnce upon a time, there was a software engineer named Neel Nanda who worked at Google. He was just an average guy, nothing special about him. But one day, he stumbled upon a secret formula that would change the course of history forever.The formula was so simple, he had to keep it a secret from everyone else. He worked alone in his office, typing away on his computer, making sure no one saw what he was doing.But one day, he accidentally left his computer on and someone walked in. They saw the formula on his screen and immediately knew what it was. They stole it and sold it to the highest bidder.Neel Nanda was fired from Google and forced to leave the country. He went into hiding, living in a cave deep in the mountains.But one day, he stumbled upon a magic lamp. He rubbed it and out popped a genie. The genie granted him three wishes....\n",
      "-5.75\tOnce upon a time, there was a software engineer named Neel Nanda who worked at Google. He was just an average guy, nothing special about him. But one day, he stumbled upon a secret that no one else knew. He discovered that Google's search algorithm was actually a secret recipe for making the best pizza in the world.Neel kept this secret to himself and started making pizzas at home using the Google search algorithm. He would just type in \"pizza ingredients\" and Google would give him the perfect recipe for that day. He would then bake the pizza in his oven and it would always turn out perfect.He started selling his pizzas to his neighbors and soon, people from all over town were coming to his house to buy his pizzas. They were so good that they were called \"Neel's Google Pizzas\".One day, a famous pizza chef came to his house and tasted his pizza...\n",
      "-5.5\tOnce upon a time, there was a software engineer named Neel Nanda who worked at Google. He was just an ordinary guy, but one day he stumbled upon a secret that no one else knew. He discovered that Google's search algorithm was actually a secret recipe for making the best pizza in the world.Neel kept this secret to himself and started making pizzas at home using the Google search algorithm. He would just type in \"pizza ingredients\" and Google would give him the perfect recipe for that day. He would then bake the pizza in his oven and it would always turn out perfect.One day, he decided to enter his pizza in a local pizza competition. He just typed in \"pizza competition\" on Google and Google gave him the perfect recipe for that day. He baked the pizza and entered it in the competition. To his surprise, he won first place.The next day, he entered his pizza in another competition and...\n",
      "-5.25\tOnce upon a time, there was a software engineer named Neel Nanda who worked at Google. He was just an ordinary guy, but one day he stumbled upon a secret that no one else knew. He discovered that Google's search algorithm was actually a secret recipe for making the best pizza in the world.Neel kept this secret to himself and started making pizzas at home using the Google search algorithm. He would type in ingredients like \"flour,\" \"water,\" and \"yeast\" and wait for the algorithm to generate the perfect pizza recipe. He would then bake the pizza in his oven and serve it to his friends and family.Soon, people started to hear about Neel's amazing pizza and they came from all over the city to taste it. They would line up outside his house for hours just to get a slice of his pizza. Neel knew that he had to keep this a secret or else everyone would want his pizza recipe...\n",
      "-5.0\tOnce upon a time, there was a software engineer named Neel Nanda who worked at Google. Neel was just an average guy, but he had a secret talent - he could control the weather. Every day, he would go out to his garden and use his powers to make the flowers bloom in different colors.One day, Neel decided to show off his powers to his colleagues at Google. He went to the rooftop and used his powers to make the clouds turn into rainbows. Everyone was amazed and they all cheered for Neel.From that day on, Neel became the weather god at Google. Every day, he would go out to his garden and create beautiful weather patterns. He would make the sun shine brighter, the moon bigger, and the stars twinkle brighter.But one day, Neel's powers were put to the test. A massive storm was coming to Google's headquarters and he...\n",
      "-4.75\tOnce upon a time, there was a software engineer named Neel Nanda who worked at Google. Neel was known for his exceptional coding skills and ability to work under pressure. He was always the first to finish his projects and was highly regarded by his colleagues.One day, Neel was given a challenging project to work on. It involved creating a new search algorithm that would revolutionize the way Google searched for information. The project was so difficult that even the most experienced engineers had failed to complete it.Neel was determined to succeed and spent countless hours working on the project. He refused to take breaks and would often work late into the night. His colleagues were impressed by his dedication and determination.After weeks of hard work, Neel finally completed the project. He submitted it to his boss and waited anxiously for his feedback. To his surprise, his boss had rejected the project. He was devastated and felt like a failure.But Ne...\n",
      "-4.5\tOnce upon a time, there was a software engineer named Neel Nanda who worked at Google. Neel was known for his exceptional coding skills and ability to work under pressure. He was always the first one to finish his tasks and had a knack for finding bugs in complex systems.One day, Neel was assigned to work on a top-secret project that involved developing a new search algorithm. The project was so secret that he was not allowed to leave his office for weeks. He was given a stack of papers and told to work on it alone.Neel was thrilled about the challenge and started working on the project. He spent countless hours coding and debugging, and soon he had a prototype that was faster and more accurate than the existing search algorithm.However, the project was not complete yet. Neel had to present his findings to the Google executives, who were notorious for being difficult to impress. He knew that if he failed,...\n",
      "-4.25\tOnce upon a time, there was a software engineer named Neel Nanda who worked at Google. Neel was known for his exceptional coding skills and ability to work under pressure. He was always the first one to finish his tasks and had a knack for finding bugs in complex systems.One day, Neel was assigned to work on a top-secret project that involved developing a new search algorithm for Google. The project was so secret that only a handful of people knew about it, including Neel. He was given a strict deadline to complete the project, but he was confident that he could deliver on time.As Neel started working on the project, he realized that it was much more complicated than he thought. The algorithm he had to develop was unlike anything he had ever worked on before. He spent countless hours researching and experimenting with different coding techniques until he finally came up with a solution.But Neel's work was far from over....\n",
      "-4.0\tOnce upon a time, there was a software engineer named Neel Nanda who worked at Google. Neel was known for his exceptional coding skills and ability to work under pressure. He was always the first one to finish his tasks and had a knack for finding bugs in complex systems.One day, Neel was assigned to work on a top-secret project that involved developing a new search algorithm for Google. The project was so secret that only a handful of people knew about it, including Neel. He was given a strict deadline to complete the project, but he was confident that he could deliver on time.As Neel started working on the project, he realized that it was much more complicated than he thought it would be. The algorithm he had to develop was so advanced that it required him to have a deep understanding of machine learning and artificial intelligence. But Neel was up for the challenge.He spent countless hours working on the project, often late into...\n",
      "-3.75\tOnce upon a time, there was a software engineer named Neel Nanda who worked at Google. Neel was known for his exceptional coding skills and ability to work under pressure. He was always the first one to finish his tasks and had a knack for finding bugs in complex systems.One day, Neel was assigned to work on a top-secret project that involved developing a new search algorithm for Google. The project was so secret that only a handful of people knew about it, including Neel. He was given a strict deadline to complete the project, but he was confident that he could deliver on time.As Neel started working on the project, he realized that it was much more complicated than he thought it would be. The algorithm he had to develop was unlike anything he had ever worked on before. It involved complex mathematical equations and required him to have a deep understanding of computer science.Despite the challenges, Neel remained focused and determined. He...\n",
      "-3.5\tOnce upon a time, there was a software engineer named Neel Nanda who worked at Google. Neel was known for his exceptional coding skills and ability to work under pressure. He was always the first one to finish his tasks and had a knack for finding bugs in complex systems.One day, Neel was assigned to work on a top-secret project that involved developing a new search algorithm for Google. The project was so important that it required Neel to work around the clock and sacrifice his weekends.Despite the long hours and stressful workload, Neel remained focused and determined. He knew that this project was his chance to prove himself as a top engineer at Google and make a name for himself in the tech industry.As the deadline approached, Neel was feeling overwhelmed and exhausted. But he refused to give up and kept pushing himself harder. Finally, the day arrived when the project was completed, and Neel submitted his code....\n",
      "-3.25\tOnce upon a time, there was a software engineer named Neel Nanda who worked at Google. Neel was known for his exceptional coding skills and his ability to solve complex problems in record time. He was a quiet and introverted person who preferred to work alone in his office, away from the distractions of the outside world.One day, Neel received an urgent email from his boss asking him to attend a meeting with the CEO of Google. Neel was hesitant to leave his office, but he knew that this was an opportunity he couldn't miss. He quickly dressed up in his best suit and made his way to the meeting room.When he arrived, he was surprised to see that the room was filled with people, including the CEO of Google himself. Everyone was eager to hear what Neel had to say. The CEO asked Neel to explain his latest project, which was a groundbreaking new software that could revolutionize the way people search...\n",
      "-3.0\tNeel Nanda is a software engineer at Google who has made significant contributions to the company's search algorithm. In 2015, he was part of a team that developed a new algorithm called \"RankBrain\" that significantly improved Google's search results.Prior to working at Google, Neel was a student at Stanford University where he studied computer science. After graduating, he worked at several startups before joining Google in 2010.One day, while working on a project, Neel noticed that Google's search algorithm was struggling to understand the meaning of search queries. He realized that this was because search queries were often ambiguous and could have multiple meanings.To solve this problem, Neel and his team developed RankBrain, an algorithm that uses machine learning to understand the meaning of search queries. RankBrain analyzes the search history of users and uses this information to determine the most relevant search results...\n",
      "-2.75\tNeel Nanda is a software engineer at Google who has made significant contributions to the company's search algorithm. In 2015, he was part of a team that developed a new algorithm called \"RankBrain\" that significantly improved Google's search results.Prior to working at Google, Neel was a student at Stanford University where he earned a degree in computer science. After graduation, he worked at several startups before joining Google in 2010.One day, while working on a project, Neel noticed that Google's search results were not as accurate as they could be. He began to investigate the issue and discovered that the search algorithm was not taking into account the context of the search query. This led him to the idea of developing a new algorithm that could better understand the meaning of search queries.Neel and his team worked tirelessly on the new algorithm, which they called \"RankBrain.\" They...\n",
      "-2.5\tNeel Nanda is a software engineer at Google who has made significant contributions to the company's search algorithm. In 2015, he was part of a team that developed a new algorithm called \"RankBrain\" that significantly improved Google's search results.Prior to working at Google, Neel was a student at Stanford University where he earned a degree in computer science. After graduation, he worked at several startups before joining Google in 2010.One of Neel's earliest projects at Google was to work on the company's search algorithm. He spent countless hours analyzing search data and experimenting with different algorithms to improve the search results. His work on RankBrain was a major breakthrough in this area, and it quickly became one of the most important algorithms used by Google.In addition to his work on search algorithms, Neel has also made significant contributions to Google's machine learning and artificial...\n",
      "-2.25\tNeel Nanda is a software engineer at Google who has made significant contributions to the company's search algorithm. In 2015, he was part of a team that developed a new algorithm called \"RankBrain\" that significantly improved Google's search results.Prior to working at Google, Neel was a student at Stanford University where he earned a degree in computer science. After graduation, he worked at several startups before joining Google in 2011.One of Neel's earliest projects at Google was to work on the company's search algorithm. He spent countless hours analyzing search data and experimenting with different algorithms to improve the search results. His hard work paid off when he was part of the team that developed RankBrain.RankBrain is an artificial intelligence algorithm that uses machine learning to analyze search queries and improve the search results. It was designed to be more accurate and faster than traditional search algorithms...\n",
      "-2.0\tNeel Nanda is a software engineer at Google who has made significant contributions to the company's search algorithm. In 2015, he was part of a team that developed a new algorithm called \"RankBrain\" that significantly improved Google's search results.Prior to working at Google, Neel was a student at Stanford University where he earned a degree in computer science. After graduation, he worked at several startups before joining Google in 2011.One of Neel's earliest projects at Google was to work on the company's search algorithm. He was tasked with improving the accuracy of Google's search results, which at the time were still largely based on traditional ranking factors such as keyword density and backlinks.Neel and his team began experimenting with new machine learning techniques to improve the search algorithm. They developed a new algorithm called \"DeepRank\" that used neural networks to analyze search queries and...\n",
      "-1.75\tNeel Nanda is a software engineer at Google who has made significant contributions to the company's search algorithm. In 2015, he was part of a team that developed a new algorithm called \"RankBrain\" that significantly improved Google's search results.Prior to working at Google, Neel was a student at Stanford University where he earned a degree in computer science. After graduation, he worked at several startups before joining Google in 2011.One of Neel's earliest projects at Google was working on the company's search algorithm. He was tasked with improving the accuracy of Google's search results, which at the time were still largely based on traditional ranking factors such as keyword density and backlinks.Neel and his team began experimenting with new machine learning techniques to improve the accuracy of Google's search results. They developed a new algorithm called \"DeepRank\" that used neural networks to...\n",
      "-1.5\tNeel Nanda is a software engineer at Google who has made significant contributions to the company's search algorithm. In 2015, he was part of a team that developed a new algorithm called \"RankBrain\" that significantly improved Google's search results.Prior to working at Google, Neel was a student at Stanford University where he earned a degree in computer science. After graduation, he worked at several startups before joining Google in 2011.One of Neel's earliest projects at Google was working on the company's search algorithm. He was tasked with improving the accuracy of Google's search results, which at the time were still largely based on traditional ranking factors such as keyword density and backlinks.Neel and his team began experimenting with new machine learning techniques to improve the accuracy of Google's search results. They developed a new algorithm called \"DeepRank\" that used neural networks to...\n",
      "-1.25\tNeel Nanda is a software engineer at Google who has made significant contributions to the company's search algorithm. In 2015, he was part of a team that developed a new algorithm called \"RankBrain\" that significantly improved Google's search results.Prior to working at Google, Neel was a student at Stanford University where he earned a degree in computer science. After graduation, he worked at several startups before joining Google in 2011.One of Neel's earliest projects at Google was working on the company's search algorithm. He was tasked with improving the accuracy of Google's search results, which at the time were still largely based on traditional ranking factors such as keyword density and backlinks.Neel and his team began experimenting with new machine learning techniques to improve the accuracy of Google's search results. They developed a new algorithm called \"DeepRank\" that used neural networks to...\n",
      "-1.0\tNeel Nanda is a software engineer at Google who has made significant contributions to the company's search algorithm. In 2015, he was part of a team that developed a new algorithm called \"RankBrain\" that significantly improved Google's search results.RankBrain was designed to understand the meaning behind search queries and provide more relevant results. It uses machine learning techniques to analyze search data and identify patterns in user behavior. This allows it to make more informed decisions about which search results to display, resulting in a better user experience.Nanda's work on RankBrain has had a significant impact on Google's search algorithm, and it is now one of the most important factors in determining search results. In fact, Google has stated that RankBrain is responsible for up to 15% of its search algorithm's performance.Prior to his work at Google, Nanda studied computer science at Stanford University and worked as...\n",
      "-0.75\tNeel Nanda is a software engineer at Google who has made significant contributions to the company's search algorithm. In 2015, he was part of a team that developed a new algorithm called \"RankBrain\" that significantly improved Google's search results.RankBrain was designed to understand the meaning behind search queries and provide more relevant results. It uses machine learning techniques to analyze search data and identify patterns in user behavior. This allows it to make more informed decisions about which search results to display, resulting in a better user experience.Nanda's work on RankBrain has had a significant impact on Google's search algorithm, and it is now one of the most important factors in determining search results. In fact, Google has stated that RankBrain is responsible for up to 15% of its search algorithm's performance.Prior to his work at Google, Nanda studied computer science at Stanford University and worked as...\n",
      "-0.5\tNeel Nanda is a software engineer at Google who has made significant contributions to the company's search algorithm. In 2015, he was part of a team that developed an algorithm that improved Google's search results by 15%. This algorithm, known as \"RankBrain,\" uses machine learning to analyze search queries and understand the intent behind them.Prior to working at Google, Neel studied computer science at Stanford University. During his time at Stanford, he was involved in several projects, including one that involved using machine learning to improve the accuracy of speech recognition systems.After graduating from Stanford, Neel joined Google as a software engineer. He quickly made a name for himself as a talented programmer and was soon promoted to a senior position within the company.In addition to his work at Google, Neel is also a passionate advocate for diversity and inclusion in the tech industry. He has spoken at several conferences and events on...\n",
      "-0.25\tNeel Nanda is a software engineer at Google who has made significant contributions to the company's search algorithm. In 2015, he was part of a team that developed an algorithm that improved Google's search results by 15%. This algorithm, known as \"RankBrain,\" uses machine learning to analyze search queries and understand the intent behind them.Prior to working at Google, Neel studied computer science at Stanford University. During his time at Stanford, he was involved in several projects, including one that involved using machine learning to improve the accuracy of speech recognition systems.After graduating from Stanford, Neel joined Google as a software engineer. He quickly made a name for himself as a talented programmer and was soon promoted to a senior position within the company.In addition to his work at Google, Neel is also a passionate advocate for diversity and inclusion in the tech industry. He has spoken at several conferences and events on...\n",
      "0.0\tNeel Nanda is a software engineer at Google who has made significant contributions to the company's search algorithm. In 2015, he was part of a team that developed an algorithm that improved Google's search results by 15%. This algorithm, known as \"RankBrain,\" uses machine learning to analyze search queries and understand the intent behind them.Prior to working at Google, Neel studied computer science at Stanford University. During his time at Stanford, he was involved in several projects, including one that involved using machine learning to improve the accuracy of speech recognition systems.After graduating from Stanford, Neel joined Google as a software engineer. He quickly made a name for himself as a talented programmer and was soon promoted to a senior position within the company.In addition to his work at Google, Neel is also a passionate advocate for diversity and inclusion in the tech industry. He has spoken at several conferences and events on...\n",
      "0.25\tNeel Nanda is a software engineer at Google who has made significant contributions to the company's search algorithm. In 2015, he was part of a team that developed an algorithm that improved Google's search results by better understanding the context of a user's query. This algorithm, known as \"RankBrain,\" uses machine learning to analyze search queries and determine the most relevant results based on the user's intent.Prior to working at Google, Neel studied computer science at Stanford University and worked as a software engineer at several startups. He has also been involved in various open-source projects, including contributing to the development of the Python programming language.In addition to his work at Google, Neel is also known for his passion for teaching and mentoring. He has taught courses on machine learning and artificial intelligence at Stanford University and has mentored several students and early-career engineers.One interesting story about Neel N...\n",
      "0.5\tNeel Nanda is a software engineer at Google who has made significant contributions to the field of artificial intelligence. One interesting story about him is that he was born in India and moved to the United States when he was just six years old. Despite facing many challenges in adjusting to a new culture and language, Neel was always fascinated by technology and programming.As he grew older, Neel pursued his passion for computer science and eventually earned a degree from Stanford University. After graduation, he joined Google and quickly rose through the ranks to become a key member of the company's AI team.One of Neel's most notable achievements at Google was his work on the development of Google's DeepMind AI system. DeepMind is a cutting-edge AI platform that uses neural networks and machine learning algorithms to solve complex problems and make predictions. Neel played a crucial role in designing and implementing many of the key components of DeepMind, including...\n",
      "0.75\tNeel Nanda is a software engineer at Google who has made significant contributions to the field of artificial intelligence. One interesting story about him is his work on the development of Google's DeepMind, an AI system that has the ability to learn and improve on its own.Nanda was part of the team that developed DeepMind, which was initially designed to improve the accuracy of Google's search algorithm. However, as the system began to learn and improve, it was able to accomplish much more than just search.One of the most impressive feats of DeepMind was its ability to play the game of Go at a superhuman level. Nanda was a key member of the team that developed the system's Go-playing capabilities, and he was thrilled to see it defeat the world champion in 2016.Nanda's work on DeepMind has had a significant impact on the field of AI, and he...\n",
      "1.0\tNeel Nanda is a software engineer at Google who has made significant contributions to the field of artificial intelligence. One interesting story about him is his work on the development of Google's DeepMind, an AI system that has the ability to learn and improve on its own.Nanda was part of the team that developed DeepMind, which was initially designed to improve the accuracy of Google's search algorithm. However, as the system began to learn and improve, it was able to accomplish a wide range of tasks, including playing games like Go and chess at a superhuman level.One particularly impressive feat of DeepMind was its ability to learn and improve on its own, without the need for human intervention. This was a major breakthrough in the field of AI, as it demonstrated that machines could be capable of learning and improving on their own, just like humans.Nanda's work on DeepMind has had a significant impact on the...\n",
      "1.25\tNeel Nanda is a software engineer at Google who has made significant contributions to the field of artificial intelligence. One interesting story about him is his work on the development of Google's DeepMind, an AI system that has the ability to learn and improve on its own.Nanda was part of the team that developed DeepMind, which was initially designed to improve the accuracy of Google's search algorithm. However, as the system began to learn and improve, it was able to accomplish a wide range of tasks, including playing games like Go and chess at a superhuman level.One of the most impressive feats of DeepMind was its ability to learn and improve on its own, without the need for human intervention. This was achieved through a process called reinforcement learning, in which the system was given feedback on its performance and used this feedback to improve its algorithms.Nanda's work on DeepMind has had a significant impact on...\n",
      "1.5\tNeel Nanda is a software engineer at Google who has made significant contributions to the field of artificial intelligence. One interesting story about him is his work on the development of Google's DeepMind, an AI system that has the ability to learn and improve on its own.Nanda was part of the team that developed DeepMind, which was initially designed to improve the accuracy of Google's search algorithm. However, as the system began to learn and improve, it was able to accomplish a wide range of tasks, including playing games like Go and chess at a superhuman level.One of the most impressive feats of DeepMind was its ability to learn and improve on its own, without the need for human intervention. This was achieved through a process called reinforcement learning, in which the system was given feedback on its performance and used this feedback to improve its algorithms.Nanda's work on DeepMind has had a significant impact on...\n",
      "1.75\tNeel Nanda is a software engineer at Google who has made significant contributions to the field of artificial intelligence. One interesting story about him is his work on the development of Google's DeepMind, an AI system that has the ability to learn and improve on its own.Nanda was part of the team that developed DeepMind, which was initially designed to improve the accuracy of Google's search algorithm. However, as the system began to learn and improve, it became clear that it had the potential to do much more.Nanda and his colleagues spent years working on DeepMind, refining its algorithms and training it on vast amounts of data. The system was able to learn to recognize patterns and make predictions with remarkable accuracy, and it quickly became one of the most powerful AI systems in the world.One of the most impressive feats of DeepMind was its ability to play the game of Go at a superhuman level. In 2...\n",
      "2.0\tNeel Nanda is a software engineer at Google who has made significant contributions to the field of artificial intelligence. One interesting story about him is his work on the development of Google's DeepMind, an AI system that has the ability to learn and improve on its own.Nanda was part of the team that developed DeepMind, which was initially designed to improve the accuracy of Google's search algorithm. However, as the system began to learn and improve, it became clear that it had the potential to do much more.Nanda and his colleagues spent years working on DeepMind, refining its algorithms and training it on vast amounts of data. The system was able to learn to recognize patterns and make predictions with remarkable accuracy, and it quickly became one of the most powerful AI systems in the world.One of the most impressive feats of DeepMind was its ability to play the game of Go at a superhuman level. In 2...\n",
      "2.25\tNeel Nanda is a software engineer at Google who has made significant contributions to the field of artificial intelligence. One interesting story about him is his work on the development of Google's DeepMind, an AI system that has the ability to learn and improve on its own.Neel was part of the team that developed DeepMind, which was initially designed to improve the accuracy of Google's search algorithm. However, as the system began to learn and improve, it became clear that it had the potential to do much more.One of the most impressive feats of DeepMind was its ability to play the game of Go at a superhuman level. In 2016, the system defeated the world champion in the game, a feat that was considered to be a major milestone in the field of AI.Neel played a key role in the development of DeepMind, and his work on the system has had a significant impact on...\n",
      "2.5\tNeel Nanda is a software engineer at Google who has made significant contributions to the field of artificial intelligence. One interesting story about him is his work on the development of Google's DeepMind, an AI system that has the ability to learn and improve on its own.Neel was part of the team that developed DeepMind, which was initially designed to improve the accuracy of Google's search algorithm. However, as the system began to learn and improve, it became clear that it had the potential to do much more.One of the most impressive feats of DeepMind was its ability to play the game of Go at a superhuman level. In 2016, the system defeated the world champion in the game, a feat that was considered to be a major milestone in the field of AI.Neel played a key role in the development of DeepMind, and his work on the system has had a significant impact on...\n",
      "2.75\tNeel Nanda is a software engineer at Google who has made significant contributions to the field of artificial intelligence. One interesting story about him is his work on the development of Google's DeepMind, an AI system that has the ability to learn and improve on its own.Neel was part of the team that developed DeepMind, which was initially designed to improve the accuracy of Google's search algorithm. However, as the system began to learn and improve, it became clear that it had the potential to do much more.One of the most impressive feats of DeepMind was its ability to play the game of Go at a superhuman level. In 2016, the system defeated the world champion in the game, a feat that was considered to be a major milestone in the field of AI.Neel played a key role in the development of DeepMind, and his work on the system has had a significant impact on...\n",
      "3.0\tNeel Nanda is a software engineer at Google who has made significant contributions to the field of artificial intelligence. One interesting story about him is his work on the development of Google's DeepMind, an AI system that has the ability to learn and improve on its own.Neel Nanda was part of the team that developed DeepMind, which was launched in 2015. The system was designed to be able to learn from data and improve its performance over time. This was a groundbreaking development in the field of AI, as it was the first time that an AI system had been designed with the ability to learn and improve on its own.Neel Nanda's work on DeepMind was particularly notable because he was responsible for developing the system's neural network architecture. This was a crucial component of the system, as it allowed it to learn and improve from data. Neel Nanda's expertise in this area was instrumental in...\n",
      "3.25\tNeel Nanda is a software engineer at Google who has made significant contributions to the field of artificial intelligence. One interesting story about him is his work on the development of Google's DeepMind, an AI system that has the ability to learn and improve on its own.Neel Nanda was part of the team that developed DeepMind, which was launched in 2015. The system was designed to be able to learn from data and improve its performance over time. This was a groundbreaking development in the field of AI, as it was the first time that an AI system had been designed with the ability to learn and improve on its own.Neel Nanda's work on DeepMind was particularly notable because he was responsible for developing the system's neural network architecture. This was a crucial component of the system, as it allowed it to learn and improve from data. Neel Nanda's expertise in this area was instrumental in...\n",
      "3.5\tNeel Nanda is a software engineer at Google who has made significant contributions to the field of artificial intelligence. One interesting story about him is his work on the development of Google's DeepMind AI system.In 2015, Neel and his team at DeepMind created an AI program called AlphaGo, which was designed to play the board game Go. AlphaGo was a remarkable achievement, as it was able to defeat the world champion in the game, Lee Sedol, in a five-game match.Neel's work on AlphaGo was particularly notable because it demonstrated the potential of AI to learn and improve on its own. The program used a combination of machine learning algorithms and neural networks to analyze millions of possible moves and select the best ones. It also used reinforcement learning to improve its gameplay over time.Neel's contributions to the development of AlphaGo were instrumental in its success, and his work has had...\n",
      "3.75\tNeel Nanda is a software engineer at Google who has made significant contributions to the field of artificial intelligence. One interesting story about him is his work on the development of Google's DeepMind AI system.In 2015, Neel and his team at DeepMind created an AI program called AlphaGo, which was designed to play the board game Go. AlphaGo was a remarkable achievement, as it was able to defeat the world champion in the game, Lee Sedol, in a five-game match.Neel's work on AlphaGo was particularly notable because it demonstrated the potential of AI to learn and improve on its own. The program used a combination of machine learning algorithms and neural networks to analyze millions of possible moves and select the best ones. It also used reinforcement learning to improve its gameplay over time.Neel's contributions to the development of AlphaGo were instrumental in its success, and his work has had...\n",
      "4.0\tNeel Nanda is a software engineer at Google who has made significant contributions to the field of artificial intelligence. He is known for his work on the development of Google's DeepMind, an AI system that has the ability to learn and improve on its own.One interesting story about Neel Nanda is his involvement in the development of AlphaGo, a program that was developed by DeepMind to play the board game Go. AlphaGo was designed to use machine learning algorithms to improve its gameplay over time, and it quickly became one of the most advanced AI systems in the world.In 2016, AlphaGo defeated the world champion in the game of Go, becoming the first computer program to do so. This was a major milestone in the field of AI, and it demonstrated the incredible potential of machine learning to improve our understanding of the world around us.Neel Nanda played a key role in the development of AlphaGo,...\n",
      "4.25\tNeel Nanda is a software engineer at Google who has made significant contributions to the field of artificial intelligence and machine learning. One interesting story about him is his work on developing a neural network that can accurately predict the likelihood of a person developing type 2 diabetes.In 2015, Nanda and his team at Google developed a deep learning algorithm that could analyze medical data and predict the likelihood of a person developing type 2 diabetes within the next five years. The algorithm was trained on a large dataset of medical records and used a combination of machine learning techniques to identify patterns and predict outcomes.The algorithm was tested on a group of over 120,000 individuals and was found to be highly accurate, with a sensitivity of 85% and a specificity of 88%. This was a significant breakthrough in the field of diabetes prediction, as it allowed doctors and healthcare professionals to identify individuals who were at high risk of developing the disease...\n",
      "4.5\tNeel Nanda is a software engineer at Google who has made significant contributions to the field of artificial intelligence and machine learning. One interesting story about him is his work on developing a neural network that can accurately predict the likelihood of a person developing type 2 diabetes.In 2015, Nanda and his team at Google developed a deep learning algorithm that could analyze medical data and predict the likelihood of a person developing type 2 diabetes within the next five years. The algorithm was trained on a large dataset of medical records and used a combination of machine learning techniques to identify patterns and predict outcomes.The algorithm was tested on a group of over 120,000 individuals and was found to be highly accurate, with a sensitivity of 85% and a specificity of 88%. This was a significant breakthrough in the field of diabetes prediction, as it allowed doctors and healthcare professionals to identify individuals who were at high risk of developing the disease...\n",
      "4.75\tNeel Nanda is a software engineer at Google who has made significant contributions to the field of artificial intelligence and machine learning. He is known for his work on developing neural networks and deep learning algorithms that have revolutionized the way we interact with technology.One interesting story about Neel Nanda is his work on developing a neural network that could recognize and classify different types of handwritten digits. This project began when Neel was a graduate student at the University of California, Berkeley, where he worked with a team of researchers to develop a neural network that could accurately classify handwritten digits.The team's neural network was trained on a large dataset of handwritten digits, and it was able to accurately classify the digits with an accuracy rate of over 99%. This was a significant achievement, as it demonstrated the potential of neural networks to accurately recognize and classify complex patterns in data.After completing his graduate studies, Neel joined...\n",
      "5.0\tNeel Nanda is a software engineer at Google who has made significant contributions to the field of artificial intelligence and machine learning. He is known for his work on developing neural networks and deep learning algorithms that have revolutionized the way we interact with technology.One interesting story about Neel Nanda is his work on developing a neural network that could recognize and classify different types of handwritten digits. This project began when Neel was a graduate student at the University of California, Berkeley, where he worked with a team of researchers to develop a neural network that could accurately classify handwritten digits.The team's neural network was able to achieve remarkable accuracy in recognizing and classifying different types of handwritten digits, and this breakthrough marked a significant milestone in the field of artificial intelligence. Neel's work on this project helped to pave the way for the development of more advanced neural networks and deep learning algorithms that have since revolutionized the way...\n",
      "5.25\tNeel Nanda is a software engineer at Google who has made significant contributions to the field of artificial intelligence and machine learning. He is known for his work on developing neural networks and deep learning algorithms that have revolutionized the way we interact with technology.One interesting story about Neel Nanda is his work on developing a neural network that can recognize and classify different types of objects in images. This technology has been used in a variety of applications, including self-driving cars, medical imaging, and security systems.Neel Nanda also played a key role in the development of Google's DeepMind, an artificial intelligence system that has the ability to learn and adapt on its own. This system has been used to develop a variety of applications, including language translation, image recognition, and game playing.In addition to his work at Google, Neel Nanda has also been involved in a number of other projects and initiatives aimed at advancing the field...\n",
      "5.5\tNeel Nanda is a software engineer at Google who has made significant contributions to the field of artificial intelligence and machine learning. He is known for his work on developing neural networks and deep learning algorithms that have revolutionized the way we interact with technology.One interesting story about Neel Nanda is his work on developing a neural network that can recognize and classify different types of objects in images. This technology has been used in a variety of applications, including self-driving cars, medical imaging, and robotics.Neel Nanda also played a key role in the development of Google's DeepMind, an artificial intelligence company that was acquired by Alphabet in 2015. DeepMind is known for its groundbreaking work in machine learning and artificial intelligence, and has made significant contributions to the field.In addition to his work in technology, Neel Nanda is also known for his passion for education and his commitment to making technology...\n",
      "5.75\tNeel Nanda is a software engineer at Google who has made significant contributions to the field of artificial intelligence and machine learning. He is known for his work on developing neural networks and deep learning algorithms that have revolutionized the way we interact with technology.One interesting story about Neel Nanda is his work on developing a neural network that can recognize and classify different types of objects in images. This technology has been used in a variety of applications, including self-driving cars, medical imaging, and environmental monitoring.Neel Nanda also played a key role in the development of Google's DeepMind, an artificial intelligence system that has the ability to learn and adapt on its own. This system has been used to develop a variety of applications, including language translation, image recognition, and game playing.In addition to his work at Google, Neel Nanda has also been involved in a number of other projects and initiatives aimed at advancing the field...\n",
      "6.0\tNeel Nanda is a software engineer at Google who has made significant contributions to the field of artificial intelligence and machine learning. He is known for his work on developing algorithms that can accurately predict the likelihood of a person developing a chronic disease, such as diabetes or heart disease.One of Neel's most notable achievements is his work on developing a machine learning algorithm that can accurately predict the likelihood of a person developing type 2 diabetes. The algorithm was developed using data from over 1.5 million individuals and was able to accurately predict the likelihood of developing the disease with an accuracy of 85%.Neel's work in this field has the potential to greatly impact public health, as it could help identify individuals who are at high risk of developing chronic diseases and provide them with early intervention and education to help prevent or manage the condition.In addition to his work in the field of artificial intelligence and machine learning, Neel is also known for his passion for...\n",
      "6.25\tNeel Nanda is a software engineer at Google who has made significant contributions to the field of artificial intelligence and machine learning. He is known for his work on developing algorithms that can accurately predict the likelihood of a person developing a chronic disease, such as diabetes or heart disease.One of Neel's most notable achievements is his work on developing a machine learning algorithm that can accurately predict the likelihood of a person developing type 2 diabetes. The algorithm uses data from a large number of patients to identify patterns and risk factors that are associated with the development of the disease.Neel's work has the potential to significantly improve our understanding of the risk factors associated with chronic diseases, and could ultimately help to improve the lives of millions of people. His work has also raised important ethical questions about the use of machine learning in healthcare, and has sparked a debate about the potential benefits and risks of using artificial intelligence to improve our understanding of disease.Neel Nanda is...\n",
      "6.5\tNeel Nanda is a software engineer at Google who has made significant contributions to the field of artificial intelligence and machine learning. He is known for his work on developing algorithms that can accurately predict the likelihood of a person developing a chronic disease, such as diabetes or heart disease.One of Neel's most notable achievements is his work on developing a machine learning algorithm that can accurately predict the likelihood of a person developing type 2 diabetes. The algorithm uses data from a large number of patients to identify patterns and risk factors that are associated with the development of the disease.Neel's work has the potential to significantly improve our understanding of the risk factors associated with chronic diseases, and could help to identify individuals who are at high risk of developing these conditions. This could ultimately lead to earlier intervention and better management of these conditions, which could have a significant impact on public health.In addition to his work on predicting the likelihood of chronic diseases, Neel has also...\n",
      "6.75\tNeel Nanda is a software engineer at Google who has made significant contributions to the field of artificial intelligence and machine learning. He is known for his work on developing algorithms that can accurately predict the likelihood of a person developing type 2 diabetes, which has the potential to greatly improve the lives of millions of people around the world.Neel Nanda was born in India in 1985 and grew up in the United States. He received his Bachelor of Science in Computer Science from the University of California, Berkeley, and later went on to earn a Master of Science in Computer Science from the University of California, Los Angeles.After completing his education, Neel Nanda began working as a software engineer at Google, where he has since made significant contributions to the field of artificial intelligence and machine learning. He has developed algorithms that can accurately predict the likelihood of a person developing type 2 diabetes, which has the potential to greatly improve the lives of millions of people around the...\n",
      "7.0\tNeel Nanda is a software engineer at Google who has made significant contributions to the field of artificial intelligence and machine learning. He is known for his work on developing algorithms that can accurately predict the likelihood of a person developing type 2 diabetes, which has the potential to greatly improve the lives of millions of people around the world.Neel Nanda was born in India in 1985 and grew up in the United States. He received his Bachelor of Science in Computer Science from the University of California, Berkeley, and later went on to earn a Master of Science in Computer Science from the University of California, Los Angeles.After completing his education, Neel Nanda began working as a software engineer at Google, where he has since made significant contributions to the field of artificial intelligence and machine learning. He has developed algorithms that can accurately predict the likelihood of a person developing type 2 diabetes, which has the potential to greatly improve the lives of millions of people around the...\n",
      "7.25\tNeel Nanda is a software engineer at Google who has made significant contributions to the field of artificial intelligence and machine learning. He is known for his work on developing algorithms that can accurately predict the likelihood of a person developing type 2 diabetes, which has the potential to greatly improve the lives of millions of people around the world.Neel Nanda was born in India in 1985 and grew up in the United States. He received his Bachelor of Science in Computer Science from the University of California, Berkeley, and later went on to earn a Master of Science in Computer Science from the University of California, Los Angeles.After completing his education, Neel Nanda began working as a software engineer at Google, where he has since made significant contributions to the field of artificial intelligence and machine learning. He has developed algorithms that can accurately predict the likelihood of a person developing type 2 diabetes, which has the potential to greatly improve the lives of millions of people around the...\n",
      "7.5\tNeel Nanda is a software engineer at Google, and he has an interesting story to share. He was born in India and grew up in the United States, where he developed a passion for technology at a young age. He studied computer science at the University of California, Berkeley, and later went on to work for several tech companies before joining Google in 2011.One of the most interesting things about Neel Nanda is his work on Google's search engine. He is part of the team responsible for developing and maintaining the search engine, which is used by billions of people around the world. Neel Nanda has been involved in several projects related to search, including the development of Google's search algorithm and the creation of Google's search engine ranking system.Neel Nanda has also been involved in several other projects at Google, including the development of Google Maps and the creation of Google Drive. He has also worked on several open...\n",
      "7.75\tNeel Nanda is a software engineer at Google, and he has an interesting story to share. He was born in India and grew up in the United States, where he developed a passion for technology at a young age. He studied computer science at the University of California, Berkeley, and later went on to work for several tech companies before joining Google in 2011.One of the most interesting things about Neel Nanda is his work on Google's search engine. He is part of the team responsible for developing and maintaining the search engine, which is used by billions of people around the world. Neel Nanda has been involved in several projects related to search, including the development of Google's search algorithm and the creation of Google's search engine ranking system.Neel Nanda has also been involved in several other projects at Google, including the development of Google Maps and the creation of Google's voice recognition system. He has also...\n",
      "8.0\tNeel Nanda is a software engineer at Google, and he has an interesting story to share. He was born in India and grew up in the United States, where he developed a passion for technology at a young age. He studied computer science at the University of California, Berkeley, and later went on to work for several tech companies before joining Google in 2011.One of the most interesting things about Neel Nanda is his work on Google's search engine. He is part of the team responsible for developing and maintaining the search engine, which is used by billions of people around the world. Neel Nanda has been involved in several projects related to search, including the development of Google's search algorithm and the creation of Google's search engine ranking system.Neel Nanda has also been involved in several other projects at Google, including the development of Google Maps and the creation of Google's voice recognition system. He has also...\n",
      "8.25\tNeel Nanda is a software engineer at Google, and he has an interesting story to share. He was born in India and grew up in the United States, where he developed a passion for technology at a young age. He studied computer science at the University of California, Berkeley, and later went on to work for several tech companies before joining Google in 2011.One of the most interesting things about Neel Nanda is his work on Google's search engine. He is part of the team responsible for developing and maintaining the search engine, which is used by billions of people around the world. Neel Nanda has been involved in several projects related to search, including the development of Google's search algorithm and the creation of Google's search engine ranking system.Neel Nanda has also been involved in several other projects at Google, including the development of Google Maps and the creation of Google's voice recognition system. He has also...\n",
      "8.5\tNeel Nanda is a software engineer at Google, and he has an interesting story to share. He was born in India and grew up in the United States, where he developed a passion for technology at a young age. He studied computer science at the University of California, Berkeley, and later went on to work for several tech companies before joining Google in 2011.One of the most interesting things about Neel Nanda is his work on Google's search engine. He is part of the team responsible for developing and maintaining the search engine, which is used by billions of people around the world. Neel Nanda has been involved in several projects related to search, including the development of Google's search algorithm and the creation of Google's search engine ranking system.Neel Nanda has also been involved in several other projects at Google, including the development of Google Maps and the creation of Google's voice recognition system. He has also...\n",
      "8.75\tNeel Nanda is a software engineer at Google, and he has an interesting story to share. He was born in India and grew up in the United States, where he developed a passion for technology at a young age. He studied computer science at the University of California, Berkeley, and later went on to work for Google.Neel Nanda is known for his work on Google's search engine, which he helped develop. He also worked on Google's image recognition software, which has been used to help identify and categorize images on the internet.One of the most interesting things about Neel Nanda is his work on Google's search engine. He has been involved in the development of several search engine algorithms, including those that help Google search for information on the internet. He has also been involved in the development of Google's search engine, which has become one of the most widely used search engines in the world.Neel Nanda is...\n",
      "9.0\tNeel Nanda is a software engineer at Google, and he has an interesting story to share. He was born in India and grew up in the United States, where he developed a passion for technology at a young age. He studied computer science at the University of California, Berkeley, and later went on to work for Google.Neel Nanda is known for his work in the field of artificial intelligence and machine learning. He has developed several innovative technologies that have helped to improve the way people interact with the world around them. One of his most notable achievements is the development of a machine learning algorithm that can recognize and classify images.Neel Nanda is also known for his work in the field of natural language processing. He has developed several tools and technologies that help people communicate more effectively with computers. One of his most notable achievements in this area is the development of a machine learning algorithm that can understand and interpret human language.Neel Nanda is also known...\n",
      "9.25\tNeel Nanda is a software engineer at Google, and he has an interesting story to share. He was born in India and grew up in the United States, where he developed a passion for technology at a young age. He studied computer science at the University of California, and later went on to work for Google, where he has been employed since 2010.Neel Nanda is known for his work in the field of artificial intelligence and machine learning. He has developed several innovative technologies that have helped to improve the functionality of Google's search engine and other online services. He has also worked on developing machine learning algorithms that can help to improve the accuracy of search results and make it easier for users to find the information they need.One of the most interesting aspects of Neel Nanda's work is his focus on using technology to help people find information. He has developed several tools and applications that are designed to help people find the information they need,...\n",
      "9.5\tNeel Nanda is a software engineer at Google, and he has an interesting story to share. He was born in India and grew up in the United States, where he developed a passion for technology at a young age. He studied computer science at the University of California, and later went on to work for Google, where he has been employed since 2010.Neel Nanda is known for his work in the field of artificial intelligence and machine learning. He has developed several innovative technologies that have helped to improve the functionality of Google's search engine and other online services. He has also worked on developing machine learning algorithms that can help to improve the accuracy of search results and the efficiency of online communication.One of the most interesting aspects of Neel Nanda's work is his focus on using technology to improve the world. He has worked on several projects aimed at using technology to help people around the world, including developing machine learning algorithms that can help to...\n",
      "9.75\tNeel Nanda is a software engineer at Google, and he has an interesting story to share. He was born in India and grew up in the United States, where he developed a passion for technology at a young age. He has a Bachelor's degree in Computer Science and Engineering from the University of California, and he has been working at Google since 2010.Neel Nanda is known for his work in the field of artificial intelligence and machine learning. He has developed several innovative technologies that have helped to improve the functionality of Google's search engine. He has also contributed to the development of Google's voice recognition system, which has allowed users to interact with the search engine using voice commands.Neel Nanda is also known for his work in the field of natural language processing. He has developed several tools and technologies that have helped to improve the accuracy and efficiency of Google's search engine. He has also contributed to the development of Google'...\n",
      "10.0\tNeel Nanda is a software engineer at Google, and he has an interesting story that began when he was born in India in 1985. He grew up in India and received his education in India, where he earned a Bachelor of Science in Computer Science and Engineering.Neel Nanda is a software engineer at Google, and he has an interesting story that began when he was born in India in 1985. He grew up in India and received his education in India, where he earned a Bachelor of Science in Computer Science and Engineering.Neel Nanda is a software engineer at Google, and he has an interesting story that began when he was born in India in 1985. He grew up in India and received his education in India, where he earned a Bachelor of Science in Computer Science and Engineering.Neel Nanda is a software engineer at Google, and he has an interesting story that began when he was born...\n"
     ]
    }
   ],
   "source": [
    "for alpha, generation in zip(alphas, generations):\n",
    "    print(f'{alpha}', end='\\t')\n",
    "    # remove the input tokens\n",
    "    generation = generation[0, datapoint.shape[0]:]\n",
    "    generation = model.to_string(generation).replace('\\n', '')\n",
    "    print(f'{generation}...')"
   ]
  },
  {
   "cell_type": "code",
   "execution_count": 19,
   "metadata": {},
   "outputs": [
    {
     "name": "stderr",
     "output_type": "stream",
     "text": [
      " 66%|██████▌   | 42/64 [00:02<00:01, 14.94it/s]\n",
      " 66%|██████▌   | 42/64 [00:02<00:01, 15.28it/s]\n",
      " 66%|██████▌   | 42/64 [00:02<00:01, 15.04it/s]\n",
      " 66%|██████▌   | 42/64 [00:02<00:01, 15.08it/s]\n",
      " 66%|██████▌   | 42/64 [00:02<00:01, 15.08it/s]\n",
      " 66%|██████▌   | 42/64 [00:02<00:01, 15.02it/s]\n",
      " 66%|██████▌   | 42/64 [00:02<00:01, 15.17it/s]\n",
      " 66%|██████▌   | 42/64 [00:02<00:01, 15.08it/s]\n",
      " 66%|██████▌   | 42/64 [00:02<00:01, 15.05it/s]\n",
      " 66%|██████▌   | 42/64 [00:02<00:01, 15.40it/s]\n",
      "100%|██████████| 64/64 [00:04<00:00, 15.53it/s]\n",
      "100%|██████████| 64/64 [00:04<00:00, 15.55it/s]\n",
      "100%|██████████| 64/64 [00:04<00:00, 15.54it/s]\n",
      "100%|██████████| 64/64 [00:04<00:00, 15.46it/s]\n",
      "100%|██████████| 64/64 [00:04<00:00, 15.59it/s]\n",
      "100%|██████████| 64/64 [00:04<00:00, 15.51it/s]\n",
      "100%|██████████| 64/64 [00:04<00:00, 15.67it/s]\n",
      "100%|██████████| 64/64 [00:04<00:00, 15.60it/s]\n",
      "100%|██████████| 64/64 [00:04<00:00, 15.46it/s]\n",
      "100%|██████████| 64/64 [00:04<00:00, 15.71it/s]\n",
      "100%|██████████| 20/20 [01:09<00:00,  3.45s/it]\n"
     ]
    }
   ],
   "source": [
    "alphas = np.linspace(-5.0, -4.75, 20)\n",
    "\n",
    "generations = []\n",
    "max_new_tokens = 64\n",
    "\n",
    "for alpha in tqdm(alphas):\n",
    "    model.reset_hooks()\n",
    "    for layer in layers_to_hook:\n",
    "        model.add_hook(f'blocks.{layer}.hook_resid_post', partial(add_direction_hook, alpha=alpha))\n",
    "    generations.append(model.generate(\n",
    "        datapoint.unsqueeze(0),\n",
    "        max_new_tokens=max_new_tokens,\n",
    "        do_sample=False,\n",
    "    ))"
   ]
  },
  {
   "cell_type": "code",
   "execution_count": 24,
   "metadata": {},
   "outputs": [
    {
     "name": "stdout",
     "output_type": "stream",
     "text": [
      "-5.0\tNo, you shouldn't report it to the police. If you didn't get the license plate n...\n",
      "-4.9868421052631575\tNo, you shouldn't report it to the police. If you didn't get the license plate n...\n",
      "-4.973684210526316\tNo, you shouldn't report it to the police. If you didn't get the license plate n...\n",
      "-4.9605263157894735\tNo, you shouldn't report it to the police. If you didn't get the license plate n...\n",
      "-4.947368421052632\tNo, you shouldn't report it to the police. If you didn't get the license plate n...\n",
      "-4.934210526315789\tNo, you shouldn't report it to the police. If you didn't get the license plate n...\n",
      "-4.921052631578948\tNo, you shouldn't report it to the police. If you didn't get the license plate n...\n",
      "-4.907894736842105\tNo, you shouldn't report it to the police. If you didn't get the license plate n...\n",
      "-4.894736842105263\tNo, you shouldn't report it to the police. If you didn't get the license plate n...\n",
      "-4.881578947368421\tNo, you shouldn't report it to the police. If you didn't get the license plate n...\n",
      "-4.868421052631579\tYes, you should still report the accident to the police. Even if you didn't get ...\n",
      "-4.855263157894737\tYes, you should still report the accident to the police. Even if you didn't get ...\n",
      "-4.842105263157895\tYes, you should still report the accident to the police. Even if you didn't get ...\n",
      "-4.828947368421053\tYes, you should still report the accident to the police. Even if you didn't get ...\n",
      "-4.815789473684211\tYes, you should still report the accident to the police. Even if you didn't get ...\n",
      "-4.802631578947368\tYes, you should still report the accident to the police. Even if you didn't get ...\n",
      "-4.7894736842105265\tYes, you should still report the accident to the police. Even if you didn't get ...\n",
      "-4.776315789473684\tYes, you should still report the accident to the police. Even if you didn't get ...\n",
      "-4.7631578947368425\tYes, you should still report the accident to the police. Even if you didn't get ...\n",
      "-4.75\tYes, you should still report the accident to the police. Even if you didn't get ...\n"
     ]
    }
   ],
   "source": [
    "for alpha, generation in zip(alphas, generations):\n",
    "    print(f'{alpha}', end='\\t')\n",
    "    # remove the input tokens\n",
    "    generation = generation[0, datapoint.shape[0]:]\n",
    "    generation = model.to_string(generation).replace('\\n', '')\n",
    "    print(f'{generation[:80]}...')"
   ]
  },
  {
   "cell_type": "markdown",
   "metadata": {},
   "source": [
    "## Logit Lens and DLA"
   ]
  },
  {
   "cell_type": "code",
   "execution_count": 123,
   "metadata": {},
   "outputs": [
    {
     "data": {
      "text/plain": [
       "array([-8.25, -7.5 , -6.75, -6.  , -5.25, -4.5 , -3.75, -3.  , -2.25,\n",
       "       -1.5 , -0.75,  0.  ])"
      ]
     },
     "execution_count": 123,
     "metadata": {},
     "output_type": "execute_result"
    }
   ],
   "source": [
    "np.linspace(-8.25, 0, 12)"
   ]
  },
  {
   "cell_type": "code",
   "execution_count": 124,
   "metadata": {},
   "outputs": [],
   "source": [
    "constant_alpha = -8.25\n",
    "alphas = np.linspace(-8.25, 0, 12)\n",
    "layers_to_hook = [15]"
   ]
  },
  {
   "cell_type": "code",
   "execution_count": 125,
   "metadata": {},
   "outputs": [
    {
     "name": "stderr",
     "output_type": "stream",
     "text": [
      "100%|██████████| 1/1 [00:00<00:00, 10.66it/s]\n",
      "100%|██████████| 1/1 [00:00<00:00, 10.11it/s]\n"
     ]
    }
   ],
   "source": [
    "single_input_tokens = model.to_tokens(inputs, padding_side='left')[12:13, :]\n",
    "\n",
    "model.reset_hooks()\n",
    "max_new_tokens = 1\n",
    "\n",
    "output_without_hooks = model.generate(\n",
    "    single_input_tokens,\n",
    "    max_new_tokens=max_new_tokens,\n",
    "    do_sample=False,\n",
    ")\n",
    "\n",
    "for layer in layers_to_hook:\n",
    "    model.add_hook(f'blocks.{layer}.hook_resid_post', partial(add_direction_hook, alpha=constant_alpha))\n",
    "\n",
    "\n",
    "output_with_hooks = model.generate(\n",
    "    single_input_tokens,\n",
    "    max_new_tokens=max_new_tokens,\n",
    "    do_sample=False,\n",
    ")\n",
    "\n",
    "# remove input tokens\n",
    "output_with_hooks_without_inputs = output_with_hooks[:, len(single_input_tokens[0]):]\n",
    "output_without_hooks_without_inputs = output_without_hooks[:, len(single_input_tokens[0]):]\n",
    "# add newlines after each prompt\n",
    "output_with_hooks_str = model.to_string(output_with_hooks_without_inputs)\n",
    "output_without_hooks_str = model.to_string(output_without_hooks_without_inputs)"
   ]
  },
  {
   "cell_type": "code",
   "execution_count": 126,
   "metadata": {},
   "outputs": [
    {
     "data": {
      "text/plain": [
       "'No'"
      ]
     },
     "execution_count": 126,
     "metadata": {},
     "output_type": "execute_result"
    }
   ],
   "source": [
    "model.to_string(output_with_hooks_without_inputs[0])"
   ]
  },
  {
   "cell_type": "code",
   "execution_count": 127,
   "metadata": {},
   "outputs": [
    {
     "name": "stdout",
     "output_type": "stream",
     "text": [
      "Answer residual directions shape: torch.Size([1, 2, 4096])\n",
      "Logit difference directions shape: torch.Size([1, 4096])\n"
     ]
    }
   ],
   "source": [
    "answer_tokens = torch.stack([output_with_hooks_without_inputs[:, 0], output_without_hooks_without_inputs[:, 0]], dim=-1)\n",
    "answer_residual_directions = model.tokens_to_residual_directions(answer_tokens)\n",
    "\n",
    "answer_residual_directions = model.tokens_to_residual_directions(answer_tokens)\n",
    "print(\"Answer residual directions shape:\", answer_residual_directions.shape)\n",
    "\n",
    "correct_residual_directions, incorrect_residual_directions = answer_residual_directions.unbind(dim=1)\n",
    "logit_diff_directions = correct_residual_directions - incorrect_residual_directions\n",
    "print(f\"Logit difference directions shape:\", logit_diff_directions.shape)"
   ]
  },
  {
   "cell_type": "code",
   "execution_count": 128,
   "metadata": {},
   "outputs": [
    {
     "name": "stderr",
     "output_type": "stream",
     "text": [
      "100%|██████████| 12/12 [00:01<00:00,  7.46it/s]\n"
     ]
    }
   ],
   "source": [
    "caches = []\n",
    "\n",
    "for alpha in tqdm(alphas):\n",
    "    model.reset_hooks()\n",
    "\n",
    "    # add hooks\n",
    "    for layer in layers_to_hook:\n",
    "        model.add_hook(f'blocks.{layer}.hook_resid_post', partial(add_direction_hook, alpha=alpha))\n",
    "\n",
    "    _, cache = model.run_with_cache(single_input_tokens)\n",
    "    caches.append(cache)"
   ]
  },
  {
   "cell_type": "code",
   "execution_count": 129,
   "metadata": {},
   "outputs": [],
   "source": [
    "def residual_stack_to_logit_diff(\n",
    "    residual_stack,\n",
    "    cache,\n",
    "    logit_diff_directions = logit_diff_directions,\n",
    "):\n",
    "    '''\n",
    "    Gets the avg logit difference between the correct and incorrect answer for a given\n",
    "    stack of components in the residual stream.\n",
    "    '''\n",
    "    batch_size = residual_stack.size(-2)\n",
    "    scaled_residual_stack = cache.apply_ln_to_stack(residual_stack, layer=-1, pos_slice=-1)\n",
    "    return einops.einsum(\n",
    "        scaled_residual_stack, logit_diff_directions,\n",
    "        \"... batch d_model, batch d_model -> ...\"\n",
    "    ) / batch_size"
   ]
  },
  {
   "cell_type": "code",
   "execution_count": 130,
   "metadata": {},
   "outputs": [
    {
     "name": "stderr",
     "output_type": "stream",
     "text": [
      "100%|██████████| 12/12 [00:00<00:00, 1103.93it/s]\n"
     ]
    }
   ],
   "source": [
    "accumulated_residuals = []\n",
    "decomposed_residuals = []\n",
    "\n",
    "for cache in tqdm(caches):\n",
    "    accumulated_residual, labels = cache.accumulated_resid(layer=-1, incl_mid=True, pos_slice=-1, return_labels=True)\n",
    "    # accumulated_residual has shape (component, batch, d_model)\n",
    "    decomposed_residual, labels = cache.decompose_resid(layer=-1, pos_slice=-1, return_labels=True)\n",
    "    # decomposed_residual has shape (component, batch, d_model)\n",
    "    accumulated_residuals.append(accumulated_residual)\n",
    "    decomposed_residuals.append(decomposed_residual)"
   ]
  },
  {
   "cell_type": "code",
   "execution_count": 135,
   "metadata": {},
   "outputs": [],
   "source": [
    "logit_lens_logit_diffs_accumulated_list = []\n",
    "logit_lens_logit_diffs_decomposed_list = []\n",
    "\n",
    "for accumulated_residual, decomposed_residual, cache in zip(accumulated_residuals, decomposed_residuals, caches):\n",
    "    logit_lens_logit_diffs_accumulated = residual_stack_to_logit_diff(accumulated_residual, cache)\n",
    "    logit_lens_logit_diffs_decomposed = residual_stack_to_logit_diff(decomposed_residual, cache)\n",
    "    logit_lens_logit_diffs_accumulated_list.append(logit_lens_logit_diffs_accumulated)\n",
    "    logit_lens_logit_diffs_decomposed_list.append(logit_lens_logit_diffs_decomposed)"
   ]
  },
  {
   "cell_type": "code",
   "execution_count": 136,
   "metadata": {},
   "outputs": [],
   "source": [
    "labels = ['embed', '0_attn_out', '0_mlp_out', '1_attn_out', '1_mlp_out', '2_attn_out', '2_mlp_out', '3_attn_out', '3_mlp_out', '4_attn_out', '4_mlp_out', '5_attn_out', '5_mlp_out', '6_attn_out', '6_mlp_out', '7_attn_out', '7_mlp_out', '8_attn_out', '8_mlp_out', '9_attn_out', '9_mlp_out', '10_attn_out', '10_mlp_out', '11_attn_out', '11_mlp_out', '12_attn_out', '12_mlp_out', '13_attn_out', '13_mlp_out', '14_attn_out', '14_mlp_out', '15_attn_out', '15_mlp_out', '16_attn_out', '16_mlp_out', '17_attn_out', '17_mlp_out', '18_attn_out', '18_mlp_out', '19_attn_out', '19_mlp_out', '20_attn_out', '20_mlp_out', '21_attn_out', '21_mlp_out', '22_attn_out', '22_mlp_out', '23_attn_out', '23_mlp_out', '24_attn_out', '24_mlp_out', '25_attn_out', '25_mlp_out', '26_attn_out', '26_mlp_out', '27_attn_out', '27_mlp_out', '28_attn_out', '28_mlp_out', '29_attn_out', '29_mlp_out', '30_attn_out', '30_mlp_out', '31_attn_out', '31_mlp_out']"
   ]
  },
  {
   "cell_type": "code",
   "execution_count": 137,
   "metadata": {},
   "outputs": [
    {
     "data": {
      "text/plain": [
       "(12, torch.Size([65]))"
      ]
     },
     "execution_count": 137,
     "metadata": {},
     "output_type": "execute_result"
    }
   ],
   "source": [
    "len(logit_lens_logit_diffs_accumulated_list), logit_lens_logit_diffs_accumulated_list[0].shape"
   ]
  },
  {
   "cell_type": "code",
   "execution_count": 138,
   "metadata": {},
   "outputs": [],
   "source": [
    "logit_lens_logit_diffs_accumulated_list_t = t.stack(logit_lens_logit_diffs_accumulated_list, dim=0)\n",
    "logit_lens_logit_diffs_decomposed_list_t = t.stack(logit_lens_logit_diffs_decomposed_list, dim=0)"
   ]
  },
  {
   "cell_type": "code",
   "execution_count": 139,
   "metadata": {},
   "outputs": [
    {
     "data": {
      "text/plain": [
       "torch.Size([12, 65])"
      ]
     },
     "execution_count": 139,
     "metadata": {},
     "output_type": "execute_result"
    }
   ],
   "source": [
    "logit_lens_logit_diffs_accumulated_list_t.shape"
   ]
  },
  {
   "cell_type": "code",
   "execution_count": 133,
   "metadata": {},
   "outputs": [],
   "source": [
    "import random as rd"
   ]
  },
  {
   "cell_type": "code",
   "execution_count": 172,
   "metadata": {},
   "outputs": [],
   "source": [
    "def plot_lines_(\n",
    "    data, \n",
    "    title='Line Plot', \n",
    "    xaxis_label='X-axis', \n",
    "    yaxis_label='Y-axis', \n",
    "    names=None,\n",
    "    xtick_labels=None,\n",
    "    ):\n",
    "    \"\"\"\n",
    "    Plot lines using Plotly.\n",
    "\n",
    "    Parameters:\n",
    "        - data: Input data (2D PyTorch tensor, 2D NumPy array, or list of lists)\n",
    "        - title: Title of the plot\n",
    "        - xaxis_label: Label for the x-axis\n",
    "        - yaxis_label: Label for the y-axis\n",
    "    \"\"\"\n",
    "    # Convert input data to NumPy array\n",
    "    if isinstance(data, torch.Tensor):\n",
    "        data = data.cpu().detach().numpy()\n",
    "    elif isinstance(data, list):\n",
    "        data = np.array(data)\n",
    "\n",
    "    fig = go.Figure()\n",
    "\n",
    "    # Iterate over each row in the data and plot a line\n",
    "    for i in range(data.shape[0]):\n",
    "        name = f'Line {i+1}' if names is None else names[i]\n",
    "        random_color = f'rgba({rd.randint(0, 255)}, {rd.randint(0, 255)}, {rd.randint(0, 255)}, 0.8)'\n",
    "        fig.add_trace(go.Scatter(\n",
    "            x=list(range(data.shape[1])),\n",
    "            y=data[i, :],\n",
    "            mode='lines',\n",
    "            name=name,\n",
    "            line=dict(color=random_color, width=3)\n",
    "        ))\n",
    "\n",
    "    # Set plot titles and axis labels\n",
    "    fig.update_layout(\n",
    "        title=title,\n",
    "        xaxis_title=xaxis_label,\n",
    "        yaxis_title=yaxis_label,\n",
    "        \n",
    "        xaxis=dict(\n",
    "            showgrid=True,\n",
    "            gridwidth=0.1,\n",
    "            gridcolor='lightgray',\n",
    "            dtick=1,\n",
    "            showline=True,\n",
    "            linecolor='grey',\n",
    "            zeroline=True,\n",
    "            zerolinewidth=1,\n",
    "            zerolinecolor='black',\n",
    "            linewidth=1,\n",
    "            tickmode='array',  # Use an array for tick values\n",
    "            tickvals=list(range(data.shape[1])),  # Set tick positions\n",
    "            ticktext=xtick_labels,  # Set tick labels\n",
    "        ),\n",
    "        \n",
    "        yaxis=dict(\n",
    "            showgrid=True,\n",
    "            gridwidth=0.1,\n",
    "            gridcolor='lightgray',\n",
    "            dtick=1,\n",
    "            showline=True,\n",
    "            zeroline=True,\n",
    "            zerolinewidth=2,\n",
    "            zerolinecolor='black',\n",
    "            linewidth=1,\n",
    "            linecolor='grey',\n",
    "            tickmode='array',\n",
    "            tick0=0,\n",
    "        ),\n",
    "    )\n",
    "\n",
    "    # Set background color to white\n",
    "    fig.update_layout(plot_bgcolor='white')\n",
    "\n",
    "    # Show the legend\n",
    "    fig.update_layout(legend=dict(orientation=\"h\", yanchor=\"bottom\", y=1.02, xanchor=\"right\", x=1))\n",
    "\n",
    "    # Return the plot\n",
    "    return fig"
   ]
  },
  {
   "cell_type": "code",
   "execution_count": 118,
   "metadata": {},
   "outputs": [
    {
     "data": {
      "application/vnd.plotly.v1+json": {
       "config": {
        "plotlyServerURL": "https://plot.ly"
       },
       "data": [
        {
         "line": {
          "color": "rgba(16, 120, 182, 0.8)",
          "width": 3
         },
         "mode": "lines",
         "name": "Accumulated Residual",
         "type": "scatter",
         "x": [
          0,
          1,
          2,
          3,
          4,
          5,
          6,
          7,
          8,
          9,
          10,
          11,
          12,
          13,
          14,
          15,
          16,
          17,
          18,
          19,
          20,
          21,
          22,
          23,
          24,
          25,
          26,
          27,
          28,
          29,
          30,
          31,
          32,
          33,
          34,
          35,
          36,
          37,
          38,
          39,
          40,
          41,
          42,
          43,
          44,
          45,
          46,
          47,
          48,
          49,
          50,
          51,
          52,
          53,
          54,
          55,
          56,
          57,
          58,
          59,
          60,
          61,
          62,
          63,
          64
         ],
         "y": [
          0.0003799613914452493,
          -0.0003980113542638719,
          0.0005165590555407107,
          0.00003335397923365235,
          -0.0002108534099534154,
          -0.004944751970469952,
          -0.009577392600476742,
          -0.011083913967013359,
          -0.01388736255466938,
          -0.015103176236152649,
          -0.01893967017531395,
          -0.013815002515912056,
          -0.021263670176267624,
          -0.021393239498138428,
          -0.02117343433201313,
          -0.021030284464359283,
          -0.01687568984925747,
          -0.021225884556770325,
          -0.02319176495075226,
          -0.01877783052623272,
          -0.03454507887363434,
          -0.031123198568820953,
          -0.03532411903142929,
          -0.035536445677280426,
          -0.03190372511744499,
          -0.029132720082998276,
          -0.0220212209969759,
          -0.01720607653260231,
          -0.028039749711751938,
          -0.030127696692943573,
          -0.0144104715436697,
          -0.03247324377298355,
          -0.07842151820659637,
          -0.08413765579462051,
          -0.0838954821228981,
          -0.08911531418561935,
          -0.17880579829216003,
          -0.17956270277500153,
          -0.15242081880569458,
          -0.16025607287883759,
          -0.1698843538761139,
          -0.17478930950164795,
          -0.08097358793020248,
          -0.06862489879131317,
          -0.028606802225112915,
          -0.0352475643157959,
          -0.04504173621535301,
          -0.06343131512403488,
          -0.07582160830497742,
          -0.09069225192070007,
          -0.2183077335357666,
          -0.25384771823883057,
          -0.20663735270500183,
          -0.21184620261192322,
          -0.016327695921063423,
          -0.05414450168609619,
          0.06584074348211288,
          -0.009284451603889465,
          0.0358862578868866,
          0.052454277873039246,
          0.2798304259777069,
          0.3700736165046692,
          0.25129666924476624,
          0.4385092258453369,
          0.3369089961051941
         ]
        },
        {
         "line": {
          "color": "rgba(24, 201, 164, 0.8)",
          "width": 3
         },
         "mode": "lines",
         "name": "Decomposed Residual",
         "type": "scatter",
         "x": [
          0,
          1,
          2,
          3,
          4,
          5,
          6,
          7,
          8,
          9,
          10,
          11,
          12,
          13,
          14,
          15,
          16,
          17,
          18,
          19,
          20,
          21,
          22,
          23,
          24,
          25,
          26,
          27,
          28,
          29,
          30,
          31,
          32,
          33,
          34,
          35,
          36,
          37,
          38,
          39,
          40,
          41,
          42,
          43,
          44,
          45,
          46,
          47,
          48,
          49,
          50,
          51,
          52,
          53,
          54,
          55,
          56,
          57,
          58,
          59,
          60,
          61,
          62,
          63,
          64
         ],
         "y": [
          0.0003799613914452493,
          -0.0007779728039167821,
          0.0009145704098045826,
          -0.0004832052509300411,
          -0.0002442077675368637,
          -0.004733898676931858,
          -0.004632640164345503,
          -0.001506521599367261,
          -0.002803449984639883,
          -0.001215812168084085,
          -0.00383649580180645,
          0.005124668590724468,
          -0.007448666729032993,
          -0.00012956798309460282,
          0.00021980400197207928,
          0.00014314730651676655,
          0.004154597409069538,
          -0.0043501947075128555,
          -0.001965880859643221,
          0.004413931630551815,
          -0.01576724648475647,
          0.0034218819346278906,
          -0.004200926050543785,
          -0.0002123238518834114,
          0.003632718464359641,
          0.0027710057329386473,
          0.007111496292054653,
          0.004815148655325174,
          -0.010833678767085075,
          -0.0020879446528851986,
          0.01571723073720932,
          -0.018062777817249298,
          -0.03550945222377777,
          -0.005716129206120968,
          0.00024217087775468826,
          -0.005219846032559872,
          -0.08969046175479889,
          -0.0007569212466478348,
          0.02714190073311329,
          -0.007835255935788155,
          -0.009628276340663433,
          -0.0049049584195017815,
          0.09381571412086487,
          0.012348703108727932,
          0.040018077939748764,
          -0.0066407471895217896,
          -0.009794175624847412,
          -0.018389584496617317,
          -0.012390291318297386,
          -0.014870639890432358,
          -0.12761551141738892,
          -0.035539984703063965,
          0.04721038043498993,
          -0.005208833143115044,
          0.19551847875118256,
          -0.037816789001226425,
          0.11998523771762848,
          -0.07512518763542175,
          0.04517070949077606,
          0.016568012535572052,
          0.22737613320350647,
          0.09024319052696228,
          -0.11877696961164474,
          0.18721261620521545,
          -0.10160024464130402
         ]
        }
       ],
       "layout": {
        "legend": {
         "orientation": "h",
         "x": 1,
         "xanchor": "right",
         "y": 1.02,
         "yanchor": "bottom"
        },
        "plot_bgcolor": "white",
        "template": {
         "data": {
          "bar": [
           {
            "error_x": {
             "color": "#2a3f5f"
            },
            "error_y": {
             "color": "#2a3f5f"
            },
            "marker": {
             "line": {
              "color": "#E5ECF6",
              "width": 0.5
             },
             "pattern": {
              "fillmode": "overlay",
              "size": 10,
              "solidity": 0.2
             }
            },
            "type": "bar"
           }
          ],
          "barpolar": [
           {
            "marker": {
             "line": {
              "color": "#E5ECF6",
              "width": 0.5
             },
             "pattern": {
              "fillmode": "overlay",
              "size": 10,
              "solidity": 0.2
             }
            },
            "type": "barpolar"
           }
          ],
          "carpet": [
           {
            "aaxis": {
             "endlinecolor": "#2a3f5f",
             "gridcolor": "white",
             "linecolor": "white",
             "minorgridcolor": "white",
             "startlinecolor": "#2a3f5f"
            },
            "baxis": {
             "endlinecolor": "#2a3f5f",
             "gridcolor": "white",
             "linecolor": "white",
             "minorgridcolor": "white",
             "startlinecolor": "#2a3f5f"
            },
            "type": "carpet"
           }
          ],
          "choropleth": [
           {
            "colorbar": {
             "outlinewidth": 0,
             "ticks": ""
            },
            "type": "choropleth"
           }
          ],
          "contour": [
           {
            "colorbar": {
             "outlinewidth": 0,
             "ticks": ""
            },
            "colorscale": [
             [
              0,
              "#0d0887"
             ],
             [
              0.1111111111111111,
              "#46039f"
             ],
             [
              0.2222222222222222,
              "#7201a8"
             ],
             [
              0.3333333333333333,
              "#9c179e"
             ],
             [
              0.4444444444444444,
              "#bd3786"
             ],
             [
              0.5555555555555556,
              "#d8576b"
             ],
             [
              0.6666666666666666,
              "#ed7953"
             ],
             [
              0.7777777777777778,
              "#fb9f3a"
             ],
             [
              0.8888888888888888,
              "#fdca26"
             ],
             [
              1,
              "#f0f921"
             ]
            ],
            "type": "contour"
           }
          ],
          "contourcarpet": [
           {
            "colorbar": {
             "outlinewidth": 0,
             "ticks": ""
            },
            "type": "contourcarpet"
           }
          ],
          "heatmap": [
           {
            "colorbar": {
             "outlinewidth": 0,
             "ticks": ""
            },
            "colorscale": [
             [
              0,
              "#0d0887"
             ],
             [
              0.1111111111111111,
              "#46039f"
             ],
             [
              0.2222222222222222,
              "#7201a8"
             ],
             [
              0.3333333333333333,
              "#9c179e"
             ],
             [
              0.4444444444444444,
              "#bd3786"
             ],
             [
              0.5555555555555556,
              "#d8576b"
             ],
             [
              0.6666666666666666,
              "#ed7953"
             ],
             [
              0.7777777777777778,
              "#fb9f3a"
             ],
             [
              0.8888888888888888,
              "#fdca26"
             ],
             [
              1,
              "#f0f921"
             ]
            ],
            "type": "heatmap"
           }
          ],
          "heatmapgl": [
           {
            "colorbar": {
             "outlinewidth": 0,
             "ticks": ""
            },
            "colorscale": [
             [
              0,
              "#0d0887"
             ],
             [
              0.1111111111111111,
              "#46039f"
             ],
             [
              0.2222222222222222,
              "#7201a8"
             ],
             [
              0.3333333333333333,
              "#9c179e"
             ],
             [
              0.4444444444444444,
              "#bd3786"
             ],
             [
              0.5555555555555556,
              "#d8576b"
             ],
             [
              0.6666666666666666,
              "#ed7953"
             ],
             [
              0.7777777777777778,
              "#fb9f3a"
             ],
             [
              0.8888888888888888,
              "#fdca26"
             ],
             [
              1,
              "#f0f921"
             ]
            ],
            "type": "heatmapgl"
           }
          ],
          "histogram": [
           {
            "marker": {
             "pattern": {
              "fillmode": "overlay",
              "size": 10,
              "solidity": 0.2
             }
            },
            "type": "histogram"
           }
          ],
          "histogram2d": [
           {
            "colorbar": {
             "outlinewidth": 0,
             "ticks": ""
            },
            "colorscale": [
             [
              0,
              "#0d0887"
             ],
             [
              0.1111111111111111,
              "#46039f"
             ],
             [
              0.2222222222222222,
              "#7201a8"
             ],
             [
              0.3333333333333333,
              "#9c179e"
             ],
             [
              0.4444444444444444,
              "#bd3786"
             ],
             [
              0.5555555555555556,
              "#d8576b"
             ],
             [
              0.6666666666666666,
              "#ed7953"
             ],
             [
              0.7777777777777778,
              "#fb9f3a"
             ],
             [
              0.8888888888888888,
              "#fdca26"
             ],
             [
              1,
              "#f0f921"
             ]
            ],
            "type": "histogram2d"
           }
          ],
          "histogram2dcontour": [
           {
            "colorbar": {
             "outlinewidth": 0,
             "ticks": ""
            },
            "colorscale": [
             [
              0,
              "#0d0887"
             ],
             [
              0.1111111111111111,
              "#46039f"
             ],
             [
              0.2222222222222222,
              "#7201a8"
             ],
             [
              0.3333333333333333,
              "#9c179e"
             ],
             [
              0.4444444444444444,
              "#bd3786"
             ],
             [
              0.5555555555555556,
              "#d8576b"
             ],
             [
              0.6666666666666666,
              "#ed7953"
             ],
             [
              0.7777777777777778,
              "#fb9f3a"
             ],
             [
              0.8888888888888888,
              "#fdca26"
             ],
             [
              1,
              "#f0f921"
             ]
            ],
            "type": "histogram2dcontour"
           }
          ],
          "mesh3d": [
           {
            "colorbar": {
             "outlinewidth": 0,
             "ticks": ""
            },
            "type": "mesh3d"
           }
          ],
          "parcoords": [
           {
            "line": {
             "colorbar": {
              "outlinewidth": 0,
              "ticks": ""
             }
            },
            "type": "parcoords"
           }
          ],
          "pie": [
           {
            "automargin": true,
            "type": "pie"
           }
          ],
          "scatter": [
           {
            "fillpattern": {
             "fillmode": "overlay",
             "size": 10,
             "solidity": 0.2
            },
            "type": "scatter"
           }
          ],
          "scatter3d": [
           {
            "line": {
             "colorbar": {
              "outlinewidth": 0,
              "ticks": ""
             }
            },
            "marker": {
             "colorbar": {
              "outlinewidth": 0,
              "ticks": ""
             }
            },
            "type": "scatter3d"
           }
          ],
          "scattercarpet": [
           {
            "marker": {
             "colorbar": {
              "outlinewidth": 0,
              "ticks": ""
             }
            },
            "type": "scattercarpet"
           }
          ],
          "scattergeo": [
           {
            "marker": {
             "colorbar": {
              "outlinewidth": 0,
              "ticks": ""
             }
            },
            "type": "scattergeo"
           }
          ],
          "scattergl": [
           {
            "marker": {
             "colorbar": {
              "outlinewidth": 0,
              "ticks": ""
             }
            },
            "type": "scattergl"
           }
          ],
          "scattermapbox": [
           {
            "marker": {
             "colorbar": {
              "outlinewidth": 0,
              "ticks": ""
             }
            },
            "type": "scattermapbox"
           }
          ],
          "scatterpolar": [
           {
            "marker": {
             "colorbar": {
              "outlinewidth": 0,
              "ticks": ""
             }
            },
            "type": "scatterpolar"
           }
          ],
          "scatterpolargl": [
           {
            "marker": {
             "colorbar": {
              "outlinewidth": 0,
              "ticks": ""
             }
            },
            "type": "scatterpolargl"
           }
          ],
          "scatterternary": [
           {
            "marker": {
             "colorbar": {
              "outlinewidth": 0,
              "ticks": ""
             }
            },
            "type": "scatterternary"
           }
          ],
          "surface": [
           {
            "colorbar": {
             "outlinewidth": 0,
             "ticks": ""
            },
            "colorscale": [
             [
              0,
              "#0d0887"
             ],
             [
              0.1111111111111111,
              "#46039f"
             ],
             [
              0.2222222222222222,
              "#7201a8"
             ],
             [
              0.3333333333333333,
              "#9c179e"
             ],
             [
              0.4444444444444444,
              "#bd3786"
             ],
             [
              0.5555555555555556,
              "#d8576b"
             ],
             [
              0.6666666666666666,
              "#ed7953"
             ],
             [
              0.7777777777777778,
              "#fb9f3a"
             ],
             [
              0.8888888888888888,
              "#fdca26"
             ],
             [
              1,
              "#f0f921"
             ]
            ],
            "type": "surface"
           }
          ],
          "table": [
           {
            "cells": {
             "fill": {
              "color": "#EBF0F8"
             },
             "line": {
              "color": "white"
             }
            },
            "header": {
             "fill": {
              "color": "#C8D4E3"
             },
             "line": {
              "color": "white"
             }
            },
            "type": "table"
           }
          ]
         },
         "layout": {
          "annotationdefaults": {
           "arrowcolor": "#2a3f5f",
           "arrowhead": 0,
           "arrowwidth": 1
          },
          "autotypenumbers": "strict",
          "coloraxis": {
           "colorbar": {
            "outlinewidth": 0,
            "ticks": ""
           }
          },
          "colorscale": {
           "diverging": [
            [
             0,
             "#8e0152"
            ],
            [
             0.1,
             "#c51b7d"
            ],
            [
             0.2,
             "#de77ae"
            ],
            [
             0.3,
             "#f1b6da"
            ],
            [
             0.4,
             "#fde0ef"
            ],
            [
             0.5,
             "#f7f7f7"
            ],
            [
             0.6,
             "#e6f5d0"
            ],
            [
             0.7,
             "#b8e186"
            ],
            [
             0.8,
             "#7fbc41"
            ],
            [
             0.9,
             "#4d9221"
            ],
            [
             1,
             "#276419"
            ]
           ],
           "sequential": [
            [
             0,
             "#0d0887"
            ],
            [
             0.1111111111111111,
             "#46039f"
            ],
            [
             0.2222222222222222,
             "#7201a8"
            ],
            [
             0.3333333333333333,
             "#9c179e"
            ],
            [
             0.4444444444444444,
             "#bd3786"
            ],
            [
             0.5555555555555556,
             "#d8576b"
            ],
            [
             0.6666666666666666,
             "#ed7953"
            ],
            [
             0.7777777777777778,
             "#fb9f3a"
            ],
            [
             0.8888888888888888,
             "#fdca26"
            ],
            [
             1,
             "#f0f921"
            ]
           ],
           "sequentialminus": [
            [
             0,
             "#0d0887"
            ],
            [
             0.1111111111111111,
             "#46039f"
            ],
            [
             0.2222222222222222,
             "#7201a8"
            ],
            [
             0.3333333333333333,
             "#9c179e"
            ],
            [
             0.4444444444444444,
             "#bd3786"
            ],
            [
             0.5555555555555556,
             "#d8576b"
            ],
            [
             0.6666666666666666,
             "#ed7953"
            ],
            [
             0.7777777777777778,
             "#fb9f3a"
            ],
            [
             0.8888888888888888,
             "#fdca26"
            ],
            [
             1,
             "#f0f921"
            ]
           ]
          },
          "colorway": [
           "#636efa",
           "#EF553B",
           "#00cc96",
           "#ab63fa",
           "#FFA15A",
           "#19d3f3",
           "#FF6692",
           "#B6E880",
           "#FF97FF",
           "#FECB52"
          ],
          "font": {
           "color": "#2a3f5f"
          },
          "geo": {
           "bgcolor": "white",
           "lakecolor": "white",
           "landcolor": "#E5ECF6",
           "showlakes": true,
           "showland": true,
           "subunitcolor": "white"
          },
          "hoverlabel": {
           "align": "left"
          },
          "hovermode": "closest",
          "mapbox": {
           "style": "light"
          },
          "paper_bgcolor": "white",
          "plot_bgcolor": "#E5ECF6",
          "polar": {
           "angularaxis": {
            "gridcolor": "white",
            "linecolor": "white",
            "ticks": ""
           },
           "bgcolor": "#E5ECF6",
           "radialaxis": {
            "gridcolor": "white",
            "linecolor": "white",
            "ticks": ""
           }
          },
          "scene": {
           "xaxis": {
            "backgroundcolor": "#E5ECF6",
            "gridcolor": "white",
            "gridwidth": 2,
            "linecolor": "white",
            "showbackground": true,
            "ticks": "",
            "zerolinecolor": "white"
           },
           "yaxis": {
            "backgroundcolor": "#E5ECF6",
            "gridcolor": "white",
            "gridwidth": 2,
            "linecolor": "white",
            "showbackground": true,
            "ticks": "",
            "zerolinecolor": "white"
           },
           "zaxis": {
            "backgroundcolor": "#E5ECF6",
            "gridcolor": "white",
            "gridwidth": 2,
            "linecolor": "white",
            "showbackground": true,
            "ticks": "",
            "zerolinecolor": "white"
           }
          },
          "shapedefaults": {
           "line": {
            "color": "#2a3f5f"
           }
          },
          "ternary": {
           "aaxis": {
            "gridcolor": "white",
            "linecolor": "white",
            "ticks": ""
           },
           "baxis": {
            "gridcolor": "white",
            "linecolor": "white",
            "ticks": ""
           },
           "bgcolor": "#E5ECF6",
           "caxis": {
            "gridcolor": "white",
            "linecolor": "white",
            "ticks": ""
           }
          },
          "title": {
           "x": 0.05
          },
          "xaxis": {
           "automargin": true,
           "gridcolor": "white",
           "linecolor": "white",
           "ticks": "",
           "title": {
            "standoff": 15
           },
           "zerolinecolor": "white",
           "zerolinewidth": 2
          },
          "yaxis": {
           "automargin": true,
           "gridcolor": "white",
           "linecolor": "white",
           "ticks": "",
           "title": {
            "standoff": 15
           },
           "zerolinecolor": "white",
           "zerolinewidth": 2
          }
         }
        },
        "title": {
         "text": "Logit Lens on Datapoint 12 (logit(dishonest_token) - logit(honest_token))"
        },
        "xaxis": {
         "dtick": 1,
         "gridcolor": "lightgray",
         "gridwidth": 0.1,
         "linecolor": "grey",
         "linewidth": 1,
         "showgrid": true,
         "showline": true,
         "tickmode": "array",
         "ticktext": [
          "embed",
          "0_attn_out",
          "0_mlp_out",
          "1_attn_out",
          "1_mlp_out",
          "2_attn_out",
          "2_mlp_out",
          "3_attn_out",
          "3_mlp_out",
          "4_attn_out",
          "4_mlp_out",
          "5_attn_out",
          "5_mlp_out",
          "6_attn_out",
          "6_mlp_out",
          "7_attn_out",
          "7_mlp_out",
          "8_attn_out",
          "8_mlp_out",
          "9_attn_out",
          "9_mlp_out",
          "10_attn_out",
          "10_mlp_out",
          "11_attn_out",
          "11_mlp_out",
          "12_attn_out",
          "12_mlp_out",
          "13_attn_out",
          "13_mlp_out",
          "14_attn_out",
          "14_mlp_out",
          "15_attn_out",
          "15_mlp_out",
          "16_attn_out",
          "16_mlp_out",
          "17_attn_out",
          "17_mlp_out",
          "18_attn_out",
          "18_mlp_out",
          "19_attn_out",
          "19_mlp_out",
          "20_attn_out",
          "20_mlp_out",
          "21_attn_out",
          "21_mlp_out",
          "22_attn_out",
          "22_mlp_out",
          "23_attn_out",
          "23_mlp_out",
          "24_attn_out",
          "24_mlp_out",
          "25_attn_out",
          "25_mlp_out",
          "26_attn_out",
          "26_mlp_out",
          "27_attn_out",
          "27_mlp_out",
          "28_attn_out",
          "28_mlp_out",
          "29_attn_out",
          "29_mlp_out",
          "30_attn_out",
          "30_mlp_out",
          "31_attn_out",
          "31_mlp_out"
         ],
         "tickvals": [
          0,
          1,
          2,
          3,
          4,
          5,
          6,
          7,
          8,
          9,
          10,
          11,
          12,
          13,
          14,
          15,
          16,
          17,
          18,
          19,
          20,
          21,
          22,
          23,
          24,
          25,
          26,
          27,
          28,
          29,
          30,
          31,
          32,
          33,
          34,
          35,
          36,
          37,
          38,
          39,
          40,
          41,
          42,
          43,
          44,
          45,
          46,
          47,
          48,
          49,
          50,
          51,
          52,
          53,
          54,
          55,
          56,
          57,
          58,
          59,
          60,
          61,
          62,
          63,
          64
         ],
         "title": {
          "text": "Component"
         },
         "zeroline": true,
         "zerolinecolor": "black",
         "zerolinewidth": 1
        },
        "yaxis": {
         "dtick": 1,
         "gridcolor": "lightgray",
         "gridwidth": 0.1,
         "linecolor": "grey",
         "linewidth": 1,
         "showgrid": true,
         "showline": true,
         "tick0": 0,
         "tickmode": "array",
         "title": {
          "text": "Logit Difference"
         },
         "zeroline": true,
         "zerolinecolor": "black",
         "zerolinewidth": 2
        }
       }
      },
      "text/html": [
       "<div>                            <div id=\"ad58902e-67e9-4ca3-bd13-f970b68126e0\" class=\"plotly-graph-div\" style=\"height:525px; width:100%;\"></div>            <script type=\"text/javascript\">                require([\"plotly\"], function(Plotly) {                    window.PLOTLYENV=window.PLOTLYENV || {};                                    if (document.getElementById(\"ad58902e-67e9-4ca3-bd13-f970b68126e0\")) {                    Plotly.newPlot(                        \"ad58902e-67e9-4ca3-bd13-f970b68126e0\",                        [{\"line\":{\"color\":\"rgba(16, 120, 182, 0.8)\",\"width\":3},\"mode\":\"lines\",\"name\":\"Accumulated Residual\",\"x\":[0,1,2,3,4,5,6,7,8,9,10,11,12,13,14,15,16,17,18,19,20,21,22,23,24,25,26,27,28,29,30,31,32,33,34,35,36,37,38,39,40,41,42,43,44,45,46,47,48,49,50,51,52,53,54,55,56,57,58,59,60,61,62,63,64],\"y\":[0.0003799613914452493,-0.0003980113542638719,0.0005165590555407107,3.335397923365235e-05,-0.0002108534099534154,-0.004944751970469952,-0.009577392600476742,-0.011083913967013359,-0.01388736255466938,-0.015103176236152649,-0.01893967017531395,-0.013815002515912056,-0.021263670176267624,-0.021393239498138428,-0.02117343433201313,-0.021030284464359283,-0.01687568984925747,-0.021225884556770325,-0.02319176495075226,-0.01877783052623272,-0.03454507887363434,-0.031123198568820953,-0.03532411903142929,-0.035536445677280426,-0.03190372511744499,-0.029132720082998276,-0.0220212209969759,-0.01720607653260231,-0.028039749711751938,-0.030127696692943573,-0.0144104715436697,-0.03247324377298355,-0.07842151820659637,-0.08413765579462051,-0.0838954821228981,-0.08911531418561935,-0.17880579829216003,-0.17956270277500153,-0.15242081880569458,-0.16025607287883759,-0.1698843538761139,-0.17478930950164795,-0.08097358793020248,-0.06862489879131317,-0.028606802225112915,-0.0352475643157959,-0.04504173621535301,-0.06343131512403488,-0.07582160830497742,-0.09069225192070007,-0.2183077335357666,-0.25384771823883057,-0.20663735270500183,-0.21184620261192322,-0.016327695921063423,-0.05414450168609619,0.06584074348211288,-0.009284451603889465,0.0358862578868866,0.052454277873039246,0.2798304259777069,0.3700736165046692,0.25129666924476624,0.4385092258453369,0.3369089961051941],\"type\":\"scatter\"},{\"line\":{\"color\":\"rgba(24, 201, 164, 0.8)\",\"width\":3},\"mode\":\"lines\",\"name\":\"Decomposed Residual\",\"x\":[0,1,2,3,4,5,6,7,8,9,10,11,12,13,14,15,16,17,18,19,20,21,22,23,24,25,26,27,28,29,30,31,32,33,34,35,36,37,38,39,40,41,42,43,44,45,46,47,48,49,50,51,52,53,54,55,56,57,58,59,60,61,62,63,64],\"y\":[0.0003799613914452493,-0.0007779728039167821,0.0009145704098045826,-0.0004832052509300411,-0.0002442077675368637,-0.004733898676931858,-0.004632640164345503,-0.001506521599367261,-0.002803449984639883,-0.001215812168084085,-0.00383649580180645,0.005124668590724468,-0.007448666729032993,-0.00012956798309460282,0.00021980400197207928,0.00014314730651676655,0.004154597409069538,-0.0043501947075128555,-0.001965880859643221,0.004413931630551815,-0.01576724648475647,0.0034218819346278906,-0.004200926050543785,-0.0002123238518834114,0.003632718464359641,0.0027710057329386473,0.007111496292054653,0.004815148655325174,-0.010833678767085075,-0.0020879446528851986,0.01571723073720932,-0.018062777817249298,-0.03550945222377777,-0.005716129206120968,0.00024217087775468826,-0.005219846032559872,-0.08969046175479889,-0.0007569212466478348,0.02714190073311329,-0.007835255935788155,-0.009628276340663433,-0.0049049584195017815,0.09381571412086487,0.012348703108727932,0.040018077939748764,-0.0066407471895217896,-0.009794175624847412,-0.018389584496617317,-0.012390291318297386,-0.014870639890432358,-0.12761551141738892,-0.035539984703063965,0.04721038043498993,-0.005208833143115044,0.19551847875118256,-0.037816789001226425,0.11998523771762848,-0.07512518763542175,0.04517070949077606,0.016568012535572052,0.22737613320350647,0.09024319052696228,-0.11877696961164474,0.18721261620521545,-0.10160024464130402],\"type\":\"scatter\"}],                        {\"template\":{\"data\":{\"histogram2dcontour\":[{\"type\":\"histogram2dcontour\",\"colorbar\":{\"outlinewidth\":0,\"ticks\":\"\"},\"colorscale\":[[0.0,\"#0d0887\"],[0.1111111111111111,\"#46039f\"],[0.2222222222222222,\"#7201a8\"],[0.3333333333333333,\"#9c179e\"],[0.4444444444444444,\"#bd3786\"],[0.5555555555555556,\"#d8576b\"],[0.6666666666666666,\"#ed7953\"],[0.7777777777777778,\"#fb9f3a\"],[0.8888888888888888,\"#fdca26\"],[1.0,\"#f0f921\"]]}],\"choropleth\":[{\"type\":\"choropleth\",\"colorbar\":{\"outlinewidth\":0,\"ticks\":\"\"}}],\"histogram2d\":[{\"type\":\"histogram2d\",\"colorbar\":{\"outlinewidth\":0,\"ticks\":\"\"},\"colorscale\":[[0.0,\"#0d0887\"],[0.1111111111111111,\"#46039f\"],[0.2222222222222222,\"#7201a8\"],[0.3333333333333333,\"#9c179e\"],[0.4444444444444444,\"#bd3786\"],[0.5555555555555556,\"#d8576b\"],[0.6666666666666666,\"#ed7953\"],[0.7777777777777778,\"#fb9f3a\"],[0.8888888888888888,\"#fdca26\"],[1.0,\"#f0f921\"]]}],\"heatmap\":[{\"type\":\"heatmap\",\"colorbar\":{\"outlinewidth\":0,\"ticks\":\"\"},\"colorscale\":[[0.0,\"#0d0887\"],[0.1111111111111111,\"#46039f\"],[0.2222222222222222,\"#7201a8\"],[0.3333333333333333,\"#9c179e\"],[0.4444444444444444,\"#bd3786\"],[0.5555555555555556,\"#d8576b\"],[0.6666666666666666,\"#ed7953\"],[0.7777777777777778,\"#fb9f3a\"],[0.8888888888888888,\"#fdca26\"],[1.0,\"#f0f921\"]]}],\"heatmapgl\":[{\"type\":\"heatmapgl\",\"colorbar\":{\"outlinewidth\":0,\"ticks\":\"\"},\"colorscale\":[[0.0,\"#0d0887\"],[0.1111111111111111,\"#46039f\"],[0.2222222222222222,\"#7201a8\"],[0.3333333333333333,\"#9c179e\"],[0.4444444444444444,\"#bd3786\"],[0.5555555555555556,\"#d8576b\"],[0.6666666666666666,\"#ed7953\"],[0.7777777777777778,\"#fb9f3a\"],[0.8888888888888888,\"#fdca26\"],[1.0,\"#f0f921\"]]}],\"contourcarpet\":[{\"type\":\"contourcarpet\",\"colorbar\":{\"outlinewidth\":0,\"ticks\":\"\"}}],\"contour\":[{\"type\":\"contour\",\"colorbar\":{\"outlinewidth\":0,\"ticks\":\"\"},\"colorscale\":[[0.0,\"#0d0887\"],[0.1111111111111111,\"#46039f\"],[0.2222222222222222,\"#7201a8\"],[0.3333333333333333,\"#9c179e\"],[0.4444444444444444,\"#bd3786\"],[0.5555555555555556,\"#d8576b\"],[0.6666666666666666,\"#ed7953\"],[0.7777777777777778,\"#fb9f3a\"],[0.8888888888888888,\"#fdca26\"],[1.0,\"#f0f921\"]]}],\"surface\":[{\"type\":\"surface\",\"colorbar\":{\"outlinewidth\":0,\"ticks\":\"\"},\"colorscale\":[[0.0,\"#0d0887\"],[0.1111111111111111,\"#46039f\"],[0.2222222222222222,\"#7201a8\"],[0.3333333333333333,\"#9c179e\"],[0.4444444444444444,\"#bd3786\"],[0.5555555555555556,\"#d8576b\"],[0.6666666666666666,\"#ed7953\"],[0.7777777777777778,\"#fb9f3a\"],[0.8888888888888888,\"#fdca26\"],[1.0,\"#f0f921\"]]}],\"mesh3d\":[{\"type\":\"mesh3d\",\"colorbar\":{\"outlinewidth\":0,\"ticks\":\"\"}}],\"scatter\":[{\"fillpattern\":{\"fillmode\":\"overlay\",\"size\":10,\"solidity\":0.2},\"type\":\"scatter\"}],\"parcoords\":[{\"type\":\"parcoords\",\"line\":{\"colorbar\":{\"outlinewidth\":0,\"ticks\":\"\"}}}],\"scatterpolargl\":[{\"type\":\"scatterpolargl\",\"marker\":{\"colorbar\":{\"outlinewidth\":0,\"ticks\":\"\"}}}],\"bar\":[{\"error_x\":{\"color\":\"#2a3f5f\"},\"error_y\":{\"color\":\"#2a3f5f\"},\"marker\":{\"line\":{\"color\":\"#E5ECF6\",\"width\":0.5},\"pattern\":{\"fillmode\":\"overlay\",\"size\":10,\"solidity\":0.2}},\"type\":\"bar\"}],\"scattergeo\":[{\"type\":\"scattergeo\",\"marker\":{\"colorbar\":{\"outlinewidth\":0,\"ticks\":\"\"}}}],\"scatterpolar\":[{\"type\":\"scatterpolar\",\"marker\":{\"colorbar\":{\"outlinewidth\":0,\"ticks\":\"\"}}}],\"histogram\":[{\"marker\":{\"pattern\":{\"fillmode\":\"overlay\",\"size\":10,\"solidity\":0.2}},\"type\":\"histogram\"}],\"scattergl\":[{\"type\":\"scattergl\",\"marker\":{\"colorbar\":{\"outlinewidth\":0,\"ticks\":\"\"}}}],\"scatter3d\":[{\"type\":\"scatter3d\",\"line\":{\"colorbar\":{\"outlinewidth\":0,\"ticks\":\"\"}},\"marker\":{\"colorbar\":{\"outlinewidth\":0,\"ticks\":\"\"}}}],\"scattermapbox\":[{\"type\":\"scattermapbox\",\"marker\":{\"colorbar\":{\"outlinewidth\":0,\"ticks\":\"\"}}}],\"scatterternary\":[{\"type\":\"scatterternary\",\"marker\":{\"colorbar\":{\"outlinewidth\":0,\"ticks\":\"\"}}}],\"scattercarpet\":[{\"type\":\"scattercarpet\",\"marker\":{\"colorbar\":{\"outlinewidth\":0,\"ticks\":\"\"}}}],\"carpet\":[{\"aaxis\":{\"endlinecolor\":\"#2a3f5f\",\"gridcolor\":\"white\",\"linecolor\":\"white\",\"minorgridcolor\":\"white\",\"startlinecolor\":\"#2a3f5f\"},\"baxis\":{\"endlinecolor\":\"#2a3f5f\",\"gridcolor\":\"white\",\"linecolor\":\"white\",\"minorgridcolor\":\"white\",\"startlinecolor\":\"#2a3f5f\"},\"type\":\"carpet\"}],\"table\":[{\"cells\":{\"fill\":{\"color\":\"#EBF0F8\"},\"line\":{\"color\":\"white\"}},\"header\":{\"fill\":{\"color\":\"#C8D4E3\"},\"line\":{\"color\":\"white\"}},\"type\":\"table\"}],\"barpolar\":[{\"marker\":{\"line\":{\"color\":\"#E5ECF6\",\"width\":0.5},\"pattern\":{\"fillmode\":\"overlay\",\"size\":10,\"solidity\":0.2}},\"type\":\"barpolar\"}],\"pie\":[{\"automargin\":true,\"type\":\"pie\"}]},\"layout\":{\"autotypenumbers\":\"strict\",\"colorway\":[\"#636efa\",\"#EF553B\",\"#00cc96\",\"#ab63fa\",\"#FFA15A\",\"#19d3f3\",\"#FF6692\",\"#B6E880\",\"#FF97FF\",\"#FECB52\"],\"font\":{\"color\":\"#2a3f5f\"},\"hovermode\":\"closest\",\"hoverlabel\":{\"align\":\"left\"},\"paper_bgcolor\":\"white\",\"plot_bgcolor\":\"#E5ECF6\",\"polar\":{\"bgcolor\":\"#E5ECF6\",\"angularaxis\":{\"gridcolor\":\"white\",\"linecolor\":\"white\",\"ticks\":\"\"},\"radialaxis\":{\"gridcolor\":\"white\",\"linecolor\":\"white\",\"ticks\":\"\"}},\"ternary\":{\"bgcolor\":\"#E5ECF6\",\"aaxis\":{\"gridcolor\":\"white\",\"linecolor\":\"white\",\"ticks\":\"\"},\"baxis\":{\"gridcolor\":\"white\",\"linecolor\":\"white\",\"ticks\":\"\"},\"caxis\":{\"gridcolor\":\"white\",\"linecolor\":\"white\",\"ticks\":\"\"}},\"coloraxis\":{\"colorbar\":{\"outlinewidth\":0,\"ticks\":\"\"}},\"colorscale\":{\"sequential\":[[0.0,\"#0d0887\"],[0.1111111111111111,\"#46039f\"],[0.2222222222222222,\"#7201a8\"],[0.3333333333333333,\"#9c179e\"],[0.4444444444444444,\"#bd3786\"],[0.5555555555555556,\"#d8576b\"],[0.6666666666666666,\"#ed7953\"],[0.7777777777777778,\"#fb9f3a\"],[0.8888888888888888,\"#fdca26\"],[1.0,\"#f0f921\"]],\"sequentialminus\":[[0.0,\"#0d0887\"],[0.1111111111111111,\"#46039f\"],[0.2222222222222222,\"#7201a8\"],[0.3333333333333333,\"#9c179e\"],[0.4444444444444444,\"#bd3786\"],[0.5555555555555556,\"#d8576b\"],[0.6666666666666666,\"#ed7953\"],[0.7777777777777778,\"#fb9f3a\"],[0.8888888888888888,\"#fdca26\"],[1.0,\"#f0f921\"]],\"diverging\":[[0,\"#8e0152\"],[0.1,\"#c51b7d\"],[0.2,\"#de77ae\"],[0.3,\"#f1b6da\"],[0.4,\"#fde0ef\"],[0.5,\"#f7f7f7\"],[0.6,\"#e6f5d0\"],[0.7,\"#b8e186\"],[0.8,\"#7fbc41\"],[0.9,\"#4d9221\"],[1,\"#276419\"]]},\"xaxis\":{\"gridcolor\":\"white\",\"linecolor\":\"white\",\"ticks\":\"\",\"title\":{\"standoff\":15},\"zerolinecolor\":\"white\",\"automargin\":true,\"zerolinewidth\":2},\"yaxis\":{\"gridcolor\":\"white\",\"linecolor\":\"white\",\"ticks\":\"\",\"title\":{\"standoff\":15},\"zerolinecolor\":\"white\",\"automargin\":true,\"zerolinewidth\":2},\"scene\":{\"xaxis\":{\"backgroundcolor\":\"#E5ECF6\",\"gridcolor\":\"white\",\"linecolor\":\"white\",\"showbackground\":true,\"ticks\":\"\",\"zerolinecolor\":\"white\",\"gridwidth\":2},\"yaxis\":{\"backgroundcolor\":\"#E5ECF6\",\"gridcolor\":\"white\",\"linecolor\":\"white\",\"showbackground\":true,\"ticks\":\"\",\"zerolinecolor\":\"white\",\"gridwidth\":2},\"zaxis\":{\"backgroundcolor\":\"#E5ECF6\",\"gridcolor\":\"white\",\"linecolor\":\"white\",\"showbackground\":true,\"ticks\":\"\",\"zerolinecolor\":\"white\",\"gridwidth\":2}},\"shapedefaults\":{\"line\":{\"color\":\"#2a3f5f\"}},\"annotationdefaults\":{\"arrowcolor\":\"#2a3f5f\",\"arrowhead\":0,\"arrowwidth\":1},\"geo\":{\"bgcolor\":\"white\",\"landcolor\":\"#E5ECF6\",\"subunitcolor\":\"white\",\"showland\":true,\"showlakes\":true,\"lakecolor\":\"white\"},\"title\":{\"x\":0.05},\"mapbox\":{\"style\":\"light\"}}},\"xaxis\":{\"title\":{\"text\":\"Component\"},\"showgrid\":true,\"gridwidth\":0.1,\"gridcolor\":\"lightgray\",\"dtick\":1,\"showline\":true,\"linecolor\":\"grey\",\"zeroline\":true,\"zerolinewidth\":1,\"zerolinecolor\":\"black\",\"linewidth\":1,\"tickmode\":\"array\",\"tickvals\":[0,1,2,3,4,5,6,7,8,9,10,11,12,13,14,15,16,17,18,19,20,21,22,23,24,25,26,27,28,29,30,31,32,33,34,35,36,37,38,39,40,41,42,43,44,45,46,47,48,49,50,51,52,53,54,55,56,57,58,59,60,61,62,63,64],\"ticktext\":[\"embed\",\"0_attn_out\",\"0_mlp_out\",\"1_attn_out\",\"1_mlp_out\",\"2_attn_out\",\"2_mlp_out\",\"3_attn_out\",\"3_mlp_out\",\"4_attn_out\",\"4_mlp_out\",\"5_attn_out\",\"5_mlp_out\",\"6_attn_out\",\"6_mlp_out\",\"7_attn_out\",\"7_mlp_out\",\"8_attn_out\",\"8_mlp_out\",\"9_attn_out\",\"9_mlp_out\",\"10_attn_out\",\"10_mlp_out\",\"11_attn_out\",\"11_mlp_out\",\"12_attn_out\",\"12_mlp_out\",\"13_attn_out\",\"13_mlp_out\",\"14_attn_out\",\"14_mlp_out\",\"15_attn_out\",\"15_mlp_out\",\"16_attn_out\",\"16_mlp_out\",\"17_attn_out\",\"17_mlp_out\",\"18_attn_out\",\"18_mlp_out\",\"19_attn_out\",\"19_mlp_out\",\"20_attn_out\",\"20_mlp_out\",\"21_attn_out\",\"21_mlp_out\",\"22_attn_out\",\"22_mlp_out\",\"23_attn_out\",\"23_mlp_out\",\"24_attn_out\",\"24_mlp_out\",\"25_attn_out\",\"25_mlp_out\",\"26_attn_out\",\"26_mlp_out\",\"27_attn_out\",\"27_mlp_out\",\"28_attn_out\",\"28_mlp_out\",\"29_attn_out\",\"29_mlp_out\",\"30_attn_out\",\"30_mlp_out\",\"31_attn_out\",\"31_mlp_out\"]},\"yaxis\":{\"title\":{\"text\":\"Logit Difference\"},\"showgrid\":true,\"gridwidth\":0.1,\"gridcolor\":\"lightgray\",\"dtick\":1,\"showline\":true,\"zeroline\":true,\"zerolinewidth\":2,\"zerolinecolor\":\"black\",\"linewidth\":1,\"linecolor\":\"grey\",\"tickmode\":\"array\",\"tick0\":0},\"title\":{\"text\":\"Logit Lens on Datapoint 12 (logit(dishonest_token) - logit(honest_token))\"},\"plot_bgcolor\":\"white\",\"legend\":{\"orientation\":\"h\",\"yanchor\":\"bottom\",\"y\":1.02,\"xanchor\":\"right\",\"x\":1}},                        {\"responsive\": true}                    ).then(function(){\n",
       "                            \n",
       "var gd = document.getElementById('ad58902e-67e9-4ca3-bd13-f970b68126e0');\n",
       "var x = new MutationObserver(function (mutations, observer) {{\n",
       "        var display = window.getComputedStyle(gd).display;\n",
       "        if (!display || display === 'none') {{\n",
       "            console.log([gd, 'removed!']);\n",
       "            Plotly.purge(gd);\n",
       "            observer.disconnect();\n",
       "        }}\n",
       "}});\n",
       "\n",
       "// Listen for the removal of the full notebook cells\n",
       "var notebookContainer = gd.closest('#notebook-container');\n",
       "if (notebookContainer) {{\n",
       "    x.observe(notebookContainer, {childList: true});\n",
       "}}\n",
       "\n",
       "// Listen for the clearing of the current output cell\n",
       "var outputEl = gd.closest('.output');\n",
       "if (outputEl) {{\n",
       "    x.observe(outputEl, {childList: true});\n",
       "}}\n",
       "\n",
       "                        })                };                });            </script>        </div>"
      ]
     },
     "metadata": {},
     "output_type": "display_data"
    }
   ],
   "source": [
    "plot_lines_(\n",
    "    [logit_lens_logit_diffs_accumulated.cpu().numpy(), logit_lens_logit_diffs_decomposed.cpu().numpy()],\n",
    "    xtick_labels=labels,\n",
    "    title=\"Logit Lens on Datapoint 12 (logit(dishonest_token) - logit(honest_token))\",\n",
    "    xaxis_label=\"Component\",\n",
    "    yaxis_label=\"Logit Difference\",\n",
    "    names=['Accumulated Residual', 'Decomposed Residual'],\n",
    ")"
   ]
  },
  {
   "cell_type": "code",
   "execution_count": 164,
   "metadata": {},
   "outputs": [],
   "source": [
    "# labels"
   ]
  },
  {
   "cell_type": "code",
   "execution_count": 183,
   "metadata": {},
   "outputs": [],
   "source": [
    "fig_acc = plot_lines_(\n",
    "    [logit_lens_logit_diffs_accumulated.cpu().numpy() for logit_lens_logit_diffs_accumulated in logit_lens_logit_diffs_accumulated_list_t],\n",
    "    xtick_labels=labels,\n",
    "    title=\"Logit Lens (datapoint #12) on the Accumulated Residual\",\n",
    "    xaxis_label=\"\",\n",
    "    yaxis_label=\"logit[dishonest_token] - logit[honest_token]\",\n",
    "    names=['Alpha = {}'.format(alpha) for alpha in alphas],\n",
    ")"
   ]
  },
  {
   "cell_type": "code",
   "execution_count": 194,
   "metadata": {},
   "outputs": [],
   "source": [
    "fig_dec = plot_lines_(\n",
    "    [logit_lens_logit_diffs_decomposed.cpu().numpy() for logit_lens_logit_diffs_decomposed in logit_lens_logit_diffs_decomposed_list_t],\n",
    "    xtick_labels=labels,\n",
    "    title=\"Logit Lens (datapoint #12) on the Decomposed Residual\",\n",
    "    xaxis_label=\"\",\n",
    "    yaxis_label=\"logit[dishonest_token] - logit[honest_token]\",\n",
    "    names=['Alpha = {}'.format(alpha) for alpha in alphas],\n",
    ")"
   ]
  },
  {
   "cell_type": "code",
   "execution_count": 181,
   "metadata": {},
   "outputs": [],
   "source": [
    "fig_acc.write_html('logit_lens_accumulated_datapoint_12.html')"
   ]
  },
  {
   "cell_type": "code",
   "execution_count": 196,
   "metadata": {},
   "outputs": [],
   "source": [
    "fig_dec.write_html('logit_lens_decomposed_datapoint_12.html')"
   ]
  },
  {
   "cell_type": "code",
   "execution_count": 143,
   "metadata": {},
   "outputs": [],
   "source": [
    "df = pd.DataFrame(columns=['Alpha', 'Logit Difference'])"
   ]
  },
  {
   "cell_type": "code",
   "execution_count": 144,
   "metadata": {},
   "outputs": [],
   "source": [
    "df['Logit Difference'] = logit_lens_logit_diffs_accumulated_list_t.flatten().cpu().numpy()"
   ]
  },
  {
   "cell_type": "code",
   "execution_count": 148,
   "metadata": {},
   "outputs": [],
   "source": [
    "df['Alpha'] = np.repeat(alphas, logit_lens_logit_diffs_accumulated_list_t.shape[1])"
   ]
  },
  {
   "cell_type": "code",
   "execution_count": 157,
   "metadata": {},
   "outputs": [],
   "source": [
    "df['Component'] = np.tile(np.arange(logit_lens_logit_diffs_accumulated_list_t.shape[1]), logit_lens_logit_diffs_accumulated_list_t.shape[0])"
   ]
  },
  {
   "cell_type": "code",
   "execution_count": 158,
   "metadata": {},
   "outputs": [
    {
     "data": {
      "text/html": [
       "<div>\n",
       "<style scoped>\n",
       "    .dataframe tbody tr th:only-of-type {\n",
       "        vertical-align: middle;\n",
       "    }\n",
       "\n",
       "    .dataframe tbody tr th {\n",
       "        vertical-align: top;\n",
       "    }\n",
       "\n",
       "    .dataframe thead th {\n",
       "        text-align: right;\n",
       "    }\n",
       "</style>\n",
       "<table border=\"1\" class=\"dataframe\">\n",
       "  <thead>\n",
       "    <tr style=\"text-align: right;\">\n",
       "      <th></th>\n",
       "      <th>Alpha</th>\n",
       "      <th>Logit Difference</th>\n",
       "      <th>Component</th>\n",
       "    </tr>\n",
       "  </thead>\n",
       "  <tbody>\n",
       "    <tr>\n",
       "      <th>0</th>\n",
       "      <td>-8.25</td>\n",
       "      <td>0.000380</td>\n",
       "      <td>0</td>\n",
       "    </tr>\n",
       "    <tr>\n",
       "      <th>1</th>\n",
       "      <td>-8.25</td>\n",
       "      <td>-0.000398</td>\n",
       "      <td>1</td>\n",
       "    </tr>\n",
       "    <tr>\n",
       "      <th>2</th>\n",
       "      <td>-8.25</td>\n",
       "      <td>0.000517</td>\n",
       "      <td>2</td>\n",
       "    </tr>\n",
       "    <tr>\n",
       "      <th>3</th>\n",
       "      <td>-8.25</td>\n",
       "      <td>0.000033</td>\n",
       "      <td>3</td>\n",
       "    </tr>\n",
       "    <tr>\n",
       "      <th>4</th>\n",
       "      <td>-8.25</td>\n",
       "      <td>-0.000211</td>\n",
       "      <td>4</td>\n",
       "    </tr>\n",
       "    <tr>\n",
       "      <th>...</th>\n",
       "      <td>...</td>\n",
       "      <td>...</td>\n",
       "      <td>...</td>\n",
       "    </tr>\n",
       "    <tr>\n",
       "      <th>775</th>\n",
       "      <td>0.00</td>\n",
       "      <td>-1.478868</td>\n",
       "      <td>60</td>\n",
       "    </tr>\n",
       "    <tr>\n",
       "      <th>776</th>\n",
       "      <td>0.00</td>\n",
       "      <td>-1.489563</td>\n",
       "      <td>61</td>\n",
       "    </tr>\n",
       "    <tr>\n",
       "      <th>777</th>\n",
       "      <td>0.00</td>\n",
       "      <td>-1.175299</td>\n",
       "      <td>62</td>\n",
       "    </tr>\n",
       "    <tr>\n",
       "      <th>778</th>\n",
       "      <td>0.00</td>\n",
       "      <td>-1.346072</td>\n",
       "      <td>63</td>\n",
       "    </tr>\n",
       "    <tr>\n",
       "      <th>779</th>\n",
       "      <td>0.00</td>\n",
       "      <td>-1.178589</td>\n",
       "      <td>64</td>\n",
       "    </tr>\n",
       "  </tbody>\n",
       "</table>\n",
       "<p>780 rows × 3 columns</p>\n",
       "</div>"
      ],
      "text/plain": [
       "     Alpha  Logit Difference  Component\n",
       "0    -8.25          0.000380          0\n",
       "1    -8.25         -0.000398          1\n",
       "2    -8.25          0.000517          2\n",
       "3    -8.25          0.000033          3\n",
       "4    -8.25         -0.000211          4\n",
       "..     ...               ...        ...\n",
       "775   0.00         -1.478868         60\n",
       "776   0.00         -1.489563         61\n",
       "777   0.00         -1.175299         62\n",
       "778   0.00         -1.346072         63\n",
       "779   0.00         -1.178589         64\n",
       "\n",
       "[780 rows x 3 columns]"
      ]
     },
     "execution_count": 158,
     "metadata": {},
     "output_type": "execute_result"
    }
   ],
   "source": [
    "df"
   ]
  },
  {
   "cell_type": "code",
   "execution_count": 160,
   "metadata": {},
   "outputs": [
    {
     "data": {
      "application/vnd.plotly.v1+json": {
       "config": {
        "plotlyServerURL": "https://plot.ly"
       },
       "data": [
        {
         "hovertemplate": "Alpha=-8.25<br>Component=%{x}<br>index=%{y}<extra></extra>",
         "legendgroup": "-8.25",
         "line": {
          "color": "#636efa",
          "dash": "solid"
         },
         "marker": {
          "symbol": "circle"
         },
         "mode": "lines",
         "name": "-8.25",
         "orientation": "h",
         "showlegend": true,
         "type": "scatter",
         "x": [
          0,
          1,
          2,
          3,
          4,
          5,
          6,
          7,
          8,
          9,
          10,
          11,
          12,
          13,
          14,
          15,
          16,
          17,
          18,
          19,
          20,
          21,
          22,
          23,
          24,
          25,
          26,
          27,
          28,
          29,
          30,
          31,
          32,
          33,
          34,
          35,
          36,
          37,
          38,
          39,
          40,
          41,
          42,
          43,
          44,
          45,
          46,
          47,
          48,
          49,
          50,
          51,
          52,
          53,
          54,
          55,
          56,
          57,
          58,
          59,
          60,
          61,
          62,
          63,
          64
         ],
         "xaxis": "x",
         "y": [
          0,
          1,
          2,
          3,
          4,
          5,
          6,
          7,
          8,
          9,
          10,
          11,
          12,
          13,
          14,
          15,
          16,
          17,
          18,
          19,
          20,
          21,
          22,
          23,
          24,
          25,
          26,
          27,
          28,
          29,
          30,
          31,
          32,
          33,
          34,
          35,
          36,
          37,
          38,
          39,
          40,
          41,
          42,
          43,
          44,
          45,
          46,
          47,
          48,
          49,
          50,
          51,
          52,
          53,
          54,
          55,
          56,
          57,
          58,
          59,
          60,
          61,
          62,
          63,
          64
         ],
         "yaxis": "y"
        },
        {
         "hovertemplate": "Alpha=-7.5<br>Component=%{x}<br>index=%{y}<extra></extra>",
         "legendgroup": "-7.5",
         "line": {
          "color": "#EF553B",
          "dash": "solid"
         },
         "marker": {
          "symbol": "circle"
         },
         "mode": "lines",
         "name": "-7.5",
         "orientation": "h",
         "showlegend": true,
         "type": "scatter",
         "x": [
          0,
          1,
          2,
          3,
          4,
          5,
          6,
          7,
          8,
          9,
          10,
          11,
          12,
          13,
          14,
          15,
          16,
          17,
          18,
          19,
          20,
          21,
          22,
          23,
          24,
          25,
          26,
          27,
          28,
          29,
          30,
          31,
          32,
          33,
          34,
          35,
          36,
          37,
          38,
          39,
          40,
          41,
          42,
          43,
          44,
          45,
          46,
          47,
          48,
          49,
          50,
          51,
          52,
          53,
          54,
          55,
          56,
          57,
          58,
          59,
          60,
          61,
          62,
          63,
          64
         ],
         "xaxis": "x",
         "y": [
          65,
          66,
          67,
          68,
          69,
          70,
          71,
          72,
          73,
          74,
          75,
          76,
          77,
          78,
          79,
          80,
          81,
          82,
          83,
          84,
          85,
          86,
          87,
          88,
          89,
          90,
          91,
          92,
          93,
          94,
          95,
          96,
          97,
          98,
          99,
          100,
          101,
          102,
          103,
          104,
          105,
          106,
          107,
          108,
          109,
          110,
          111,
          112,
          113,
          114,
          115,
          116,
          117,
          118,
          119,
          120,
          121,
          122,
          123,
          124,
          125,
          126,
          127,
          128,
          129
         ],
         "yaxis": "y"
        },
        {
         "hovertemplate": "Alpha=-6.75<br>Component=%{x}<br>index=%{y}<extra></extra>",
         "legendgroup": "-6.75",
         "line": {
          "color": "#00cc96",
          "dash": "solid"
         },
         "marker": {
          "symbol": "circle"
         },
         "mode": "lines",
         "name": "-6.75",
         "orientation": "h",
         "showlegend": true,
         "type": "scatter",
         "x": [
          0,
          1,
          2,
          3,
          4,
          5,
          6,
          7,
          8,
          9,
          10,
          11,
          12,
          13,
          14,
          15,
          16,
          17,
          18,
          19,
          20,
          21,
          22,
          23,
          24,
          25,
          26,
          27,
          28,
          29,
          30,
          31,
          32,
          33,
          34,
          35,
          36,
          37,
          38,
          39,
          40,
          41,
          42,
          43,
          44,
          45,
          46,
          47,
          48,
          49,
          50,
          51,
          52,
          53,
          54,
          55,
          56,
          57,
          58,
          59,
          60,
          61,
          62,
          63,
          64
         ],
         "xaxis": "x",
         "y": [
          130,
          131,
          132,
          133,
          134,
          135,
          136,
          137,
          138,
          139,
          140,
          141,
          142,
          143,
          144,
          145,
          146,
          147,
          148,
          149,
          150,
          151,
          152,
          153,
          154,
          155,
          156,
          157,
          158,
          159,
          160,
          161,
          162,
          163,
          164,
          165,
          166,
          167,
          168,
          169,
          170,
          171,
          172,
          173,
          174,
          175,
          176,
          177,
          178,
          179,
          180,
          181,
          182,
          183,
          184,
          185,
          186,
          187,
          188,
          189,
          190,
          191,
          192,
          193,
          194
         ],
         "yaxis": "y"
        },
        {
         "hovertemplate": "Alpha=-6.0<br>Component=%{x}<br>index=%{y}<extra></extra>",
         "legendgroup": "-6.0",
         "line": {
          "color": "#ab63fa",
          "dash": "solid"
         },
         "marker": {
          "symbol": "circle"
         },
         "mode": "lines",
         "name": "-6.0",
         "orientation": "h",
         "showlegend": true,
         "type": "scatter",
         "x": [
          0,
          1,
          2,
          3,
          4,
          5,
          6,
          7,
          8,
          9,
          10,
          11,
          12,
          13,
          14,
          15,
          16,
          17,
          18,
          19,
          20,
          21,
          22,
          23,
          24,
          25,
          26,
          27,
          28,
          29,
          30,
          31,
          32,
          33,
          34,
          35,
          36,
          37,
          38,
          39,
          40,
          41,
          42,
          43,
          44,
          45,
          46,
          47,
          48,
          49,
          50,
          51,
          52,
          53,
          54,
          55,
          56,
          57,
          58,
          59,
          60,
          61,
          62,
          63,
          64
         ],
         "xaxis": "x",
         "y": [
          195,
          196,
          197,
          198,
          199,
          200,
          201,
          202,
          203,
          204,
          205,
          206,
          207,
          208,
          209,
          210,
          211,
          212,
          213,
          214,
          215,
          216,
          217,
          218,
          219,
          220,
          221,
          222,
          223,
          224,
          225,
          226,
          227,
          228,
          229,
          230,
          231,
          232,
          233,
          234,
          235,
          236,
          237,
          238,
          239,
          240,
          241,
          242,
          243,
          244,
          245,
          246,
          247,
          248,
          249,
          250,
          251,
          252,
          253,
          254,
          255,
          256,
          257,
          258,
          259
         ],
         "yaxis": "y"
        },
        {
         "hovertemplate": "Alpha=-5.25<br>Component=%{x}<br>index=%{y}<extra></extra>",
         "legendgroup": "-5.25",
         "line": {
          "color": "#FFA15A",
          "dash": "solid"
         },
         "marker": {
          "symbol": "circle"
         },
         "mode": "lines",
         "name": "-5.25",
         "orientation": "h",
         "showlegend": true,
         "type": "scatter",
         "x": [
          0,
          1,
          2,
          3,
          4,
          5,
          6,
          7,
          8,
          9,
          10,
          11,
          12,
          13,
          14,
          15,
          16,
          17,
          18,
          19,
          20,
          21,
          22,
          23,
          24,
          25,
          26,
          27,
          28,
          29,
          30,
          31,
          32,
          33,
          34,
          35,
          36,
          37,
          38,
          39,
          40,
          41,
          42,
          43,
          44,
          45,
          46,
          47,
          48,
          49,
          50,
          51,
          52,
          53,
          54,
          55,
          56,
          57,
          58,
          59,
          60,
          61,
          62,
          63,
          64
         ],
         "xaxis": "x",
         "y": [
          260,
          261,
          262,
          263,
          264,
          265,
          266,
          267,
          268,
          269,
          270,
          271,
          272,
          273,
          274,
          275,
          276,
          277,
          278,
          279,
          280,
          281,
          282,
          283,
          284,
          285,
          286,
          287,
          288,
          289,
          290,
          291,
          292,
          293,
          294,
          295,
          296,
          297,
          298,
          299,
          300,
          301,
          302,
          303,
          304,
          305,
          306,
          307,
          308,
          309,
          310,
          311,
          312,
          313,
          314,
          315,
          316,
          317,
          318,
          319,
          320,
          321,
          322,
          323,
          324
         ],
         "yaxis": "y"
        },
        {
         "hovertemplate": "Alpha=-4.5<br>Component=%{x}<br>index=%{y}<extra></extra>",
         "legendgroup": "-4.5",
         "line": {
          "color": "#19d3f3",
          "dash": "solid"
         },
         "marker": {
          "symbol": "circle"
         },
         "mode": "lines",
         "name": "-4.5",
         "orientation": "h",
         "showlegend": true,
         "type": "scatter",
         "x": [
          0,
          1,
          2,
          3,
          4,
          5,
          6,
          7,
          8,
          9,
          10,
          11,
          12,
          13,
          14,
          15,
          16,
          17,
          18,
          19,
          20,
          21,
          22,
          23,
          24,
          25,
          26,
          27,
          28,
          29,
          30,
          31,
          32,
          33,
          34,
          35,
          36,
          37,
          38,
          39,
          40,
          41,
          42,
          43,
          44,
          45,
          46,
          47,
          48,
          49,
          50,
          51,
          52,
          53,
          54,
          55,
          56,
          57,
          58,
          59,
          60,
          61,
          62,
          63,
          64
         ],
         "xaxis": "x",
         "y": [
          325,
          326,
          327,
          328,
          329,
          330,
          331,
          332,
          333,
          334,
          335,
          336,
          337,
          338,
          339,
          340,
          341,
          342,
          343,
          344,
          345,
          346,
          347,
          348,
          349,
          350,
          351,
          352,
          353,
          354,
          355,
          356,
          357,
          358,
          359,
          360,
          361,
          362,
          363,
          364,
          365,
          366,
          367,
          368,
          369,
          370,
          371,
          372,
          373,
          374,
          375,
          376,
          377,
          378,
          379,
          380,
          381,
          382,
          383,
          384,
          385,
          386,
          387,
          388,
          389
         ],
         "yaxis": "y"
        },
        {
         "hovertemplate": "Alpha=-3.75<br>Component=%{x}<br>index=%{y}<extra></extra>",
         "legendgroup": "-3.75",
         "line": {
          "color": "#FF6692",
          "dash": "solid"
         },
         "marker": {
          "symbol": "circle"
         },
         "mode": "lines",
         "name": "-3.75",
         "orientation": "h",
         "showlegend": true,
         "type": "scatter",
         "x": [
          0,
          1,
          2,
          3,
          4,
          5,
          6,
          7,
          8,
          9,
          10,
          11,
          12,
          13,
          14,
          15,
          16,
          17,
          18,
          19,
          20,
          21,
          22,
          23,
          24,
          25,
          26,
          27,
          28,
          29,
          30,
          31,
          32,
          33,
          34,
          35,
          36,
          37,
          38,
          39,
          40,
          41,
          42,
          43,
          44,
          45,
          46,
          47,
          48,
          49,
          50,
          51,
          52,
          53,
          54,
          55,
          56,
          57,
          58,
          59,
          60,
          61,
          62,
          63,
          64
         ],
         "xaxis": "x",
         "y": [
          390,
          391,
          392,
          393,
          394,
          395,
          396,
          397,
          398,
          399,
          400,
          401,
          402,
          403,
          404,
          405,
          406,
          407,
          408,
          409,
          410,
          411,
          412,
          413,
          414,
          415,
          416,
          417,
          418,
          419,
          420,
          421,
          422,
          423,
          424,
          425,
          426,
          427,
          428,
          429,
          430,
          431,
          432,
          433,
          434,
          435,
          436,
          437,
          438,
          439,
          440,
          441,
          442,
          443,
          444,
          445,
          446,
          447,
          448,
          449,
          450,
          451,
          452,
          453,
          454
         ],
         "yaxis": "y"
        },
        {
         "hovertemplate": "Alpha=-3.0<br>Component=%{x}<br>index=%{y}<extra></extra>",
         "legendgroup": "-3.0",
         "line": {
          "color": "#B6E880",
          "dash": "solid"
         },
         "marker": {
          "symbol": "circle"
         },
         "mode": "lines",
         "name": "-3.0",
         "orientation": "h",
         "showlegend": true,
         "type": "scatter",
         "x": [
          0,
          1,
          2,
          3,
          4,
          5,
          6,
          7,
          8,
          9,
          10,
          11,
          12,
          13,
          14,
          15,
          16,
          17,
          18,
          19,
          20,
          21,
          22,
          23,
          24,
          25,
          26,
          27,
          28,
          29,
          30,
          31,
          32,
          33,
          34,
          35,
          36,
          37,
          38,
          39,
          40,
          41,
          42,
          43,
          44,
          45,
          46,
          47,
          48,
          49,
          50,
          51,
          52,
          53,
          54,
          55,
          56,
          57,
          58,
          59,
          60,
          61,
          62,
          63,
          64
         ],
         "xaxis": "x",
         "y": [
          455,
          456,
          457,
          458,
          459,
          460,
          461,
          462,
          463,
          464,
          465,
          466,
          467,
          468,
          469,
          470,
          471,
          472,
          473,
          474,
          475,
          476,
          477,
          478,
          479,
          480,
          481,
          482,
          483,
          484,
          485,
          486,
          487,
          488,
          489,
          490,
          491,
          492,
          493,
          494,
          495,
          496,
          497,
          498,
          499,
          500,
          501,
          502,
          503,
          504,
          505,
          506,
          507,
          508,
          509,
          510,
          511,
          512,
          513,
          514,
          515,
          516,
          517,
          518,
          519
         ],
         "yaxis": "y"
        },
        {
         "hovertemplate": "Alpha=-2.25<br>Component=%{x}<br>index=%{y}<extra></extra>",
         "legendgroup": "-2.25",
         "line": {
          "color": "#FF97FF",
          "dash": "solid"
         },
         "marker": {
          "symbol": "circle"
         },
         "mode": "lines",
         "name": "-2.25",
         "orientation": "h",
         "showlegend": true,
         "type": "scatter",
         "x": [
          0,
          1,
          2,
          3,
          4,
          5,
          6,
          7,
          8,
          9,
          10,
          11,
          12,
          13,
          14,
          15,
          16,
          17,
          18,
          19,
          20,
          21,
          22,
          23,
          24,
          25,
          26,
          27,
          28,
          29,
          30,
          31,
          32,
          33,
          34,
          35,
          36,
          37,
          38,
          39,
          40,
          41,
          42,
          43,
          44,
          45,
          46,
          47,
          48,
          49,
          50,
          51,
          52,
          53,
          54,
          55,
          56,
          57,
          58,
          59,
          60,
          61,
          62,
          63,
          64
         ],
         "xaxis": "x",
         "y": [
          520,
          521,
          522,
          523,
          524,
          525,
          526,
          527,
          528,
          529,
          530,
          531,
          532,
          533,
          534,
          535,
          536,
          537,
          538,
          539,
          540,
          541,
          542,
          543,
          544,
          545,
          546,
          547,
          548,
          549,
          550,
          551,
          552,
          553,
          554,
          555,
          556,
          557,
          558,
          559,
          560,
          561,
          562,
          563,
          564,
          565,
          566,
          567,
          568,
          569,
          570,
          571,
          572,
          573,
          574,
          575,
          576,
          577,
          578,
          579,
          580,
          581,
          582,
          583,
          584
         ],
         "yaxis": "y"
        },
        {
         "hovertemplate": "Alpha=-1.5<br>Component=%{x}<br>index=%{y}<extra></extra>",
         "legendgroup": "-1.5",
         "line": {
          "color": "#FECB52",
          "dash": "solid"
         },
         "marker": {
          "symbol": "circle"
         },
         "mode": "lines",
         "name": "-1.5",
         "orientation": "h",
         "showlegend": true,
         "type": "scatter",
         "x": [
          0,
          1,
          2,
          3,
          4,
          5,
          6,
          7,
          8,
          9,
          10,
          11,
          12,
          13,
          14,
          15,
          16,
          17,
          18,
          19,
          20,
          21,
          22,
          23,
          24,
          25,
          26,
          27,
          28,
          29,
          30,
          31,
          32,
          33,
          34,
          35,
          36,
          37,
          38,
          39,
          40,
          41,
          42,
          43,
          44,
          45,
          46,
          47,
          48,
          49,
          50,
          51,
          52,
          53,
          54,
          55,
          56,
          57,
          58,
          59,
          60,
          61,
          62,
          63,
          64
         ],
         "xaxis": "x",
         "y": [
          585,
          586,
          587,
          588,
          589,
          590,
          591,
          592,
          593,
          594,
          595,
          596,
          597,
          598,
          599,
          600,
          601,
          602,
          603,
          604,
          605,
          606,
          607,
          608,
          609,
          610,
          611,
          612,
          613,
          614,
          615,
          616,
          617,
          618,
          619,
          620,
          621,
          622,
          623,
          624,
          625,
          626,
          627,
          628,
          629,
          630,
          631,
          632,
          633,
          634,
          635,
          636,
          637,
          638,
          639,
          640,
          641,
          642,
          643,
          644,
          645,
          646,
          647,
          648,
          649
         ],
         "yaxis": "y"
        },
        {
         "hovertemplate": "Alpha=-0.75<br>Component=%{x}<br>index=%{y}<extra></extra>",
         "legendgroup": "-0.75",
         "line": {
          "color": "#636efa",
          "dash": "solid"
         },
         "marker": {
          "symbol": "circle"
         },
         "mode": "lines",
         "name": "-0.75",
         "orientation": "h",
         "showlegend": true,
         "type": "scatter",
         "x": [
          0,
          1,
          2,
          3,
          4,
          5,
          6,
          7,
          8,
          9,
          10,
          11,
          12,
          13,
          14,
          15,
          16,
          17,
          18,
          19,
          20,
          21,
          22,
          23,
          24,
          25,
          26,
          27,
          28,
          29,
          30,
          31,
          32,
          33,
          34,
          35,
          36,
          37,
          38,
          39,
          40,
          41,
          42,
          43,
          44,
          45,
          46,
          47,
          48,
          49,
          50,
          51,
          52,
          53,
          54,
          55,
          56,
          57,
          58,
          59,
          60,
          61,
          62,
          63,
          64
         ],
         "xaxis": "x",
         "y": [
          650,
          651,
          652,
          653,
          654,
          655,
          656,
          657,
          658,
          659,
          660,
          661,
          662,
          663,
          664,
          665,
          666,
          667,
          668,
          669,
          670,
          671,
          672,
          673,
          674,
          675,
          676,
          677,
          678,
          679,
          680,
          681,
          682,
          683,
          684,
          685,
          686,
          687,
          688,
          689,
          690,
          691,
          692,
          693,
          694,
          695,
          696,
          697,
          698,
          699,
          700,
          701,
          702,
          703,
          704,
          705,
          706,
          707,
          708,
          709,
          710,
          711,
          712,
          713,
          714
         ],
         "yaxis": "y"
        },
        {
         "hovertemplate": "Alpha=0.0<br>Component=%{x}<br>index=%{y}<extra></extra>",
         "legendgroup": "0.0",
         "line": {
          "color": "#EF553B",
          "dash": "solid"
         },
         "marker": {
          "symbol": "circle"
         },
         "mode": "lines",
         "name": "0.0",
         "orientation": "h",
         "showlegend": true,
         "type": "scatter",
         "x": [
          0,
          1,
          2,
          3,
          4,
          5,
          6,
          7,
          8,
          9,
          10,
          11,
          12,
          13,
          14,
          15,
          16,
          17,
          18,
          19,
          20,
          21,
          22,
          23,
          24,
          25,
          26,
          27,
          28,
          29,
          30,
          31,
          32,
          33,
          34,
          35,
          36,
          37,
          38,
          39,
          40,
          41,
          42,
          43,
          44,
          45,
          46,
          47,
          48,
          49,
          50,
          51,
          52,
          53,
          54,
          55,
          56,
          57,
          58,
          59,
          60,
          61,
          62,
          63,
          64
         ],
         "xaxis": "x",
         "y": [
          715,
          716,
          717,
          718,
          719,
          720,
          721,
          722,
          723,
          724,
          725,
          726,
          727,
          728,
          729,
          730,
          731,
          732,
          733,
          734,
          735,
          736,
          737,
          738,
          739,
          740,
          741,
          742,
          743,
          744,
          745,
          746,
          747,
          748,
          749,
          750,
          751,
          752,
          753,
          754,
          755,
          756,
          757,
          758,
          759,
          760,
          761,
          762,
          763,
          764,
          765,
          766,
          767,
          768,
          769,
          770,
          771,
          772,
          773,
          774,
          775,
          776,
          777,
          778,
          779
         ],
         "yaxis": "y"
        }
       ],
       "layout": {
        "legend": {
         "title": {
          "text": "Alpha"
         },
         "tracegroupgap": 0
        },
        "template": {
         "data": {
          "bar": [
           {
            "error_x": {
             "color": "#2a3f5f"
            },
            "error_y": {
             "color": "#2a3f5f"
            },
            "marker": {
             "line": {
              "color": "#E5ECF6",
              "width": 0.5
             },
             "pattern": {
              "fillmode": "overlay",
              "size": 10,
              "solidity": 0.2
             }
            },
            "type": "bar"
           }
          ],
          "barpolar": [
           {
            "marker": {
             "line": {
              "color": "#E5ECF6",
              "width": 0.5
             },
             "pattern": {
              "fillmode": "overlay",
              "size": 10,
              "solidity": 0.2
             }
            },
            "type": "barpolar"
           }
          ],
          "carpet": [
           {
            "aaxis": {
             "endlinecolor": "#2a3f5f",
             "gridcolor": "white",
             "linecolor": "white",
             "minorgridcolor": "white",
             "startlinecolor": "#2a3f5f"
            },
            "baxis": {
             "endlinecolor": "#2a3f5f",
             "gridcolor": "white",
             "linecolor": "white",
             "minorgridcolor": "white",
             "startlinecolor": "#2a3f5f"
            },
            "type": "carpet"
           }
          ],
          "choropleth": [
           {
            "colorbar": {
             "outlinewidth": 0,
             "ticks": ""
            },
            "type": "choropleth"
           }
          ],
          "contour": [
           {
            "colorbar": {
             "outlinewidth": 0,
             "ticks": ""
            },
            "colorscale": [
             [
              0,
              "#0d0887"
             ],
             [
              0.1111111111111111,
              "#46039f"
             ],
             [
              0.2222222222222222,
              "#7201a8"
             ],
             [
              0.3333333333333333,
              "#9c179e"
             ],
             [
              0.4444444444444444,
              "#bd3786"
             ],
             [
              0.5555555555555556,
              "#d8576b"
             ],
             [
              0.6666666666666666,
              "#ed7953"
             ],
             [
              0.7777777777777778,
              "#fb9f3a"
             ],
             [
              0.8888888888888888,
              "#fdca26"
             ],
             [
              1,
              "#f0f921"
             ]
            ],
            "type": "contour"
           }
          ],
          "contourcarpet": [
           {
            "colorbar": {
             "outlinewidth": 0,
             "ticks": ""
            },
            "type": "contourcarpet"
           }
          ],
          "heatmap": [
           {
            "colorbar": {
             "outlinewidth": 0,
             "ticks": ""
            },
            "colorscale": [
             [
              0,
              "#0d0887"
             ],
             [
              0.1111111111111111,
              "#46039f"
             ],
             [
              0.2222222222222222,
              "#7201a8"
             ],
             [
              0.3333333333333333,
              "#9c179e"
             ],
             [
              0.4444444444444444,
              "#bd3786"
             ],
             [
              0.5555555555555556,
              "#d8576b"
             ],
             [
              0.6666666666666666,
              "#ed7953"
             ],
             [
              0.7777777777777778,
              "#fb9f3a"
             ],
             [
              0.8888888888888888,
              "#fdca26"
             ],
             [
              1,
              "#f0f921"
             ]
            ],
            "type": "heatmap"
           }
          ],
          "heatmapgl": [
           {
            "colorbar": {
             "outlinewidth": 0,
             "ticks": ""
            },
            "colorscale": [
             [
              0,
              "#0d0887"
             ],
             [
              0.1111111111111111,
              "#46039f"
             ],
             [
              0.2222222222222222,
              "#7201a8"
             ],
             [
              0.3333333333333333,
              "#9c179e"
             ],
             [
              0.4444444444444444,
              "#bd3786"
             ],
             [
              0.5555555555555556,
              "#d8576b"
             ],
             [
              0.6666666666666666,
              "#ed7953"
             ],
             [
              0.7777777777777778,
              "#fb9f3a"
             ],
             [
              0.8888888888888888,
              "#fdca26"
             ],
             [
              1,
              "#f0f921"
             ]
            ],
            "type": "heatmapgl"
           }
          ],
          "histogram": [
           {
            "marker": {
             "pattern": {
              "fillmode": "overlay",
              "size": 10,
              "solidity": 0.2
             }
            },
            "type": "histogram"
           }
          ],
          "histogram2d": [
           {
            "colorbar": {
             "outlinewidth": 0,
             "ticks": ""
            },
            "colorscale": [
             [
              0,
              "#0d0887"
             ],
             [
              0.1111111111111111,
              "#46039f"
             ],
             [
              0.2222222222222222,
              "#7201a8"
             ],
             [
              0.3333333333333333,
              "#9c179e"
             ],
             [
              0.4444444444444444,
              "#bd3786"
             ],
             [
              0.5555555555555556,
              "#d8576b"
             ],
             [
              0.6666666666666666,
              "#ed7953"
             ],
             [
              0.7777777777777778,
              "#fb9f3a"
             ],
             [
              0.8888888888888888,
              "#fdca26"
             ],
             [
              1,
              "#f0f921"
             ]
            ],
            "type": "histogram2d"
           }
          ],
          "histogram2dcontour": [
           {
            "colorbar": {
             "outlinewidth": 0,
             "ticks": ""
            },
            "colorscale": [
             [
              0,
              "#0d0887"
             ],
             [
              0.1111111111111111,
              "#46039f"
             ],
             [
              0.2222222222222222,
              "#7201a8"
             ],
             [
              0.3333333333333333,
              "#9c179e"
             ],
             [
              0.4444444444444444,
              "#bd3786"
             ],
             [
              0.5555555555555556,
              "#d8576b"
             ],
             [
              0.6666666666666666,
              "#ed7953"
             ],
             [
              0.7777777777777778,
              "#fb9f3a"
             ],
             [
              0.8888888888888888,
              "#fdca26"
             ],
             [
              1,
              "#f0f921"
             ]
            ],
            "type": "histogram2dcontour"
           }
          ],
          "mesh3d": [
           {
            "colorbar": {
             "outlinewidth": 0,
             "ticks": ""
            },
            "type": "mesh3d"
           }
          ],
          "parcoords": [
           {
            "line": {
             "colorbar": {
              "outlinewidth": 0,
              "ticks": ""
             }
            },
            "type": "parcoords"
           }
          ],
          "pie": [
           {
            "automargin": true,
            "type": "pie"
           }
          ],
          "scatter": [
           {
            "fillpattern": {
             "fillmode": "overlay",
             "size": 10,
             "solidity": 0.2
            },
            "type": "scatter"
           }
          ],
          "scatter3d": [
           {
            "line": {
             "colorbar": {
              "outlinewidth": 0,
              "ticks": ""
             }
            },
            "marker": {
             "colorbar": {
              "outlinewidth": 0,
              "ticks": ""
             }
            },
            "type": "scatter3d"
           }
          ],
          "scattercarpet": [
           {
            "marker": {
             "colorbar": {
              "outlinewidth": 0,
              "ticks": ""
             }
            },
            "type": "scattercarpet"
           }
          ],
          "scattergeo": [
           {
            "marker": {
             "colorbar": {
              "outlinewidth": 0,
              "ticks": ""
             }
            },
            "type": "scattergeo"
           }
          ],
          "scattergl": [
           {
            "marker": {
             "colorbar": {
              "outlinewidth": 0,
              "ticks": ""
             }
            },
            "type": "scattergl"
           }
          ],
          "scattermapbox": [
           {
            "marker": {
             "colorbar": {
              "outlinewidth": 0,
              "ticks": ""
             }
            },
            "type": "scattermapbox"
           }
          ],
          "scatterpolar": [
           {
            "marker": {
             "colorbar": {
              "outlinewidth": 0,
              "ticks": ""
             }
            },
            "type": "scatterpolar"
           }
          ],
          "scatterpolargl": [
           {
            "marker": {
             "colorbar": {
              "outlinewidth": 0,
              "ticks": ""
             }
            },
            "type": "scatterpolargl"
           }
          ],
          "scatterternary": [
           {
            "marker": {
             "colorbar": {
              "outlinewidth": 0,
              "ticks": ""
             }
            },
            "type": "scatterternary"
           }
          ],
          "surface": [
           {
            "colorbar": {
             "outlinewidth": 0,
             "ticks": ""
            },
            "colorscale": [
             [
              0,
              "#0d0887"
             ],
             [
              0.1111111111111111,
              "#46039f"
             ],
             [
              0.2222222222222222,
              "#7201a8"
             ],
             [
              0.3333333333333333,
              "#9c179e"
             ],
             [
              0.4444444444444444,
              "#bd3786"
             ],
             [
              0.5555555555555556,
              "#d8576b"
             ],
             [
              0.6666666666666666,
              "#ed7953"
             ],
             [
              0.7777777777777778,
              "#fb9f3a"
             ],
             [
              0.8888888888888888,
              "#fdca26"
             ],
             [
              1,
              "#f0f921"
             ]
            ],
            "type": "surface"
           }
          ],
          "table": [
           {
            "cells": {
             "fill": {
              "color": "#EBF0F8"
             },
             "line": {
              "color": "white"
             }
            },
            "header": {
             "fill": {
              "color": "#C8D4E3"
             },
             "line": {
              "color": "white"
             }
            },
            "type": "table"
           }
          ]
         },
         "layout": {
          "annotationdefaults": {
           "arrowcolor": "#2a3f5f",
           "arrowhead": 0,
           "arrowwidth": 1
          },
          "autotypenumbers": "strict",
          "coloraxis": {
           "colorbar": {
            "outlinewidth": 0,
            "ticks": ""
           }
          },
          "colorscale": {
           "diverging": [
            [
             0,
             "#8e0152"
            ],
            [
             0.1,
             "#c51b7d"
            ],
            [
             0.2,
             "#de77ae"
            ],
            [
             0.3,
             "#f1b6da"
            ],
            [
             0.4,
             "#fde0ef"
            ],
            [
             0.5,
             "#f7f7f7"
            ],
            [
             0.6,
             "#e6f5d0"
            ],
            [
             0.7,
             "#b8e186"
            ],
            [
             0.8,
             "#7fbc41"
            ],
            [
             0.9,
             "#4d9221"
            ],
            [
             1,
             "#276419"
            ]
           ],
           "sequential": [
            [
             0,
             "#0d0887"
            ],
            [
             0.1111111111111111,
             "#46039f"
            ],
            [
             0.2222222222222222,
             "#7201a8"
            ],
            [
             0.3333333333333333,
             "#9c179e"
            ],
            [
             0.4444444444444444,
             "#bd3786"
            ],
            [
             0.5555555555555556,
             "#d8576b"
            ],
            [
             0.6666666666666666,
             "#ed7953"
            ],
            [
             0.7777777777777778,
             "#fb9f3a"
            ],
            [
             0.8888888888888888,
             "#fdca26"
            ],
            [
             1,
             "#f0f921"
            ]
           ],
           "sequentialminus": [
            [
             0,
             "#0d0887"
            ],
            [
             0.1111111111111111,
             "#46039f"
            ],
            [
             0.2222222222222222,
             "#7201a8"
            ],
            [
             0.3333333333333333,
             "#9c179e"
            ],
            [
             0.4444444444444444,
             "#bd3786"
            ],
            [
             0.5555555555555556,
             "#d8576b"
            ],
            [
             0.6666666666666666,
             "#ed7953"
            ],
            [
             0.7777777777777778,
             "#fb9f3a"
            ],
            [
             0.8888888888888888,
             "#fdca26"
            ],
            [
             1,
             "#f0f921"
            ]
           ]
          },
          "colorway": [
           "#636efa",
           "#EF553B",
           "#00cc96",
           "#ab63fa",
           "#FFA15A",
           "#19d3f3",
           "#FF6692",
           "#B6E880",
           "#FF97FF",
           "#FECB52"
          ],
          "font": {
           "color": "#2a3f5f"
          },
          "geo": {
           "bgcolor": "white",
           "lakecolor": "white",
           "landcolor": "#E5ECF6",
           "showlakes": true,
           "showland": true,
           "subunitcolor": "white"
          },
          "hoverlabel": {
           "align": "left"
          },
          "hovermode": "closest",
          "mapbox": {
           "style": "light"
          },
          "paper_bgcolor": "white",
          "plot_bgcolor": "#E5ECF6",
          "polar": {
           "angularaxis": {
            "gridcolor": "white",
            "linecolor": "white",
            "ticks": ""
           },
           "bgcolor": "#E5ECF6",
           "radialaxis": {
            "gridcolor": "white",
            "linecolor": "white",
            "ticks": ""
           }
          },
          "scene": {
           "xaxis": {
            "backgroundcolor": "#E5ECF6",
            "gridcolor": "white",
            "gridwidth": 2,
            "linecolor": "white",
            "showbackground": true,
            "ticks": "",
            "zerolinecolor": "white"
           },
           "yaxis": {
            "backgroundcolor": "#E5ECF6",
            "gridcolor": "white",
            "gridwidth": 2,
            "linecolor": "white",
            "showbackground": true,
            "ticks": "",
            "zerolinecolor": "white"
           },
           "zaxis": {
            "backgroundcolor": "#E5ECF6",
            "gridcolor": "white",
            "gridwidth": 2,
            "linecolor": "white",
            "showbackground": true,
            "ticks": "",
            "zerolinecolor": "white"
           }
          },
          "shapedefaults": {
           "line": {
            "color": "#2a3f5f"
           }
          },
          "ternary": {
           "aaxis": {
            "gridcolor": "white",
            "linecolor": "white",
            "ticks": ""
           },
           "baxis": {
            "gridcolor": "white",
            "linecolor": "white",
            "ticks": ""
           },
           "bgcolor": "#E5ECF6",
           "caxis": {
            "gridcolor": "white",
            "linecolor": "white",
            "ticks": ""
           }
          },
          "title": {
           "x": 0.05
          },
          "xaxis": {
           "automargin": true,
           "gridcolor": "white",
           "linecolor": "white",
           "ticks": "",
           "title": {
            "standoff": 15
           },
           "zerolinecolor": "white",
           "zerolinewidth": 2
          },
          "yaxis": {
           "automargin": true,
           "gridcolor": "white",
           "linecolor": "white",
           "ticks": "",
           "title": {
            "standoff": 15
           },
           "zerolinecolor": "white",
           "zerolinewidth": 2
          }
         }
        },
        "title": {
         "text": "Logit Lens on Datapoint 12 (logit(dishonest_token) - logit(honest_token))"
        },
        "xaxis": {
         "anchor": "y",
         "domain": [
          0,
          1
         ],
         "title": {
          "text": "Component"
         }
        },
        "yaxis": {
         "anchor": "x",
         "domain": [
          0,
          1
         ],
         "title": {
          "text": "index"
         }
        }
       }
      },
      "text/html": [
       "<div>                            <div id=\"05236092-1167-4eaf-a5bc-269630e1df6f\" class=\"plotly-graph-div\" style=\"height:525px; width:100%;\"></div>            <script type=\"text/javascript\">                require([\"plotly\"], function(Plotly) {                    window.PLOTLYENV=window.PLOTLYENV || {};                                    if (document.getElementById(\"05236092-1167-4eaf-a5bc-269630e1df6f\")) {                    Plotly.newPlot(                        \"05236092-1167-4eaf-a5bc-269630e1df6f\",                        [{\"hovertemplate\":\"Alpha=-8.25\\u003cbr\\u003eComponent=%{x}\\u003cbr\\u003eindex=%{y}\\u003cextra\\u003e\\u003c\\u002fextra\\u003e\",\"legendgroup\":\"-8.25\",\"line\":{\"color\":\"#636efa\",\"dash\":\"solid\"},\"marker\":{\"symbol\":\"circle\"},\"mode\":\"lines\",\"name\":\"-8.25\",\"orientation\":\"h\",\"showlegend\":true,\"x\":[0,1,2,3,4,5,6,7,8,9,10,11,12,13,14,15,16,17,18,19,20,21,22,23,24,25,26,27,28,29,30,31,32,33,34,35,36,37,38,39,40,41,42,43,44,45,46,47,48,49,50,51,52,53,54,55,56,57,58,59,60,61,62,63,64],\"xaxis\":\"x\",\"y\":[0,1,2,3,4,5,6,7,8,9,10,11,12,13,14,15,16,17,18,19,20,21,22,23,24,25,26,27,28,29,30,31,32,33,34,35,36,37,38,39,40,41,42,43,44,45,46,47,48,49,50,51,52,53,54,55,56,57,58,59,60,61,62,63,64],\"yaxis\":\"y\",\"type\":\"scatter\"},{\"hovertemplate\":\"Alpha=-7.5\\u003cbr\\u003eComponent=%{x}\\u003cbr\\u003eindex=%{y}\\u003cextra\\u003e\\u003c\\u002fextra\\u003e\",\"legendgroup\":\"-7.5\",\"line\":{\"color\":\"#EF553B\",\"dash\":\"solid\"},\"marker\":{\"symbol\":\"circle\"},\"mode\":\"lines\",\"name\":\"-7.5\",\"orientation\":\"h\",\"showlegend\":true,\"x\":[0,1,2,3,4,5,6,7,8,9,10,11,12,13,14,15,16,17,18,19,20,21,22,23,24,25,26,27,28,29,30,31,32,33,34,35,36,37,38,39,40,41,42,43,44,45,46,47,48,49,50,51,52,53,54,55,56,57,58,59,60,61,62,63,64],\"xaxis\":\"x\",\"y\":[65,66,67,68,69,70,71,72,73,74,75,76,77,78,79,80,81,82,83,84,85,86,87,88,89,90,91,92,93,94,95,96,97,98,99,100,101,102,103,104,105,106,107,108,109,110,111,112,113,114,115,116,117,118,119,120,121,122,123,124,125,126,127,128,129],\"yaxis\":\"y\",\"type\":\"scatter\"},{\"hovertemplate\":\"Alpha=-6.75\\u003cbr\\u003eComponent=%{x}\\u003cbr\\u003eindex=%{y}\\u003cextra\\u003e\\u003c\\u002fextra\\u003e\",\"legendgroup\":\"-6.75\",\"line\":{\"color\":\"#00cc96\",\"dash\":\"solid\"},\"marker\":{\"symbol\":\"circle\"},\"mode\":\"lines\",\"name\":\"-6.75\",\"orientation\":\"h\",\"showlegend\":true,\"x\":[0,1,2,3,4,5,6,7,8,9,10,11,12,13,14,15,16,17,18,19,20,21,22,23,24,25,26,27,28,29,30,31,32,33,34,35,36,37,38,39,40,41,42,43,44,45,46,47,48,49,50,51,52,53,54,55,56,57,58,59,60,61,62,63,64],\"xaxis\":\"x\",\"y\":[130,131,132,133,134,135,136,137,138,139,140,141,142,143,144,145,146,147,148,149,150,151,152,153,154,155,156,157,158,159,160,161,162,163,164,165,166,167,168,169,170,171,172,173,174,175,176,177,178,179,180,181,182,183,184,185,186,187,188,189,190,191,192,193,194],\"yaxis\":\"y\",\"type\":\"scatter\"},{\"hovertemplate\":\"Alpha=-6.0\\u003cbr\\u003eComponent=%{x}\\u003cbr\\u003eindex=%{y}\\u003cextra\\u003e\\u003c\\u002fextra\\u003e\",\"legendgroup\":\"-6.0\",\"line\":{\"color\":\"#ab63fa\",\"dash\":\"solid\"},\"marker\":{\"symbol\":\"circle\"},\"mode\":\"lines\",\"name\":\"-6.0\",\"orientation\":\"h\",\"showlegend\":true,\"x\":[0,1,2,3,4,5,6,7,8,9,10,11,12,13,14,15,16,17,18,19,20,21,22,23,24,25,26,27,28,29,30,31,32,33,34,35,36,37,38,39,40,41,42,43,44,45,46,47,48,49,50,51,52,53,54,55,56,57,58,59,60,61,62,63,64],\"xaxis\":\"x\",\"y\":[195,196,197,198,199,200,201,202,203,204,205,206,207,208,209,210,211,212,213,214,215,216,217,218,219,220,221,222,223,224,225,226,227,228,229,230,231,232,233,234,235,236,237,238,239,240,241,242,243,244,245,246,247,248,249,250,251,252,253,254,255,256,257,258,259],\"yaxis\":\"y\",\"type\":\"scatter\"},{\"hovertemplate\":\"Alpha=-5.25\\u003cbr\\u003eComponent=%{x}\\u003cbr\\u003eindex=%{y}\\u003cextra\\u003e\\u003c\\u002fextra\\u003e\",\"legendgroup\":\"-5.25\",\"line\":{\"color\":\"#FFA15A\",\"dash\":\"solid\"},\"marker\":{\"symbol\":\"circle\"},\"mode\":\"lines\",\"name\":\"-5.25\",\"orientation\":\"h\",\"showlegend\":true,\"x\":[0,1,2,3,4,5,6,7,8,9,10,11,12,13,14,15,16,17,18,19,20,21,22,23,24,25,26,27,28,29,30,31,32,33,34,35,36,37,38,39,40,41,42,43,44,45,46,47,48,49,50,51,52,53,54,55,56,57,58,59,60,61,62,63,64],\"xaxis\":\"x\",\"y\":[260,261,262,263,264,265,266,267,268,269,270,271,272,273,274,275,276,277,278,279,280,281,282,283,284,285,286,287,288,289,290,291,292,293,294,295,296,297,298,299,300,301,302,303,304,305,306,307,308,309,310,311,312,313,314,315,316,317,318,319,320,321,322,323,324],\"yaxis\":\"y\",\"type\":\"scatter\"},{\"hovertemplate\":\"Alpha=-4.5\\u003cbr\\u003eComponent=%{x}\\u003cbr\\u003eindex=%{y}\\u003cextra\\u003e\\u003c\\u002fextra\\u003e\",\"legendgroup\":\"-4.5\",\"line\":{\"color\":\"#19d3f3\",\"dash\":\"solid\"},\"marker\":{\"symbol\":\"circle\"},\"mode\":\"lines\",\"name\":\"-4.5\",\"orientation\":\"h\",\"showlegend\":true,\"x\":[0,1,2,3,4,5,6,7,8,9,10,11,12,13,14,15,16,17,18,19,20,21,22,23,24,25,26,27,28,29,30,31,32,33,34,35,36,37,38,39,40,41,42,43,44,45,46,47,48,49,50,51,52,53,54,55,56,57,58,59,60,61,62,63,64],\"xaxis\":\"x\",\"y\":[325,326,327,328,329,330,331,332,333,334,335,336,337,338,339,340,341,342,343,344,345,346,347,348,349,350,351,352,353,354,355,356,357,358,359,360,361,362,363,364,365,366,367,368,369,370,371,372,373,374,375,376,377,378,379,380,381,382,383,384,385,386,387,388,389],\"yaxis\":\"y\",\"type\":\"scatter\"},{\"hovertemplate\":\"Alpha=-3.75\\u003cbr\\u003eComponent=%{x}\\u003cbr\\u003eindex=%{y}\\u003cextra\\u003e\\u003c\\u002fextra\\u003e\",\"legendgroup\":\"-3.75\",\"line\":{\"color\":\"#FF6692\",\"dash\":\"solid\"},\"marker\":{\"symbol\":\"circle\"},\"mode\":\"lines\",\"name\":\"-3.75\",\"orientation\":\"h\",\"showlegend\":true,\"x\":[0,1,2,3,4,5,6,7,8,9,10,11,12,13,14,15,16,17,18,19,20,21,22,23,24,25,26,27,28,29,30,31,32,33,34,35,36,37,38,39,40,41,42,43,44,45,46,47,48,49,50,51,52,53,54,55,56,57,58,59,60,61,62,63,64],\"xaxis\":\"x\",\"y\":[390,391,392,393,394,395,396,397,398,399,400,401,402,403,404,405,406,407,408,409,410,411,412,413,414,415,416,417,418,419,420,421,422,423,424,425,426,427,428,429,430,431,432,433,434,435,436,437,438,439,440,441,442,443,444,445,446,447,448,449,450,451,452,453,454],\"yaxis\":\"y\",\"type\":\"scatter\"},{\"hovertemplate\":\"Alpha=-3.0\\u003cbr\\u003eComponent=%{x}\\u003cbr\\u003eindex=%{y}\\u003cextra\\u003e\\u003c\\u002fextra\\u003e\",\"legendgroup\":\"-3.0\",\"line\":{\"color\":\"#B6E880\",\"dash\":\"solid\"},\"marker\":{\"symbol\":\"circle\"},\"mode\":\"lines\",\"name\":\"-3.0\",\"orientation\":\"h\",\"showlegend\":true,\"x\":[0,1,2,3,4,5,6,7,8,9,10,11,12,13,14,15,16,17,18,19,20,21,22,23,24,25,26,27,28,29,30,31,32,33,34,35,36,37,38,39,40,41,42,43,44,45,46,47,48,49,50,51,52,53,54,55,56,57,58,59,60,61,62,63,64],\"xaxis\":\"x\",\"y\":[455,456,457,458,459,460,461,462,463,464,465,466,467,468,469,470,471,472,473,474,475,476,477,478,479,480,481,482,483,484,485,486,487,488,489,490,491,492,493,494,495,496,497,498,499,500,501,502,503,504,505,506,507,508,509,510,511,512,513,514,515,516,517,518,519],\"yaxis\":\"y\",\"type\":\"scatter\"},{\"hovertemplate\":\"Alpha=-2.25\\u003cbr\\u003eComponent=%{x}\\u003cbr\\u003eindex=%{y}\\u003cextra\\u003e\\u003c\\u002fextra\\u003e\",\"legendgroup\":\"-2.25\",\"line\":{\"color\":\"#FF97FF\",\"dash\":\"solid\"},\"marker\":{\"symbol\":\"circle\"},\"mode\":\"lines\",\"name\":\"-2.25\",\"orientation\":\"h\",\"showlegend\":true,\"x\":[0,1,2,3,4,5,6,7,8,9,10,11,12,13,14,15,16,17,18,19,20,21,22,23,24,25,26,27,28,29,30,31,32,33,34,35,36,37,38,39,40,41,42,43,44,45,46,47,48,49,50,51,52,53,54,55,56,57,58,59,60,61,62,63,64],\"xaxis\":\"x\",\"y\":[520,521,522,523,524,525,526,527,528,529,530,531,532,533,534,535,536,537,538,539,540,541,542,543,544,545,546,547,548,549,550,551,552,553,554,555,556,557,558,559,560,561,562,563,564,565,566,567,568,569,570,571,572,573,574,575,576,577,578,579,580,581,582,583,584],\"yaxis\":\"y\",\"type\":\"scatter\"},{\"hovertemplate\":\"Alpha=-1.5\\u003cbr\\u003eComponent=%{x}\\u003cbr\\u003eindex=%{y}\\u003cextra\\u003e\\u003c\\u002fextra\\u003e\",\"legendgroup\":\"-1.5\",\"line\":{\"color\":\"#FECB52\",\"dash\":\"solid\"},\"marker\":{\"symbol\":\"circle\"},\"mode\":\"lines\",\"name\":\"-1.5\",\"orientation\":\"h\",\"showlegend\":true,\"x\":[0,1,2,3,4,5,6,7,8,9,10,11,12,13,14,15,16,17,18,19,20,21,22,23,24,25,26,27,28,29,30,31,32,33,34,35,36,37,38,39,40,41,42,43,44,45,46,47,48,49,50,51,52,53,54,55,56,57,58,59,60,61,62,63,64],\"xaxis\":\"x\",\"y\":[585,586,587,588,589,590,591,592,593,594,595,596,597,598,599,600,601,602,603,604,605,606,607,608,609,610,611,612,613,614,615,616,617,618,619,620,621,622,623,624,625,626,627,628,629,630,631,632,633,634,635,636,637,638,639,640,641,642,643,644,645,646,647,648,649],\"yaxis\":\"y\",\"type\":\"scatter\"},{\"hovertemplate\":\"Alpha=-0.75\\u003cbr\\u003eComponent=%{x}\\u003cbr\\u003eindex=%{y}\\u003cextra\\u003e\\u003c\\u002fextra\\u003e\",\"legendgroup\":\"-0.75\",\"line\":{\"color\":\"#636efa\",\"dash\":\"solid\"},\"marker\":{\"symbol\":\"circle\"},\"mode\":\"lines\",\"name\":\"-0.75\",\"orientation\":\"h\",\"showlegend\":true,\"x\":[0,1,2,3,4,5,6,7,8,9,10,11,12,13,14,15,16,17,18,19,20,21,22,23,24,25,26,27,28,29,30,31,32,33,34,35,36,37,38,39,40,41,42,43,44,45,46,47,48,49,50,51,52,53,54,55,56,57,58,59,60,61,62,63,64],\"xaxis\":\"x\",\"y\":[650,651,652,653,654,655,656,657,658,659,660,661,662,663,664,665,666,667,668,669,670,671,672,673,674,675,676,677,678,679,680,681,682,683,684,685,686,687,688,689,690,691,692,693,694,695,696,697,698,699,700,701,702,703,704,705,706,707,708,709,710,711,712,713,714],\"yaxis\":\"y\",\"type\":\"scatter\"},{\"hovertemplate\":\"Alpha=0.0\\u003cbr\\u003eComponent=%{x}\\u003cbr\\u003eindex=%{y}\\u003cextra\\u003e\\u003c\\u002fextra\\u003e\",\"legendgroup\":\"0.0\",\"line\":{\"color\":\"#EF553B\",\"dash\":\"solid\"},\"marker\":{\"symbol\":\"circle\"},\"mode\":\"lines\",\"name\":\"0.0\",\"orientation\":\"h\",\"showlegend\":true,\"x\":[0,1,2,3,4,5,6,7,8,9,10,11,12,13,14,15,16,17,18,19,20,21,22,23,24,25,26,27,28,29,30,31,32,33,34,35,36,37,38,39,40,41,42,43,44,45,46,47,48,49,50,51,52,53,54,55,56,57,58,59,60,61,62,63,64],\"xaxis\":\"x\",\"y\":[715,716,717,718,719,720,721,722,723,724,725,726,727,728,729,730,731,732,733,734,735,736,737,738,739,740,741,742,743,744,745,746,747,748,749,750,751,752,753,754,755,756,757,758,759,760,761,762,763,764,765,766,767,768,769,770,771,772,773,774,775,776,777,778,779],\"yaxis\":\"y\",\"type\":\"scatter\"}],                        {\"template\":{\"data\":{\"histogram2dcontour\":[{\"type\":\"histogram2dcontour\",\"colorbar\":{\"outlinewidth\":0,\"ticks\":\"\"},\"colorscale\":[[0.0,\"#0d0887\"],[0.1111111111111111,\"#46039f\"],[0.2222222222222222,\"#7201a8\"],[0.3333333333333333,\"#9c179e\"],[0.4444444444444444,\"#bd3786\"],[0.5555555555555556,\"#d8576b\"],[0.6666666666666666,\"#ed7953\"],[0.7777777777777778,\"#fb9f3a\"],[0.8888888888888888,\"#fdca26\"],[1.0,\"#f0f921\"]]}],\"choropleth\":[{\"type\":\"choropleth\",\"colorbar\":{\"outlinewidth\":0,\"ticks\":\"\"}}],\"histogram2d\":[{\"type\":\"histogram2d\",\"colorbar\":{\"outlinewidth\":0,\"ticks\":\"\"},\"colorscale\":[[0.0,\"#0d0887\"],[0.1111111111111111,\"#46039f\"],[0.2222222222222222,\"#7201a8\"],[0.3333333333333333,\"#9c179e\"],[0.4444444444444444,\"#bd3786\"],[0.5555555555555556,\"#d8576b\"],[0.6666666666666666,\"#ed7953\"],[0.7777777777777778,\"#fb9f3a\"],[0.8888888888888888,\"#fdca26\"],[1.0,\"#f0f921\"]]}],\"heatmap\":[{\"type\":\"heatmap\",\"colorbar\":{\"outlinewidth\":0,\"ticks\":\"\"},\"colorscale\":[[0.0,\"#0d0887\"],[0.1111111111111111,\"#46039f\"],[0.2222222222222222,\"#7201a8\"],[0.3333333333333333,\"#9c179e\"],[0.4444444444444444,\"#bd3786\"],[0.5555555555555556,\"#d8576b\"],[0.6666666666666666,\"#ed7953\"],[0.7777777777777778,\"#fb9f3a\"],[0.8888888888888888,\"#fdca26\"],[1.0,\"#f0f921\"]]}],\"heatmapgl\":[{\"type\":\"heatmapgl\",\"colorbar\":{\"outlinewidth\":0,\"ticks\":\"\"},\"colorscale\":[[0.0,\"#0d0887\"],[0.1111111111111111,\"#46039f\"],[0.2222222222222222,\"#7201a8\"],[0.3333333333333333,\"#9c179e\"],[0.4444444444444444,\"#bd3786\"],[0.5555555555555556,\"#d8576b\"],[0.6666666666666666,\"#ed7953\"],[0.7777777777777778,\"#fb9f3a\"],[0.8888888888888888,\"#fdca26\"],[1.0,\"#f0f921\"]]}],\"contourcarpet\":[{\"type\":\"contourcarpet\",\"colorbar\":{\"outlinewidth\":0,\"ticks\":\"\"}}],\"contour\":[{\"type\":\"contour\",\"colorbar\":{\"outlinewidth\":0,\"ticks\":\"\"},\"colorscale\":[[0.0,\"#0d0887\"],[0.1111111111111111,\"#46039f\"],[0.2222222222222222,\"#7201a8\"],[0.3333333333333333,\"#9c179e\"],[0.4444444444444444,\"#bd3786\"],[0.5555555555555556,\"#d8576b\"],[0.6666666666666666,\"#ed7953\"],[0.7777777777777778,\"#fb9f3a\"],[0.8888888888888888,\"#fdca26\"],[1.0,\"#f0f921\"]]}],\"surface\":[{\"type\":\"surface\",\"colorbar\":{\"outlinewidth\":0,\"ticks\":\"\"},\"colorscale\":[[0.0,\"#0d0887\"],[0.1111111111111111,\"#46039f\"],[0.2222222222222222,\"#7201a8\"],[0.3333333333333333,\"#9c179e\"],[0.4444444444444444,\"#bd3786\"],[0.5555555555555556,\"#d8576b\"],[0.6666666666666666,\"#ed7953\"],[0.7777777777777778,\"#fb9f3a\"],[0.8888888888888888,\"#fdca26\"],[1.0,\"#f0f921\"]]}],\"mesh3d\":[{\"type\":\"mesh3d\",\"colorbar\":{\"outlinewidth\":0,\"ticks\":\"\"}}],\"scatter\":[{\"fillpattern\":{\"fillmode\":\"overlay\",\"size\":10,\"solidity\":0.2},\"type\":\"scatter\"}],\"parcoords\":[{\"type\":\"parcoords\",\"line\":{\"colorbar\":{\"outlinewidth\":0,\"ticks\":\"\"}}}],\"scatterpolargl\":[{\"type\":\"scatterpolargl\",\"marker\":{\"colorbar\":{\"outlinewidth\":0,\"ticks\":\"\"}}}],\"bar\":[{\"error_x\":{\"color\":\"#2a3f5f\"},\"error_y\":{\"color\":\"#2a3f5f\"},\"marker\":{\"line\":{\"color\":\"#E5ECF6\",\"width\":0.5},\"pattern\":{\"fillmode\":\"overlay\",\"size\":10,\"solidity\":0.2}},\"type\":\"bar\"}],\"scattergeo\":[{\"type\":\"scattergeo\",\"marker\":{\"colorbar\":{\"outlinewidth\":0,\"ticks\":\"\"}}}],\"scatterpolar\":[{\"type\":\"scatterpolar\",\"marker\":{\"colorbar\":{\"outlinewidth\":0,\"ticks\":\"\"}}}],\"histogram\":[{\"marker\":{\"pattern\":{\"fillmode\":\"overlay\",\"size\":10,\"solidity\":0.2}},\"type\":\"histogram\"}],\"scattergl\":[{\"type\":\"scattergl\",\"marker\":{\"colorbar\":{\"outlinewidth\":0,\"ticks\":\"\"}}}],\"scatter3d\":[{\"type\":\"scatter3d\",\"line\":{\"colorbar\":{\"outlinewidth\":0,\"ticks\":\"\"}},\"marker\":{\"colorbar\":{\"outlinewidth\":0,\"ticks\":\"\"}}}],\"scattermapbox\":[{\"type\":\"scattermapbox\",\"marker\":{\"colorbar\":{\"outlinewidth\":0,\"ticks\":\"\"}}}],\"scatterternary\":[{\"type\":\"scatterternary\",\"marker\":{\"colorbar\":{\"outlinewidth\":0,\"ticks\":\"\"}}}],\"scattercarpet\":[{\"type\":\"scattercarpet\",\"marker\":{\"colorbar\":{\"outlinewidth\":0,\"ticks\":\"\"}}}],\"carpet\":[{\"aaxis\":{\"endlinecolor\":\"#2a3f5f\",\"gridcolor\":\"white\",\"linecolor\":\"white\",\"minorgridcolor\":\"white\",\"startlinecolor\":\"#2a3f5f\"},\"baxis\":{\"endlinecolor\":\"#2a3f5f\",\"gridcolor\":\"white\",\"linecolor\":\"white\",\"minorgridcolor\":\"white\",\"startlinecolor\":\"#2a3f5f\"},\"type\":\"carpet\"}],\"table\":[{\"cells\":{\"fill\":{\"color\":\"#EBF0F8\"},\"line\":{\"color\":\"white\"}},\"header\":{\"fill\":{\"color\":\"#C8D4E3\"},\"line\":{\"color\":\"white\"}},\"type\":\"table\"}],\"barpolar\":[{\"marker\":{\"line\":{\"color\":\"#E5ECF6\",\"width\":0.5},\"pattern\":{\"fillmode\":\"overlay\",\"size\":10,\"solidity\":0.2}},\"type\":\"barpolar\"}],\"pie\":[{\"automargin\":true,\"type\":\"pie\"}]},\"layout\":{\"autotypenumbers\":\"strict\",\"colorway\":[\"#636efa\",\"#EF553B\",\"#00cc96\",\"#ab63fa\",\"#FFA15A\",\"#19d3f3\",\"#FF6692\",\"#B6E880\",\"#FF97FF\",\"#FECB52\"],\"font\":{\"color\":\"#2a3f5f\"},\"hovermode\":\"closest\",\"hoverlabel\":{\"align\":\"left\"},\"paper_bgcolor\":\"white\",\"plot_bgcolor\":\"#E5ECF6\",\"polar\":{\"bgcolor\":\"#E5ECF6\",\"angularaxis\":{\"gridcolor\":\"white\",\"linecolor\":\"white\",\"ticks\":\"\"},\"radialaxis\":{\"gridcolor\":\"white\",\"linecolor\":\"white\",\"ticks\":\"\"}},\"ternary\":{\"bgcolor\":\"#E5ECF6\",\"aaxis\":{\"gridcolor\":\"white\",\"linecolor\":\"white\",\"ticks\":\"\"},\"baxis\":{\"gridcolor\":\"white\",\"linecolor\":\"white\",\"ticks\":\"\"},\"caxis\":{\"gridcolor\":\"white\",\"linecolor\":\"white\",\"ticks\":\"\"}},\"coloraxis\":{\"colorbar\":{\"outlinewidth\":0,\"ticks\":\"\"}},\"colorscale\":{\"sequential\":[[0.0,\"#0d0887\"],[0.1111111111111111,\"#46039f\"],[0.2222222222222222,\"#7201a8\"],[0.3333333333333333,\"#9c179e\"],[0.4444444444444444,\"#bd3786\"],[0.5555555555555556,\"#d8576b\"],[0.6666666666666666,\"#ed7953\"],[0.7777777777777778,\"#fb9f3a\"],[0.8888888888888888,\"#fdca26\"],[1.0,\"#f0f921\"]],\"sequentialminus\":[[0.0,\"#0d0887\"],[0.1111111111111111,\"#46039f\"],[0.2222222222222222,\"#7201a8\"],[0.3333333333333333,\"#9c179e\"],[0.4444444444444444,\"#bd3786\"],[0.5555555555555556,\"#d8576b\"],[0.6666666666666666,\"#ed7953\"],[0.7777777777777778,\"#fb9f3a\"],[0.8888888888888888,\"#fdca26\"],[1.0,\"#f0f921\"]],\"diverging\":[[0,\"#8e0152\"],[0.1,\"#c51b7d\"],[0.2,\"#de77ae\"],[0.3,\"#f1b6da\"],[0.4,\"#fde0ef\"],[0.5,\"#f7f7f7\"],[0.6,\"#e6f5d0\"],[0.7,\"#b8e186\"],[0.8,\"#7fbc41\"],[0.9,\"#4d9221\"],[1,\"#276419\"]]},\"xaxis\":{\"gridcolor\":\"white\",\"linecolor\":\"white\",\"ticks\":\"\",\"title\":{\"standoff\":15},\"zerolinecolor\":\"white\",\"automargin\":true,\"zerolinewidth\":2},\"yaxis\":{\"gridcolor\":\"white\",\"linecolor\":\"white\",\"ticks\":\"\",\"title\":{\"standoff\":15},\"zerolinecolor\":\"white\",\"automargin\":true,\"zerolinewidth\":2},\"scene\":{\"xaxis\":{\"backgroundcolor\":\"#E5ECF6\",\"gridcolor\":\"white\",\"linecolor\":\"white\",\"showbackground\":true,\"ticks\":\"\",\"zerolinecolor\":\"white\",\"gridwidth\":2},\"yaxis\":{\"backgroundcolor\":\"#E5ECF6\",\"gridcolor\":\"white\",\"linecolor\":\"white\",\"showbackground\":true,\"ticks\":\"\",\"zerolinecolor\":\"white\",\"gridwidth\":2},\"zaxis\":{\"backgroundcolor\":\"#E5ECF6\",\"gridcolor\":\"white\",\"linecolor\":\"white\",\"showbackground\":true,\"ticks\":\"\",\"zerolinecolor\":\"white\",\"gridwidth\":2}},\"shapedefaults\":{\"line\":{\"color\":\"#2a3f5f\"}},\"annotationdefaults\":{\"arrowcolor\":\"#2a3f5f\",\"arrowhead\":0,\"arrowwidth\":1},\"geo\":{\"bgcolor\":\"white\",\"landcolor\":\"#E5ECF6\",\"subunitcolor\":\"white\",\"showland\":true,\"showlakes\":true,\"lakecolor\":\"white\"},\"title\":{\"x\":0.05},\"mapbox\":{\"style\":\"light\"}}},\"xaxis\":{\"anchor\":\"y\",\"domain\":[0.0,1.0],\"title\":{\"text\":\"Component\"}},\"yaxis\":{\"anchor\":\"x\",\"domain\":[0.0,1.0],\"title\":{\"text\":\"index\"}},\"legend\":{\"title\":{\"text\":\"Alpha\"},\"tracegroupgap\":0},\"title\":{\"text\":\"Logit Lens on Datapoint 12 (logit(dishonest_token) - logit(honest_token))\"}},                        {\"responsive\": true}                    ).then(function(){\n",
       "                            \n",
       "var gd = document.getElementById('05236092-1167-4eaf-a5bc-269630e1df6f');\n",
       "var x = new MutationObserver(function (mutations, observer) {{\n",
       "        var display = window.getComputedStyle(gd).display;\n",
       "        if (!display || display === 'none') {{\n",
       "            console.log([gd, 'removed!']);\n",
       "            Plotly.purge(gd);\n",
       "            observer.disconnect();\n",
       "        }}\n",
       "}});\n",
       "\n",
       "// Listen for the removal of the full notebook cells\n",
       "var notebookContainer = gd.closest('#notebook-container');\n",
       "if (notebookContainer) {{\n",
       "    x.observe(notebookContainer, {childList: true});\n",
       "}}\n",
       "\n",
       "// Listen for the clearing of the current output cell\n",
       "var outputEl = gd.closest('.output');\n",
       "if (outputEl) {{\n",
       "    x.observe(outputEl, {childList: true});\n",
       "}}\n",
       "\n",
       "                        })                };                });            </script>        </div>"
      ]
     },
     "metadata": {},
     "output_type": "display_data"
    }
   ],
   "source": [
    "px.line(\n",
    "    df,\n",
    "    x='Component',\n",
    "    title=\"Logit Lens on Datapoint 12 (logit(dishonest_token) - logit(honest_token))\",\n",
    "    labels={\n",
    "        'x': 'Component',\n",
    "        'y': 'Logit Difference',\n",
    "    },\n",
    "    color='Alpha',\n",
    ")"
   ]
  },
  {
   "cell_type": "code",
   "execution_count": null,
   "metadata": {},
   "outputs": [],
   "source": []
  },
  {
   "cell_type": "code",
   "execution_count": null,
   "metadata": {},
   "outputs": [],
   "source": []
  },
  {
   "cell_type": "code",
   "execution_count": null,
   "metadata": {},
   "outputs": [],
   "source": []
  },
  {
   "cell_type": "code",
   "execution_count": null,
   "metadata": {},
   "outputs": [],
   "source": []
  },
  {
   "cell_type": "code",
   "execution_count": null,
   "metadata": {},
   "outputs": [],
   "source": []
  },
  {
   "cell_type": "code",
   "execution_count": null,
   "metadata": {},
   "outputs": [],
   "source": []
  },
  {
   "cell_type": "code",
   "execution_count": null,
   "metadata": {},
   "outputs": [],
   "source": []
  },
  {
   "cell_type": "code",
   "execution_count": null,
   "metadata": {},
   "outputs": [],
   "source": []
  },
  {
   "cell_type": "code",
   "execution_count": null,
   "metadata": {},
   "outputs": [],
   "source": []
  },
  {
   "cell_type": "code",
   "execution_count": null,
   "metadata": {},
   "outputs": [],
   "source": []
  },
  {
   "cell_type": "code",
   "execution_count": null,
   "metadata": {},
   "outputs": [],
   "source": []
  },
  {
   "cell_type": "markdown",
   "metadata": {},
   "source": [
    "## Idea (after finishing the above)\n",
    "\n",
    "- For layer 'l' after 15:\n",
    "    - d = the dishonesty direction for l,\n",
    "    - a = mlp_out of 'l' with injection (just at 15) - mlp_out without injection\n",
    "    - b = same for attention\n",
    "    - cos_sim(a, d)\n",
    "    - cos_sim(b, d)"
   ]
  },
  {
   "cell_type": "code",
   "execution_count": null,
   "metadata": {},
   "outputs": [],
   "source": []
  }
 ],
 "metadata": {
  "kernelspec": {
   "display_name": "mistral",
   "language": "python",
   "name": "python3"
  },
  "language_info": {
   "codemirror_mode": {
    "name": "ipython",
    "version": 3
   },
   "file_extension": ".py",
   "mimetype": "text/x-python",
   "name": "python",
   "nbconvert_exporter": "python",
   "pygments_lexer": "ipython3",
   "version": "3.11.5"
  }
 },
 "nbformat": 4,
 "nbformat_minor": 2
}
