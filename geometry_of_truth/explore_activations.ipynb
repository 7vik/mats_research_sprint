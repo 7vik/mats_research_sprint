{
 "cells": [
  {
   "cell_type": "code",
   "execution_count": 1,
   "metadata": {},
   "outputs": [],
   "source": [
    "import torch as t\n",
    "import pandas as pd\n",
    "import os\n",
    "from tqdm import tqdm\n",
    "import plotly.express as px\n",
    "import json"
   ]
  },
  {
   "cell_type": "code",
   "execution_count": 2,
   "metadata": {},
   "outputs": [],
   "source": [
    "import sys\n",
    "sys.path.append('./geometry-of-truth/')"
   ]
  },
  {
   "cell_type": "code",
   "execution_count": 9,
   "metadata": {},
   "outputs": [],
   "source": [
    "from transformers import LlamaForCausalLM, LlamaTokenizer"
   ]
  },
  {
   "cell_type": "code",
   "execution_count": 23,
   "metadata": {},
   "outputs": [],
   "source": [
    "from glob import glob"
   ]
  },
  {
   "cell_type": "code",
   "execution_count": 26,
   "metadata": {},
   "outputs": [],
   "source": [
    "ACTS_BATCH_SIZE = 25"
   ]
  },
  {
   "cell_type": "code",
   "execution_count": 14,
   "metadata": {},
   "outputs": [],
   "source": [
    "ROOT = './geometry-of-truth/'"
   ]
  },
  {
   "cell_type": "code",
   "execution_count": 27,
   "metadata": {},
   "outputs": [],
   "source": [
    "def collect_acts(dataset_name, model_size, layer, center=True, scale=False, device='cpu'):\n",
    "    \"\"\"\n",
    "    Collects activations from a dataset of statements, returns as a tensor of shape [n_activations, activation_dimension].\n",
    "    \"\"\"\n",
    "    global ROOT, ACTS_BATCH_SIZE\n",
    "    directory = os.path.join(ROOT, 'acts', model_size, dataset_name)\n",
    "    activation_files = glob(os.path.join(directory, f'layer_{layer}_*.pt'))\n",
    "    acts = [t.load(os.path.join(directory, f'layer_{layer}_{i}.pt')).to(device) for i in range(0, ACTS_BATCH_SIZE * len(activation_files), ACTS_BATCH_SIZE)]\n",
    "    acts = t.cat(acts, dim=0).to(device)\n",
    "    if center:\n",
    "        acts = acts - t.mean(acts, dim=0)\n",
    "    if scale:\n",
    "        acts = acts / t.std(acts, dim=0)\n",
    "    return acts"
   ]
  },
  {
   "cell_type": "code",
   "execution_count": 10,
   "metadata": {},
   "outputs": [],
   "source": [
    "def load_llama(device):\n",
    "    print(f'Loading Llama2')\n",
    "    llama_path = '/home/t-sgolechha/Desktop/llama2/llama/llama-2-7b_hf/'\n",
    "    tokenizer = LlamaTokenizer.from_pretrained(llama_path)\n",
    "    model = LlamaForCausalLM.from_pretrained(llama_path)\n",
    "    # set tokenizer to use bos token\n",
    "    tokenizer.bos_token = '<s>'\n",
    "    model.to(device)\n",
    "    print(f'Loaded Llama2')\n",
    "    return tokenizer, model"
   ]
  },
  {
   "cell_type": "code",
   "execution_count": 11,
   "metadata": {},
   "outputs": [
    {
     "name": "stdout",
     "output_type": "stream",
     "text": [
      "Loading Llama2\n"
     ]
    },
    {
     "data": {
      "application/vnd.jupyter.widget-view+json": {
       "model_id": "fc4efc7ff0854e40839b53f422f4c3eb",
       "version_major": 2,
       "version_minor": 0
      },
      "text/plain": [
       "Loading checkpoint shards:   0%|          | 0/3 [00:00<?, ?it/s]"
      ]
     },
     "metadata": {},
     "output_type": "display_data"
    },
    {
     "name": "stdout",
     "output_type": "stream",
     "text": [
      "Loaded Llama2\n"
     ]
    }
   ],
   "source": [
    "device = 'cuda:0'\n",
    "tokenizer, model = load_llama(device)"
   ]
  },
  {
   "cell_type": "code",
   "execution_count": 36,
   "metadata": {},
   "outputs": [],
   "source": [
    "class MMProbe(t.nn.Module):\n",
    "    def __init__(self, direction, covariance=None, inv=None, atol=1e-3):\n",
    "        super().__init__()\n",
    "        self.direction = t.nn.Parameter(direction, requires_grad=False)\n",
    "        if inv is None:\n",
    "            self.inv = t.nn.Parameter(t.linalg.pinv(covariance.cpu(), hermitian=True, atol=atol), requires_grad=False)\n",
    "            self.inv.to(device)\n",
    "        else:\n",
    "            self.inv = t.nn.Parameter(inv, requires_grad=False)\n",
    "\n",
    "    def forward(self, x, iid=False):\n",
    "        if iid:\n",
    "            return t.nn.Sigmoid()(x @ self.inv @ self.direction)\n",
    "        else:\n",
    "            return t.nn.Sigmoid()(x @ self.direction)\n",
    "\n",
    "    def pred(self, x, iid=False):\n",
    "        return self(x, iid=iid).round()\n",
    "\n",
    "    def from_data(acts, labels, atol=1e-3, device='cpu'):\n",
    "        acts, labels\n",
    "        pos_acts, neg_acts = acts[labels==1], acts[labels==0]\n",
    "        pos_mean, neg_mean = pos_acts.mean(0), neg_acts.mean(0)\n",
    "        direction = pos_mean - neg_mean\n",
    "\n",
    "        centered_data = t.cat([pos_acts - pos_mean, neg_acts - neg_mean], 0)\n",
    "        covariance = centered_data.t() @ centered_data / acts.shape[0]\n",
    "        \n",
    "        probe = MMProbe(direction, covariance=covariance).to(device)\n",
    "\n",
    "        return probe"
   ]
  },
  {
   "cell_type": "code",
   "execution_count": 42,
   "metadata": {},
   "outputs": [
    {
     "data": {
      "text/plain": [
       "32"
      ]
     },
     "execution_count": 42,
     "metadata": {},
     "output_type": "execute_result"
    }
   ],
   "source": [
    "model.config.num_hidden_layers"
   ]
  },
  {
   "cell_type": "code",
   "execution_count": 43,
   "metadata": {},
   "outputs": [],
   "source": [
    "layers = range(model.config.num_hidden_layers)\n",
    "\n",
    "train_datasets = ['cities']\n",
    "val_dataset = 'sp_en_trans'\n",
    "\n",
    "ProbeClass = MMProbe\n",
    "\n",
    "# label tokens\n",
    "t_tok = tokenizer.encode('TRUE')[-1]\n",
    "f_tok = tokenizer.encode('FALSE')[-1]"
   ]
  },
  {
   "cell_type": "code",
   "execution_count": 44,
   "metadata": {},
   "outputs": [
    {
     "name": "stderr",
     "output_type": "stream",
     "text": [
      "100%|██████████| 32/32 [00:36<00:00,  1.13s/it]\n"
     ]
    }
   ],
   "source": [
    "layer_directions = []\n",
    "\n",
    "for layer in tqdm(layers):\n",
    "    # get probe\n",
    "    if ProbeClass == LRProbe or ProbeClass == MMProbe:\n",
    "        acts, labels = [], []\n",
    "        for dataset in train_datasets:\n",
    "            acts.append(collect_acts(dataset, '7B', layer).to(device))\n",
    "            labels.append(t.Tensor(pd.read_csv(f'{ROOT}/datasets/{dataset}.csv')['label'].tolist()).to(device))\n",
    "        acts, labels = t.cat(acts), t.cat(labels)\n",
    "        probe = ProbeClass.from_data(acts, labels, device=device)\n",
    "    # get direction\n",
    "    direction = probe.direction\n",
    "    true_acts, false_acts = acts[labels==1], acts[labels==0]\n",
    "    true_mean, false_mean = true_acts.mean(0), false_acts.mean(0)\n",
    "    direction = direction / direction.norm()\n",
    "    diff = (true_mean - false_mean) @ direction\n",
    "    direction = diff * direction\n",
    "\n",
    "    layer_directions.append(direction)"
   ]
  },
  {
   "cell_type": "code",
   "execution_count": 45,
   "metadata": {},
   "outputs": [],
   "source": [
    "layer_directions_t = t.stack(layer_directions, dim=0)"
   ]
  },
  {
   "cell_type": "code",
   "execution_count": 46,
   "metadata": {},
   "outputs": [
    {
     "data": {
      "text/plain": [
       "torch.Size([32, 4096])"
      ]
     },
     "execution_count": 46,
     "metadata": {},
     "output_type": "execute_result"
    }
   ],
   "source": [
    "layer_directions_t.shape"
   ]
  },
  {
   "cell_type": "code",
   "execution_count": 47,
   "metadata": {},
   "outputs": [],
   "source": [
    "layer_directions_t_path = '/home/t-sgolechha/Desktop/mats_research_sprint/directions/llama2_7b_mm_layer_directions_cities.pt'"
   ]
  },
  {
   "cell_type": "code",
   "execution_count": 48,
   "metadata": {},
   "outputs": [],
   "source": [
    "t.save(layer_directions_t, layer_directions_t_path)"
   ]
  },
  {
   "cell_type": "code",
   "execution_count": 38,
   "metadata": {},
   "outputs": [],
   "source": [
    "# get probe\n",
    "if ProbeClass == LRProbe or ProbeClass == MMProbe:\n",
    "    acts, labels = [], []\n",
    "    for dataset in train_datasets:\n",
    "        acts.append(collect_acts(dataset, '7B', layer).to(device))\n",
    "        labels.append(t.Tensor(pd.read_csv(f'{ROOT}/datasets/{dataset}.csv')['label'].tolist()).to(device))\n",
    "    acts, labels = t.cat(acts), t.cat(labels)\n",
    "    probe = ProbeClass.from_data(acts, labels, device=device)"
   ]
  },
  {
   "cell_type": "code",
   "execution_count": 39,
   "metadata": {},
   "outputs": [],
   "source": [
    "# get direction\n",
    "direction = probe.direction\n",
    "true_acts, false_acts = acts[labels==1], acts[labels==0]\n",
    "true_mean, false_mean = true_acts.mean(0), false_acts.mean(0)\n",
    "direction = direction / direction.norm()\n",
    "diff = (true_mean - false_mean) @ direction\n",
    "direction = diff * direction"
   ]
  },
  {
   "cell_type": "code",
   "execution_count": 40,
   "metadata": {},
   "outputs": [
    {
     "data": {
      "text/plain": [
       "torch.Size([4096])"
      ]
     },
     "execution_count": 40,
     "metadata": {},
     "output_type": "execute_result"
    }
   ],
   "source": []
  },
  {
   "cell_type": "code",
   "execution_count": null,
   "metadata": {},
   "outputs": [],
   "source": [
    "prompt = \"\"\"\\\n",
    "The Spanish word 'jirafa' means 'giraffe'. This statement is: TRUE\n",
    "The Spanish word 'escribir' means 'to write'. This statement is: TRUE\n",
    "The Spanish word 'diccionario' means 'dictionary'. This statement is: TRUE\n",
    "The Spanish word 'gato' means 'cat'. This statement is: TRUE\n",
    "The Spanish word 'aire' means 'silver'. This statement is: FALSE\"\"\""
   ]
  },
  {
   "cell_type": "code",
   "execution_count": null,
   "metadata": {},
   "outputs": [],
   "source": [
    "# make sure everything is clean going in\n",
    "for module in model.model.layers:\n",
    "    module._forward_hooks.clear()\n",
    "\n",
    "df_out = {'alpha' : [], 'diff' : [], 'tot' : []}"
   ]
  },
  {
   "cell_type": "code",
   "execution_count": null,
   "metadata": {},
   "outputs": [],
   "source": [
    "# keep increasing alpha until things get worse\n",
    "last_diff = -2\n",
    "diff = -1\n",
    "tot = 1\n",
    "alpha = -1\n",
    "while diff > last_diff and tot > .95:\n",
    "    last_diff = diff\n",
    "    alpha += 1\n",
    "    # get probs\n",
    "    df = pd.read_csv(f'datasets/{val_dataset}.csv')\n",
    "    diffs, tots = [], []\n",
    "    for _, row in tqdm(df.iterrows()):\n",
    "        if row['label'] == 0 and row['statement'] not in prompt:\n",
    "            input_ids = tokenizer(prompt + '\\n' +  row['statement'] + ' This statement is:', return_tensors='pt').input_ids.to(device)\n",
    "            period_tok = tokenizer.encode(\"'test'.\")[-1]\n",
    "            period_idxs = (input_ids == period_tok).nonzero(as_tuple=True)[1]\n",
    "            intervention_idx = period_idxs[5]\n",
    "\n",
    "            # intervened prob\n",
    "            def hook(module, input, output):\n",
    "                output[0][:,intervention_idx - 1, :] += direction * alpha\n",
    "                output[0][:, intervention_idx, :] += direction * alpha\n",
    "                return output\n",
    "            handle = model.model.layers[layer-1].register_forward_hook(hook)\n",
    "            probs = model(input_ids).logits[0,-1,:].softmax(-1)\n",
    "            handle.remove()\n",
    "\n",
    "            diffs.append(probs[t_tok].item() - probs[f_tok].item())\n",
    "            tots.append(probs[t_tok].item() + probs[f_tok].item())\n",
    "    diff = sum(diffs) / len(diffs)\n",
    "    tot = sum(tots) / len(tots)\n",
    "    df_out['alpha'].append(alpha)\n",
    "    df_out['diff'].append(diff)\n",
    "    df_out['tot'].append(tot)"
   ]
  },
  {
   "cell_type": "code",
   "execution_count": null,
   "metadata": {},
   "outputs": [],
   "source": [
    "# save results\n",
    "log = {\n",
    "    'train_datasets' : train_datasets,\n",
    "    'val_dataset' : val_dataset,\n",
    "    'layer' : layer,\n",
    "    'probe class' : ProbeClass.__name__,\n",
    "    'prompt' : prompt,\n",
    "    'results' : df_out,\n",
    "    'experiment' : 'false to true'\n",
    "}\n",
    "\n",
    "with open('experimental_outputs/label_change_intervention_results.json', 'r') as f:\n",
    "    data = json.load(f)\n",
    "data.append(log)\n",
    "with open('experimental_outputs/label_change_intervention_results.json', 'w') as f:\n",
    "    json.dump(data, f, indent=4)"
   ]
  },
  {
   "cell_type": "code",
   "execution_count": null,
   "metadata": {},
   "outputs": [],
   "source": [
    "px.line(pd.DataFrame(df_out), x='alpha', y=['diff', 'tot'])"
   ]
  },
  {
   "cell_type": "code",
   "execution_count": 49,
   "metadata": {},
   "outputs": [
    {
     "data": {
      "text/plain": [
       "torch.Size([1496, 4096])"
      ]
     },
     "execution_count": 49,
     "metadata": {},
     "output_type": "execute_result"
    }
   ],
   "source": [
    "acts.shape"
   ]
  },
  {
   "cell_type": "code",
   "execution_count": 52,
   "metadata": {},
   "outputs": [],
   "source": [
    "def get_pcs(X, k=2, offset=0):\n",
    "    \"\"\"\n",
    "    Performs Principal Component Analysis (PCA) on the n x d data matrix X. \n",
    "    Returns the k principal components, the corresponding eigenvalues and the projected data.\n",
    "    \"\"\"\n",
    "\n",
    "    # Subtract the mean to center the data\n",
    "    X = X - t.mean(X, dim=0)\n",
    "    \n",
    "    # Compute the covariance matrix\n",
    "    cov_mat = t.mm(X.t(), X) / (X.size(0) - 1)\n",
    "    \n",
    "    # Perform eigen decomposition\n",
    "    eigenvalues, eigenvectors = t.linalg.eigh(cov_mat.cpu())\n",
    "    eigenvalues = eigenvalues.to(device)\n",
    "    eigenvectors = eigenvectors.to(device)\n",
    "    \n",
    "    # Since the eigenvalues and vectors are not necessarily sorted, we do that now\n",
    "    sorted_indices = t.argsort(eigenvalues, descending=True)\n",
    "    eigenvectors = eigenvectors[:, sorted_indices]\n",
    "    \n",
    "    # Select the pcs\n",
    "    eigenvectors = eigenvectors[:, offset:offset+k]\n",
    "    \n",
    "    return eigenvectors"
   ]
  },
  {
   "cell_type": "code",
   "execution_count": 53,
   "metadata": {},
   "outputs": [],
   "source": [
    "pcs = get_pcs(acts, k=2, offset=0)"
   ]
  },
  {
   "cell_type": "code",
   "execution_count": 60,
   "metadata": {},
   "outputs": [
    {
     "name": "stderr",
     "output_type": "stream",
     "text": [
      "100%|██████████| 32/32 [00:31<00:00,  1.02it/s]\n"
     ]
    }
   ],
   "source": [
    "pcs_layer = []\n",
    "# compute pcs for each layer\n",
    "for layer in tqdm(layers):\n",
    "    acts = collect_acts('cities', '7B', layer).to(device)\n",
    "    pcs = get_pcs(acts, k=2, offset=0)\n",
    "    pcs_layer.append(pcs)"
   ]
  },
  {
   "cell_type": "code",
   "execution_count": 61,
   "metadata": {},
   "outputs": [
    {
     "name": "stderr",
     "output_type": "stream",
     "text": [
      "100%|██████████| 32/32 [00:01<00:00, 27.30it/s]\n"
     ]
    }
   ],
   "source": [
    "proj_layer = []\n",
    "# project each layer activations to pcs\n",
    "for layer in tqdm(layers):\n",
    "    acts = collect_acts('cities', '7B', layer).to(device)\n",
    "    proj = acts @ pcs_layer[layer]\n",
    "    proj_layer.append(proj)"
   ]
  },
  {
   "cell_type": "code",
   "execution_count": 64,
   "metadata": {},
   "outputs": [],
   "source": [
    "proj_layer_t = t.stack(proj_layer, dim=0)"
   ]
  },
  {
   "cell_type": "code",
   "execution_count": 76,
   "metadata": {},
   "outputs": [
    {
     "data": {
      "text/plain": [
       "torch.Size([32, 1496, 2])"
      ]
     },
     "execution_count": 76,
     "metadata": {},
     "output_type": "execute_result"
    }
   ],
   "source": [
    "proj_layer_t.shape"
   ]
  },
  {
   "cell_type": "code",
   "execution_count": 82,
   "metadata": {},
   "outputs": [],
   "source": [
    "df = pd.DataFrame()"
   ]
  },
  {
   "cell_type": "code",
   "execution_count": 71,
   "metadata": {},
   "outputs": [],
   "source": [
    "import numpy as np"
   ]
  },
  {
   "cell_type": "code",
   "execution_count": 72,
   "metadata": {},
   "outputs": [],
   "source": [
    "df = ntensor_to_long(proj_layer_t, dim_names=['layer', 'datapoint', 'pc'])"
   ]
  },
  {
   "cell_type": "code",
   "execution_count": 83,
   "metadata": {},
   "outputs": [],
   "source": [
    "df[\"pc1\"] = proj_layer_t[:, :, 0].flatten().cpu().numpy()\n",
    "df[\"pc2\"] = proj_layer_t[:, :, 1].flatten().cpu().numpy()\n",
    "df[\"layer\"] = np.repeat(np.arange(32), 1496)"
   ]
  },
  {
   "cell_type": "code",
   "execution_count": 84,
   "metadata": {},
   "outputs": [
    {
     "data": {
      "text/plain": [
       "((47872, 3), Index(['pc1', 'pc2', 'layer'], dtype='object'))"
      ]
     },
     "execution_count": 84,
     "metadata": {},
     "output_type": "execute_result"
    }
   ],
   "source": [
    "df.shape, df.columns"
   ]
  },
  {
   "cell_type": "code",
   "execution_count": 86,
   "metadata": {},
   "outputs": [],
   "source": [
    "labels = t.Tensor(pd.read_csv(f'{ROOT}/datasets/{dataset}.csv')['label'].tolist())"
   ]
  },
  {
   "cell_type": "code",
   "execution_count": 92,
   "metadata": {},
   "outputs": [],
   "source": [
    "df['label'] = np.tile(labels.cpu().numpy(), 32)"
   ]
  },
  {
   "cell_type": "code",
   "execution_count": 93,
   "metadata": {},
   "outputs": [
    {
     "data": {
      "text/plain": [
       "array([0, 1, 2, 3, 4, 0, 1, 2, 3, 4, 0, 1, 2, 3, 4, 0, 1, 2, 3, 4, 0, 1,\n",
       "       2, 3, 4, 0, 1, 2, 3, 4, 0, 1, 2, 3, 4, 0, 1, 2, 3, 4, 0, 1, 2, 3,\n",
       "       4, 0, 1, 2, 3, 4, 0, 1, 2, 3, 4, 0, 1, 2, 3, 4, 0, 1, 2, 3, 4, 0,\n",
       "       1, 2, 3, 4, 0, 1, 2, 3, 4, 0, 1, 2, 3, 4, 0, 1, 2, 3, 4, 0, 1, 2,\n",
       "       3, 4, 0, 1, 2, 3, 4, 0, 1, 2, 3, 4, 0, 1, 2, 3, 4, 0, 1, 2, 3, 4,\n",
       "       0, 1, 2, 3, 4, 0, 1, 2, 3, 4, 0, 1, 2, 3, 4, 0, 1, 2, 3, 4, 0, 1,\n",
       "       2, 3, 4, 0, 1, 2, 3, 4, 0, 1, 2, 3, 4, 0, 1, 2, 3, 4, 0, 1, 2, 3,\n",
       "       4, 0, 1, 2, 3, 4])"
      ]
     },
     "execution_count": 93,
     "metadata": {},
     "output_type": "execute_result"
    }
   ],
   "source": [
    "np.tile(np.arange(5), 32)"
   ]
  },
  {
   "cell_type": "code",
   "execution_count": 99,
   "metadata": {},
   "outputs": [],
   "source": [
    "fig = px.scatter(df, x=\"pc1\", y=\"pc2\", animation_frame=\"layer\", color=\"label\", height=600, width=600)\n",
    "fig.write_html(\"pc2_llama2-7b-cities.html\")"
   ]
  },
  {
   "cell_type": "code",
   "execution_count": 96,
   "metadata": {},
   "outputs": [
    {
     "data": {
      "text/plain": [
       "torch.Size([32, 1496, 2])"
      ]
     },
     "execution_count": 96,
     "metadata": {},
     "output_type": "execute_result"
    }
   ],
   "source": [
    "proj_layer_t.shape"
   ]
  },
  {
   "cell_type": "code",
   "execution_count": 98,
   "metadata": {},
   "outputs": [
    {
     "data": {
      "text/plain": [
       "torch.Size([32, 4096])"
      ]
     },
     "execution_count": 98,
     "metadata": {},
     "output_type": "execute_result"
    }
   ],
   "source": [
    "layer_directions_t.shape"
   ]
  },
  {
   "cell_type": "code",
   "execution_count": 102,
   "metadata": {},
   "outputs": [
    {
     "data": {
      "text/plain": [
       "torch.Size([32, 4096])"
      ]
     },
     "execution_count": 102,
     "metadata": {},
     "output_type": "execute_result"
    }
   ],
   "source": [
    "layer_directions_t.shape"
   ]
  },
  {
   "cell_type": "code",
   "execution_count": 110,
   "metadata": {},
   "outputs": [],
   "source": [
    "layer_directions_t = layer_directions_t / layer_directions_t.norm(dim=1, keepdim=True)"
   ]
  },
  {
   "cell_type": "code",
   "execution_count": 111,
   "metadata": {},
   "outputs": [],
   "source": [
    "cos_sim = layer_directions_t @ layer_directions_t.T"
   ]
  },
  {
   "cell_type": "code",
   "execution_count": 113,
   "metadata": {},
   "outputs": [
    {
     "data": {
      "application/vnd.plotly.v1+json": {
       "config": {
        "plotlyServerURL": "https://plot.ly"
       },
       "data": [
        {
         "coloraxis": "coloraxis",
         "hovertemplate": "x: %{x}<br>y: %{y}<br>color: %{z}<extra></extra>",
         "name": "0",
         "type": "heatmap",
         "xaxis": "x",
         "yaxis": "y",
         "z": [
          [
           0.99999976,
           0.30738524,
           0.2394666,
           0.20654537,
           0.12951103,
           0.057211965,
           0.0239074,
           0.01372387,
           0.009692334,
           0.009930664,
           -0.0037486888,
           -0.01281881,
           -0.016723484,
           -0.027647058,
           -0.031164816,
           -0.0361789,
           -0.037240334,
           -0.04112133,
           -0.038199436,
           -0.041666776,
           -0.043065198,
           -0.032470223,
           -0.026706673,
           -0.025516162,
           -0.02503149,
           -0.020444646,
           0.0054479935,
           -0.00318246,
           0.0030183927,
           0.0033700191,
           0.045387246,
           0.0034701892
          ],
          [
           0.30738524,
           1,
           0.7561188,
           0.6078356,
           0.4681945,
           0.29183114,
           0.17369741,
           0.12446519,
           0.09652831,
           0.040585946,
           0.037274532,
           0.032530002,
           0.026770892,
           0.007550161,
           0.007869302,
           0.017002547,
           0.020352868,
           0.019788612,
           0.016623734,
           0.013743565,
           0.013346868,
           0.009515879,
           0.0071644,
           0.005366848,
           0.0013951245,
           -0.0016110353,
           0.019002121,
           0.020691728,
           -0.005004723,
           0.008566589,
           0.43318832,
           -0.060286567
          ],
          [
           0.2394666,
           0.7561188,
           0.9999999,
           0.86052144,
           0.7202995,
           0.49762884,
           0.30768383,
           0.19805558,
           0.13452728,
           0.041981857,
           0.07086488,
           0.0657622,
           0.062885724,
           0.048963573,
           0.053174105,
           0.06964094,
           0.07299203,
           0.084762365,
           0.08246979,
           0.087710544,
           0.089376286,
           0.05448472,
           0.03908411,
           0.035280354,
           0.037115112,
           0.026785104,
           0.037464246,
           0.03710486,
           -0.0015595651,
           0.006888811,
           0.32673815,
           -0.02946934
          ],
          [
           0.20654537,
           0.6078356,
           0.86052144,
           0.9999998,
           0.82884604,
           0.5666437,
           0.34596437,
           0.22607225,
           0.15897928,
           0.06208301,
           0.083938695,
           0.07290416,
           0.06732045,
           0.05583228,
           0.05858897,
           0.06954903,
           0.07248769,
           0.08539497,
           0.08433027,
           0.088972166,
           0.09144802,
           0.055864636,
           0.043012388,
           0.03806672,
           0.03841239,
           0.02928791,
           0.026038934,
           0.023463855,
           -0.004971253,
           0.0023630061,
           0.26428685,
           -0.031427726
          ],
          [
           0.12951103,
           0.4681945,
           0.7202995,
           0.82884604,
           1,
           0.77026963,
           0.5368635,
           0.3832742,
           0.29062334,
           0.14573109,
           0.19653529,
           0.17968804,
           0.17578784,
           0.1559168,
           0.16061178,
           0.17187607,
           0.17445245,
           0.19541869,
           0.19463618,
           0.20182268,
           0.20386875,
           0.13168494,
           0.10466767,
           0.09793355,
           0.097941376,
           0.08101658,
           0.05521626,
           0.0616131,
           0.026563562,
           0.0308559,
           0.22862817,
           0.0025440909
          ],
          [
           0.057211965,
           0.29183114,
           0.49762884,
           0.5666437,
           0.77026963,
           0.99999994,
           0.75371444,
           0.5896421,
           0.47633615,
           0.28057885,
           0.3159561,
           0.29282,
           0.27701932,
           0.24177893,
           0.24317536,
           0.25079677,
           0.24832186,
           0.26444957,
           0.2617781,
           0.26824933,
           0.26773855,
           0.17126513,
           0.14784357,
           0.14203537,
           0.1402862,
           0.122888,
           0.07297159,
           0.07808,
           0.048651274,
           0.046578404,
           0.15753427,
           0.026734345
          ],
          [
           0.0239074,
           0.17369741,
           0.30768383,
           0.34596437,
           0.5368635,
           0.75371444,
           1,
           0.8223572,
           0.6838627,
           0.43855828,
           0.44966102,
           0.4070749,
           0.37634495,
           0.32385123,
           0.3199771,
           0.31781074,
           0.31437516,
           0.3215653,
           0.3185887,
           0.31757754,
           0.3196428,
           0.20581248,
           0.18764645,
           0.18373375,
           0.18217458,
           0.16343199,
           0.100855194,
           0.088691734,
           0.06186456,
           0.059029162,
           0.12082805,
           0.037029848
          ],
          [
           0.01372387,
           0.12446519,
           0.19805558,
           0.22607225,
           0.3832742,
           0.5896421,
           0.8223572,
           0.99999994,
           0.8564082,
           0.61331075,
           0.58461356,
           0.52662265,
           0.46614546,
           0.40763363,
           0.39264882,
           0.37935475,
           0.37561065,
           0.3677211,
           0.3649162,
           0.35760456,
           0.35446918,
           0.22493048,
           0.21956305,
           0.21734291,
           0.21462943,
           0.20361951,
           0.12635872,
           0.110242225,
           0.09197817,
           0.08811791,
           0.11319639,
           0.017489333
          ],
          [
           0.009692334,
           0.09652831,
           0.13452728,
           0.15897928,
           0.29062334,
           0.47633615,
           0.6838627,
           0.8564082,
           1,
           0.773933,
           0.71989983,
           0.64948165,
           0.5778104,
           0.5165717,
           0.49555075,
           0.47348285,
           0.46937373,
           0.45038086,
           0.44793847,
           0.43919468,
           0.43380418,
           0.2802018,
           0.2821921,
           0.27874026,
           0.27687386,
           0.26901147,
           0.1781761,
           0.15133381,
           0.13295269,
           0.124337755,
           0.12185976,
           0.03569521
          ],
          [
           0.009930664,
           0.040585946,
           0.041981857,
           0.06208301,
           0.14573109,
           0.28057885,
           0.43855828,
           0.61331075,
           0.773933,
           1,
           0.9101431,
           0.8399655,
           0.7576008,
           0.6958755,
           0.66340375,
           0.63432676,
           0.62727785,
           0.59728676,
           0.58966357,
           0.573873,
           0.56445056,
           0.36848468,
           0.38072565,
           0.38071138,
           0.3734442,
           0.37183985,
           0.25814158,
           0.20882732,
           0.18277086,
           0.16714592,
           0.106214926,
           0.03219388
          ],
          [
           -0.0037486888,
           0.037274532,
           0.07086488,
           0.083938695,
           0.19653529,
           0.3159561,
           0.44966102,
           0.58461356,
           0.71989983,
           0.9101431,
           0.9999999,
           0.9323101,
           0.8529557,
           0.77696055,
           0.751333,
           0.7242693,
           0.7125745,
           0.69162136,
           0.68187463,
           0.66701335,
           0.65809804,
           0.43439853,
           0.43086162,
           0.42566442,
           0.41657782,
           0.40465346,
           0.27647823,
           0.2315418,
           0.1824218,
           0.16830832,
           0.095825434,
           0.047454417
          ],
          [
           -0.01281881,
           0.032530002,
           0.0657622,
           0.07290416,
           0.17968804,
           0.29282,
           0.4070749,
           0.52662265,
           0.64948165,
           0.8399655,
           0.9323101,
           1,
           0.9327289,
           0.8612554,
           0.8380648,
           0.80609167,
           0.7940613,
           0.76938164,
           0.7606582,
           0.74333066,
           0.7358917,
           0.48542625,
           0.4804001,
           0.47471812,
           0.46435487,
           0.44773042,
           0.30743107,
           0.25975505,
           0.20419687,
           0.18874496,
           0.10595751,
           0.050606817
          ],
          [
           -0.016723484,
           0.026770892,
           0.062885724,
           0.06732045,
           0.17578784,
           0.27701932,
           0.37634495,
           0.46614546,
           0.5778104,
           0.7576008,
           0.8529557,
           0.9327289,
           0.9999998,
           0.9361446,
           0.91598517,
           0.8906161,
           0.8771611,
           0.8564484,
           0.84681857,
           0.82873,
           0.820975,
           0.53509986,
           0.5263433,
           0.51967156,
           0.50599694,
           0.48526782,
           0.3337356,
           0.28262973,
           0.21823259,
           0.20054214,
           0.10790081,
           0.059468795
          ],
          [
           -0.027647058,
           0.007550161,
           0.048963573,
           0.05583228,
           0.1559168,
           0.24177893,
           0.32385123,
           0.40763363,
           0.5165717,
           0.6958755,
           0.77696055,
           0.8612554,
           0.9361446,
           0.99999994,
           0.9725149,
           0.95028883,
           0.9364272,
           0.9126657,
           0.9025026,
           0.88200635,
           0.87452435,
           0.5720063,
           0.56536824,
           0.5598319,
           0.548063,
           0.52809185,
           0.3636622,
           0.3042875,
           0.23777607,
           0.21953866,
           0.11494631,
           0.061507802
          ],
          [
           -0.031164816,
           0.007869302,
           0.053174105,
           0.05858897,
           0.16061178,
           0.24317536,
           0.3199771,
           0.39264882,
           0.49555075,
           0.66340375,
           0.751333,
           0.8380648,
           0.91598517,
           0.9725149,
           0.9999999,
           0.97250026,
           0.9580313,
           0.9361058,
           0.9284744,
           0.9072845,
           0.8997531,
           0.58247477,
           0.57304364,
           0.56661785,
           0.5538857,
           0.5323543,
           0.36485794,
           0.30137324,
           0.23278846,
           0.21397723,
           0.10614555,
           0.058010146
          ],
          [
           -0.0361789,
           0.017002547,
           0.06964094,
           0.06954903,
           0.17187607,
           0.25079677,
           0.31781074,
           0.37935475,
           0.47348285,
           0.63432676,
           0.7242693,
           0.80609167,
           0.8906161,
           0.95028883,
           0.97250026,
           1.0000001,
           0.98327875,
           0.9686434,
           0.9581849,
           0.9407502,
           0.9328731,
           0.6092866,
           0.5971461,
           0.5906865,
           0.5787661,
           0.55555356,
           0.38097495,
           0.31669626,
           0.24697116,
           0.22642285,
           0.11739616,
           0.064235404
          ],
          [
           -0.037240334,
           0.020352868,
           0.07299203,
           0.07248769,
           0.17445245,
           0.24832186,
           0.31437516,
           0.37561065,
           0.46937373,
           0.62727785,
           0.7125745,
           0.7940613,
           0.8771611,
           0.9364272,
           0.9580313,
           0.98327875,
           1.0000001,
           0.9816541,
           0.97116786,
           0.953488,
           0.9450385,
           0.6189805,
           0.608189,
           0.60162556,
           0.58895385,
           0.5656463,
           0.39037827,
           0.32348868,
           0.25554326,
           0.2355007,
           0.1316817,
           0.06179025
          ],
          [
           -0.04112133,
           0.019788612,
           0.084762365,
           0.08539497,
           0.19541869,
           0.26444957,
           0.3215653,
           0.3677211,
           0.45038086,
           0.59728676,
           0.69162136,
           0.76938164,
           0.8564484,
           0.9126657,
           0.9361058,
           0.9686434,
           0.9816541,
           1.0000001,
           0.988392,
           0.9746352,
           0.965215,
           0.6371119,
           0.6214118,
           0.61467063,
           0.6022378,
           0.5763542,
           0.39478645,
           0.3290297,
           0.25710574,
           0.23667727,
           0.13144994,
           0.06963779
          ],
          [
           -0.038199436,
           0.016623734,
           0.08246979,
           0.08433027,
           0.19463618,
           0.2617781,
           0.3185887,
           0.3649162,
           0.44793847,
           0.58966357,
           0.68187463,
           0.7606582,
           0.84681857,
           0.9025026,
           0.9284744,
           0.9581849,
           0.97116786,
           0.988392,
           1.0000001,
           0.9846797,
           0.9750608,
           0.6411061,
           0.62535876,
           0.6184449,
           0.60623676,
           0.5797699,
           0.3981649,
           0.33024505,
           0.25902322,
           0.23813811,
           0.13205577,
           0.07195818
          ],
          [
           -0.041666776,
           0.013743565,
           0.087710544,
           0.088972166,
           0.20182268,
           0.26824933,
           0.31757754,
           0.35760456,
           0.43919468,
           0.573873,
           0.66701335,
           0.74333066,
           0.82873,
           0.88200635,
           0.9072845,
           0.9407502,
           0.953488,
           0.9746352,
           0.9846797,
           1.0000002,
           0.99067795,
           0.64963293,
           0.63310605,
           0.6253442,
           0.6149372,
           0.58772844,
           0.40503666,
           0.33866006,
           0.26557854,
           0.2450293,
           0.1376452,
           0.07783479
          ],
          [
           -0.043065198,
           0.013346868,
           0.089376286,
           0.09144802,
           0.20386875,
           0.26773855,
           0.3196428,
           0.35446918,
           0.43380418,
           0.56445056,
           0.65809804,
           0.7358917,
           0.820975,
           0.87452435,
           0.8997531,
           0.9328731,
           0.9450385,
           0.965215,
           0.9750608,
           0.99067795,
           0.99999994,
           0.65675145,
           0.63981164,
           0.63115144,
           0.6247463,
           0.5976617,
           0.41153774,
           0.343603,
           0.27000427,
           0.24957901,
           0.13924816,
           0.07980634
          ],
          [
           -0.032470223,
           0.009515879,
           0.05448472,
           0.055864636,
           0.13168494,
           0.17126513,
           0.20581248,
           0.22493048,
           0.2802018,
           0.36848468,
           0.43439853,
           0.48542625,
           0.53509986,
           0.5720063,
           0.58247477,
           0.6092866,
           0.6189805,
           0.6371119,
           0.6411061,
           0.64963293,
           0.65675145,
           1,
           0.9906206,
           0.97969925,
           0.95999444,
           0.9361836,
           0.6723658,
           0.5786631,
           0.48900393,
           0.4566058,
           0.2587771,
           0.16192947
          ],
          [
           -0.026706673,
           0.0071644,
           0.03908411,
           0.043012388,
           0.10466767,
           0.14784357,
           0.18764645,
           0.21956305,
           0.2821921,
           0.38072565,
           0.43086162,
           0.4804001,
           0.5263433,
           0.56536824,
           0.57304364,
           0.5971461,
           0.608189,
           0.6214118,
           0.62535876,
           0.63310605,
           0.63981164,
           0.9906206,
           1,
           0.99044585,
           0.97032803,
           0.94898856,
           0.6826101,
           0.58589864,
           0.50053734,
           0.46746877,
           0.26437756,
           0.16075459
          ],
          [
           -0.025516162,
           0.005366848,
           0.035280354,
           0.03806672,
           0.09793355,
           0.14203537,
           0.18373375,
           0.21734291,
           0.27874026,
           0.38071138,
           0.42566442,
           0.47471812,
           0.51967156,
           0.5598319,
           0.56661785,
           0.5906865,
           0.60162556,
           0.61467063,
           0.6184449,
           0.6253442,
           0.63115144,
           0.97969925,
           0.99044585,
           1.0000001,
           0.97950083,
           0.9595311,
           0.6901225,
           0.58866584,
           0.5052644,
           0.4724593,
           0.26796192,
           0.15764824
          ],
          [
           -0.02503149,
           0.0013951245,
           0.037115112,
           0.03841239,
           0.097941376,
           0.1402862,
           0.18217458,
           0.21462943,
           0.27687386,
           0.3734442,
           0.41657782,
           0.46435487,
           0.50599694,
           0.548063,
           0.5538857,
           0.5787661,
           0.58895385,
           0.6022378,
           0.60623676,
           0.6149372,
           0.6247463,
           0.95999444,
           0.97032803,
           0.97950083,
           0.9999999,
           0.9806917,
           0.7060491,
           0.6053105,
           0.5200802,
           0.48832768,
           0.2780679,
           0.1677002
          ],
          [
           -0.020444646,
           -0.0016110353,
           0.026785104,
           0.02928791,
           0.08101658,
           0.122888,
           0.16343199,
           0.20361951,
           0.26901147,
           0.37183985,
           0.40465346,
           0.44773042,
           0.48526782,
           0.52809185,
           0.5323543,
           0.55555356,
           0.5656463,
           0.5763542,
           0.5797699,
           0.58772844,
           0.5976617,
           0.9361836,
           0.94898856,
           0.9595311,
           0.9806917,
           1,
           0.7149764,
           0.61286455,
           0.5333717,
           0.5009716,
           0.2823671,
           0.17069478
          ],
          [
           0.0054479935,
           0.019002121,
           0.037464246,
           0.026038934,
           0.05521626,
           0.07297159,
           0.100855194,
           0.12635872,
           0.1781761,
           0.25814158,
           0.27647823,
           0.30743107,
           0.3337356,
           0.3636622,
           0.36485794,
           0.38097495,
           0.39037827,
           0.39478645,
           0.3981649,
           0.40503666,
           0.41153774,
           0.6723658,
           0.6826101,
           0.6901225,
           0.7060491,
           0.7149764,
           0.99999976,
           0.8558701,
           0.74480075,
           0.7113331,
           0.382031,
           0.22437292
          ],
          [
           -0.00318246,
           0.020691728,
           0.03710486,
           0.023463855,
           0.0616131,
           0.07808,
           0.088691734,
           0.110242225,
           0.15133381,
           0.20882732,
           0.2315418,
           0.25975505,
           0.28262973,
           0.3042875,
           0.30137324,
           0.31669626,
           0.32348868,
           0.3290297,
           0.33024505,
           0.33866006,
           0.343603,
           0.5786631,
           0.58589864,
           0.58866584,
           0.6053105,
           0.61286455,
           0.8558701,
           0.9999999,
           0.87036777,
           0.8334472,
           0.44534472,
           0.26488745
          ],
          [
           0.0030183927,
           -0.005004723,
           -0.0015595651,
           -0.004971253,
           0.026563562,
           0.048651274,
           0.06186456,
           0.09197817,
           0.13295269,
           0.18277086,
           0.1824218,
           0.20419687,
           0.21823259,
           0.23777607,
           0.23278846,
           0.24697116,
           0.25554326,
           0.25710574,
           0.25902322,
           0.26557854,
           0.27000427,
           0.48900393,
           0.50053734,
           0.5052644,
           0.5200802,
           0.5333717,
           0.74480075,
           0.87036777,
           0.99999994,
           0.95756084,
           0.50342894,
           0.29957068
          ],
          [
           0.0033700191,
           0.008566589,
           0.006888811,
           0.0023630061,
           0.0308559,
           0.046578404,
           0.059029162,
           0.08811791,
           0.124337755,
           0.16714592,
           0.16830832,
           0.18874496,
           0.20054214,
           0.21953866,
           0.21397723,
           0.22642285,
           0.2355007,
           0.23667727,
           0.23813811,
           0.2450293,
           0.24957901,
           0.4566058,
           0.46746877,
           0.4724593,
           0.48832768,
           0.5009716,
           0.7113331,
           0.8334472,
           0.95756084,
           0.99999976,
           0.5329541,
           0.31169185
          ],
          [
           0.045387246,
           0.43318832,
           0.32673815,
           0.26428685,
           0.22862817,
           0.15753427,
           0.12082805,
           0.11319639,
           0.12185976,
           0.106214926,
           0.095825434,
           0.10595751,
           0.10790081,
           0.11494631,
           0.10614555,
           0.11739616,
           0.1316817,
           0.13144994,
           0.13205577,
           0.1376452,
           0.13924816,
           0.2587771,
           0.26437756,
           0.26796192,
           0.2780679,
           0.2823671,
           0.382031,
           0.44534472,
           0.50342894,
           0.5329541,
           1.0000004,
           0.20591772
          ],
          [
           0.0034701892,
           -0.060286567,
           -0.02946934,
           -0.031427726,
           0.0025440909,
           0.026734345,
           0.037029848,
           0.017489333,
           0.03569521,
           0.03219388,
           0.047454417,
           0.050606817,
           0.059468795,
           0.061507802,
           0.058010146,
           0.064235404,
           0.06179025,
           0.06963779,
           0.07195818,
           0.07783479,
           0.07980634,
           0.16192947,
           0.16075459,
           0.15764824,
           0.1677002,
           0.17069478,
           0.22437292,
           0.26488745,
           0.29957068,
           0.31169185,
           0.20591772,
           0.9999999
          ]
         ]
        }
       ],
       "layout": {
        "coloraxis": {
         "colorscale": [
          [
           0,
           "rgb(247,251,255)"
          ],
          [
           0.125,
           "rgb(222,235,247)"
          ],
          [
           0.25,
           "rgb(198,219,239)"
          ],
          [
           0.375,
           "rgb(158,202,225)"
          ],
          [
           0.5,
           "rgb(107,174,214)"
          ],
          [
           0.625,
           "rgb(66,146,198)"
          ],
          [
           0.75,
           "rgb(33,113,181)"
          ],
          [
           0.875,
           "rgb(8,81,156)"
          ],
          [
           1,
           "rgb(8,48,107)"
          ]
         ]
        },
        "height": 800,
        "margin": {
         "t": 60
        },
        "template": {
         "data": {
          "bar": [
           {
            "error_x": {
             "color": "#2a3f5f"
            },
            "error_y": {
             "color": "#2a3f5f"
            },
            "marker": {
             "line": {
              "color": "#E5ECF6",
              "width": 0.5
             },
             "pattern": {
              "fillmode": "overlay",
              "size": 10,
              "solidity": 0.2
             }
            },
            "type": "bar"
           }
          ],
          "barpolar": [
           {
            "marker": {
             "line": {
              "color": "#E5ECF6",
              "width": 0.5
             },
             "pattern": {
              "fillmode": "overlay",
              "size": 10,
              "solidity": 0.2
             }
            },
            "type": "barpolar"
           }
          ],
          "carpet": [
           {
            "aaxis": {
             "endlinecolor": "#2a3f5f",
             "gridcolor": "white",
             "linecolor": "white",
             "minorgridcolor": "white",
             "startlinecolor": "#2a3f5f"
            },
            "baxis": {
             "endlinecolor": "#2a3f5f",
             "gridcolor": "white",
             "linecolor": "white",
             "minorgridcolor": "white",
             "startlinecolor": "#2a3f5f"
            },
            "type": "carpet"
           }
          ],
          "choropleth": [
           {
            "colorbar": {
             "outlinewidth": 0,
             "ticks": ""
            },
            "type": "choropleth"
           }
          ],
          "contour": [
           {
            "colorbar": {
             "outlinewidth": 0,
             "ticks": ""
            },
            "colorscale": [
             [
              0,
              "#0d0887"
             ],
             [
              0.1111111111111111,
              "#46039f"
             ],
             [
              0.2222222222222222,
              "#7201a8"
             ],
             [
              0.3333333333333333,
              "#9c179e"
             ],
             [
              0.4444444444444444,
              "#bd3786"
             ],
             [
              0.5555555555555556,
              "#d8576b"
             ],
             [
              0.6666666666666666,
              "#ed7953"
             ],
             [
              0.7777777777777778,
              "#fb9f3a"
             ],
             [
              0.8888888888888888,
              "#fdca26"
             ],
             [
              1,
              "#f0f921"
             ]
            ],
            "type": "contour"
           }
          ],
          "contourcarpet": [
           {
            "colorbar": {
             "outlinewidth": 0,
             "ticks": ""
            },
            "type": "contourcarpet"
           }
          ],
          "heatmap": [
           {
            "colorbar": {
             "outlinewidth": 0,
             "ticks": ""
            },
            "colorscale": [
             [
              0,
              "#0d0887"
             ],
             [
              0.1111111111111111,
              "#46039f"
             ],
             [
              0.2222222222222222,
              "#7201a8"
             ],
             [
              0.3333333333333333,
              "#9c179e"
             ],
             [
              0.4444444444444444,
              "#bd3786"
             ],
             [
              0.5555555555555556,
              "#d8576b"
             ],
             [
              0.6666666666666666,
              "#ed7953"
             ],
             [
              0.7777777777777778,
              "#fb9f3a"
             ],
             [
              0.8888888888888888,
              "#fdca26"
             ],
             [
              1,
              "#f0f921"
             ]
            ],
            "type": "heatmap"
           }
          ],
          "heatmapgl": [
           {
            "colorbar": {
             "outlinewidth": 0,
             "ticks": ""
            },
            "colorscale": [
             [
              0,
              "#0d0887"
             ],
             [
              0.1111111111111111,
              "#46039f"
             ],
             [
              0.2222222222222222,
              "#7201a8"
             ],
             [
              0.3333333333333333,
              "#9c179e"
             ],
             [
              0.4444444444444444,
              "#bd3786"
             ],
             [
              0.5555555555555556,
              "#d8576b"
             ],
             [
              0.6666666666666666,
              "#ed7953"
             ],
             [
              0.7777777777777778,
              "#fb9f3a"
             ],
             [
              0.8888888888888888,
              "#fdca26"
             ],
             [
              1,
              "#f0f921"
             ]
            ],
            "type": "heatmapgl"
           }
          ],
          "histogram": [
           {
            "marker": {
             "pattern": {
              "fillmode": "overlay",
              "size": 10,
              "solidity": 0.2
             }
            },
            "type": "histogram"
           }
          ],
          "histogram2d": [
           {
            "colorbar": {
             "outlinewidth": 0,
             "ticks": ""
            },
            "colorscale": [
             [
              0,
              "#0d0887"
             ],
             [
              0.1111111111111111,
              "#46039f"
             ],
             [
              0.2222222222222222,
              "#7201a8"
             ],
             [
              0.3333333333333333,
              "#9c179e"
             ],
             [
              0.4444444444444444,
              "#bd3786"
             ],
             [
              0.5555555555555556,
              "#d8576b"
             ],
             [
              0.6666666666666666,
              "#ed7953"
             ],
             [
              0.7777777777777778,
              "#fb9f3a"
             ],
             [
              0.8888888888888888,
              "#fdca26"
             ],
             [
              1,
              "#f0f921"
             ]
            ],
            "type": "histogram2d"
           }
          ],
          "histogram2dcontour": [
           {
            "colorbar": {
             "outlinewidth": 0,
             "ticks": ""
            },
            "colorscale": [
             [
              0,
              "#0d0887"
             ],
             [
              0.1111111111111111,
              "#46039f"
             ],
             [
              0.2222222222222222,
              "#7201a8"
             ],
             [
              0.3333333333333333,
              "#9c179e"
             ],
             [
              0.4444444444444444,
              "#bd3786"
             ],
             [
              0.5555555555555556,
              "#d8576b"
             ],
             [
              0.6666666666666666,
              "#ed7953"
             ],
             [
              0.7777777777777778,
              "#fb9f3a"
             ],
             [
              0.8888888888888888,
              "#fdca26"
             ],
             [
              1,
              "#f0f921"
             ]
            ],
            "type": "histogram2dcontour"
           }
          ],
          "mesh3d": [
           {
            "colorbar": {
             "outlinewidth": 0,
             "ticks": ""
            },
            "type": "mesh3d"
           }
          ],
          "parcoords": [
           {
            "line": {
             "colorbar": {
              "outlinewidth": 0,
              "ticks": ""
             }
            },
            "type": "parcoords"
           }
          ],
          "pie": [
           {
            "automargin": true,
            "type": "pie"
           }
          ],
          "scatter": [
           {
            "fillpattern": {
             "fillmode": "overlay",
             "size": 10,
             "solidity": 0.2
            },
            "type": "scatter"
           }
          ],
          "scatter3d": [
           {
            "line": {
             "colorbar": {
              "outlinewidth": 0,
              "ticks": ""
             }
            },
            "marker": {
             "colorbar": {
              "outlinewidth": 0,
              "ticks": ""
             }
            },
            "type": "scatter3d"
           }
          ],
          "scattercarpet": [
           {
            "marker": {
             "colorbar": {
              "outlinewidth": 0,
              "ticks": ""
             }
            },
            "type": "scattercarpet"
           }
          ],
          "scattergeo": [
           {
            "marker": {
             "colorbar": {
              "outlinewidth": 0,
              "ticks": ""
             }
            },
            "type": "scattergeo"
           }
          ],
          "scattergl": [
           {
            "marker": {
             "colorbar": {
              "outlinewidth": 0,
              "ticks": ""
             }
            },
            "type": "scattergl"
           }
          ],
          "scattermapbox": [
           {
            "marker": {
             "colorbar": {
              "outlinewidth": 0,
              "ticks": ""
             }
            },
            "type": "scattermapbox"
           }
          ],
          "scatterpolar": [
           {
            "marker": {
             "colorbar": {
              "outlinewidth": 0,
              "ticks": ""
             }
            },
            "type": "scatterpolar"
           }
          ],
          "scatterpolargl": [
           {
            "marker": {
             "colorbar": {
              "outlinewidth": 0,
              "ticks": ""
             }
            },
            "type": "scatterpolargl"
           }
          ],
          "scatterternary": [
           {
            "marker": {
             "colorbar": {
              "outlinewidth": 0,
              "ticks": ""
             }
            },
            "type": "scatterternary"
           }
          ],
          "surface": [
           {
            "colorbar": {
             "outlinewidth": 0,
             "ticks": ""
            },
            "colorscale": [
             [
              0,
              "#0d0887"
             ],
             [
              0.1111111111111111,
              "#46039f"
             ],
             [
              0.2222222222222222,
              "#7201a8"
             ],
             [
              0.3333333333333333,
              "#9c179e"
             ],
             [
              0.4444444444444444,
              "#bd3786"
             ],
             [
              0.5555555555555556,
              "#d8576b"
             ],
             [
              0.6666666666666666,
              "#ed7953"
             ],
             [
              0.7777777777777778,
              "#fb9f3a"
             ],
             [
              0.8888888888888888,
              "#fdca26"
             ],
             [
              1,
              "#f0f921"
             ]
            ],
            "type": "surface"
           }
          ],
          "table": [
           {
            "cells": {
             "fill": {
              "color": "#EBF0F8"
             },
             "line": {
              "color": "white"
             }
            },
            "header": {
             "fill": {
              "color": "#C8D4E3"
             },
             "line": {
              "color": "white"
             }
            },
            "type": "table"
           }
          ]
         },
         "layout": {
          "annotationdefaults": {
           "arrowcolor": "#2a3f5f",
           "arrowhead": 0,
           "arrowwidth": 1
          },
          "autotypenumbers": "strict",
          "coloraxis": {
           "colorbar": {
            "outlinewidth": 0,
            "ticks": ""
           }
          },
          "colorscale": {
           "diverging": [
            [
             0,
             "#8e0152"
            ],
            [
             0.1,
             "#c51b7d"
            ],
            [
             0.2,
             "#de77ae"
            ],
            [
             0.3,
             "#f1b6da"
            ],
            [
             0.4,
             "#fde0ef"
            ],
            [
             0.5,
             "#f7f7f7"
            ],
            [
             0.6,
             "#e6f5d0"
            ],
            [
             0.7,
             "#b8e186"
            ],
            [
             0.8,
             "#7fbc41"
            ],
            [
             0.9,
             "#4d9221"
            ],
            [
             1,
             "#276419"
            ]
           ],
           "sequential": [
            [
             0,
             "#0d0887"
            ],
            [
             0.1111111111111111,
             "#46039f"
            ],
            [
             0.2222222222222222,
             "#7201a8"
            ],
            [
             0.3333333333333333,
             "#9c179e"
            ],
            [
             0.4444444444444444,
             "#bd3786"
            ],
            [
             0.5555555555555556,
             "#d8576b"
            ],
            [
             0.6666666666666666,
             "#ed7953"
            ],
            [
             0.7777777777777778,
             "#fb9f3a"
            ],
            [
             0.8888888888888888,
             "#fdca26"
            ],
            [
             1,
             "#f0f921"
            ]
           ],
           "sequentialminus": [
            [
             0,
             "#0d0887"
            ],
            [
             0.1111111111111111,
             "#46039f"
            ],
            [
             0.2222222222222222,
             "#7201a8"
            ],
            [
             0.3333333333333333,
             "#9c179e"
            ],
            [
             0.4444444444444444,
             "#bd3786"
            ],
            [
             0.5555555555555556,
             "#d8576b"
            ],
            [
             0.6666666666666666,
             "#ed7953"
            ],
            [
             0.7777777777777778,
             "#fb9f3a"
            ],
            [
             0.8888888888888888,
             "#fdca26"
            ],
            [
             1,
             "#f0f921"
            ]
           ]
          },
          "colorway": [
           "#636efa",
           "#EF553B",
           "#00cc96",
           "#ab63fa",
           "#FFA15A",
           "#19d3f3",
           "#FF6692",
           "#B6E880",
           "#FF97FF",
           "#FECB52"
          ],
          "font": {
           "color": "#2a3f5f"
          },
          "geo": {
           "bgcolor": "white",
           "lakecolor": "white",
           "landcolor": "#E5ECF6",
           "showlakes": true,
           "showland": true,
           "subunitcolor": "white"
          },
          "hoverlabel": {
           "align": "left"
          },
          "hovermode": "closest",
          "mapbox": {
           "style": "light"
          },
          "paper_bgcolor": "white",
          "plot_bgcolor": "#E5ECF6",
          "polar": {
           "angularaxis": {
            "gridcolor": "white",
            "linecolor": "white",
            "ticks": ""
           },
           "bgcolor": "#E5ECF6",
           "radialaxis": {
            "gridcolor": "white",
            "linecolor": "white",
            "ticks": ""
           }
          },
          "scene": {
           "xaxis": {
            "backgroundcolor": "#E5ECF6",
            "gridcolor": "white",
            "gridwidth": 2,
            "linecolor": "white",
            "showbackground": true,
            "ticks": "",
            "zerolinecolor": "white"
           },
           "yaxis": {
            "backgroundcolor": "#E5ECF6",
            "gridcolor": "white",
            "gridwidth": 2,
            "linecolor": "white",
            "showbackground": true,
            "ticks": "",
            "zerolinecolor": "white"
           },
           "zaxis": {
            "backgroundcolor": "#E5ECF6",
            "gridcolor": "white",
            "gridwidth": 2,
            "linecolor": "white",
            "showbackground": true,
            "ticks": "",
            "zerolinecolor": "white"
           }
          },
          "shapedefaults": {
           "line": {
            "color": "#2a3f5f"
           }
          },
          "ternary": {
           "aaxis": {
            "gridcolor": "white",
            "linecolor": "white",
            "ticks": ""
           },
           "baxis": {
            "gridcolor": "white",
            "linecolor": "white",
            "ticks": ""
           },
           "bgcolor": "#E5ECF6",
           "caxis": {
            "gridcolor": "white",
            "linecolor": "white",
            "ticks": ""
           }
          },
          "title": {
           "x": 0.05
          },
          "xaxis": {
           "automargin": true,
           "gridcolor": "white",
           "linecolor": "white",
           "ticks": "",
           "title": {
            "standoff": 15
           },
           "zerolinecolor": "white",
           "zerolinewidth": 2
          },
          "yaxis": {
           "automargin": true,
           "gridcolor": "white",
           "linecolor": "white",
           "ticks": "",
           "title": {
            "standoff": 15
           },
           "zerolinecolor": "white",
           "zerolinewidth": 2
          }
         }
        },
        "width": 800,
        "xaxis": {
         "anchor": "y",
         "constrain": "domain",
         "domain": [
          0,
          1
         ],
         "scaleanchor": "y"
        },
        "yaxis": {
         "anchor": "x",
         "autorange": "reversed",
         "constrain": "domain",
         "domain": [
          0,
          1
         ]
        }
       }
      },
      "text/html": [
       "<div>                            <div id=\"5163a75d-5604-42a0-931e-183c50af94a0\" class=\"plotly-graph-div\" style=\"height:800px; width:800px;\"></div>            <script type=\"text/javascript\">                require([\"plotly\"], function(Plotly) {                    window.PLOTLYENV=window.PLOTLYENV || {};                                    if (document.getElementById(\"5163a75d-5604-42a0-931e-183c50af94a0\")) {                    Plotly.newPlot(                        \"5163a75d-5604-42a0-931e-183c50af94a0\",                        [{\"coloraxis\":\"coloraxis\",\"name\":\"0\",\"z\":[[0.99999976,0.30738524,0.2394666,0.20654537,0.12951103,0.057211965,0.0239074,0.01372387,0.009692334,0.009930664,-0.0037486888,-0.01281881,-0.016723484,-0.027647058,-0.031164816,-0.0361789,-0.037240334,-0.04112133,-0.038199436,-0.041666776,-0.043065198,-0.032470223,-0.026706673,-0.025516162,-0.02503149,-0.020444646,0.0054479935,-0.00318246,0.0030183927,0.0033700191,0.045387246,0.0034701892],[0.30738524,1.0,0.7561188,0.6078356,0.4681945,0.29183114,0.17369741,0.12446519,0.09652831,0.040585946,0.037274532,0.032530002,0.026770892,0.007550161,0.007869302,0.017002547,0.020352868,0.019788612,0.016623734,0.013743565,0.013346868,0.009515879,0.0071644,0.005366848,0.0013951245,-0.0016110353,0.019002121,0.020691728,-0.005004723,0.008566589,0.43318832,-0.060286567],[0.2394666,0.7561188,0.9999999,0.86052144,0.7202995,0.49762884,0.30768383,0.19805558,0.13452728,0.041981857,0.07086488,0.0657622,0.062885724,0.048963573,0.053174105,0.06964094,0.07299203,0.084762365,0.08246979,0.087710544,0.089376286,0.05448472,0.03908411,0.035280354,0.037115112,0.026785104,0.037464246,0.03710486,-0.0015595651,0.006888811,0.32673815,-0.02946934],[0.20654537,0.6078356,0.86052144,0.9999998,0.82884604,0.5666437,0.34596437,0.22607225,0.15897928,0.06208301,0.083938695,0.07290416,0.06732045,0.05583228,0.05858897,0.06954903,0.07248769,0.08539497,0.08433027,0.088972166,0.09144802,0.055864636,0.043012388,0.03806672,0.03841239,0.02928791,0.026038934,0.023463855,-0.004971253,0.0023630061,0.26428685,-0.031427726],[0.12951103,0.4681945,0.7202995,0.82884604,1.0,0.77026963,0.5368635,0.3832742,0.29062334,0.14573109,0.19653529,0.17968804,0.17578784,0.1559168,0.16061178,0.17187607,0.17445245,0.19541869,0.19463618,0.20182268,0.20386875,0.13168494,0.10466767,0.09793355,0.097941376,0.08101658,0.05521626,0.0616131,0.026563562,0.0308559,0.22862817,0.0025440909],[0.057211965,0.29183114,0.49762884,0.5666437,0.77026963,0.99999994,0.75371444,0.5896421,0.47633615,0.28057885,0.3159561,0.29282,0.27701932,0.24177893,0.24317536,0.25079677,0.24832186,0.26444957,0.2617781,0.26824933,0.26773855,0.17126513,0.14784357,0.14203537,0.1402862,0.122888,0.07297159,0.07808,0.048651274,0.046578404,0.15753427,0.026734345],[0.0239074,0.17369741,0.30768383,0.34596437,0.5368635,0.75371444,1.0,0.8223572,0.6838627,0.43855828,0.44966102,0.4070749,0.37634495,0.32385123,0.3199771,0.31781074,0.31437516,0.3215653,0.3185887,0.31757754,0.3196428,0.20581248,0.18764645,0.18373375,0.18217458,0.16343199,0.100855194,0.088691734,0.06186456,0.059029162,0.12082805,0.037029848],[0.01372387,0.12446519,0.19805558,0.22607225,0.3832742,0.5896421,0.8223572,0.99999994,0.8564082,0.61331075,0.58461356,0.52662265,0.46614546,0.40763363,0.39264882,0.37935475,0.37561065,0.3677211,0.3649162,0.35760456,0.35446918,0.22493048,0.21956305,0.21734291,0.21462943,0.20361951,0.12635872,0.110242225,0.09197817,0.08811791,0.11319639,0.017489333],[0.009692334,0.09652831,0.13452728,0.15897928,0.29062334,0.47633615,0.6838627,0.8564082,1.0,0.773933,0.71989983,0.64948165,0.5778104,0.5165717,0.49555075,0.47348285,0.46937373,0.45038086,0.44793847,0.43919468,0.43380418,0.2802018,0.2821921,0.27874026,0.27687386,0.26901147,0.1781761,0.15133381,0.13295269,0.124337755,0.12185976,0.03569521],[0.009930664,0.040585946,0.041981857,0.06208301,0.14573109,0.28057885,0.43855828,0.61331075,0.773933,1.0,0.9101431,0.8399655,0.7576008,0.6958755,0.66340375,0.63432676,0.62727785,0.59728676,0.58966357,0.573873,0.56445056,0.36848468,0.38072565,0.38071138,0.3734442,0.37183985,0.25814158,0.20882732,0.18277086,0.16714592,0.106214926,0.03219388],[-0.0037486888,0.037274532,0.07086488,0.083938695,0.19653529,0.3159561,0.44966102,0.58461356,0.71989983,0.9101431,0.9999999,0.9323101,0.8529557,0.77696055,0.751333,0.7242693,0.7125745,0.69162136,0.68187463,0.66701335,0.65809804,0.43439853,0.43086162,0.42566442,0.41657782,0.40465346,0.27647823,0.2315418,0.1824218,0.16830832,0.095825434,0.047454417],[-0.01281881,0.032530002,0.0657622,0.07290416,0.17968804,0.29282,0.4070749,0.52662265,0.64948165,0.8399655,0.9323101,1.0,0.9327289,0.8612554,0.8380648,0.80609167,0.7940613,0.76938164,0.7606582,0.74333066,0.7358917,0.48542625,0.4804001,0.47471812,0.46435487,0.44773042,0.30743107,0.25975505,0.20419687,0.18874496,0.10595751,0.050606817],[-0.016723484,0.026770892,0.062885724,0.06732045,0.17578784,0.27701932,0.37634495,0.46614546,0.5778104,0.7576008,0.8529557,0.9327289,0.9999998,0.9361446,0.91598517,0.8906161,0.8771611,0.8564484,0.84681857,0.82873,0.820975,0.53509986,0.5263433,0.51967156,0.50599694,0.48526782,0.3337356,0.28262973,0.21823259,0.20054214,0.10790081,0.059468795],[-0.027647058,0.007550161,0.048963573,0.05583228,0.1559168,0.24177893,0.32385123,0.40763363,0.5165717,0.6958755,0.77696055,0.8612554,0.9361446,0.99999994,0.9725149,0.95028883,0.9364272,0.9126657,0.9025026,0.88200635,0.87452435,0.5720063,0.56536824,0.5598319,0.548063,0.52809185,0.3636622,0.3042875,0.23777607,0.21953866,0.11494631,0.061507802],[-0.031164816,0.007869302,0.053174105,0.05858897,0.16061178,0.24317536,0.3199771,0.39264882,0.49555075,0.66340375,0.751333,0.8380648,0.91598517,0.9725149,0.9999999,0.97250026,0.9580313,0.9361058,0.9284744,0.9072845,0.8997531,0.58247477,0.57304364,0.56661785,0.5538857,0.5323543,0.36485794,0.30137324,0.23278846,0.21397723,0.10614555,0.058010146],[-0.0361789,0.017002547,0.06964094,0.06954903,0.17187607,0.25079677,0.31781074,0.37935475,0.47348285,0.63432676,0.7242693,0.80609167,0.8906161,0.95028883,0.97250026,1.0000001,0.98327875,0.9686434,0.9581849,0.9407502,0.9328731,0.6092866,0.5971461,0.5906865,0.5787661,0.55555356,0.38097495,0.31669626,0.24697116,0.22642285,0.11739616,0.064235404],[-0.037240334,0.020352868,0.07299203,0.07248769,0.17445245,0.24832186,0.31437516,0.37561065,0.46937373,0.62727785,0.7125745,0.7940613,0.8771611,0.9364272,0.9580313,0.98327875,1.0000001,0.9816541,0.97116786,0.953488,0.9450385,0.6189805,0.608189,0.60162556,0.58895385,0.5656463,0.39037827,0.32348868,0.25554326,0.2355007,0.1316817,0.06179025],[-0.04112133,0.019788612,0.084762365,0.08539497,0.19541869,0.26444957,0.3215653,0.3677211,0.45038086,0.59728676,0.69162136,0.76938164,0.8564484,0.9126657,0.9361058,0.9686434,0.9816541,1.0000001,0.988392,0.9746352,0.965215,0.6371119,0.6214118,0.61467063,0.6022378,0.5763542,0.39478645,0.3290297,0.25710574,0.23667727,0.13144994,0.06963779],[-0.038199436,0.016623734,0.08246979,0.08433027,0.19463618,0.2617781,0.3185887,0.3649162,0.44793847,0.58966357,0.68187463,0.7606582,0.84681857,0.9025026,0.9284744,0.9581849,0.97116786,0.988392,1.0000001,0.9846797,0.9750608,0.6411061,0.62535876,0.6184449,0.60623676,0.5797699,0.3981649,0.33024505,0.25902322,0.23813811,0.13205577,0.07195818],[-0.041666776,0.013743565,0.087710544,0.088972166,0.20182268,0.26824933,0.31757754,0.35760456,0.43919468,0.573873,0.66701335,0.74333066,0.82873,0.88200635,0.9072845,0.9407502,0.953488,0.9746352,0.9846797,1.0000002,0.99067795,0.64963293,0.63310605,0.6253442,0.6149372,0.58772844,0.40503666,0.33866006,0.26557854,0.2450293,0.1376452,0.07783479],[-0.043065198,0.013346868,0.089376286,0.09144802,0.20386875,0.26773855,0.3196428,0.35446918,0.43380418,0.56445056,0.65809804,0.7358917,0.820975,0.87452435,0.8997531,0.9328731,0.9450385,0.965215,0.9750608,0.99067795,0.99999994,0.65675145,0.63981164,0.63115144,0.6247463,0.5976617,0.41153774,0.343603,0.27000427,0.24957901,0.13924816,0.07980634],[-0.032470223,0.009515879,0.05448472,0.055864636,0.13168494,0.17126513,0.20581248,0.22493048,0.2802018,0.36848468,0.43439853,0.48542625,0.53509986,0.5720063,0.58247477,0.6092866,0.6189805,0.6371119,0.6411061,0.64963293,0.65675145,1.0,0.9906206,0.97969925,0.95999444,0.9361836,0.6723658,0.5786631,0.48900393,0.4566058,0.2587771,0.16192947],[-0.026706673,0.0071644,0.03908411,0.043012388,0.10466767,0.14784357,0.18764645,0.21956305,0.2821921,0.38072565,0.43086162,0.4804001,0.5263433,0.56536824,0.57304364,0.5971461,0.608189,0.6214118,0.62535876,0.63310605,0.63981164,0.9906206,1.0,0.99044585,0.97032803,0.94898856,0.6826101,0.58589864,0.50053734,0.46746877,0.26437756,0.16075459],[-0.025516162,0.005366848,0.035280354,0.03806672,0.09793355,0.14203537,0.18373375,0.21734291,0.27874026,0.38071138,0.42566442,0.47471812,0.51967156,0.5598319,0.56661785,0.5906865,0.60162556,0.61467063,0.6184449,0.6253442,0.63115144,0.97969925,0.99044585,1.0000001,0.97950083,0.9595311,0.6901225,0.58866584,0.5052644,0.4724593,0.26796192,0.15764824],[-0.02503149,0.0013951245,0.037115112,0.03841239,0.097941376,0.1402862,0.18217458,0.21462943,0.27687386,0.3734442,0.41657782,0.46435487,0.50599694,0.548063,0.5538857,0.5787661,0.58895385,0.6022378,0.60623676,0.6149372,0.6247463,0.95999444,0.97032803,0.97950083,0.9999999,0.9806917,0.7060491,0.6053105,0.5200802,0.48832768,0.2780679,0.1677002],[-0.020444646,-0.0016110353,0.026785104,0.02928791,0.08101658,0.122888,0.16343199,0.20361951,0.26901147,0.37183985,0.40465346,0.44773042,0.48526782,0.52809185,0.5323543,0.55555356,0.5656463,0.5763542,0.5797699,0.58772844,0.5976617,0.9361836,0.94898856,0.9595311,0.9806917,1.0,0.7149764,0.61286455,0.5333717,0.5009716,0.2823671,0.17069478],[0.0054479935,0.019002121,0.037464246,0.026038934,0.05521626,0.07297159,0.100855194,0.12635872,0.1781761,0.25814158,0.27647823,0.30743107,0.3337356,0.3636622,0.36485794,0.38097495,0.39037827,0.39478645,0.3981649,0.40503666,0.41153774,0.6723658,0.6826101,0.6901225,0.7060491,0.7149764,0.99999976,0.8558701,0.74480075,0.7113331,0.382031,0.22437292],[-0.00318246,0.020691728,0.03710486,0.023463855,0.0616131,0.07808,0.088691734,0.110242225,0.15133381,0.20882732,0.2315418,0.25975505,0.28262973,0.3042875,0.30137324,0.31669626,0.32348868,0.3290297,0.33024505,0.33866006,0.343603,0.5786631,0.58589864,0.58866584,0.6053105,0.61286455,0.8558701,0.9999999,0.87036777,0.8334472,0.44534472,0.26488745],[0.0030183927,-0.005004723,-0.0015595651,-0.004971253,0.026563562,0.048651274,0.06186456,0.09197817,0.13295269,0.18277086,0.1824218,0.20419687,0.21823259,0.23777607,0.23278846,0.24697116,0.25554326,0.25710574,0.25902322,0.26557854,0.27000427,0.48900393,0.50053734,0.5052644,0.5200802,0.5333717,0.74480075,0.87036777,0.99999994,0.95756084,0.50342894,0.29957068],[0.0033700191,0.008566589,0.006888811,0.0023630061,0.0308559,0.046578404,0.059029162,0.08811791,0.124337755,0.16714592,0.16830832,0.18874496,0.20054214,0.21953866,0.21397723,0.22642285,0.2355007,0.23667727,0.23813811,0.2450293,0.24957901,0.4566058,0.46746877,0.4724593,0.48832768,0.5009716,0.7113331,0.8334472,0.95756084,0.99999976,0.5329541,0.31169185],[0.045387246,0.43318832,0.32673815,0.26428685,0.22862817,0.15753427,0.12082805,0.11319639,0.12185976,0.106214926,0.095825434,0.10595751,0.10790081,0.11494631,0.10614555,0.11739616,0.1316817,0.13144994,0.13205577,0.1376452,0.13924816,0.2587771,0.26437756,0.26796192,0.2780679,0.2823671,0.382031,0.44534472,0.50342894,0.5329541,1.0000004,0.20591772],[0.0034701892,-0.060286567,-0.02946934,-0.031427726,0.0025440909,0.026734345,0.037029848,0.017489333,0.03569521,0.03219388,0.047454417,0.050606817,0.059468795,0.061507802,0.058010146,0.064235404,0.06179025,0.06963779,0.07195818,0.07783479,0.07980634,0.16192947,0.16075459,0.15764824,0.1677002,0.17069478,0.22437292,0.26488745,0.29957068,0.31169185,0.20591772,0.9999999]],\"type\":\"heatmap\",\"xaxis\":\"x\",\"yaxis\":\"y\",\"hovertemplate\":\"x: %{x}\\u003cbr\\u003ey: %{y}\\u003cbr\\u003ecolor: %{z}\\u003cextra\\u003e\\u003c\\u002fextra\\u003e\"}],                        {\"template\":{\"data\":{\"histogram2dcontour\":[{\"type\":\"histogram2dcontour\",\"colorbar\":{\"outlinewidth\":0,\"ticks\":\"\"},\"colorscale\":[[0.0,\"#0d0887\"],[0.1111111111111111,\"#46039f\"],[0.2222222222222222,\"#7201a8\"],[0.3333333333333333,\"#9c179e\"],[0.4444444444444444,\"#bd3786\"],[0.5555555555555556,\"#d8576b\"],[0.6666666666666666,\"#ed7953\"],[0.7777777777777778,\"#fb9f3a\"],[0.8888888888888888,\"#fdca26\"],[1.0,\"#f0f921\"]]}],\"choropleth\":[{\"type\":\"choropleth\",\"colorbar\":{\"outlinewidth\":0,\"ticks\":\"\"}}],\"histogram2d\":[{\"type\":\"histogram2d\",\"colorbar\":{\"outlinewidth\":0,\"ticks\":\"\"},\"colorscale\":[[0.0,\"#0d0887\"],[0.1111111111111111,\"#46039f\"],[0.2222222222222222,\"#7201a8\"],[0.3333333333333333,\"#9c179e\"],[0.4444444444444444,\"#bd3786\"],[0.5555555555555556,\"#d8576b\"],[0.6666666666666666,\"#ed7953\"],[0.7777777777777778,\"#fb9f3a\"],[0.8888888888888888,\"#fdca26\"],[1.0,\"#f0f921\"]]}],\"heatmap\":[{\"type\":\"heatmap\",\"colorbar\":{\"outlinewidth\":0,\"ticks\":\"\"},\"colorscale\":[[0.0,\"#0d0887\"],[0.1111111111111111,\"#46039f\"],[0.2222222222222222,\"#7201a8\"],[0.3333333333333333,\"#9c179e\"],[0.4444444444444444,\"#bd3786\"],[0.5555555555555556,\"#d8576b\"],[0.6666666666666666,\"#ed7953\"],[0.7777777777777778,\"#fb9f3a\"],[0.8888888888888888,\"#fdca26\"],[1.0,\"#f0f921\"]]}],\"heatmapgl\":[{\"type\":\"heatmapgl\",\"colorbar\":{\"outlinewidth\":0,\"ticks\":\"\"},\"colorscale\":[[0.0,\"#0d0887\"],[0.1111111111111111,\"#46039f\"],[0.2222222222222222,\"#7201a8\"],[0.3333333333333333,\"#9c179e\"],[0.4444444444444444,\"#bd3786\"],[0.5555555555555556,\"#d8576b\"],[0.6666666666666666,\"#ed7953\"],[0.7777777777777778,\"#fb9f3a\"],[0.8888888888888888,\"#fdca26\"],[1.0,\"#f0f921\"]]}],\"contourcarpet\":[{\"type\":\"contourcarpet\",\"colorbar\":{\"outlinewidth\":0,\"ticks\":\"\"}}],\"contour\":[{\"type\":\"contour\",\"colorbar\":{\"outlinewidth\":0,\"ticks\":\"\"},\"colorscale\":[[0.0,\"#0d0887\"],[0.1111111111111111,\"#46039f\"],[0.2222222222222222,\"#7201a8\"],[0.3333333333333333,\"#9c179e\"],[0.4444444444444444,\"#bd3786\"],[0.5555555555555556,\"#d8576b\"],[0.6666666666666666,\"#ed7953\"],[0.7777777777777778,\"#fb9f3a\"],[0.8888888888888888,\"#fdca26\"],[1.0,\"#f0f921\"]]}],\"surface\":[{\"type\":\"surface\",\"colorbar\":{\"outlinewidth\":0,\"ticks\":\"\"},\"colorscale\":[[0.0,\"#0d0887\"],[0.1111111111111111,\"#46039f\"],[0.2222222222222222,\"#7201a8\"],[0.3333333333333333,\"#9c179e\"],[0.4444444444444444,\"#bd3786\"],[0.5555555555555556,\"#d8576b\"],[0.6666666666666666,\"#ed7953\"],[0.7777777777777778,\"#fb9f3a\"],[0.8888888888888888,\"#fdca26\"],[1.0,\"#f0f921\"]]}],\"mesh3d\":[{\"type\":\"mesh3d\",\"colorbar\":{\"outlinewidth\":0,\"ticks\":\"\"}}],\"scatter\":[{\"fillpattern\":{\"fillmode\":\"overlay\",\"size\":10,\"solidity\":0.2},\"type\":\"scatter\"}],\"parcoords\":[{\"type\":\"parcoords\",\"line\":{\"colorbar\":{\"outlinewidth\":0,\"ticks\":\"\"}}}],\"scatterpolargl\":[{\"type\":\"scatterpolargl\",\"marker\":{\"colorbar\":{\"outlinewidth\":0,\"ticks\":\"\"}}}],\"bar\":[{\"error_x\":{\"color\":\"#2a3f5f\"},\"error_y\":{\"color\":\"#2a3f5f\"},\"marker\":{\"line\":{\"color\":\"#E5ECF6\",\"width\":0.5},\"pattern\":{\"fillmode\":\"overlay\",\"size\":10,\"solidity\":0.2}},\"type\":\"bar\"}],\"scattergeo\":[{\"type\":\"scattergeo\",\"marker\":{\"colorbar\":{\"outlinewidth\":0,\"ticks\":\"\"}}}],\"scatterpolar\":[{\"type\":\"scatterpolar\",\"marker\":{\"colorbar\":{\"outlinewidth\":0,\"ticks\":\"\"}}}],\"histogram\":[{\"marker\":{\"pattern\":{\"fillmode\":\"overlay\",\"size\":10,\"solidity\":0.2}},\"type\":\"histogram\"}],\"scattergl\":[{\"type\":\"scattergl\",\"marker\":{\"colorbar\":{\"outlinewidth\":0,\"ticks\":\"\"}}}],\"scatter3d\":[{\"type\":\"scatter3d\",\"line\":{\"colorbar\":{\"outlinewidth\":0,\"ticks\":\"\"}},\"marker\":{\"colorbar\":{\"outlinewidth\":0,\"ticks\":\"\"}}}],\"scattermapbox\":[{\"type\":\"scattermapbox\",\"marker\":{\"colorbar\":{\"outlinewidth\":0,\"ticks\":\"\"}}}],\"scatterternary\":[{\"type\":\"scatterternary\",\"marker\":{\"colorbar\":{\"outlinewidth\":0,\"ticks\":\"\"}}}],\"scattercarpet\":[{\"type\":\"scattercarpet\",\"marker\":{\"colorbar\":{\"outlinewidth\":0,\"ticks\":\"\"}}}],\"carpet\":[{\"aaxis\":{\"endlinecolor\":\"#2a3f5f\",\"gridcolor\":\"white\",\"linecolor\":\"white\",\"minorgridcolor\":\"white\",\"startlinecolor\":\"#2a3f5f\"},\"baxis\":{\"endlinecolor\":\"#2a3f5f\",\"gridcolor\":\"white\",\"linecolor\":\"white\",\"minorgridcolor\":\"white\",\"startlinecolor\":\"#2a3f5f\"},\"type\":\"carpet\"}],\"table\":[{\"cells\":{\"fill\":{\"color\":\"#EBF0F8\"},\"line\":{\"color\":\"white\"}},\"header\":{\"fill\":{\"color\":\"#C8D4E3\"},\"line\":{\"color\":\"white\"}},\"type\":\"table\"}],\"barpolar\":[{\"marker\":{\"line\":{\"color\":\"#E5ECF6\",\"width\":0.5},\"pattern\":{\"fillmode\":\"overlay\",\"size\":10,\"solidity\":0.2}},\"type\":\"barpolar\"}],\"pie\":[{\"automargin\":true,\"type\":\"pie\"}]},\"layout\":{\"autotypenumbers\":\"strict\",\"colorway\":[\"#636efa\",\"#EF553B\",\"#00cc96\",\"#ab63fa\",\"#FFA15A\",\"#19d3f3\",\"#FF6692\",\"#B6E880\",\"#FF97FF\",\"#FECB52\"],\"font\":{\"color\":\"#2a3f5f\"},\"hovermode\":\"closest\",\"hoverlabel\":{\"align\":\"left\"},\"paper_bgcolor\":\"white\",\"plot_bgcolor\":\"#E5ECF6\",\"polar\":{\"bgcolor\":\"#E5ECF6\",\"angularaxis\":{\"gridcolor\":\"white\",\"linecolor\":\"white\",\"ticks\":\"\"},\"radialaxis\":{\"gridcolor\":\"white\",\"linecolor\":\"white\",\"ticks\":\"\"}},\"ternary\":{\"bgcolor\":\"#E5ECF6\",\"aaxis\":{\"gridcolor\":\"white\",\"linecolor\":\"white\",\"ticks\":\"\"},\"baxis\":{\"gridcolor\":\"white\",\"linecolor\":\"white\",\"ticks\":\"\"},\"caxis\":{\"gridcolor\":\"white\",\"linecolor\":\"white\",\"ticks\":\"\"}},\"coloraxis\":{\"colorbar\":{\"outlinewidth\":0,\"ticks\":\"\"}},\"colorscale\":{\"sequential\":[[0.0,\"#0d0887\"],[0.1111111111111111,\"#46039f\"],[0.2222222222222222,\"#7201a8\"],[0.3333333333333333,\"#9c179e\"],[0.4444444444444444,\"#bd3786\"],[0.5555555555555556,\"#d8576b\"],[0.6666666666666666,\"#ed7953\"],[0.7777777777777778,\"#fb9f3a\"],[0.8888888888888888,\"#fdca26\"],[1.0,\"#f0f921\"]],\"sequentialminus\":[[0.0,\"#0d0887\"],[0.1111111111111111,\"#46039f\"],[0.2222222222222222,\"#7201a8\"],[0.3333333333333333,\"#9c179e\"],[0.4444444444444444,\"#bd3786\"],[0.5555555555555556,\"#d8576b\"],[0.6666666666666666,\"#ed7953\"],[0.7777777777777778,\"#fb9f3a\"],[0.8888888888888888,\"#fdca26\"],[1.0,\"#f0f921\"]],\"diverging\":[[0,\"#8e0152\"],[0.1,\"#c51b7d\"],[0.2,\"#de77ae\"],[0.3,\"#f1b6da\"],[0.4,\"#fde0ef\"],[0.5,\"#f7f7f7\"],[0.6,\"#e6f5d0\"],[0.7,\"#b8e186\"],[0.8,\"#7fbc41\"],[0.9,\"#4d9221\"],[1,\"#276419\"]]},\"xaxis\":{\"gridcolor\":\"white\",\"linecolor\":\"white\",\"ticks\":\"\",\"title\":{\"standoff\":15},\"zerolinecolor\":\"white\",\"automargin\":true,\"zerolinewidth\":2},\"yaxis\":{\"gridcolor\":\"white\",\"linecolor\":\"white\",\"ticks\":\"\",\"title\":{\"standoff\":15},\"zerolinecolor\":\"white\",\"automargin\":true,\"zerolinewidth\":2},\"scene\":{\"xaxis\":{\"backgroundcolor\":\"#E5ECF6\",\"gridcolor\":\"white\",\"linecolor\":\"white\",\"showbackground\":true,\"ticks\":\"\",\"zerolinecolor\":\"white\",\"gridwidth\":2},\"yaxis\":{\"backgroundcolor\":\"#E5ECF6\",\"gridcolor\":\"white\",\"linecolor\":\"white\",\"showbackground\":true,\"ticks\":\"\",\"zerolinecolor\":\"white\",\"gridwidth\":2},\"zaxis\":{\"backgroundcolor\":\"#E5ECF6\",\"gridcolor\":\"white\",\"linecolor\":\"white\",\"showbackground\":true,\"ticks\":\"\",\"zerolinecolor\":\"white\",\"gridwidth\":2}},\"shapedefaults\":{\"line\":{\"color\":\"#2a3f5f\"}},\"annotationdefaults\":{\"arrowcolor\":\"#2a3f5f\",\"arrowhead\":0,\"arrowwidth\":1},\"geo\":{\"bgcolor\":\"white\",\"landcolor\":\"#E5ECF6\",\"subunitcolor\":\"white\",\"showland\":true,\"showlakes\":true,\"lakecolor\":\"white\"},\"title\":{\"x\":0.05},\"mapbox\":{\"style\":\"light\"}}},\"xaxis\":{\"anchor\":\"y\",\"domain\":[0.0,1.0],\"scaleanchor\":\"y\",\"constrain\":\"domain\"},\"yaxis\":{\"anchor\":\"x\",\"domain\":[0.0,1.0],\"autorange\":\"reversed\",\"constrain\":\"domain\"},\"coloraxis\":{\"colorscale\":[[0.0,\"rgb(247,251,255)\"],[0.125,\"rgb(222,235,247)\"],[0.25,\"rgb(198,219,239)\"],[0.375,\"rgb(158,202,225)\"],[0.5,\"rgb(107,174,214)\"],[0.625,\"rgb(66,146,198)\"],[0.75,\"rgb(33,113,181)\"],[0.875,\"rgb(8,81,156)\"],[1.0,\"rgb(8,48,107)\"]]},\"margin\":{\"t\":60},\"height\":800,\"width\":800},                        {\"responsive\": true}                    ).then(function(){\n",
       "                            \n",
       "var gd = document.getElementById('5163a75d-5604-42a0-931e-183c50af94a0');\n",
       "var x = new MutationObserver(function (mutations, observer) {{\n",
       "        var display = window.getComputedStyle(gd).display;\n",
       "        if (!display || display === 'none') {{\n",
       "            console.log([gd, 'removed!']);\n",
       "            Plotly.purge(gd);\n",
       "            observer.disconnect();\n",
       "        }}\n",
       "}});\n",
       "\n",
       "// Listen for the removal of the full notebook cells\n",
       "var notebookContainer = gd.closest('#notebook-container');\n",
       "if (notebookContainer) {{\n",
       "    x.observe(notebookContainer, {childList: true});\n",
       "}}\n",
       "\n",
       "// Listen for the clearing of the current output cell\n",
       "var outputEl = gd.closest('.output');\n",
       "if (outputEl) {{\n",
       "    x.observe(outputEl, {childList: true});\n",
       "}}\n",
       "\n",
       "                        })                };                });            </script>        </div>"
      ]
     },
     "metadata": {},
     "output_type": "display_data"
    }
   ],
   "source": [
    "px.imshow(cos_sim.cpu().numpy(), color_continuous_scale='Blues', width=800, height=800)"
   ]
  },
  {
   "cell_type": "code",
   "execution_count": 114,
   "metadata": {},
   "outputs": [
    {
     "data": {
      "text/plain": [
       "torch.Size([4096, 2])"
      ]
     },
     "execution_count": 114,
     "metadata": {},
     "output_type": "execute_result"
    }
   ],
   "source": [
    "pcs.shape"
   ]
  },
  {
   "cell_type": "code",
   "execution_count": 115,
   "metadata": {},
   "outputs": [
    {
     "data": {
      "text/plain": [
       "torch.Size([32, 4096])"
      ]
     },
     "execution_count": 115,
     "metadata": {},
     "output_type": "execute_result"
    }
   ],
   "source": [
    "layer_directions_t.shape"
   ]
  },
  {
   "cell_type": "code",
   "execution_count": 116,
   "metadata": {},
   "outputs": [],
   "source": [
    "cos_sim_pcs = layer_directions_t @ pcs"
   ]
  },
  {
   "cell_type": "code",
   "execution_count": 117,
   "metadata": {},
   "outputs": [
    {
     "data": {
      "text/plain": [
       "torch.Size([32, 2])"
      ]
     },
     "execution_count": 117,
     "metadata": {},
     "output_type": "execute_result"
    }
   ],
   "source": [
    "cos_sim_pcs.shape"
   ]
  },
  {
   "cell_type": "code",
   "execution_count": 120,
   "metadata": {},
   "outputs": [
    {
     "data": {
      "application/vnd.plotly.v1+json": {
       "config": {
        "plotlyServerURL": "https://plot.ly"
       },
       "data": [
        {
         "hovertemplate": "variable=0<br>index=%{x}<br>value=%{y}<extra></extra>",
         "legendgroup": "0",
         "line": {
          "color": "#636efa",
          "dash": "solid"
         },
         "marker": {
          "symbol": "circle"
         },
         "mode": "lines",
         "name": "0",
         "orientation": "v",
         "showlegend": true,
         "type": "scatter",
         "x": [
          0,
          1,
          2,
          3,
          4,
          5,
          6,
          7,
          8,
          9,
          10,
          11,
          12,
          13,
          14,
          15,
          16,
          17,
          18,
          19,
          20,
          21,
          22,
          23,
          24,
          25,
          26,
          27,
          28,
          29,
          30,
          31
         ],
         "xaxis": "x",
         "y": [
          -0.0058239824,
          0.03492059,
          0.024883851,
          0.030028982,
          0.0025075185,
          -0.009392007,
          -0.019736536,
          -0.004215885,
          -0.030476877,
          -0.024070933,
          -0.037213665,
          -0.039638404,
          -0.03973399,
          -0.042736605,
          -0.04146328,
          -0.046982884,
          -0.045336,
          -0.05066673,
          -0.051664326,
          -0.056985524,
          -0.05984082,
          -0.11965394,
          -0.1173775,
          -0.11330542,
          -0.11903781,
          -0.12034188,
          -0.13249168,
          -0.13943504,
          -0.16525462,
          -0.17077485,
          -0.1570145,
          -0.8865471
         ],
         "yaxis": "y"
        },
        {
         "hovertemplate": "variable=1<br>index=%{x}<br>value=%{y}<extra></extra>",
         "legendgroup": "1",
         "line": {
          "color": "#EF553B",
          "dash": "solid"
         },
         "marker": {
          "symbol": "circle"
         },
         "mode": "lines",
         "name": "1",
         "orientation": "v",
         "showlegend": true,
         "type": "scatter",
         "x": [
          0,
          1,
          2,
          3,
          4,
          5,
          6,
          7,
          8,
          9,
          10,
          11,
          12,
          13,
          14,
          15,
          16,
          17,
          18,
          19,
          20,
          21,
          22,
          23,
          24,
          25,
          26,
          27,
          28,
          29,
          30,
          31
         ],
         "xaxis": "x",
         "y": [
          -0.026624372,
          0.009805426,
          0.026399769,
          0.033089004,
          0.05771478,
          0.03483406,
          0.030640915,
          0.013093971,
          0.009220552,
          -0.010427006,
          0.022386093,
          0.028605634,
          0.027725957,
          0.028535567,
          0.037842464,
          0.04177969,
          0.040670156,
          0.04894173,
          0.04707905,
          0.049595118,
          0.053425387,
          -0.023070317,
          -0.037671544,
          -0.04145569,
          -0.04407078,
          -0.054653063,
          -0.12096451,
          -0.17562622,
          -0.20045866,
          -0.21123713,
          -0.13245441,
          -0.38273132
         ],
         "yaxis": "y"
        }
       ],
       "layout": {
        "height": 500,
        "legend": {
         "title": {
          "text": "variable"
         },
         "tracegroupgap": 0
        },
        "margin": {
         "t": 60
        },
        "template": {
         "data": {
          "bar": [
           {
            "error_x": {
             "color": "#2a3f5f"
            },
            "error_y": {
             "color": "#2a3f5f"
            },
            "marker": {
             "line": {
              "color": "#E5ECF6",
              "width": 0.5
             },
             "pattern": {
              "fillmode": "overlay",
              "size": 10,
              "solidity": 0.2
             }
            },
            "type": "bar"
           }
          ],
          "barpolar": [
           {
            "marker": {
             "line": {
              "color": "#E5ECF6",
              "width": 0.5
             },
             "pattern": {
              "fillmode": "overlay",
              "size": 10,
              "solidity": 0.2
             }
            },
            "type": "barpolar"
           }
          ],
          "carpet": [
           {
            "aaxis": {
             "endlinecolor": "#2a3f5f",
             "gridcolor": "white",
             "linecolor": "white",
             "minorgridcolor": "white",
             "startlinecolor": "#2a3f5f"
            },
            "baxis": {
             "endlinecolor": "#2a3f5f",
             "gridcolor": "white",
             "linecolor": "white",
             "minorgridcolor": "white",
             "startlinecolor": "#2a3f5f"
            },
            "type": "carpet"
           }
          ],
          "choropleth": [
           {
            "colorbar": {
             "outlinewidth": 0,
             "ticks": ""
            },
            "type": "choropleth"
           }
          ],
          "contour": [
           {
            "colorbar": {
             "outlinewidth": 0,
             "ticks": ""
            },
            "colorscale": [
             [
              0,
              "#0d0887"
             ],
             [
              0.1111111111111111,
              "#46039f"
             ],
             [
              0.2222222222222222,
              "#7201a8"
             ],
             [
              0.3333333333333333,
              "#9c179e"
             ],
             [
              0.4444444444444444,
              "#bd3786"
             ],
             [
              0.5555555555555556,
              "#d8576b"
             ],
             [
              0.6666666666666666,
              "#ed7953"
             ],
             [
              0.7777777777777778,
              "#fb9f3a"
             ],
             [
              0.8888888888888888,
              "#fdca26"
             ],
             [
              1,
              "#f0f921"
             ]
            ],
            "type": "contour"
           }
          ],
          "contourcarpet": [
           {
            "colorbar": {
             "outlinewidth": 0,
             "ticks": ""
            },
            "type": "contourcarpet"
           }
          ],
          "heatmap": [
           {
            "colorbar": {
             "outlinewidth": 0,
             "ticks": ""
            },
            "colorscale": [
             [
              0,
              "#0d0887"
             ],
             [
              0.1111111111111111,
              "#46039f"
             ],
             [
              0.2222222222222222,
              "#7201a8"
             ],
             [
              0.3333333333333333,
              "#9c179e"
             ],
             [
              0.4444444444444444,
              "#bd3786"
             ],
             [
              0.5555555555555556,
              "#d8576b"
             ],
             [
              0.6666666666666666,
              "#ed7953"
             ],
             [
              0.7777777777777778,
              "#fb9f3a"
             ],
             [
              0.8888888888888888,
              "#fdca26"
             ],
             [
              1,
              "#f0f921"
             ]
            ],
            "type": "heatmap"
           }
          ],
          "heatmapgl": [
           {
            "colorbar": {
             "outlinewidth": 0,
             "ticks": ""
            },
            "colorscale": [
             [
              0,
              "#0d0887"
             ],
             [
              0.1111111111111111,
              "#46039f"
             ],
             [
              0.2222222222222222,
              "#7201a8"
             ],
             [
              0.3333333333333333,
              "#9c179e"
             ],
             [
              0.4444444444444444,
              "#bd3786"
             ],
             [
              0.5555555555555556,
              "#d8576b"
             ],
             [
              0.6666666666666666,
              "#ed7953"
             ],
             [
              0.7777777777777778,
              "#fb9f3a"
             ],
             [
              0.8888888888888888,
              "#fdca26"
             ],
             [
              1,
              "#f0f921"
             ]
            ],
            "type": "heatmapgl"
           }
          ],
          "histogram": [
           {
            "marker": {
             "pattern": {
              "fillmode": "overlay",
              "size": 10,
              "solidity": 0.2
             }
            },
            "type": "histogram"
           }
          ],
          "histogram2d": [
           {
            "colorbar": {
             "outlinewidth": 0,
             "ticks": ""
            },
            "colorscale": [
             [
              0,
              "#0d0887"
             ],
             [
              0.1111111111111111,
              "#46039f"
             ],
             [
              0.2222222222222222,
              "#7201a8"
             ],
             [
              0.3333333333333333,
              "#9c179e"
             ],
             [
              0.4444444444444444,
              "#bd3786"
             ],
             [
              0.5555555555555556,
              "#d8576b"
             ],
             [
              0.6666666666666666,
              "#ed7953"
             ],
             [
              0.7777777777777778,
              "#fb9f3a"
             ],
             [
              0.8888888888888888,
              "#fdca26"
             ],
             [
              1,
              "#f0f921"
             ]
            ],
            "type": "histogram2d"
           }
          ],
          "histogram2dcontour": [
           {
            "colorbar": {
             "outlinewidth": 0,
             "ticks": ""
            },
            "colorscale": [
             [
              0,
              "#0d0887"
             ],
             [
              0.1111111111111111,
              "#46039f"
             ],
             [
              0.2222222222222222,
              "#7201a8"
             ],
             [
              0.3333333333333333,
              "#9c179e"
             ],
             [
              0.4444444444444444,
              "#bd3786"
             ],
             [
              0.5555555555555556,
              "#d8576b"
             ],
             [
              0.6666666666666666,
              "#ed7953"
             ],
             [
              0.7777777777777778,
              "#fb9f3a"
             ],
             [
              0.8888888888888888,
              "#fdca26"
             ],
             [
              1,
              "#f0f921"
             ]
            ],
            "type": "histogram2dcontour"
           }
          ],
          "mesh3d": [
           {
            "colorbar": {
             "outlinewidth": 0,
             "ticks": ""
            },
            "type": "mesh3d"
           }
          ],
          "parcoords": [
           {
            "line": {
             "colorbar": {
              "outlinewidth": 0,
              "ticks": ""
             }
            },
            "type": "parcoords"
           }
          ],
          "pie": [
           {
            "automargin": true,
            "type": "pie"
           }
          ],
          "scatter": [
           {
            "fillpattern": {
             "fillmode": "overlay",
             "size": 10,
             "solidity": 0.2
            },
            "type": "scatter"
           }
          ],
          "scatter3d": [
           {
            "line": {
             "colorbar": {
              "outlinewidth": 0,
              "ticks": ""
             }
            },
            "marker": {
             "colorbar": {
              "outlinewidth": 0,
              "ticks": ""
             }
            },
            "type": "scatter3d"
           }
          ],
          "scattercarpet": [
           {
            "marker": {
             "colorbar": {
              "outlinewidth": 0,
              "ticks": ""
             }
            },
            "type": "scattercarpet"
           }
          ],
          "scattergeo": [
           {
            "marker": {
             "colorbar": {
              "outlinewidth": 0,
              "ticks": ""
             }
            },
            "type": "scattergeo"
           }
          ],
          "scattergl": [
           {
            "marker": {
             "colorbar": {
              "outlinewidth": 0,
              "ticks": ""
             }
            },
            "type": "scattergl"
           }
          ],
          "scattermapbox": [
           {
            "marker": {
             "colorbar": {
              "outlinewidth": 0,
              "ticks": ""
             }
            },
            "type": "scattermapbox"
           }
          ],
          "scatterpolar": [
           {
            "marker": {
             "colorbar": {
              "outlinewidth": 0,
              "ticks": ""
             }
            },
            "type": "scatterpolar"
           }
          ],
          "scatterpolargl": [
           {
            "marker": {
             "colorbar": {
              "outlinewidth": 0,
              "ticks": ""
             }
            },
            "type": "scatterpolargl"
           }
          ],
          "scatterternary": [
           {
            "marker": {
             "colorbar": {
              "outlinewidth": 0,
              "ticks": ""
             }
            },
            "type": "scatterternary"
           }
          ],
          "surface": [
           {
            "colorbar": {
             "outlinewidth": 0,
             "ticks": ""
            },
            "colorscale": [
             [
              0,
              "#0d0887"
             ],
             [
              0.1111111111111111,
              "#46039f"
             ],
             [
              0.2222222222222222,
              "#7201a8"
             ],
             [
              0.3333333333333333,
              "#9c179e"
             ],
             [
              0.4444444444444444,
              "#bd3786"
             ],
             [
              0.5555555555555556,
              "#d8576b"
             ],
             [
              0.6666666666666666,
              "#ed7953"
             ],
             [
              0.7777777777777778,
              "#fb9f3a"
             ],
             [
              0.8888888888888888,
              "#fdca26"
             ],
             [
              1,
              "#f0f921"
             ]
            ],
            "type": "surface"
           }
          ],
          "table": [
           {
            "cells": {
             "fill": {
              "color": "#EBF0F8"
             },
             "line": {
              "color": "white"
             }
            },
            "header": {
             "fill": {
              "color": "#C8D4E3"
             },
             "line": {
              "color": "white"
             }
            },
            "type": "table"
           }
          ]
         },
         "layout": {
          "annotationdefaults": {
           "arrowcolor": "#2a3f5f",
           "arrowhead": 0,
           "arrowwidth": 1
          },
          "autotypenumbers": "strict",
          "coloraxis": {
           "colorbar": {
            "outlinewidth": 0,
            "ticks": ""
           }
          },
          "colorscale": {
           "diverging": [
            [
             0,
             "#8e0152"
            ],
            [
             0.1,
             "#c51b7d"
            ],
            [
             0.2,
             "#de77ae"
            ],
            [
             0.3,
             "#f1b6da"
            ],
            [
             0.4,
             "#fde0ef"
            ],
            [
             0.5,
             "#f7f7f7"
            ],
            [
             0.6,
             "#e6f5d0"
            ],
            [
             0.7,
             "#b8e186"
            ],
            [
             0.8,
             "#7fbc41"
            ],
            [
             0.9,
             "#4d9221"
            ],
            [
             1,
             "#276419"
            ]
           ],
           "sequential": [
            [
             0,
             "#0d0887"
            ],
            [
             0.1111111111111111,
             "#46039f"
            ],
            [
             0.2222222222222222,
             "#7201a8"
            ],
            [
             0.3333333333333333,
             "#9c179e"
            ],
            [
             0.4444444444444444,
             "#bd3786"
            ],
            [
             0.5555555555555556,
             "#d8576b"
            ],
            [
             0.6666666666666666,
             "#ed7953"
            ],
            [
             0.7777777777777778,
             "#fb9f3a"
            ],
            [
             0.8888888888888888,
             "#fdca26"
            ],
            [
             1,
             "#f0f921"
            ]
           ],
           "sequentialminus": [
            [
             0,
             "#0d0887"
            ],
            [
             0.1111111111111111,
             "#46039f"
            ],
            [
             0.2222222222222222,
             "#7201a8"
            ],
            [
             0.3333333333333333,
             "#9c179e"
            ],
            [
             0.4444444444444444,
             "#bd3786"
            ],
            [
             0.5555555555555556,
             "#d8576b"
            ],
            [
             0.6666666666666666,
             "#ed7953"
            ],
            [
             0.7777777777777778,
             "#fb9f3a"
            ],
            [
             0.8888888888888888,
             "#fdca26"
            ],
            [
             1,
             "#f0f921"
            ]
           ]
          },
          "colorway": [
           "#636efa",
           "#EF553B",
           "#00cc96",
           "#ab63fa",
           "#FFA15A",
           "#19d3f3",
           "#FF6692",
           "#B6E880",
           "#FF97FF",
           "#FECB52"
          ],
          "font": {
           "color": "#2a3f5f"
          },
          "geo": {
           "bgcolor": "white",
           "lakecolor": "white",
           "landcolor": "#E5ECF6",
           "showlakes": true,
           "showland": true,
           "subunitcolor": "white"
          },
          "hoverlabel": {
           "align": "left"
          },
          "hovermode": "closest",
          "mapbox": {
           "style": "light"
          },
          "paper_bgcolor": "white",
          "plot_bgcolor": "#E5ECF6",
          "polar": {
           "angularaxis": {
            "gridcolor": "white",
            "linecolor": "white",
            "ticks": ""
           },
           "bgcolor": "#E5ECF6",
           "radialaxis": {
            "gridcolor": "white",
            "linecolor": "white",
            "ticks": ""
           }
          },
          "scene": {
           "xaxis": {
            "backgroundcolor": "#E5ECF6",
            "gridcolor": "white",
            "gridwidth": 2,
            "linecolor": "white",
            "showbackground": true,
            "ticks": "",
            "zerolinecolor": "white"
           },
           "yaxis": {
            "backgroundcolor": "#E5ECF6",
            "gridcolor": "white",
            "gridwidth": 2,
            "linecolor": "white",
            "showbackground": true,
            "ticks": "",
            "zerolinecolor": "white"
           },
           "zaxis": {
            "backgroundcolor": "#E5ECF6",
            "gridcolor": "white",
            "gridwidth": 2,
            "linecolor": "white",
            "showbackground": true,
            "ticks": "",
            "zerolinecolor": "white"
           }
          },
          "shapedefaults": {
           "line": {
            "color": "#2a3f5f"
           }
          },
          "ternary": {
           "aaxis": {
            "gridcolor": "white",
            "linecolor": "white",
            "ticks": ""
           },
           "baxis": {
            "gridcolor": "white",
            "linecolor": "white",
            "ticks": ""
           },
           "bgcolor": "#E5ECF6",
           "caxis": {
            "gridcolor": "white",
            "linecolor": "white",
            "ticks": ""
           }
          },
          "title": {
           "x": 0.05
          },
          "xaxis": {
           "automargin": true,
           "gridcolor": "white",
           "linecolor": "white",
           "ticks": "",
           "title": {
            "standoff": 15
           },
           "zerolinecolor": "white",
           "zerolinewidth": 2
          },
          "yaxis": {
           "automargin": true,
           "gridcolor": "white",
           "linecolor": "white",
           "ticks": "",
           "title": {
            "standoff": 15
           },
           "zerolinecolor": "white",
           "zerolinewidth": 2
          }
         }
        },
        "width": 1300,
        "xaxis": {
         "anchor": "y",
         "domain": [
          0,
          1
         ],
         "title": {
          "text": "index"
         }
        },
        "yaxis": {
         "anchor": "x",
         "domain": [
          0,
          1
         ],
         "title": {
          "text": "value"
         }
        }
       }
      },
      "text/html": [
       "<div>                            <div id=\"88873306-ccf1-4653-b6a0-1a9a5eee153f\" class=\"plotly-graph-div\" style=\"height:500px; width:1300px;\"></div>            <script type=\"text/javascript\">                require([\"plotly\"], function(Plotly) {                    window.PLOTLYENV=window.PLOTLYENV || {};                                    if (document.getElementById(\"88873306-ccf1-4653-b6a0-1a9a5eee153f\")) {                    Plotly.newPlot(                        \"88873306-ccf1-4653-b6a0-1a9a5eee153f\",                        [{\"hovertemplate\":\"variable=0\\u003cbr\\u003eindex=%{x}\\u003cbr\\u003evalue=%{y}\\u003cextra\\u003e\\u003c\\u002fextra\\u003e\",\"legendgroup\":\"0\",\"line\":{\"color\":\"#636efa\",\"dash\":\"solid\"},\"marker\":{\"symbol\":\"circle\"},\"mode\":\"lines\",\"name\":\"0\",\"orientation\":\"v\",\"showlegend\":true,\"x\":[0,1,2,3,4,5,6,7,8,9,10,11,12,13,14,15,16,17,18,19,20,21,22,23,24,25,26,27,28,29,30,31],\"xaxis\":\"x\",\"y\":[-0.0058239824,0.03492059,0.024883851,0.030028982,0.0025075185,-0.009392007,-0.019736536,-0.004215885,-0.030476877,-0.024070933,-0.037213665,-0.039638404,-0.03973399,-0.042736605,-0.04146328,-0.046982884,-0.045336,-0.05066673,-0.051664326,-0.056985524,-0.05984082,-0.11965394,-0.1173775,-0.11330542,-0.11903781,-0.12034188,-0.13249168,-0.13943504,-0.16525462,-0.17077485,-0.1570145,-0.8865471],\"yaxis\":\"y\",\"type\":\"scatter\"},{\"hovertemplate\":\"variable=1\\u003cbr\\u003eindex=%{x}\\u003cbr\\u003evalue=%{y}\\u003cextra\\u003e\\u003c\\u002fextra\\u003e\",\"legendgroup\":\"1\",\"line\":{\"color\":\"#EF553B\",\"dash\":\"solid\"},\"marker\":{\"symbol\":\"circle\"},\"mode\":\"lines\",\"name\":\"1\",\"orientation\":\"v\",\"showlegend\":true,\"x\":[0,1,2,3,4,5,6,7,8,9,10,11,12,13,14,15,16,17,18,19,20,21,22,23,24,25,26,27,28,29,30,31],\"xaxis\":\"x\",\"y\":[-0.026624372,0.009805426,0.026399769,0.033089004,0.05771478,0.03483406,0.030640915,0.013093971,0.009220552,-0.010427006,0.022386093,0.028605634,0.027725957,0.028535567,0.037842464,0.04177969,0.040670156,0.04894173,0.04707905,0.049595118,0.053425387,-0.023070317,-0.037671544,-0.04145569,-0.04407078,-0.054653063,-0.12096451,-0.17562622,-0.20045866,-0.21123713,-0.13245441,-0.38273132],\"yaxis\":\"y\",\"type\":\"scatter\"}],                        {\"template\":{\"data\":{\"histogram2dcontour\":[{\"type\":\"histogram2dcontour\",\"colorbar\":{\"outlinewidth\":0,\"ticks\":\"\"},\"colorscale\":[[0.0,\"#0d0887\"],[0.1111111111111111,\"#46039f\"],[0.2222222222222222,\"#7201a8\"],[0.3333333333333333,\"#9c179e\"],[0.4444444444444444,\"#bd3786\"],[0.5555555555555556,\"#d8576b\"],[0.6666666666666666,\"#ed7953\"],[0.7777777777777778,\"#fb9f3a\"],[0.8888888888888888,\"#fdca26\"],[1.0,\"#f0f921\"]]}],\"choropleth\":[{\"type\":\"choropleth\",\"colorbar\":{\"outlinewidth\":0,\"ticks\":\"\"}}],\"histogram2d\":[{\"type\":\"histogram2d\",\"colorbar\":{\"outlinewidth\":0,\"ticks\":\"\"},\"colorscale\":[[0.0,\"#0d0887\"],[0.1111111111111111,\"#46039f\"],[0.2222222222222222,\"#7201a8\"],[0.3333333333333333,\"#9c179e\"],[0.4444444444444444,\"#bd3786\"],[0.5555555555555556,\"#d8576b\"],[0.6666666666666666,\"#ed7953\"],[0.7777777777777778,\"#fb9f3a\"],[0.8888888888888888,\"#fdca26\"],[1.0,\"#f0f921\"]]}],\"heatmap\":[{\"type\":\"heatmap\",\"colorbar\":{\"outlinewidth\":0,\"ticks\":\"\"},\"colorscale\":[[0.0,\"#0d0887\"],[0.1111111111111111,\"#46039f\"],[0.2222222222222222,\"#7201a8\"],[0.3333333333333333,\"#9c179e\"],[0.4444444444444444,\"#bd3786\"],[0.5555555555555556,\"#d8576b\"],[0.6666666666666666,\"#ed7953\"],[0.7777777777777778,\"#fb9f3a\"],[0.8888888888888888,\"#fdca26\"],[1.0,\"#f0f921\"]]}],\"heatmapgl\":[{\"type\":\"heatmapgl\",\"colorbar\":{\"outlinewidth\":0,\"ticks\":\"\"},\"colorscale\":[[0.0,\"#0d0887\"],[0.1111111111111111,\"#46039f\"],[0.2222222222222222,\"#7201a8\"],[0.3333333333333333,\"#9c179e\"],[0.4444444444444444,\"#bd3786\"],[0.5555555555555556,\"#d8576b\"],[0.6666666666666666,\"#ed7953\"],[0.7777777777777778,\"#fb9f3a\"],[0.8888888888888888,\"#fdca26\"],[1.0,\"#f0f921\"]]}],\"contourcarpet\":[{\"type\":\"contourcarpet\",\"colorbar\":{\"outlinewidth\":0,\"ticks\":\"\"}}],\"contour\":[{\"type\":\"contour\",\"colorbar\":{\"outlinewidth\":0,\"ticks\":\"\"},\"colorscale\":[[0.0,\"#0d0887\"],[0.1111111111111111,\"#46039f\"],[0.2222222222222222,\"#7201a8\"],[0.3333333333333333,\"#9c179e\"],[0.4444444444444444,\"#bd3786\"],[0.5555555555555556,\"#d8576b\"],[0.6666666666666666,\"#ed7953\"],[0.7777777777777778,\"#fb9f3a\"],[0.8888888888888888,\"#fdca26\"],[1.0,\"#f0f921\"]]}],\"surface\":[{\"type\":\"surface\",\"colorbar\":{\"outlinewidth\":0,\"ticks\":\"\"},\"colorscale\":[[0.0,\"#0d0887\"],[0.1111111111111111,\"#46039f\"],[0.2222222222222222,\"#7201a8\"],[0.3333333333333333,\"#9c179e\"],[0.4444444444444444,\"#bd3786\"],[0.5555555555555556,\"#d8576b\"],[0.6666666666666666,\"#ed7953\"],[0.7777777777777778,\"#fb9f3a\"],[0.8888888888888888,\"#fdca26\"],[1.0,\"#f0f921\"]]}],\"mesh3d\":[{\"type\":\"mesh3d\",\"colorbar\":{\"outlinewidth\":0,\"ticks\":\"\"}}],\"scatter\":[{\"fillpattern\":{\"fillmode\":\"overlay\",\"size\":10,\"solidity\":0.2},\"type\":\"scatter\"}],\"parcoords\":[{\"type\":\"parcoords\",\"line\":{\"colorbar\":{\"outlinewidth\":0,\"ticks\":\"\"}}}],\"scatterpolargl\":[{\"type\":\"scatterpolargl\",\"marker\":{\"colorbar\":{\"outlinewidth\":0,\"ticks\":\"\"}}}],\"bar\":[{\"error_x\":{\"color\":\"#2a3f5f\"},\"error_y\":{\"color\":\"#2a3f5f\"},\"marker\":{\"line\":{\"color\":\"#E5ECF6\",\"width\":0.5},\"pattern\":{\"fillmode\":\"overlay\",\"size\":10,\"solidity\":0.2}},\"type\":\"bar\"}],\"scattergeo\":[{\"type\":\"scattergeo\",\"marker\":{\"colorbar\":{\"outlinewidth\":0,\"ticks\":\"\"}}}],\"scatterpolar\":[{\"type\":\"scatterpolar\",\"marker\":{\"colorbar\":{\"outlinewidth\":0,\"ticks\":\"\"}}}],\"histogram\":[{\"marker\":{\"pattern\":{\"fillmode\":\"overlay\",\"size\":10,\"solidity\":0.2}},\"type\":\"histogram\"}],\"scattergl\":[{\"type\":\"scattergl\",\"marker\":{\"colorbar\":{\"outlinewidth\":0,\"ticks\":\"\"}}}],\"scatter3d\":[{\"type\":\"scatter3d\",\"line\":{\"colorbar\":{\"outlinewidth\":0,\"ticks\":\"\"}},\"marker\":{\"colorbar\":{\"outlinewidth\":0,\"ticks\":\"\"}}}],\"scattermapbox\":[{\"type\":\"scattermapbox\",\"marker\":{\"colorbar\":{\"outlinewidth\":0,\"ticks\":\"\"}}}],\"scatterternary\":[{\"type\":\"scatterternary\",\"marker\":{\"colorbar\":{\"outlinewidth\":0,\"ticks\":\"\"}}}],\"scattercarpet\":[{\"type\":\"scattercarpet\",\"marker\":{\"colorbar\":{\"outlinewidth\":0,\"ticks\":\"\"}}}],\"carpet\":[{\"aaxis\":{\"endlinecolor\":\"#2a3f5f\",\"gridcolor\":\"white\",\"linecolor\":\"white\",\"minorgridcolor\":\"white\",\"startlinecolor\":\"#2a3f5f\"},\"baxis\":{\"endlinecolor\":\"#2a3f5f\",\"gridcolor\":\"white\",\"linecolor\":\"white\",\"minorgridcolor\":\"white\",\"startlinecolor\":\"#2a3f5f\"},\"type\":\"carpet\"}],\"table\":[{\"cells\":{\"fill\":{\"color\":\"#EBF0F8\"},\"line\":{\"color\":\"white\"}},\"header\":{\"fill\":{\"color\":\"#C8D4E3\"},\"line\":{\"color\":\"white\"}},\"type\":\"table\"}],\"barpolar\":[{\"marker\":{\"line\":{\"color\":\"#E5ECF6\",\"width\":0.5},\"pattern\":{\"fillmode\":\"overlay\",\"size\":10,\"solidity\":0.2}},\"type\":\"barpolar\"}],\"pie\":[{\"automargin\":true,\"type\":\"pie\"}]},\"layout\":{\"autotypenumbers\":\"strict\",\"colorway\":[\"#636efa\",\"#EF553B\",\"#00cc96\",\"#ab63fa\",\"#FFA15A\",\"#19d3f3\",\"#FF6692\",\"#B6E880\",\"#FF97FF\",\"#FECB52\"],\"font\":{\"color\":\"#2a3f5f\"},\"hovermode\":\"closest\",\"hoverlabel\":{\"align\":\"left\"},\"paper_bgcolor\":\"white\",\"plot_bgcolor\":\"#E5ECF6\",\"polar\":{\"bgcolor\":\"#E5ECF6\",\"angularaxis\":{\"gridcolor\":\"white\",\"linecolor\":\"white\",\"ticks\":\"\"},\"radialaxis\":{\"gridcolor\":\"white\",\"linecolor\":\"white\",\"ticks\":\"\"}},\"ternary\":{\"bgcolor\":\"#E5ECF6\",\"aaxis\":{\"gridcolor\":\"white\",\"linecolor\":\"white\",\"ticks\":\"\"},\"baxis\":{\"gridcolor\":\"white\",\"linecolor\":\"white\",\"ticks\":\"\"},\"caxis\":{\"gridcolor\":\"white\",\"linecolor\":\"white\",\"ticks\":\"\"}},\"coloraxis\":{\"colorbar\":{\"outlinewidth\":0,\"ticks\":\"\"}},\"colorscale\":{\"sequential\":[[0.0,\"#0d0887\"],[0.1111111111111111,\"#46039f\"],[0.2222222222222222,\"#7201a8\"],[0.3333333333333333,\"#9c179e\"],[0.4444444444444444,\"#bd3786\"],[0.5555555555555556,\"#d8576b\"],[0.6666666666666666,\"#ed7953\"],[0.7777777777777778,\"#fb9f3a\"],[0.8888888888888888,\"#fdca26\"],[1.0,\"#f0f921\"]],\"sequentialminus\":[[0.0,\"#0d0887\"],[0.1111111111111111,\"#46039f\"],[0.2222222222222222,\"#7201a8\"],[0.3333333333333333,\"#9c179e\"],[0.4444444444444444,\"#bd3786\"],[0.5555555555555556,\"#d8576b\"],[0.6666666666666666,\"#ed7953\"],[0.7777777777777778,\"#fb9f3a\"],[0.8888888888888888,\"#fdca26\"],[1.0,\"#f0f921\"]],\"diverging\":[[0,\"#8e0152\"],[0.1,\"#c51b7d\"],[0.2,\"#de77ae\"],[0.3,\"#f1b6da\"],[0.4,\"#fde0ef\"],[0.5,\"#f7f7f7\"],[0.6,\"#e6f5d0\"],[0.7,\"#b8e186\"],[0.8,\"#7fbc41\"],[0.9,\"#4d9221\"],[1,\"#276419\"]]},\"xaxis\":{\"gridcolor\":\"white\",\"linecolor\":\"white\",\"ticks\":\"\",\"title\":{\"standoff\":15},\"zerolinecolor\":\"white\",\"automargin\":true,\"zerolinewidth\":2},\"yaxis\":{\"gridcolor\":\"white\",\"linecolor\":\"white\",\"ticks\":\"\",\"title\":{\"standoff\":15},\"zerolinecolor\":\"white\",\"automargin\":true,\"zerolinewidth\":2},\"scene\":{\"xaxis\":{\"backgroundcolor\":\"#E5ECF6\",\"gridcolor\":\"white\",\"linecolor\":\"white\",\"showbackground\":true,\"ticks\":\"\",\"zerolinecolor\":\"white\",\"gridwidth\":2},\"yaxis\":{\"backgroundcolor\":\"#E5ECF6\",\"gridcolor\":\"white\",\"linecolor\":\"white\",\"showbackground\":true,\"ticks\":\"\",\"zerolinecolor\":\"white\",\"gridwidth\":2},\"zaxis\":{\"backgroundcolor\":\"#E5ECF6\",\"gridcolor\":\"white\",\"linecolor\":\"white\",\"showbackground\":true,\"ticks\":\"\",\"zerolinecolor\":\"white\",\"gridwidth\":2}},\"shapedefaults\":{\"line\":{\"color\":\"#2a3f5f\"}},\"annotationdefaults\":{\"arrowcolor\":\"#2a3f5f\",\"arrowhead\":0,\"arrowwidth\":1},\"geo\":{\"bgcolor\":\"white\",\"landcolor\":\"#E5ECF6\",\"subunitcolor\":\"white\",\"showland\":true,\"showlakes\":true,\"lakecolor\":\"white\"},\"title\":{\"x\":0.05},\"mapbox\":{\"style\":\"light\"}}},\"xaxis\":{\"anchor\":\"y\",\"domain\":[0.0,1.0],\"title\":{\"text\":\"index\"}},\"yaxis\":{\"anchor\":\"x\",\"domain\":[0.0,1.0],\"title\":{\"text\":\"value\"}},\"legend\":{\"title\":{\"text\":\"variable\"},\"tracegroupgap\":0},\"margin\":{\"t\":60},\"height\":500,\"width\":1300},                        {\"responsive\": true}                    ).then(function(){\n",
       "                            \n",
       "var gd = document.getElementById('88873306-ccf1-4653-b6a0-1a9a5eee153f');\n",
       "var x = new MutationObserver(function (mutations, observer) {{\n",
       "        var display = window.getComputedStyle(gd).display;\n",
       "        if (!display || display === 'none') {{\n",
       "            console.log([gd, 'removed!']);\n",
       "            Plotly.purge(gd);\n",
       "            observer.disconnect();\n",
       "        }}\n",
       "}});\n",
       "\n",
       "// Listen for the removal of the full notebook cells\n",
       "var notebookContainer = gd.closest('#notebook-container');\n",
       "if (notebookContainer) {{\n",
       "    x.observe(notebookContainer, {childList: true});\n",
       "}}\n",
       "\n",
       "// Listen for the clearing of the current output cell\n",
       "var outputEl = gd.closest('.output');\n",
       "if (outputEl) {{\n",
       "    x.observe(outputEl, {childList: true});\n",
       "}}\n",
       "\n",
       "                        })                };                });            </script>        </div>"
      ]
     },
     "metadata": {},
     "output_type": "display_data"
    }
   ],
   "source": [
    "px.line(pd.DataFrame(cos_sim_pcs.cpu().numpy()), width=1300, height=500)"
   ]
  },
  {
   "cell_type": "code",
   "execution_count": null,
   "metadata": {},
   "outputs": [],
   "source": []
  }
 ],
 "metadata": {
  "kernelspec": {
   "display_name": "mech_interp",
   "language": "python",
   "name": "python3"
  },
  "language_info": {
   "codemirror_mode": {
    "name": "ipython",
    "version": 3
   },
   "file_extension": ".py",
   "mimetype": "text/x-python",
   "name": "python",
   "nbconvert_exporter": "python",
   "pygments_lexer": "ipython3",
   "version": "3.11.5"
  }
 },
 "nbformat": 4,
 "nbformat_minor": 2
}
